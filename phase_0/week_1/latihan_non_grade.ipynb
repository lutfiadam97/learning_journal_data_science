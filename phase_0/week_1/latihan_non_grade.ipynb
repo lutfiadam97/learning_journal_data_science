{
 "cells": [
  {
   "cell_type": "markdown",
   "metadata": {},
   "source": [
    "# Tugas Non Grade 1 - Week 1"
   ]
  },
  {
   "cell_type": "code",
   "execution_count": null,
   "metadata": {},
   "outputs": [],
   "source": [
    "'''\n",
    "- Buatlah sebuah list dengan value berupa:\n",
    "numbers = [951, 402, 984, 651, 360, 69, 408,\n",
    "319, 601, 485, 980, 507, 725, 547, 544, 615,\n",
    "83, 165, 141, 501, 263, 617, 865, 575, 219,\n",
    "390, 984, 592, 236, 105, 942, 941, 386, 462,\n",
    "47, 418, 907, 344, 236, 375, 823, 566, 597,\n",
    "978, 328, 615, 953, 345, 399, 162, 758, 219,\n",
    "918, 237, 412, 566, 826, 248, 866, 950, 626,\n",
    "949]\n",
    "- Loop dan print semua angka genap dari list angka diatas\n",
    "dengan urutan yang sama.\n",
    "- Jangan mencetak angka apapun yang muncul setelah angka\n",
    "918 berdasarkan posisi angka tersebut pada list diatas.\n",
    "- Tampilkan pesan ”Done” setelah looping berakhir.\n",
    "\n",
    "'''"
   ]
  },
  {
   "cell_type": "code",
   "execution_count": 17,
   "metadata": {},
   "outputs": [
    {
     "name": "stdout",
     "output_type": "stream",
     "text": [
      "Metode For Loop\n",
      "Angka Genap : \n",
      "402\n",
      "984\n",
      "360\n",
      "408\n",
      "980\n",
      "544\n",
      "390\n",
      "984\n",
      "592\n",
      "236\n",
      "942\n",
      "386\n",
      "462\n",
      "418\n",
      "344\n",
      "236\n",
      "566\n",
      "978\n",
      "328\n",
      "162\n",
      "758\n",
      "918\n",
      "Done\n"
     ]
    }
   ],
   "source": [
    "numbers = [951, 402, 984, 651, 360, 69, 408,\n",
    "319, 601, 485, 980, 507, 725, 547, 544, 615,\n",
    "83, 165, 141, 501, 263, 617, 865, 575, 219,\n",
    "390, 984, 592, 236, 105, 942, 941, 386, 462,\n",
    "47, 418, 907, 344, 236, 375, 823, 566, 597,\n",
    "978, 328, 615, 953, 345, 399, 162, 758, 219,\n",
    "918, 237, 412, 566, 826, 248, 866, 950, 626,\n",
    "949]\n",
    "\n",
    "print(\"Metode For Loop\")\n",
    "print(\"Angka Genap : \")\n",
    "#for loop\n",
    "\n",
    "for angka in numbers:\n",
    "    if angka % 2 == 0: #hanya mencetak angka genap\n",
    "        if angka == 412:\n",
    "            break\n",
    "        print(angka)\n",
    "print(\"Done\")\n"
   ]
  }
 ],
 "metadata": {
  "interpreter": {
   "hash": "d1eb415d2423691ab8033da02aac34a6b832aa094a09316f8fa35d1fd611d4d8"
  },
  "kernelspec": {
   "display_name": "Python 3.10.1 64-bit",
   "language": "python",
   "name": "python3"
  },
  "language_info": {
   "codemirror_mode": {
    "name": "ipython",
    "version": 3
   },
   "file_extension": ".py",
   "mimetype": "text/x-python",
   "name": "python",
   "nbconvert_exporter": "python",
   "pygments_lexer": "ipython3",
   "version": "3.10.1"
  },
  "orig_nbformat": 4
 },
 "nbformat": 4,
 "nbformat_minor": 2
}
