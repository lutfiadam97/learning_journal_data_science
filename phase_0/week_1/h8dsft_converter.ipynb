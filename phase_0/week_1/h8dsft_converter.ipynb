{
 "cells": [
  {
   "cell_type": "markdown",
   "metadata": {},
   "source": [
    "# Latihan Non-Grade 2"
   ]
  },
  {
   "cell_type": "code",
   "execution_count": null,
   "metadata": {},
   "outputs": [],
   "source": [
    "'''\n",
    "▪ Buatlah sebuah function yang dapat mengkonversi\n",
    "suhu dari kelvin ke celcius, dan celcius ke kelvin. \n",
    "▪ Buatlah sebuah function yang dapat mengkonversi\n",
    "suhu ke fahrenheit. Tambahkan parameter untuk\n",
    "memastikan bahwa argumen yang dimasukan adalah\n",
    "celcius atau kelvin. Panggil function yang pertama jika\n",
    "diperlukan. \n",
    "▪ Buatlah sebuah function yang dapat mengkonversi\n",
    "suhu dari fahrenheit. Berikan argumen untuk\n",
    "memastikan bahwa outputnya dalah celcius atau kelvin. \n",
    "▪ Berikan dokumentasi pada setiap baris kode yang\n",
    "kalian tulis.\n",
    "\n",
    "'''"
   ]
  },
  {
   "cell_type": "code",
   "execution_count": 5,
   "metadata": {},
   "outputs": [
    {
     "name": "stdout",
     "output_type": "stream",
     "text": [
      "Hasil konversi 286 K ke Celcius adalah 12.85 C\n",
      "Hasil konversi 35 C ke Kelvin adalah 308.15 K\n"
     ]
    }
   ],
   "source": [
    "# Function konversi suhu kelvin -> celcius dan celcius -> kelvin\n",
    "# C = K - 273.15\n",
    "# K = C + 273.15\n",
    "\n",
    "def convertKelvinCelcius(kelvin,celcius):\n",
    "    suhu = kelvin - 273.15 #celcius\n",
    "    suhu2 = celcius + 273.15 #kelvin\n",
    "    return suhu, suhu2\n",
    "\n",
    "c2k = convertKelvinCelcius(286, 35)\n",
    "print(f\"Hasil konversi 286 K ke Celcius adalah {c2k[0]:.2f} C\" )\n",
    "print(f\"Hasil konversi 35 C ke Kelvin adalah {c2k[1]:.2f} K\" )"
   ]
  },
  {
   "cell_type": "code",
   "execution_count": 6,
   "metadata": {},
   "outputs": [
    {
     "name": "stdout",
     "output_type": "stream",
     "text": [
      "Hasil konversi 295 K ke Fahreinheit adalah 71.33 F\n",
      "Hasil konversi 67 C ke Fahreinheit adalah 152.60 F\n"
     ]
    }
   ],
   "source": [
    "# Function konversi suhu ke Fahrenheit (Celsius dan Kelvin)\n",
    "# F = (9/5) * C + 32\n",
    "# F = (K*9/5) - 459.67\n",
    "\n",
    "def convertToFahrenheit(kelvin, celcius):\n",
    "    fahr = (kelvin*9/5) - 459.67 \n",
    "    fahr2 = (9/5) * celcius + 32\n",
    "    return fahr,fahr2\n",
    "\n",
    "c2f = convertToFahrenheit(295, 67)\n",
    "print(f\"Hasil konversi 295 K ke Fahreinheit adalah {c2f[0]:.2f} F\" )\n",
    "print(f\"Hasil konversi 67 C ke Fahreinheit adalah {c2f[1]:.2f} F\" )"
   ]
  },
  {
   "cell_type": "code",
   "execution_count": 7,
   "metadata": {},
   "outputs": [
    {
     "name": "stdout",
     "output_type": "stream",
     "text": [
      "Hasil konversi dari Fahreinheit ke Kelvin adalah 324.26 K\n",
      "Hasil konversi dari Fahreinheit ke Celcius adalah 51.11 C\n"
     ]
    }
   ],
   "source": [
    "# Function konversi suhu dari Fahrenheit (Celcius dan Kelvin)\n",
    "# K = (F + 459.67) * 5/9\n",
    "# C = (F-32) * 5/9\n",
    "\n",
    "def convertFromFahreinheit(fahreinheit):\n",
    "    kelvin =  (fahreinheit + 459.67) * 5/9\n",
    "    celcius = (fahreinheit - 32) * 5/9\n",
    "    print(f\"Hasil konversi dari Fahreinheit ke Kelvin adalah {kelvin:.2f} K\")\n",
    "    print(f\"Hasil konversi dari Fahreinheit ke Celcius adalah {celcius:.2f} C\")\n",
    "\n",
    "convertFromFahreinheit(124)\n"
   ]
  }
 ],
 "metadata": {
  "interpreter": {
   "hash": "d1eb415d2423691ab8033da02aac34a6b832aa094a09316f8fa35d1fd611d4d8"
  },
  "kernelspec": {
   "display_name": "Python 3.10.1 64-bit",
   "language": "python",
   "name": "python3"
  },
  "language_info": {
   "codemirror_mode": {
    "name": "ipython",
    "version": 3
   },
   "file_extension": ".py",
   "mimetype": "text/x-python",
   "name": "python",
   "nbconvert_exporter": "python",
   "pygments_lexer": "ipython3",
   "version": "3.10.1"
  },
  "orig_nbformat": 4
 },
 "nbformat": 4,
 "nbformat_minor": 2
}
