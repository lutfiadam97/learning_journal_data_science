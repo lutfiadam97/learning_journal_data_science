{
 "cells": [
  {
   "cell_type": "markdown",
   "id": "795c87b2",
   "metadata": {},
   "source": [
    "# Non Graded Challange 6\n",
    "## Turunan Kalkulus"
   ]
  },
  {
   "cell_type": "code",
   "execution_count": 27,
   "id": "65dff1d4",
   "metadata": {},
   "outputs": [],
   "source": [
    "import sympy as sy"
   ]
  },
  {
   "cell_type": "markdown",
   "id": "059d0353",
   "metadata": {},
   "source": [
    "Turunan Symbolic"
   ]
  },
  {
   "cell_type": "code",
   "execution_count": 28,
   "id": "51438219",
   "metadata": {},
   "outputs": [],
   "source": [
    "# Cari turunan dari fungsi\n",
    "# y = x**2+2*x+1\n",
    "# y = 4*x**3-3*x**2+2*x-1\n",
    "\n",
    "x = sy.Symbol('x')\n",
    "y1 = x**2+2*x+1\n",
    "y2 = 4*x**3-3*x**2+2*x-1"
   ]
  },
  {
   "cell_type": "code",
   "execution_count": 29,
   "id": "8b5a2b74",
   "metadata": {},
   "outputs": [
    {
     "data": {
      "text/latex": [
       "$\\displaystyle x^{2} + 2 x + 1$"
      ],
      "text/plain": [
       "x**2 + 2*x + 1"
      ]
     },
     "execution_count": 29,
     "metadata": {},
     "output_type": "execute_result"
    }
   ],
   "source": [
    "y1"
   ]
  },
  {
   "cell_type": "code",
   "execution_count": 30,
   "id": "b072a0ba",
   "metadata": {},
   "outputs": [
    {
     "data": {
      "text/latex": [
       "$\\displaystyle 4 x^{3} - 3 x^{2} + 2 x - 1$"
      ],
      "text/plain": [
       "4*x**3 - 3*x**2 + 2*x - 1"
      ]
     },
     "execution_count": 30,
     "metadata": {},
     "output_type": "execute_result"
    }
   ],
   "source": [
    "y2"
   ]
  },
  {
   "cell_type": "code",
   "execution_count": 31,
   "id": "f0fc34a1",
   "metadata": {},
   "outputs": [
    {
     "data": {
      "text/latex": [
       "$\\displaystyle 2 x + 2$"
      ],
      "text/plain": [
       "2*x + 2"
      ]
     },
     "execution_count": 31,
     "metadata": {},
     "output_type": "execute_result"
    }
   ],
   "source": [
    "y1.diff()"
   ]
  },
  {
   "cell_type": "code",
   "execution_count": 32,
   "id": "176d7170",
   "metadata": {},
   "outputs": [
    {
     "data": {
      "text/latex": [
       "$\\displaystyle 12 x^{2} - 6 x + 2$"
      ],
      "text/plain": [
       "12*x**2 - 6*x + 2"
      ]
     },
     "execution_count": 32,
     "metadata": {},
     "output_type": "execute_result"
    }
   ],
   "source": [
    "y2.diff()"
   ]
  },
  {
   "cell_type": "markdown",
   "id": "d9a494f2",
   "metadata": {},
   "source": [
    "Turunan Numerik"
   ]
  },
  {
   "cell_type": "code",
   "execution_count": 33,
   "id": "b9fa0236",
   "metadata": {},
   "outputs": [],
   "source": [
    "import numpy as np"
   ]
  },
  {
   "cell_type": "code",
   "execution_count": 34,
   "id": "b1df20d3",
   "metadata": {},
   "outputs": [],
   "source": [
    "X = np.linspace(-20,20)\n",
    "Y1 = X**2+2*X+1"
   ]
  },
  {
   "cell_type": "code",
   "execution_count": 35,
   "id": "6c568a92",
   "metadata": {},
   "outputs": [
    {
     "data": {
      "text/plain": [
       "array([-20.        , -19.18367347, -18.36734694, -17.55102041,\n",
       "       -16.73469388, -15.91836735, -15.10204082, -14.28571429,\n",
       "       -13.46938776, -12.65306122, -11.83673469, -11.02040816,\n",
       "       -10.20408163,  -9.3877551 ,  -8.57142857,  -7.75510204,\n",
       "        -6.93877551,  -6.12244898,  -5.30612245,  -4.48979592,\n",
       "        -3.67346939,  -2.85714286,  -2.04081633,  -1.2244898 ,\n",
       "        -0.40816327,   0.40816327,   1.2244898 ,   2.04081633,\n",
       "         2.85714286,   3.67346939,   4.48979592,   5.30612245,\n",
       "         6.12244898,   6.93877551,   7.75510204,   8.57142857,\n",
       "         9.3877551 ,  10.20408163,  11.02040816,  11.83673469,\n",
       "        12.65306122,  13.46938776,  14.28571429,  15.10204082,\n",
       "        15.91836735,  16.73469388,  17.55102041,  18.36734694,\n",
       "        19.18367347,  20.        ])"
      ]
     },
     "execution_count": 35,
     "metadata": {},
     "output_type": "execute_result"
    }
   ],
   "source": [
    "X"
   ]
  },
  {
   "cell_type": "code",
   "execution_count": 36,
   "id": "07605dfe",
   "metadata": {},
   "outputs": [
    {
     "data": {
      "text/plain": [
       "array([3.61000000e+02, 3.30645981e+02, 3.01624740e+02, 2.73936277e+02,\n",
       "       2.47580591e+02, 2.22557684e+02, 1.98867555e+02, 1.76510204e+02,\n",
       "       1.55485631e+02, 1.35793836e+02, 1.17434819e+02, 1.00408580e+02,\n",
       "       8.47151187e+01, 7.03544357e+01, 5.73265306e+01, 4.56314036e+01,\n",
       "       3.52690546e+01, 2.62394835e+01, 1.85426905e+01, 1.21786756e+01,\n",
       "       7.14743857e+00, 3.44897959e+00, 1.08329863e+00, 5.03956685e-02,\n",
       "       3.50270721e-01, 1.98292378e+00, 4.94835485e+00, 9.24656393e+00,\n",
       "       1.48775510e+01, 2.18413161e+01, 3.01378592e+01, 3.97671803e+01,\n",
       "       5.07292795e+01, 6.30241566e+01, 7.66518117e+01, 9.16122449e+01,\n",
       "       1.07905456e+02, 1.25531445e+02, 1.44490212e+02, 1.64781758e+02,\n",
       "       1.86406081e+02, 2.09363182e+02, 2.33653061e+02, 2.59275718e+02,\n",
       "       2.86231154e+02, 3.14519367e+02, 3.44140358e+02, 3.75094127e+02,\n",
       "       4.07380675e+02, 4.41000000e+02])"
      ]
     },
     "execution_count": 36,
     "metadata": {},
     "output_type": "execute_result"
    }
   ],
   "source": [
    "Y1"
   ]
  },
  {
   "cell_type": "code",
   "execution_count": 37,
   "id": "2551741b",
   "metadata": {},
   "outputs": [
    {
     "data": {
      "text/plain": [
       "array([-37.18367347, -35.55102041, -33.91836735, -32.28571429,\n",
       "       -30.65306122, -29.02040816, -27.3877551 , -25.75510204,\n",
       "       -24.12244898, -22.48979592, -20.85714286, -19.2244898 ,\n",
       "       -17.59183673, -15.95918367, -14.32653061, -12.69387755,\n",
       "       -11.06122449,  -9.42857143,  -7.79591837,  -6.16326531,\n",
       "        -4.53061224,  -2.89795918,  -1.26530612,   0.36734694,\n",
       "         2.        ,   3.63265306,   5.26530612,   6.89795918,\n",
       "         8.53061224,  10.16326531,  11.79591837,  13.42857143,\n",
       "        15.06122449,  16.69387755,  18.32653061,  19.95918367,\n",
       "        21.59183673,  23.2244898 ,  24.85714286,  26.48979592,\n",
       "        28.12244898,  29.75510204,  31.3877551 ,  33.02040816,\n",
       "        34.65306122,  36.28571429,  37.91836735,  39.55102041,\n",
       "        41.18367347])"
      ]
     },
     "execution_count": 37,
     "metadata": {},
     "output_type": "execute_result"
    }
   ],
   "source": [
    "diff1 = np.diff(Y1)/np.diff(X) # f'(X) = df(X)/d(X)\n",
    "diff1"
   ]
  },
  {
   "cell_type": "code",
   "execution_count": 44,
   "id": "894fbef0",
   "metadata": {},
   "outputs": [],
   "source": [
    "X = np.linspace(-20,20)\n",
    "Y2 = 4*X**3-3*X**2+2*X-1"
   ]
  },
  {
   "cell_type": "code",
   "execution_count": 45,
   "id": "3c81e9e7",
   "metadata": {},
   "outputs": [
    {
     "data": {
      "text/plain": [
       "array([-3.32410000e+04, -2.93827974e+04, -2.58354040e+04, -2.25857642e+04,\n",
       "       -1.96208220e+04, -1.69275218e+04, -1.44928077e+04, -1.23036239e+04,\n",
       "       -1.03469147e+04, -8.60962430e+03, -7.07869688e+03, -5.74107667e+03,\n",
       "       -4.58370789e+03, -3.59353474e+03, -2.75750146e+03, -2.06255224e+03,\n",
       "       -1.49563132e+03, -1.04368290e+03, -6.93651191e+02, -4.32480421e+02,\n",
       "       -2.47114799e+02, -1.24498542e+02, -5.15758655e+01, -1.52909842e+01,\n",
       "       -2.58811380e+00, -4.11469711e-01,  4.29473264e+00,  2.45862778e+01,\n",
       "        7.35189504e+01,  1.64148535e+02,  3.09530816e+02,  5.22721579e+02,\n",
       "        8.16776607e+02,  1.20475169e+03,  1.69970260e+03,  2.31468513e+03,\n",
       "        3.06275507e+03,  3.95696819e+03,  5.01038029e+03,  6.23604715e+03,\n",
       "        7.64702455e+03,  9.25636827e+03,  1.10771341e+04,  1.31223778e+04,\n",
       "        1.54051553e+04,  1.79385221e+04,  2.07355343e+04,  2.38092474e+04,\n",
       "        2.71727174e+04,  3.08390000e+04])"
      ]
     },
     "execution_count": 45,
     "metadata": {},
     "output_type": "execute_result"
    }
   ],
   "source": [
    "Y2"
   ]
  },
  {
   "cell_type": "code",
   "execution_count": 46,
   "id": "2176e3a2",
   "metadata": {},
   "outputs": [
    {
     "data": {
      "text/plain": [
       "array([4.72629821e+03, 4.34555685e+03, 3.98080883e+03, 3.63205414e+03,\n",
       "       3.29929279e+03, 2.98252478e+03, 2.68175010e+03, 2.39696876e+03,\n",
       "       2.12818076e+03, 1.87538609e+03, 1.63858476e+03, 1.41777676e+03,\n",
       "       1.21296210e+03, 1.02414077e+03, 8.51312786e+02, 6.94478134e+02,\n",
       "       5.53636818e+02, 4.28788838e+02, 3.19934194e+02, 2.27072886e+02,\n",
       "       1.50204915e+02, 8.93302791e+01, 4.44489796e+01, 1.55610162e+01,\n",
       "       2.66638900e+00, 5.76509788e+00, 2.48571429e+01, 5.99425239e+01,\n",
       "       1.11021241e+02, 1.78093294e+02, 2.61158684e+02, 3.60217409e+02,\n",
       "       4.75269471e+02, 6.06314869e+02, 7.53353603e+02, 9.16385673e+02,\n",
       "       1.09541108e+03, 1.29042982e+03, 1.50144190e+03, 1.72844731e+03,\n",
       "       1.97144606e+03, 2.23043815e+03, 2.50542357e+03, 2.79640233e+03,\n",
       "       3.10337443e+03, 3.42633986e+03, 3.76529863e+03, 4.12025073e+03,\n",
       "       4.49119617e+03])"
      ]
     },
     "execution_count": 46,
     "metadata": {},
     "output_type": "execute_result"
    }
   ],
   "source": [
    "diff2 = np.diff(Y2)/np.diff(X)\n",
    "diff2"
   ]
  },
  {
   "cell_type": "code",
   "execution_count": 47,
   "id": "c6675ca2",
   "metadata": {},
   "outputs": [],
   "source": [
    "# lihat grafik\n",
    "\n",
    "import matplotlib.pyplot as plt"
   ]
  },
  {
   "cell_type": "code",
   "execution_count": 48,
   "id": "dc9d92e4",
   "metadata": {},
   "outputs": [
    {
     "data": {
      "text/plain": [
       "[<matplotlib.lines.Line2D at 0x25cd446da90>]"
      ]
     },
     "execution_count": 48,
     "metadata": {},
     "output_type": "execute_result"
    },
    {
     "data": {
      "image/png": "[encoded data removed]",
      "text/plain": [
       "<Figure size 432x288 with 1 Axes>"
      ]
     },
     "metadata": {
      "needs_background": "light"
     },
     "output_type": "display_data"
    }
   ],
   "source": [
    "plt.plot(X[1:],diff1)"
   ]
  },
  {
   "cell_type": "code",
   "execution_count": 43,
   "id": "af0ffcce",
   "metadata": {},
   "outputs": [
    {
     "data": {
      "text/plain": [
       "[<matplotlib.lines.Line2D at 0x25cd440c580>]"
      ]
     },
     "execution_count": 43,
     "metadata": {},
     "output_type": "execute_result"
    },
    {
     "data": {
      "image/png": "[encoded data removed]",
      "text/plain": [
       "<Figure size 432x288 with 1 Axes>"
      ]
     },
     "metadata": {
      "needs_background": "light"
     },
     "output_type": "display_data"
    }
   ],
   "source": [
    "plt.plot(X[1:],diff2)"
   ]
  },
  {
   "cell_type": "code",
   "execution_count": null,
   "id": "fca1b493",
   "metadata": {},
   "outputs": [],
   "source": []
  }
 ],
 "metadata": {
  "kernelspec": {
   "display_name": "Python 3 (ipykernel)",
   "language": "python",
   "name": "python3"
  },
  "language_info": {
   "codemirror_mode": {
    "name": "ipython",
    "version": 3
   },
   "file_extension": ".py",
   "mimetype": "text/x-python",
   "name": "python",
   "nbconvert_exporter": "python",
   "pygments_lexer": "ipython3",
   "version": "3.9.7"
  }
 },
 "nbformat": 4,
 "nbformat_minor": 5
}
