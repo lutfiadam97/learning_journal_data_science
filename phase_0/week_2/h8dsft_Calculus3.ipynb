{
 "cells": [
  {
   "cell_type": "markdown",
   "id": "ba840c4a",
   "metadata": {},
   "source": [
    "# Non Graded Challange 7\n",
    "## Gradien"
   ]
  },
  {
   "cell_type": "markdown",
   "id": "118b2e4b",
   "metadata": {},
   "source": [
    "### Gradien Simbolik"
   ]
  },
  {
   "cell_type": "code",
   "execution_count": 1,
   "id": "fe9a77af",
   "metadata": {},
   "outputs": [],
   "source": [
    "import numpy as np\n",
    "import sympy as sy"
   ]
  },
  {
   "cell_type": "code",
   "execution_count": 3,
   "id": "c0e89a87",
   "metadata": {},
   "outputs": [
    {
     "data": {
      "text/latex": [
       "$\\displaystyle 3 x + 4 y - 5$"
      ],
      "text/plain": [
       "3*x + 4*y - 5"
      ]
     },
     "execution_count": 3,
     "metadata": {},
     "output_type": "execute_result"
    }
   ],
   "source": [
    "# carilah gradien dari sebuah fungsi berikut\n",
    "# 3x + 4y = 5\n",
    "# 3x + 4y - 5 = 0\n",
    "\n",
    "x,y = sy.symbols('x y')\n",
    "f = 3*x+4*y-5\n",
    "f"
   ]
  },
  {
   "cell_type": "code",
   "execution_count": 4,
   "id": "3f35e9a5",
   "metadata": {},
   "outputs": [
    {
     "data": {
      "text/latex": [
       "$\\displaystyle 3$"
      ],
      "text/plain": [
       "3"
      ]
     },
     "execution_count": 4,
     "metadata": {},
     "output_type": "execute_result"
    }
   ],
   "source": [
    "turunan_thp_x = sy.diff(f,x)\n",
    "turunan_thp_x"
   ]
  },
  {
   "cell_type": "code",
   "execution_count": 5,
   "id": "648d3133",
   "metadata": {},
   "outputs": [
    {
     "data": {
      "text/latex": [
       "$\\displaystyle 4$"
      ],
      "text/plain": [
       "4"
      ]
     },
     "execution_count": 5,
     "metadata": {},
     "output_type": "execute_result"
    }
   ],
   "source": [
    "turunan_thp_y = sy.diff(f,y)\n",
    "turunan_thp_y"
   ]
  },
  {
   "cell_type": "code",
   "execution_count": 7,
   "id": "3075d7b1",
   "metadata": {},
   "outputs": [
    {
     "data": {
      "text/latex": [
       "$\\displaystyle \\left[\\begin{matrix}3 & 4\\end{matrix}\\right]$"
      ],
      "text/plain": [
       "[3, 4]"
      ]
     },
     "execution_count": 7,
     "metadata": {},
     "output_type": "execute_result"
    }
   ],
   "source": [
    "from sympy.tensor.array import derive_by_array\n",
    "grad = derive_by_array(f,(x,y))\n",
    "grad"
   ]
  },
  {
   "cell_type": "markdown",
   "id": "519c3b0c",
   "metadata": {},
   "source": [
    "### Gradien Numerik"
   ]
  },
  {
   "cell_type": "code",
   "execution_count": 9,
   "id": "f2543f99",
   "metadata": {},
   "outputs": [],
   "source": [
    "import numpy as np\n",
    "def f(x,y):\n",
    "  return 3*x+4*y-5\n",
    "\n",
    "x = np.linspace(1,10)\n",
    "y = np.linspace(1,10)\n",
    "z = np.array([[f(i,j) for i in x] for j in y])\n",
    "\n",
    "dx,dy = np.gradient(z)"
   ]
  },
  {
   "cell_type": "code",
   "execution_count": 10,
   "id": "a9e6def7",
   "metadata": {},
   "outputs": [
    {
     "data": {
      "text/plain": [
       "array([[0.73469388, 0.73469388, 0.73469388, ..., 0.73469388, 0.73469388,\n",
       "        0.73469388],\n",
       "       [0.73469388, 0.73469388, 0.73469388, ..., 0.73469388, 0.73469388,\n",
       "        0.73469388],\n",
       "       [0.73469388, 0.73469388, 0.73469388, ..., 0.73469388, 0.73469388,\n",
       "        0.73469388],\n",
       "       ...,\n",
       "       [0.73469388, 0.73469388, 0.73469388, ..., 0.73469388, 0.73469388,\n",
       "        0.73469388],\n",
       "       [0.73469388, 0.73469388, 0.73469388, ..., 0.73469388, 0.73469388,\n",
       "        0.73469388],\n",
       "       [0.73469388, 0.73469388, 0.73469388, ..., 0.73469388, 0.73469388,\n",
       "        0.73469388]])"
      ]
     },
     "execution_count": 10,
     "metadata": {},
     "output_type": "execute_result"
    }
   ],
   "source": [
    "dx"
   ]
  },
  {
   "cell_type": "code",
   "execution_count": 11,
   "id": "3fa4ac3c",
   "metadata": {},
   "outputs": [
    {
     "data": {
      "text/plain": [
       "array([[0.55102041, 0.55102041, 0.55102041, ..., 0.55102041, 0.55102041,\n",
       "        0.55102041],\n",
       "       [0.55102041, 0.55102041, 0.55102041, ..., 0.55102041, 0.55102041,\n",
       "        0.55102041],\n",
       "       [0.55102041, 0.55102041, 0.55102041, ..., 0.55102041, 0.55102041,\n",
       "        0.55102041],\n",
       "       ...,\n",
       "       [0.55102041, 0.55102041, 0.55102041, ..., 0.55102041, 0.55102041,\n",
       "        0.55102041],\n",
       "       [0.55102041, 0.55102041, 0.55102041, ..., 0.55102041, 0.55102041,\n",
       "        0.55102041],\n",
       "       [0.55102041, 0.55102041, 0.55102041, ..., 0.55102041, 0.55102041,\n",
       "        0.55102041]])"
      ]
     },
     "execution_count": 11,
     "metadata": {},
     "output_type": "execute_result"
    }
   ],
   "source": [
    "dy"
   ]
  }
 ],
 "metadata": {
  "kernelspec": {
   "display_name": "Python 3 (ipykernel)",
   "language": "python",
   "name": "python3"
  },
  "language_info": {
   "codemirror_mode": {
    "name": "ipython",
    "version": 3
   },
   "file_extension": ".py",
   "mimetype": "text/x-python",
   "name": "python",
   "nbconvert_exporter": "python",
   "pygments_lexer": "ipython3",
   "version": "3.9.7"
  }
 },
 "nbformat": 4,
 "nbformat_minor": 5
}
