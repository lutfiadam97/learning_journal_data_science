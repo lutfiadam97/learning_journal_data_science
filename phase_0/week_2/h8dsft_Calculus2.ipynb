{
 "cells": [
  {
   "cell_type": "markdown",
   "id": "568485db",
   "metadata": {},
   "source": [
    "# Non Graded Challange 8\n",
    "## Integral Kalkulus"
   ]
  },
  {
   "cell_type": "markdown",
   "id": "2ddf91dd",
   "metadata": {},
   "source": [
    "### Integral Symbolic"
   ]
  },
  {
   "cell_type": "code",
   "execution_count": 1,
   "id": "7dbed738",
   "metadata": {},
   "outputs": [],
   "source": [
    "import sympy as sy\n",
    "import numpy as np"
   ]
  },
  {
   "cell_type": "code",
   "execution_count": 7,
   "id": "21e84e95",
   "metadata": {},
   "outputs": [],
   "source": [
    "# Carilah Integral :\n",
    "# f1 = 3*x**2-6*x+3 \n",
    "# f2 = 8*x**3-x*2+5*x-1\n",
    "\n",
    "x = sy.Symbol('x')\n",
    "f1 = 3*x**2-6*x+3 \n",
    "f2 = 8*x**3-x**2+5*x-1"
   ]
  },
  {
   "cell_type": "code",
   "execution_count": 8,
   "id": "60f5fd85",
   "metadata": {},
   "outputs": [
    {
     "data": {
      "text/latex": [
       "$\\displaystyle 3 x^{2} - 6 x + 3$"
      ],
      "text/plain": [
       "3*x**2 - 6*x + 3"
      ]
     },
     "execution_count": 8,
     "metadata": {},
     "output_type": "execute_result"
    }
   ],
   "source": [
    "f1"
   ]
  },
  {
   "cell_type": "code",
   "execution_count": 9,
   "id": "bb8572ec",
   "metadata": {},
   "outputs": [
    {
     "data": {
      "text/latex": [
       "$\\displaystyle 8 x^{3} - x^{2} + 5 x - 1$"
      ],
      "text/plain": [
       "8*x**3 - x**2 + 5*x - 1"
      ]
     },
     "execution_count": 9,
     "metadata": {},
     "output_type": "execute_result"
    }
   ],
   "source": [
    "f2"
   ]
  },
  {
   "cell_type": "code",
   "execution_count": 10,
   "id": "f924d720",
   "metadata": {},
   "outputs": [
    {
     "data": {
      "text/latex": [
       "$\\displaystyle x^{3} - 3 x^{2} + 3 x$"
      ],
      "text/plain": [
       "x**3 - 3*x**2 + 3*x"
      ]
     },
     "execution_count": 10,
     "metadata": {},
     "output_type": "execute_result"
    }
   ],
   "source": [
    "f1_integ = sy.integrate(f1)\n",
    "f1_integ"
   ]
  },
  {
   "cell_type": "code",
   "execution_count": 11,
   "id": "c74c2206",
   "metadata": {},
   "outputs": [
    {
     "data": {
      "text/latex": [
       "$\\displaystyle 2 x^{4} - \\frac{x^{3}}{3} + \\frac{5 x^{2}}{2} - x$"
      ],
      "text/plain": [
       "2*x**4 - x**3/3 + 5*x**2/2 - x"
      ]
     },
     "execution_count": 11,
     "metadata": {},
     "output_type": "execute_result"
    }
   ],
   "source": [
    "f2_integ = sy.integrate(f2)\n",
    "f2_integ"
   ]
  },
  {
   "cell_type": "markdown",
   "id": "531b4197",
   "metadata": {},
   "source": [
    "### Numerik-Fungsi"
   ]
  },
  {
   "cell_type": "code",
   "execution_count": 12,
   "id": "68dd1e9f",
   "metadata": {},
   "outputs": [],
   "source": [
    "from scipy import integrate\n",
    "\n",
    "def f1(x):\n",
    "  return 3*x**2-6*x+3 \n",
    "\n",
    "def f2(x):\n",
    "  return 8*x**3-x**2+5*x-1 \n"
   ]
  },
  {
   "cell_type": "code",
   "execution_count": 13,
   "id": "586adb53",
   "metadata": {},
   "outputs": [
    {
     "name": "stdout",
     "output_type": "stream",
     "text": [
      "(1.0, 1.1102230246251565e-14)\n"
     ]
    }
   ],
   "source": [
    "# kasih aja batas x-nya (1,2)\n",
    "A = integrate.quad(f1,1,2) # (nama_var, batas atas(b), batas bawah(a))\n",
    "print(A)"
   ]
  },
  {
   "cell_type": "code",
   "execution_count": 14,
   "id": "505e5084",
   "metadata": {},
   "outputs": [
    {
     "name": "stdout",
     "output_type": "stream",
     "text": [
      "(34.16666666666667, 3.7932620008026185e-13)\n"
     ]
    }
   ],
   "source": [
    "B = integrate.quad(f2,1,2) # (nama_var, batas atas(b), batas bawah(a))\n",
    "print(B)"
   ]
  },
  {
   "cell_type": "markdown",
   "id": "2d4e7706",
   "metadata": {},
   "source": [
    "### Numerik Data/Array"
   ]
  },
  {
   "cell_type": "code",
   "execution_count": 15,
   "id": "a541cac3",
   "metadata": {},
   "outputs": [],
   "source": [
    "from scipy import integrate\n",
    "import numpy as np\n",
    "\n",
    "def f1(x):\n",
    "  return 3*x**2-6*x+3 \n",
    "\n",
    "def f2(x):\n",
    "  return 8*x**3-x**2+5*x-1 \n",
    "\n",
    "\n",
    "x = np.linspace(1,2) #batas integral\n",
    "y1 = f1(x)\n",
    "y2 = f2(x)"
   ]
  },
  {
   "cell_type": "code",
   "execution_count": 16,
   "id": "4b11cb66",
   "metadata": {},
   "outputs": [
    {
     "data": {
      "text/plain": [
       "1.0002082465639317"
      ]
     },
     "execution_count": 16,
     "metadata": {},
     "output_type": "execute_result"
    }
   ],
   "source": [
    "A = integrate.trapz(y1,x) \n",
    "A"
   ]
  },
  {
   "cell_type": "code",
   "execution_count": 17,
   "id": "e9d7f46c",
   "metadata": {},
   "outputs": [
    {
     "data": {
      "text/plain": [
       "34.16909620991254"
      ]
     },
     "execution_count": 17,
     "metadata": {},
     "output_type": "execute_result"
    }
   ],
   "source": [
    "B = integrate.trapz(y2,x) \n",
    "B"
   ]
  }
 ],
 "metadata": {
  "kernelspec": {
   "display_name": "Python 3 (ipykernel)",
   "language": "python",
   "name": "python3"
  },
  "language_info": {
   "codemirror_mode": {
    "name": "ipython",
    "version": 3
   },
   "file_extension": ".py",
   "mimetype": "text/x-python",
   "name": "python",
   "nbconvert_exporter": "python",
   "pygments_lexer": "ipython3",
   "version": "3.9.7"
  }
 },
 "nbformat": 4,
 "nbformat_minor": 5
}
