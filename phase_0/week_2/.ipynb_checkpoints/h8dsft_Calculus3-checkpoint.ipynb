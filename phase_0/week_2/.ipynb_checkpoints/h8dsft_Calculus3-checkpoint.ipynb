{
 "cells": [
  {
   "cell_type": "markdown",
   "id": "7893500a",
   "metadata": {},
   "source": [
    "# Non Graded Challange 7\n",
    "## Gradien"
   ]
  },
  {
   "cell_type": "code",
   "execution_count": 1,
   "id": "63d87ec4",
   "metadata": {},
   "outputs": [],
   "source": [
    "import numpy as np\n",
    "import sympy as sy"
   ]
  },
  {
   "cell_type": "code",
   "execution_count": 3,
   "id": "37326b2d",
   "metadata": {},
   "outputs": [
    {
     "data": {
      "text/latex": [
       "$\\displaystyle 3 x + 4 y - 5$"
      ],
      "text/plain": [
       "3*x + 4*y - 5"
      ]
     },
     "execution_count": 3,
     "metadata": {},
     "output_type": "execute_result"
    }
   ],
   "source": [
    "# carilah gradien dari sebuah fungsi berikut\n",
    "# 3x + 4y = 5\n",
    "# 3x + 4y - 5 = 0\n",
    "\n",
    "x,y = sy.symbols('x y')\n",
    "f = 3*x+4*y-5\n",
    "f"
   ]
  },
  {
   "cell_type": "code",
   "execution_count": 4,
   "id": "d7e12539",
   "metadata": {},
   "outputs": [
    {
     "data": {
      "text/latex": [
       "$\\displaystyle 3$"
      ],
      "text/plain": [
       "3"
      ]
     },
     "execution_count": 4,
     "metadata": {},
     "output_type": "execute_result"
    }
   ],
   "source": [
    "turunan_thp_x = sy.diff(f,x)\n",
    "turunan_thp_x"
   ]
  },
  {
   "cell_type": "code",
   "execution_count": 5,
   "id": "3a461dd9",
   "metadata": {},
   "outputs": [
    {
     "data": {
      "text/latex": [
       "$\\displaystyle 4$"
      ],
      "text/plain": [
       "4"
      ]
     },
     "execution_count": 5,
     "metadata": {},
     "output_type": "execute_result"
    }
   ],
   "source": [
    "turunan_thp_y = sy.diff(f,y)\n",
    "turunan_thp_y"
   ]
  },
  {
   "cell_type": "code",
   "execution_count": 7,
   "id": "e5541f2f",
   "metadata": {},
   "outputs": [
    {
     "data": {
      "text/latex": [
       "$\\displaystyle \\left[\\begin{matrix}3 & 4\\end{matrix}\\right]$"
      ],
      "text/plain": [
       "[3, 4]"
      ]
     },
     "execution_count": 7,
     "metadata": {},
     "output_type": "execute_result"
    }
   ],
   "source": [
    "from sympy.tensor.array import derive_by_array\n",
    "grad = derive_by_array(f,(x,y))\n",
    "grad"
   ]
  }
 ],
 "metadata": {
  "kernelspec": {
   "display_name": "Python 3 (ipykernel)",
   "language": "python",
   "name": "python3"
  },
  "language_info": {
   "codemirror_mode": {
    "name": "ipython",
    "version": 3
   },
   "file_extension": ".py",
   "mimetype": "text/x-python",
   "name": "python",
   "nbconvert_exporter": "python",
   "pygments_lexer": "ipython3",
   "version": "3.9.7"
  }
 },
 "nbformat": 4,
 "nbformat_minor": 5
}
