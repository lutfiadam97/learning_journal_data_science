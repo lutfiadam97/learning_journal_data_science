{
 "cells": [
  {
   "cell_type": "markdown",
   "id": "fc4b4d62",
   "metadata": {},
   "source": [
    "# Statistika"
   ]
  },
  {
   "cell_type": "markdown",
   "id": "fcb2341d",
   "metadata": {},
   "source": [
    "Ilmu yang mempelajari bagaimana cara mengumpulkan data serta menganalisis data yang sudah terkumpul"
   ]
  },
  {
   "cell_type": "markdown",
   "id": "dd135bcc",
   "metadata": {},
   "source": [
    "## Statistika Deskriptif\n",
    "\n",
    "metode-metode yang berkaitan dengan pengumpulan dan penyajian suatu gugus data sehingga memberikan informasi yang berguna.\n",
    "\n",
    "Statistika deskriptif menggunakan dua pendekatan utama:\n",
    "- pendekatan kuantitatif menggambarkan dan meringkas data secara numerik\n",
    "- pendekatan visual menggambarkan data dengan grafik, plot, histogram, dan grafik lainnya.\n",
    "\n",
    "contoh : table, diagram, atau grafik informasi"
   ]
  },
  {
   "cell_type": "markdown",
   "id": "c408f7b5",
   "metadata": {},
   "source": [
    "## 1. Menganalisis Distribusi Data"
   ]
  },
  {
   "cell_type": "markdown",
   "id": "2e6ce508",
   "metadata": {},
   "source": [
    "### Mean\n",
    "Rata-rata nilai"
   ]
  },
  {
   "cell_type": "code",
   "execution_count": 1,
   "id": "73861d43",
   "metadata": {},
   "outputs": [
    {
     "name": "stdout",
     "output_type": "stream",
     "text": [
      "Rata-rata gaji pegawai adalah 71000.0\n"
     ]
    }
   ],
   "source": [
    "# Get Mean\n",
    "\n",
    "import pandas as pd\n",
    "\n",
    "df = pd.DataFrame({'Name': ['Dan', 'Joann', 'Pedro', 'Rosie', 'Ethan', 'Vicky', 'Frederic'],\n",
    "                   'Salary':[50000, 54000, 50000, 189000, 55000, 40000, 59000]})\n",
    "\n",
    "print (\"Rata-rata gaji pegawai adalah\",df['Salary'].mean())"
   ]
  },
  {
   "cell_type": "markdown",
   "id": "58e57bbc",
   "metadata": {},
   "source": [
    "### Median \n",
    "Nilai tengah"
   ]
  },
  {
   "cell_type": "code",
   "execution_count": 2,
   "id": "90d28ed1",
   "metadata": {},
   "outputs": [
    {
     "name": "stdout",
     "output_type": "stream",
     "text": [
      "Nilai Tengah gaji pegawai adalah 54000.0\n"
     ]
    }
   ],
   "source": [
    "# Get the Median\n",
    "\n",
    "import pandas as pd\n",
    "\n",
    "\n",
    "df = pd.DataFrame({'Name': ['Dan', 'Joann', 'Pedro', 'Rosie', 'Ethan', 'Vicky', 'Frederic'],\n",
    "                   'Salary':[50000, 54000, 50000, 189000, 55000, 40000, 59000]})\n",
    "\n",
    "print (\"Nilai Tengah gaji pegawai adalah\",df['Salary'].median())"
   ]
  },
  {
   "cell_type": "markdown",
   "id": "fed76356",
   "metadata": {},
   "source": [
    "### Mode\n",
    "Modus (Nilai yang sering muncul)"
   ]
  },
  {
   "cell_type": "code",
   "execution_count": 3,
   "id": "d554bf83",
   "metadata": {},
   "outputs": [
    {
     "name": "stdout",
     "output_type": "stream",
     "text": [
      "0    50000\n",
      "dtype: int64\n"
     ]
    }
   ],
   "source": [
    "# Get the Mode\n",
    "import pandas as pd\n",
    "\n",
    "\n",
    "df = pd.DataFrame({'Name': ['Dan', 'Joann', 'Pedro', 'Rosie', 'Ethan', 'Vicky', 'Frederic'],\n",
    "                   'Salary':[50000,54000,50000,189000,55000,40000,59000]})\n",
    "\n",
    "print (df['Salary'].mode())"
   ]
  },
  {
   "cell_type": "markdown",
   "id": "f10ee436",
   "metadata": {},
   "source": [
    "Multimodal Data"
   ]
  },
  {
   "cell_type": "markdown",
   "id": "21eacb61",
   "metadata": {},
   "source": [
    "Tidak jarang satu set data memiliki lebih dari satu nilai sebagai mode."
   ]
  },
  {
   "cell_type": "code",
   "execution_count": 4,
   "id": "d4f5a062",
   "metadata": {},
   "outputs": [
    {
     "name": "stdout",
     "output_type": "stream",
     "text": [
      "0    50000\n",
      "1    59000\n",
      "dtype: int64\n"
     ]
    }
   ],
   "source": [
    "import pandas as pd\n",
    "\n",
    "\n",
    "df = pd.DataFrame({'Name': ['Dan', 'Joann', 'Pedro', 'Rosie', 'Ethan', 'Vicky', 'Frederic'],\n",
    "                   'Salary':[50000,54000,50000,189000,59000,40000,59000]})\n",
    "\n",
    "print (df['Salary'].mode())"
   ]
  },
  {
   "cell_type": "markdown",
   "id": "9987a3de",
   "metadata": {},
   "source": [
    "## 2. Distribusi dan Kepadatan"
   ]
  },
  {
   "cell_type": "markdown",
   "id": "ea925830",
   "metadata": {},
   "source": [
    "mendapatkan nilai minimal dan maksimal"
   ]
  },
  {
   "cell_type": "code",
   "execution_count": 5,
   "id": "1a935e7b",
   "metadata": {},
   "outputs": [
    {
     "name": "stdout",
     "output_type": "stream",
     "text": [
      "Min: 40000\n",
      "Mode: 50000\n",
      "Median: 54000.0\n",
      "Mean: 71000.0\n",
      "Max: 189000\n"
     ]
    }
   ],
   "source": [
    "# Get the Mean, Median, Mode, Min, and Max\n",
    "\n",
    "import pandas as pd\n",
    "\n",
    "df = pd.DataFrame({'Name': ['Dan', 'Joann', 'Pedro', 'Rosie', 'Ethan', 'Vicky', 'Frederic'],\n",
    "                   'Salary':[50000,54000,50000,189000,55000,40000,59000]})\n",
    "\n",
    "print ('Min: ' + str(df['Salary'].min())) #nilai min\n",
    "print ('Mode: ' + str(df['Salary'].mode()[0])) #modus\n",
    "print ('Median: ' + str(df['Salary'].median())) #median\n",
    "print ('Mean: ' + str(df['Salary'].mean())) #mean\n",
    "print ('Max: ' + str(df['Salary'].max())) #max"
   ]
  },
  {
   "cell_type": "code",
   "execution_count": 6,
   "id": "d008c974",
   "metadata": {},
   "outputs": [
    {
     "data": {
      "image/png": "[encoded data removed]",
      "text/plain": [
       "<Figure size 432x288 with 1 Axes>"
      ]
     },
     "metadata": {
      "needs_background": "light"
     },
     "output_type": "display_data"
    }
   ],
   "source": [
    "# Create a Histogram of Salary\n",
    "\n",
    "%matplotlib inline\n",
    "import pandas as pd\n",
    "import matplotlib.pyplot as plt\n",
    "\n",
    "df = pd.DataFrame({'Name': ['Dan', 'Joann', 'Pedro', 'Rosie', 'Ethan', 'Vicky', 'Frederic'],\n",
    "                   'Salary':[50000,54000,50000,189000,55000,40000,59000]})\n",
    "\n",
    "salary = df['Salary']\n",
    "salary.plot.hist(title='Salary Distribution', color='lightblue', bins=25)  \n",
    "plt.axvline(salary.mean(), color='magenta', linestyle='dashed', linewidth=2)\n",
    "plt.axvline(salary.median(), color='green', linestyle='dashed', linewidth=2)\n",
    "plt.show()"
   ]
  },
  {
   "cell_type": "markdown",
   "id": "e05eae71",
   "metadata": {},
   "source": [
    "- magenta line = mean\n",
    "- green line = median"
   ]
  },
  {
   "cell_type": "code",
   "execution_count": 7,
   "id": "88836da3",
   "metadata": {},
   "outputs": [
    {
     "name": "stdout",
     "output_type": "stream",
     "text": [
      "Sorted Salary :  [40000, 50000, 50000, 54000, 55000, 59000, 189000] \n",
      "\n",
      "Bins Border -  0 :  40000.0  -  45960.0 \t  Frequency :  1\n",
      "Bins Border -  1 :  45960.0  -  51920.0 \t  Frequency :  2\n",
      "Bins Border -  2 :  51920.0  -  57880.0 \t  Frequency :  2\n",
      "Bins Border -  3 :  57880.0  -  63840.0 \t  Frequency :  1\n",
      "Bins Border -  4 :  63840.0  -  69800.0 \t  Frequency :  0\n",
      "Bins Border -  5 :  69800.0  -  75760.0 \t  Frequency :  0\n",
      "Bins Border -  6 :  75760.0  -  81720.0 \t  Frequency :  0\n",
      "Bins Border -  7 :  81720.0  -  87680.0 \t  Frequency :  0\n",
      "Bins Border -  8 :  87680.0  -  93640.0 \t  Frequency :  0\n",
      "Bins Border -  9 :  93640.0  -  99600.0 \t  Frequency :  0\n",
      "Bins Border -  10 :  99600.0  -  105560.0 \t  Frequency :  0\n",
      "Bins Border -  11 :  105560.0  -  111520.0 \t  Frequency :  0\n",
      "Bins Border -  12 :  111520.0  -  117480.0 \t  Frequency :  0\n",
      "Bins Border -  13 :  117480.0  -  123440.0 \t  Frequency :  0\n",
      "Bins Border -  14 :  123440.0  -  129400.0 \t  Frequency :  0\n",
      "Bins Border -  15 :  129400.0  -  135360.0 \t  Frequency :  0\n",
      "Bins Border -  16 :  135360.0  -  141320.0 \t  Frequency :  0\n",
      "Bins Border -  17 :  141320.0  -  147280.0 \t  Frequency :  0\n",
      "Bins Border -  18 :  147280.0  -  153240.0 \t  Frequency :  0\n",
      "Bins Border -  19 :  153240.0  -  159200.0 \t  Frequency :  0\n",
      "Bins Border -  20 :  159200.0  -  165160.0 \t  Frequency :  0\n",
      "Bins Border -  21 :  165160.0  -  171120.0 \t  Frequency :  0\n",
      "Bins Border -  22 :  171120.0  -  177080.0 \t  Frequency :  0\n",
      "Bins Border -  23 :  177080.0  -  183040.0 \t  Frequency :  0\n",
      "Bins Border -  24 :  183040.0  -  189000.0 \t  Frequency :  1\n"
     ]
    }
   ],
   "source": [
    "# Display Value of Bins (pembagian rentang data)\n",
    "\n",
    "import numpy as np\n",
    "\n",
    "print('Sorted Salary : ', sorted(list(salary)), '\\n')\n",
    "\n",
    "n, bins = np.histogram(salary, bins=25)\n",
    "for ii in range(0, len(n)):\n",
    "  print('Bins Border - ' , ii, ': ', bins[ii], ' - ', bins[ii+1], '\\t', ' Frequency : ', n[ii])"
   ]
  },
  {
   "cell_type": "markdown",
   "id": "848d6fe5",
   "metadata": {},
   "source": [
    "### Skewness dan Kurtosis"
   ]
  },
  {
   "cell_type": "markdown",
   "id": "f535de51",
   "metadata": {},
   "source": [
    "Catatan penting untuk Skewness :\n",
    "\n",
    "So, when is the skewness too much? The rule of thumb seems to be:\n",
    "- If the skewness is between -0.5 and 0.5, the data are fairly symmetrical.\n",
    "- If the skewness is between -1 and – 0.5 or between 0.5 and 1, the data are\n",
    "moderately skewed.\n",
    "- If the skewness is less than -1 or greater than 1, the data are highly skewed."
   ]
  },
  {
   "cell_type": "code",
   "execution_count": 33,
   "id": "7742bb2d",
   "metadata": {},
   "outputs": [
    {
     "name": "stdout",
     "output_type": "stream",
     "text": [
      "Skewness: 2.57316410755049\n"
     ]
    },
    {
     "data": {
      "image/png": "[encoded data removed]",
      "text/plain": [
       "<Figure size 432x288 with 1 Axes>"
      ]
     },
     "metadata": {
      "needs_background": "light"
     },
     "output_type": "display_data"
    }
   ],
   "source": [
    "%matplotlib inline\n",
    "import pandas as pd\n",
    "import matplotlib.pyplot as plt\n",
    "import numpy as np\n",
    "import scipy.stats as stats\n",
    "\n",
    "df = pd.DataFrame({'Name': ['Dan', 'Joann', 'Pedro', 'Rosie', 'Ethan', 'Vicky', 'Frederic'],\n",
    "                   'Salary':[50000,54000,50000,189000,55000,40000,59000]})\n",
    "\n",
    "salary = df['Salary']\n",
    "print(\"Skewness:\", salary.skew())\n",
    "density = stats.gaussian_kde(salary)\n",
    "n, x, _ = plt.hist(salary, histtype='step', bins=25)  #bins = jumlah batang histogram\n",
    "plt.plot(x, density(x)*10**5)\n",
    "plt.axvline(salary.mean(), color='magenta', linestyle='dashed', linewidth=2)\n",
    "plt.axvline(salary.median(), color='green', linestyle='dashed', linewidth=2)\n",
    "plt.show()"
   ]
  },
  {
   "cell_type": "markdown",
   "id": "fe9495f9",
   "metadata": {},
   "source": [
    "Perhatikan bahwa garis kerapatan berbentuk kurva asimetris yang memiliki \"puncak\" di sebelah kiri dan ekor panjang di sebelah kanan. Kami menggambarkan distribusi data semacam ini sebagai skewed; yaitu, data tidak didistribusikan secara simetris tetapi \"berkumpul bersama\" di satu sisi. Dalam hal ini, data dikelompokkan bersama di sebelah kiri, membuat ekor panjang di sebelah kanan; dan digambarkan sebagai condong ke kanan karena beberapa nilai tinggi yang jarang terjadi menarik mean ke kanan. (right-skewed)"
   ]
  },
  {
   "cell_type": "code",
   "execution_count": 9,
   "id": "3fa107d4",
   "metadata": {},
   "outputs": [
    {
     "data": {
      "image/png": "[encoded data removed]",
      "text/plain": [
       "<Figure size 432x288 with 1 Axes>"
      ]
     },
     "metadata": {
      "needs_background": "light"
     },
     "output_type": "display_data"
    }
   ],
   "source": [
    "%matplotlib inline\n",
    "import pandas as pd\n",
    "import matplotlib.pyplot as plt\n",
    "import numpy as np\n",
    "import scipy.stats as stats\n",
    "\n",
    "df = pd.DataFrame({'Name': ['Dan', 'Joann', 'Pedro', 'Rosie', 'Ethan', 'Vicky', 'Frederic'],\n",
    "                   'Hours':[41,40,36,30,35,39,40]})\n",
    "\n",
    "hours = df['Hours']\n",
    "density = stats.gaussian_kde(hours)\n",
    "n, x, _ = plt.hist(hours, histtype='step', bins=25)  \n",
    "plt.plot(x, density(x)*7)\n",
    "plt.axvline(hours.mean(), color='magenta', linestyle='dashed', linewidth=2)\n",
    "plt.axvline(hours.median(), color='green', linestyle='dashed', linewidth=2)\n",
    "plt.show()"
   ]
  },
  {
   "cell_type": "code",
   "execution_count": 10,
   "id": "c5014cdb",
   "metadata": {},
   "outputs": [
    {
     "name": "stdout",
     "output_type": "stream",
     "text": [
      "Bins Border  0 :  30.0  -  30.44 \t  Frequency :  1\n",
      "Bins Border  1 :  30.44  -  30.88 \t  Frequency :  0\n",
      "Bins Border  2 :  30.88  -  31.32 \t  Frequency :  0\n",
      "Bins Border  3 :  31.32  -  31.76 \t  Frequency :  0\n",
      "Bins Border  4 :  31.76  -  32.2 \t  Frequency :  0\n",
      "Bins Border  5 :  32.2  -  32.64 \t  Frequency :  0\n",
      "Bins Border  6 :  32.64  -  33.08 \t  Frequency :  0\n",
      "Bins Border  7 :  33.08  -  33.52 \t  Frequency :  0\n",
      "Bins Border  8 :  33.52  -  33.96 \t  Frequency :  0\n",
      "Bins Border  9 :  33.96  -  34.4 \t  Frequency :  0\n",
      "Bins Border  10 :  34.4  -  34.84 \t  Frequency :  0\n",
      "Bins Border  11 :  34.84  -  35.28 \t  Frequency :  1\n",
      "Bins Border  12 :  35.28  -  35.72 \t  Frequency :  0\n",
      "Bins Border  13 :  35.72  -  36.16 \t  Frequency :  1\n",
      "Bins Border  14 :  36.16  -  36.6 \t  Frequency :  0\n",
      "Bins Border  15 :  36.6  -  37.04 \t  Frequency :  0\n",
      "Bins Border  16 :  37.04  -  37.480000000000004 \t  Frequency :  0\n",
      "Bins Border  17 :  37.480000000000004  -  37.92 \t  Frequency :  0\n",
      "Bins Border  18 :  37.92  -  38.36 \t  Frequency :  0\n",
      "Bins Border  19 :  38.36  -  38.8 \t  Frequency :  0\n",
      "Bins Border  20 :  38.8  -  39.24 \t  Frequency :  1\n",
      "Bins Border  21 :  39.24  -  39.68 \t  Frequency :  0\n",
      "Bins Border  22 :  39.68  -  40.12 \t  Frequency :  2\n",
      "Bins Border  23 :  40.12  -  40.56 \t  Frequency :  0\n",
      "Bins Border  24 :  40.56  -  41.0 \t  Frequency :  1\n"
     ]
    }
   ],
   "source": [
    "# Display Value of Bins \n",
    "import numpy as np\n",
    "\n",
    "n, bins = np.histogram(hours, bins=25)\n",
    "for ii in range(0, len(n)):\n",
    "  print('Bins Border ', ii, ': ', bins[ii], ' - ', bins[ii+1], '\\t', ' Frequency : ', n[ii])"
   ]
  },
  {
   "cell_type": "markdown",
   "id": "4381c1e6",
   "metadata": {},
   "source": [
    "grafik ini termasuk left-skewed karena garis mean berada dibagian kiri median"
   ]
  },
  {
   "cell_type": "code",
   "execution_count": 11,
   "id": "3c969050",
   "metadata": {},
   "outputs": [
    {
     "data": {
      "image/png": "[encoded data removed]",
      "text/plain": [
       "<Figure size 432x288 with 1 Axes>"
      ]
     },
     "metadata": {
      "needs_background": "light"
     },
     "output_type": "display_data"
    }
   ],
   "source": [
    "%matplotlib inline\n",
    "import pandas as pd\n",
    "import matplotlib.pyplot as plt\n",
    "import numpy as np\n",
    "import scipy.stats as stats\n",
    "\n",
    "df = pd.DataFrame({'Name': ['Dan', 'Joann', 'Pedro', 'Rosie', 'Ethan', 'Vicky', 'Frederic'],\n",
    "                   'Grade':[50,50,46,95,50,5,57]})\n",
    "\n",
    "grade = df['Grade']\n",
    "density = stats.gaussian_kde(grade)\n",
    "n, x, _ = plt.hist(grade, histtype='step', bins=25)  \n",
    "plt.plot(x, density(x)*2**7.5)\n",
    "plt.axvline(grade.mean(), color='magenta', linestyle='dashed', linewidth=2)\n",
    "plt.axvline(grade.median(), color='green', linestyle='dashed', linewidth=2)\n",
    "plt.show()"
   ]
  },
  {
   "cell_type": "markdown",
   "id": "903765f7",
   "metadata": {},
   "source": [
    "mean = median = mode, grafik ini adalah distribusi normal."
   ]
  },
  {
   "cell_type": "markdown",
   "id": "b6319dd0",
   "metadata": {},
   "source": [
    "### Varian dan Standar deviasi\n",
    "\n",
    "nilai statistika yg digunakan untuk menentukan persebaran data dalam suatu sampel dan melihat seberapa dekat data2 tersebut dengan mean."
   ]
  },
  {
   "cell_type": "markdown",
   "id": "751c9fd8",
   "metadata": {},
   "source": [
    "- standar deviasi yang rendah berarti bahwa sebagian besar angka mendekati mean\n",
    "- standar deviasi yang tinggi berarti bahwa nilai2 tersebar pada rentang yang lebih luas"
   ]
  },
  {
   "cell_type": "markdown",
   "id": "113938c9",
   "metadata": {},
   "source": [
    " Varian = ukuran penyebaran/dispersi dalam suatu populasi sementara kovarian dianggap sebagai ukuran variasi dua variabel acak kekuatan korelasi."
   ]
  },
  {
   "cell_type": "code",
   "execution_count": 12,
   "id": "1d88eb2d",
   "metadata": {},
   "outputs": [
    {
     "name": "stdout",
     "output_type": "stream",
     "text": [
      "5.76\n"
     ]
    }
   ],
   "source": [
    "# suatu kelas, tinggi badan beberapa orang siswa yang dijadikan sampel adalah :\n",
    "# 4,8,6,5,3,2,8,9,2,5\n",
    "\n",
    "import math\n",
    "\n",
    "def variance(data, ddof=0): # ddof = delta derajat kebebasan\n",
    "    n=len(data) #number of observation\n",
    "    mean = sum(data)/n\n",
    "    deviations = [(x - mean)**2 for x in data] # square deviations\n",
    "    variance = sum(deviations)/n\n",
    "    return variance\n",
    "\n",
    "print(variance([4,8,6,5,3,2,8,9,2,5]))"
   ]
  },
  {
   "cell_type": "code",
   "execution_count": 13,
   "id": "970579a6",
   "metadata": {
    "scrolled": true
   },
   "outputs": [
    {
     "data": {
      "text/plain": [
       "5.76"
      ]
     },
     "execution_count": 13,
     "metadata": {},
     "output_type": "execute_result"
    }
   ],
   "source": [
    "import statistics\n",
    "\n",
    "statistics.pvariance([4,8,6,5,3,2,8,9,2,5]) # ddof = 0, yg n aja berarti varian populasi"
   ]
  },
  {
   "cell_type": "code",
   "execution_count": 14,
   "id": "e67b3860",
   "metadata": {},
   "outputs": [
    {
     "data": {
      "text/plain": [
       "6.4"
      ]
     },
     "execution_count": 14,
     "metadata": {},
     "output_type": "execute_result"
    }
   ],
   "source": [
    "statistics.variance([4,8,6,5,3,2,8,9,2,5]) # ddof = 1, yg n-1 berarti varian sample"
   ]
  },
  {
   "cell_type": "code",
   "execution_count": 15,
   "id": "926e6c25",
   "metadata": {},
   "outputs": [
    {
     "data": {
      "text/plain": [
       "2.4"
      ]
     },
     "execution_count": 15,
     "metadata": {},
     "output_type": "execute_result"
    }
   ],
   "source": [
    "# Standar Deviasi\n",
    "def standar_deviasi(data):\n",
    "    var = variance(data)\n",
    "    std_dev = math.sqrt(var)\n",
    "    return std_dev\n",
    "\n",
    "standar_deviasi([4,8,6,5,3,2,8,9,2,5])"
   ]
  },
  {
   "cell_type": "markdown",
   "id": "a2ecb06e",
   "metadata": {},
   "source": [
    "### Measure of Skewness and Kurtosis"
   ]
  },
  {
   "cell_type": "code",
   "execution_count": 16,
   "id": "8e29d5d0",
   "metadata": {},
   "outputs": [
    {
     "name": "stdout",
     "output_type": "stream",
     "text": [
      "Salary skewness: 2.57316410755049\n",
      "Salary kurtosis: 6.719828837773431\n"
     ]
    },
    {
     "data": {
      "image/png": "[encoded data removed]",
      "text/plain": [
       "<Figure size 432x288 with 1 Axes>"
      ]
     },
     "metadata": {
      "needs_background": "light"
     },
     "output_type": "display_data"
    },
    {
     "name": "stdout",
     "output_type": "stream",
     "text": [
      "\n",
      "\n",
      "Hours skewness: -1.194570307262883\n",
      "Hours kurtosis: 0.9412265624999989\n"
     ]
    },
    {
     "data": {
      "image/png": "[encoded data removed]",
      "text/plain": [
       "<Figure size 432x288 with 1 Axes>"
      ]
     },
     "metadata": {
      "needs_background": "light"
     },
     "output_type": "display_data"
    },
    {
     "name": "stdout",
     "output_type": "stream",
     "text": [
      "\n",
      "\n",
      "Grade skewness: -0.06512433009682762\n",
      "Grade kurtosis: 2.7484764913773034\n"
     ]
    },
    {
     "data": {
      "image/png": "[encoded data removed]",
      "text/plain": [
       "<Figure size 432x288 with 1 Axes>"
      ]
     },
     "metadata": {
      "needs_background": "light"
     },
     "output_type": "display_data"
    },
    {
     "name": "stdout",
     "output_type": "stream",
     "text": [
      "\n",
      "\n"
     ]
    }
   ],
   "source": [
    "# Get Skewness and Kurtosis Value\n",
    "\n",
    "%matplotlib inline\n",
    "import pandas as pd\n",
    "import numpy as np\n",
    "from matplotlib import pyplot as plt\n",
    "import scipy.stats as stats\n",
    "\n",
    "df = pd.DataFrame({'Name': ['Dan', 'Joann', 'Pedro', 'Rosie', 'Ethan', 'Vicky', 'Frederic'],\n",
    "                   'Salary':[50000,54000,50000,189000,55000,40000,59000],\n",
    "                   'Hours':[41,40,36,30,35,39,40],\n",
    "                   'Grade':[50,50,46,95,50,5,57]})\n",
    "\n",
    "numcols = ['Salary', 'Hours', 'Grade']\n",
    "for col in numcols:\n",
    "    print(df[col].name + ' skewness: ' + str(df[col].skew())) #kemiringan\n",
    "    print(df[col].name + ' kurtosis: ' + str(df[col].kurt())) #puncak\n",
    "    density = stats.gaussian_kde(df[col])\n",
    "    n, x, _ = plt.hist(df[col], histtype='step', bins=25)  \n",
    "    plt.plot(x, density(x)*6)\n",
    "    plt.show()\n",
    "    print('\\n')"
   ]
  },
  {
   "cell_type": "markdown",
   "id": "d6f2f526",
   "metadata": {},
   "source": [
    "### Measure of Variance"
   ]
  },
  {
   "cell_type": "markdown",
   "id": "ddfb2605",
   "metadata": {},
   "source": [
    "cara mengukur varians :"
   ]
  },
  {
   "cell_type": "markdown",
   "id": "cc20a60b",
   "metadata": {},
   "source": [
    "### Range"
   ]
  },
  {
   "cell_type": "markdown",
   "id": "5b6f9f80",
   "metadata": {},
   "source": [
    "Cara sederhana untuk mengukur varians dalam kumpulan data adalah dengan mengidentifikasi perbedaan antara nilai terendah dan tertinggi. Ini disebut rentang, dan dihitung dengan mengurangkan nilai minimum dari nilai maksimum."
   ]
  },
  {
   "cell_type": "code",
   "execution_count": 17,
   "id": "939c1527",
   "metadata": {},
   "outputs": [
    {
     "name": "stdout",
     "output_type": "stream",
     "text": [
      "Salary range: 149000\n",
      "Hours range: 11\n",
      "Grade range: 90\n"
     ]
    }
   ],
   "source": [
    "import pandas as pd\n",
    "\n",
    "df = pd.DataFrame({'Name': ['Dan', 'Joann', 'Pedro', 'Rosie', 'Ethan', 'Vicky', 'Frederic'],\n",
    "                   'Salary':[50000,54000,50000,189000,55000,40000,59000],\n",
    "                   'Hours':[41,40,36,30,35,39,40],\n",
    "                   'Grade':[50,50,46,95,50,5,57]})\n",
    "\n",
    "numcols = ['Salary', 'Hours', 'Grade']\n",
    "for col in numcols:\n",
    "    print(df[col].name + ' range: ' + str(df[col].max() - df[col].min()))"
   ]
  },
  {
   "cell_type": "markdown",
   "id": "c52da75a",
   "metadata": {},
   "source": [
    "### Percentiles and Quartiles"
   ]
  },
  {
   "cell_type": "markdown",
   "id": "c156ad14",
   "metadata": {},
   "source": [
    "- **Percentiles**"
   ]
  },
  {
   "cell_type": "code",
   "execution_count": 18,
   "id": "fa14b68c",
   "metadata": {},
   "outputs": [
    {
     "name": "stdout",
     "output_type": "stream",
     "text": [
      "71.42857142857143\n"
     ]
    }
   ],
   "source": [
    "# Percentiles\n",
    "\n",
    "# Get the Percentile (kind='strict')\n",
    "\n",
    "import pandas as pd\n",
    "from scipy import stats\n",
    "\n",
    "df = pd.DataFrame({'Name': ['Dan', 'Joann', 'Pedro', 'Rosie', 'Ethan', 'Vicky', 'Frederic'],\n",
    "                   'Salary':[50000,54000,50000,189000,55000,40000,59000],\n",
    "                   'Hours':[41,40,36,30,35,39,40],\n",
    "                   'Grade':[50,50,46,95,50,5,57]})\n",
    "\n",
    "print(stats.percentileofscore(df['Grade'], 57, 'strict'))"
   ]
  },
  {
   "cell_type": "markdown",
   "id": "ad635607",
   "metadata": {},
   "source": [
    "Penjelasannya adalah dari data grade yg ada, orang yang mendapatkan score di bawah 57 adalah 71.42%"
   ]
  },
  {
   "cell_type": "code",
   "execution_count": 19,
   "id": "2f135be1",
   "metadata": {},
   "outputs": [
    {
     "name": "stdout",
     "output_type": "stream",
     "text": [
      "       Name  Salary  Hours  Grade\n",
      "0       Dan   50000     41     50\n",
      "1     Joann   54000     40     50\n",
      "2     Pedro   50000     36     46\n",
      "3     Rosie  189000     30     95\n",
      "4     Ethan   55000     35     50\n",
      "5     Vicky   40000     39      5\n",
      "6  Frederic   59000     40     57\n",
      "\n",
      "   index      Name  Salary  Hours  Grade\n",
      "0      5     Vicky   40000     39      5\n",
      "1      2     Pedro   50000     36     46\n",
      "2      0       Dan   50000     41     50\n",
      "3      1     Joann   54000     40     50\n",
      "4      4     Ethan   55000     35     50\n",
      "5      6  Frederic   59000     40     57\n",
      "6      3     Rosie  189000     30     95\n"
     ]
    }
   ],
   "source": [
    "# Display Data\n",
    "print(df)\n",
    "print('')\n",
    "print(df.sort_values(by=['Grade']).reset_index())"
   ]
  },
  {
   "cell_type": "code",
   "execution_count": 20,
   "id": "07cee65f",
   "metadata": {},
   "outputs": [
    {
     "name": "stdout",
     "output_type": "stream",
     "text": [
      "85.71428571428571\n"
     ]
    }
   ],
   "source": [
    "# kind=weak\n",
    "import pandas as pd\n",
    "from scipy import stats\n",
    "\n",
    "df = pd.DataFrame({'Name': ['Dan', 'Joann', 'Pedro', 'Rosie', 'Ethan', 'Vicky', 'Frederic'],\n",
    "                   'Salary':[50000,54000,50000,189000,55000,40000,59000],\n",
    "                   'Hours':[41,40,36,30,35,39,40],\n",
    "                   'Price (Millions Dollar)':[50,50,46,95,50,5,57]})\n",
    "\n",
    "print(stats.percentileofscore(df['Price (Millions Dollar)'], 57, 'weak'))"
   ]
  },
  {
   "cell_type": "markdown",
   "id": "6456c771",
   "metadata": {},
   "source": [
    "Penjelasannya adalah dari data grade yg ada, orang yang mendapatkan score 57 dan di bawahnya adalah 71.42%"
   ]
  },
  {
   "cell_type": "markdown",
   "id": "1893f9dc",
   "metadata": {},
   "source": [
    "- **Quantile**"
   ]
  },
  {
   "cell_type": "code",
   "execution_count": 21,
   "id": "5e823a39",
   "metadata": {},
   "outputs": [
    {
     "name": "stdout",
     "output_type": "stream",
     "text": [
      "0.25    35.5\n",
      "0.50    39.0\n",
      "0.75    40.0\n",
      "Name: Hours, dtype: float64\n"
     ]
    }
   ],
   "source": [
    "# Quantiles\n",
    "import pandas as pd\n",
    "\n",
    "df = pd.DataFrame({'Name': ['Dan', 'Joann', 'Pedro', 'Rosie', 'Ethan', 'Vicky', 'Frederic'],\n",
    "                   'Salary':[50000,54000,50000,189000,55000,40000,59000],\n",
    "                   'Hours':[41,40,36,17,35,39,40],\n",
    "                   'Grade':[50,50,46,95,50,5,57]})\n",
    "print(df['Hours'].quantile([0.25, 0.5, 0.75]))"
   ]
  },
  {
   "cell_type": "markdown",
   "id": "e7002e1e",
   "metadata": {},
   "source": [
    "### Box Plot"
   ]
  },
  {
   "cell_type": "code",
   "execution_count": 22,
   "id": "649c8eca",
   "metadata": {},
   "outputs": [
    {
     "data": {
      "image/png": "[encoded data removed]",
      "text/plain": [
       "<Figure size 720x576 with 1 Axes>"
      ]
     },
     "metadata": {
      "needs_background": "light"
     },
     "output_type": "display_data"
    }
   ],
   "source": [
    "# Display Box Plot of Weekly Hours\n",
    "\n",
    "%matplotlib inline\n",
    "import pandas as pd\n",
    "from matplotlib import pyplot as plt\n",
    "\n",
    "df = pd.DataFrame({'Name': ['Dan', 'Joann', 'Pedro', 'Rosie', 'Ethan', 'Vicky', 'Frederic'],\n",
    "                   'Salary':[50000,54000,50000,189000,55000,40000,59000],\n",
    "                   'Hours':[41,40,36,30,35,39,40],\n",
    "                   'Grade':[50,50,46,95,50,5,57]})\n",
    "\n",
    "# Plot a box-whisker chart\n",
    "df['Hours'].plot(kind='box', title='Weekly Hours Distribution', figsize=(10,8))\n",
    "plt.show()"
   ]
  },
  {
   "cell_type": "markdown",
   "id": "9a6aff45",
   "metadata": {},
   "source": [
    "- Kotak persegi panjang yang menunjukkan letak data antara persentil ke-25 dan ke-75 (kuartil kedua dan ketiga). Bagian dari distribusi ini sering disebut sebagai rentang interkuartil (IQR - Interquartile Range) - ini berisi 50 nilai data tengah.\n",
    "\n",
    "- Garis yang memanjang dari kotak ke bagian bawah kuartil pertama dan bagian atas kuartil keempat untuk menunjukkan data lengkap.\n",
    "\n",
    "- Garis di dalam kotak yang menunjukkan lokasi median tersebut (persentil ke-50, yang juga merupakan ambang batas antara kuartil kedua dan ketiga)\n",
    "\n",
    "Dalam hal ini, Anda dapat melihat bahwa rentang interkuartil adalah antara 35 dan 40, dengan median lebih dekat ke bagian atas rentang tersebut. Kisaran kuartil pertama adalah dari sekitar 30 hingga 35, dan kuartil keempat adalah dari 40 hingga 41."
   ]
  },
  {
   "cell_type": "markdown",
   "id": "aab9be23",
   "metadata": {},
   "source": [
    "### Outliers"
   ]
  },
  {
   "cell_type": "code",
   "execution_count": 23,
   "id": "62ea1013",
   "metadata": {},
   "outputs": [
    {
     "data": {
      "image/png": "[encoded data removed]",
      "text/plain": [
       "<Figure size 720x576 with 1 Axes>"
      ]
     },
     "metadata": {
      "needs_background": "light"
     },
     "output_type": "display_data"
    }
   ],
   "source": [
    "# Display Box Plot of Salary\n",
    "\n",
    "%matplotlib inline\n",
    "import pandas as pd\n",
    "from matplotlib import pyplot as plt\n",
    "\n",
    "df = pd.DataFrame({'Name': ['Dan', 'Joann', 'Pedro', 'Rosie', 'Ethan', 'Vicky', 'Frederic'],\n",
    "                   'Salary':[50000,54000,50000,189000,55000,40000,59000],\n",
    "                   'Hours':[41,40,36,30,35,39,40],\n",
    "                   'Grade':[50,50,46,95,50,5,57]})\n",
    "\n",
    "# Plot a box-whisker chart\n",
    "df['Salary'].plot(kind='box', title='Salary Distribution', figsize=(10,8))\n",
    "plt.show()"
   ]
  },
  {
   "cell_type": "markdown",
   "id": "7a6e081c",
   "metadata": {},
   "source": [
    "Jadi apa yang terjadi di sini?\n",
    "\n",
    "Seperti yang telah kita ketahui, penghasilan Rosie jauh lebih besar daripada mantan teman sekelasnya. Bahkan lebih dari itu, gajinya telah diidentifikasi sebagai outlier. Pencilan adalah nilai yang sangat jauh dari pusat distribusi dibandingkan dengan nilai-nilai lain yang mencondongkan distribusi dengan mempengaruhi rata-rata. Ada berbagai alasan mengapa Anda mungkin memiliki outlier dalam data Anda, termasuk kesalahan entri data, kegagalan sensor atau peralatan penghasil data, atau nilai yang benar-benar anomali.\n",
    "\n",
    "Jadi apa yang harus kita lakukan?\n",
    "\n",
    "Ini sangat tergantung pada data, dan untuk apa Anda mencoba menggunakannya. Dalam hal ini, mari kita asumsikan kita mencoba mencari tahu berapa ekspektasi gaji yang masuk akal untuk lulusan sekolah kita dapatkan. Mengabaikan sejenak bahwa kami memiliki kumpulan data yang sangat kecil yang menjadi dasar penilaian kami:\n",
    "\n",
    "- Sepertinya gaji Rosie dapat berupa kesalahan (mungkin dia salah mengetik dalam formulir yang digunakan untuk mengumpulkan data) atau\n",
    "- Anomali asli (mungkin dia menjadi atlet profesional atau pekerjaan lain yang dibayar sangat tinggi)."
   ]
  },
  {
   "cell_type": "code",
   "execution_count": 24,
   "id": "30681e63",
   "metadata": {},
   "outputs": [
    {
     "data": {
      "image/png": "[encoded data removed]",
      "text/plain": [
       "<Figure size 720x576 with 1 Axes>"
      ]
     },
     "metadata": {
      "needs_background": "light"
     },
     "output_type": "display_data"
    }
   ],
   "source": [
    "# Display Box Plot of Salary without Outliers\n",
    "\n",
    "%matplotlib inline\n",
    "import pandas as pd\n",
    "from matplotlib import pyplot as plt\n",
    "\n",
    "df = pd.DataFrame({'Name': ['Dan', 'Joann', 'Pedro', 'Rosie', 'Ethan', 'Vicky', 'Frederic'],\n",
    "                   'Salary':[50000,54000,50000,189000,55000,40000,59000],\n",
    "                   'Hours':[41,40,36,17,35,39,40],\n",
    "                   'Grade':[50,50,46,95,50,5,57]})\n",
    "\n",
    "# Plot a box-whisker chart\n",
    "df['Salary'].plot(kind='box', title='Salary Distribution', figsize=(10,8), showfliers=False)\n",
    "plt.show()"
   ]
  },
  {
   "cell_type": "code",
   "execution_count": 25,
   "id": "733a9213",
   "metadata": {},
   "outputs": [
    {
     "name": "stdout",
     "output_type": "stream",
     "text": [
      "5     40000\n",
      "0     50000\n",
      "2     50000\n",
      "1     54000\n",
      "4     55000\n",
      "6     59000\n",
      "3    189000\n",
      "Name: Salary, dtype: int64\n",
      "Kuartil 1 : 50000.0\n",
      "Kuartil 3 : 57000.0\n",
      "Interquantile Range : 7000.0\n"
     ]
    }
   ],
   "source": [
    "# cari IQR = Q3-Q1\n",
    "\n",
    "salary = df['Salary'].sort_values()\n",
    "print(salary)\n",
    "Q1 = np.quantile(salary,0.25)\n",
    "Q3 = np.quantile(salary,0.75)\n",
    "IQR = Q3-Q1\n",
    "print (\"Kuartil 1 :\",Q1)\n",
    "print(\"Kuartil 3 :\",Q3)\n",
    "print(\"Interquantile Range :\",IQR)"
   ]
  },
  {
   "cell_type": "markdown",
   "id": "6871a3ad",
   "metadata": {},
   "source": [
    "## Varian dan Standar Deviasi\n",
    "\n",
    "mengukur jumlah varian data"
   ]
  },
  {
   "cell_type": "markdown",
   "id": "07abaa74",
   "metadata": {},
   "source": [
    "- **Varian** \n",
    "\n",
    "diukur sbg rata2 selisih kuadrat dari mean.\n",
    "\n"
   ]
  },
  {
   "cell_type": "code",
   "execution_count": 26,
   "id": "9b5c3d74",
   "metadata": {},
   "outputs": [
    {
     "data": {
      "text/html": [
       "<div>\n",
       "<style scoped>\n",
       "    .dataframe tbody tr th:only-of-type {\n",
       "        vertical-align: middle;\n",
       "    }\n",
       "\n",
       "    .dataframe tbody tr th {\n",
       "        vertical-align: top;\n",
       "    }\n",
       "\n",
       "    .dataframe thead th {\n",
       "        text-align: right;\n",
       "    }\n",
       "</style>\n",
       "<table border=\"1\" class=\"dataframe\">\n",
       "  <thead>\n",
       "    <tr style=\"text-align: right;\">\n",
       "      <th></th>\n",
       "      <th>Name</th>\n",
       "      <th>Salary</th>\n",
       "      <th>Hours</th>\n",
       "      <th>Grade</th>\n",
       "    </tr>\n",
       "  </thead>\n",
       "  <tbody>\n",
       "    <tr>\n",
       "      <th>0</th>\n",
       "      <td>Dan</td>\n",
       "      <td>50000</td>\n",
       "      <td>41</td>\n",
       "      <td>50</td>\n",
       "    </tr>\n",
       "    <tr>\n",
       "      <th>1</th>\n",
       "      <td>Joann</td>\n",
       "      <td>54000</td>\n",
       "      <td>40</td>\n",
       "      <td>50</td>\n",
       "    </tr>\n",
       "    <tr>\n",
       "      <th>2</th>\n",
       "      <td>Pedro</td>\n",
       "      <td>50000</td>\n",
       "      <td>36</td>\n",
       "      <td>46</td>\n",
       "    </tr>\n",
       "    <tr>\n",
       "      <th>3</th>\n",
       "      <td>Rosie</td>\n",
       "      <td>189000</td>\n",
       "      <td>17</td>\n",
       "      <td>95</td>\n",
       "    </tr>\n",
       "    <tr>\n",
       "      <th>4</th>\n",
       "      <td>Ethan</td>\n",
       "      <td>55000</td>\n",
       "      <td>35</td>\n",
       "      <td>50</td>\n",
       "    </tr>\n",
       "    <tr>\n",
       "      <th>5</th>\n",
       "      <td>Vicky</td>\n",
       "      <td>40000</td>\n",
       "      <td>39</td>\n",
       "      <td>5</td>\n",
       "    </tr>\n",
       "    <tr>\n",
       "      <th>6</th>\n",
       "      <td>Frederic</td>\n",
       "      <td>59000</td>\n",
       "      <td>40</td>\n",
       "      <td>57</td>\n",
       "    </tr>\n",
       "  </tbody>\n",
       "</table>\n",
       "</div>"
      ],
      "text/plain": [
       "       Name  Salary  Hours  Grade\n",
       "0       Dan   50000     41     50\n",
       "1     Joann   54000     40     50\n",
       "2     Pedro   50000     36     46\n",
       "3     Rosie  189000     17     95\n",
       "4     Ethan   55000     35     50\n",
       "5     Vicky   40000     39      5\n",
       "6  Frederic   59000     40     57"
      ]
     },
     "execution_count": 26,
     "metadata": {},
     "output_type": "execute_result"
    }
   ],
   "source": [
    "# Get the Variance\n",
    "\n",
    "import pandas as pd\n",
    "\n",
    "df = pd.DataFrame({'Name': ['Dan', 'Joann', 'Pedro', 'Rosie', 'Ethan', 'Vicky', 'Frederic'],\n",
    "                   'Salary':[50000,54000,50000,189000,55000,40000,59000],\n",
    "                   'Hours':[41,40,36,17,35,39,40],\n",
    "                   'Grade':[50,50,46,95,50,5,57]})\n",
    "df"
   ]
  },
  {
   "cell_type": "code",
   "execution_count": 27,
   "id": "9497c167",
   "metadata": {},
   "outputs": [
    {
     "data": {
      "text/plain": [
       "685.6190476190476"
      ]
     },
     "execution_count": 27,
     "metadata": {},
     "output_type": "execute_result"
    }
   ],
   "source": [
    "df['Grade'].var() # varian"
   ]
  },
  {
   "cell_type": "markdown",
   "id": "128c91e7",
   "metadata": {},
   "source": [
    "- **Standar Deviasi**"
   ]
  },
  {
   "cell_type": "code",
   "execution_count": 28,
   "id": "f0ac866c",
   "metadata": {},
   "outputs": [
    {
     "data": {
      "text/plain": [
       "26.184328282754315"
      ]
     },
     "execution_count": 28,
     "metadata": {},
     "output_type": "execute_result"
    }
   ],
   "source": [
    "# get the standard deviation\n",
    "df['Grade'].std()"
   ]
  },
  {
   "cell_type": "markdown",
   "id": "8c265ea6",
   "metadata": {},
   "source": [
    "## Standar Deviasi di distribusi normal"
   ]
  },
  {
   "cell_type": "code",
   "execution_count": 29,
   "id": "aa23eb74",
   "metadata": {},
   "outputs": [],
   "source": [
    "%matplotlib inline\n",
    "import pandas as pd\n",
    "import matplotlib.pyplot as plt\n",
    "import numpy as np\n",
    "import scipy.stats as stats"
   ]
  },
  {
   "cell_type": "code",
   "execution_count": 30,
   "id": "451557c7",
   "metadata": {},
   "outputs": [
    {
     "data": {
      "image/png": "[encoded data removed]",
      "text/plain": [
       "<Figure size 432x288 with 1 Axes>"
      ]
     },
     "metadata": {
      "needs_background": "light"
     },
     "output_type": "display_data"
    }
   ],
   "source": [
    "# bikin distribusi normal secara acak\n",
    "df = pd.DataFrame(np.random.randn(100000,1), columns=[\"Grade\"])\n",
    "\n",
    "# plot distribusi sebagai sebuah histogram dengan kurva density\n",
    "grade = df[\"Grade\"]\n",
    "density = stats.gaussian_kde(grade)\n",
    "n, x, _ = plt.hist(grade, color='lightgrey', bins=100)\n",
    "plt.plot(x, density(x))\n",
    "\n",
    "# mean dan standar deviasi\n",
    "s = df['Grade'].std()\n",
    "m = df['Grade'].mean()\n",
    "\n",
    "# beri anotasi 1 standar deviasi\n",
    "x1 = [m-s, m+s]\n",
    "y1 = [0.25,0.25] # batasan koor y aja, jadi bakal keliatan ada batas garis\n",
    "plt.plot(x1,y1, color='magenta')\n",
    "plt.annotate('1s (68.26%)', (x1[1],y1[1]))\n",
    "\n",
    "# Annotate 2 stdevs\n",
    "x2 = [m-(s*2), m+(s*2)]\n",
    "y2 = [0.05, 0.05]\n",
    "plt.plot(x2,y2, color='green')\n",
    "plt.annotate('2s (95.45%)', (x2[1],y2[1]))\n",
    "\n",
    "# Annotate 3 stdevs\n",
    "x3 = [m-(s*3), m+(s*3)]\n",
    "y3 = [0.005, 0.005]\n",
    "plt.plot(x3,y3, color='orange')\n",
    "plt.annotate('3s (99.73%)', (x3[1],y3[1]))\n",
    "\n",
    "# Show the location of the mean\n",
    "plt.axvline(grade.mean(), color='grey', linestyle='dashed', linewidth=1)\n",
    "\n",
    "plt.show()"
   ]
  },
  {
   "cell_type": "markdown",
   "id": "e4ca8b6b",
   "metadata": {},
   "source": [
    "<img src='https://sphweb.bumc.bu.edu/otlt/MPH-Modules/PH717-QuantCore/PH717-Module6-RandomError/Normal%20Distribution%20deviations.png'>"
   ]
  },
  {
   "cell_type": "markdown",
   "id": "cdee7c50",
   "metadata": {},
   "source": [
    "Garis berwarna horizontal menunjukkan persentase data dalam 1, 2, dan 3 standar deviasi dari mean\n",
    "\n",
    "Dalam setiap distribusi normal :\n",
    "- Sekitar 68.26% nilai berada dalam satu standar deviasi dari rata2\n",
    "- Sekitar 95,45% dari nilai berada dalam dua standar deviasi dari mean.\n",
    "- Sekitar 99,73% nilai termasuk dalam tiga standar deviasi dari rata-rata."
   ]
  },
  {
   "cell_type": "markdown",
   "id": "1ba15e63",
   "metadata": {},
   "source": [
    "## Z Score\n",
    "\n",
    "ukuran penyimpangan data dari nilai rata2nya yang diukur dalam satuan standar deviasinya.\n",
    "\n",
    "rumus Z score :\n",
    "$$\n",
    "\\begin{equation}Z = \\frac{x - \\mu}{\\sigma}\\end{equation}\n",
    "$$\n",
    "\n",
    "or like this for a sample:\n",
    "\n",
    "$$\n",
    "\\begin{equation}Z = \\frac{x - \\bar{x}}{s}\\end{equation}\n",
    "$$\n",
    "\n",
    "gunanya untuk normalisasi data\n"
   ]
  },
  {
   "cell_type": "code",
   "execution_count": 31,
   "id": "b24a4311",
   "metadata": {},
   "outputs": [
    {
     "data": {
      "image/png": "[encoded data removed]",
      "text/plain": [
       "<Figure size 720x576 with 1 Axes>"
      ]
     },
     "metadata": {
      "needs_background": "light"
     },
     "output_type": "display_data"
    },
    {
     "data": {
      "image/png": "[encoded data removed]",
      "text/plain": [
       "<Figure size 432x288 with 1 Axes>"
      ]
     },
     "metadata": {
      "needs_background": "light"
     },
     "output_type": "display_data"
    }
   ],
   "source": [
    "# Z = (x - rata2) / std\n",
    "\n",
    "# Visualization of Box Plot of Grade\n",
    "\n",
    "%matplotlib inline\n",
    "import pandas as pd\n",
    "import matplotlib.pyplot as plt\n",
    "import numpy as np\n",
    "import scipy.stats as stats\n",
    "\n",
    "df = pd.DataFrame({'Name': ['Dan', 'Joann', 'Pedro', 'Rosie', 'Ethan', 'Vicky', 'Frederic'],\n",
    "                   'Salary':[50000,54000,50000,189000,55000,40000,59000],\n",
    "                   'Hours':[41,40,36,17,35,39,40],\n",
    "                   'Grade':[50,50,46,95,50,5,57]})\n",
    "\n",
    "# Plot a box-whisker chart\n",
    "df['Grade'].plot(kind='box', title='Grade Distribution', figsize=(10,8))\n",
    "plt.show()\n",
    "\n",
    "# Visualization of Distribution\n",
    "grade = df['Grade']\n",
    "density = stats.gaussian_kde(grade)\n",
    "n, x, _ = plt.hist(grade, histtype='step', bins=25)  \n",
    "plt.plot(x, density(x)*2**7.5)\n",
    "plt.axvline(grade.mean(), color='magenta', linestyle='dashed', linewidth=2)\n",
    "plt.axvline(grade.median(), color='green', linestyle='dashed', linewidth=2)\n",
    "plt.show()"
   ]
  }
 ],
 "metadata": {
  "kernelspec": {
   "display_name": "Python 3 (ipykernel)",
   "language": "python",
   "name": "python3"
  },
  "language_info": {
   "codemirror_mode": {
    "name": "ipython",
    "version": 3
   },
   "file_extension": ".py",
   "mimetype": "text/x-python",
   "name": "python",
   "nbconvert_exporter": "python",
   "pygments_lexer": "ipython3",
   "version": "3.10.1"
  }
 },
 "nbformat": 4,
 "nbformat_minor": 5
}
