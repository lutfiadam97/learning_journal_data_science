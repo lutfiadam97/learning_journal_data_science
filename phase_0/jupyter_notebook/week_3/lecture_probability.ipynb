{
 "cells": [
  {
   "cell_type": "markdown",
   "metadata": {},
   "source": [
    "# Probability & Distribution"
   ]
  },
  {
   "cell_type": "markdown",
   "metadata": {},
   "source": [
    "## 1. Probability Basic"
   ]
  },
  {
   "cell_type": "code",
   "execution_count": 1,
   "metadata": {},
   "outputs": [],
   "source": [
    "# P(A) = sample point/jumlah seluruh sampel point di sampel space -> probability\n",
    "# P(A') -> complement\n",
    "# P(A') = 1 - P(A)"
   ]
  },
  {
   "cell_type": "markdown",
   "metadata": {},
   "source": [
    "- experiment/trial : action yang menghasilkan outcome (ex : pelemparan dadu)\n",
    "- sample space : set of possible outcome (ex : dari pelemparan dadu, ada kemungkinan mata dadu yang muncul dalam set ini[1,2,3,4,5,6])\n",
    "- sample point : single possible outcome (ex : dari pelemparan dadu, kemungkinan bisa mata dadu 1 atau 2 atau 3 atau 4 atau 5 atau 6)\n",
    "- event : a specific outcome (mata dadu yg muncul adalah 2)"
   ]
  },
  {
   "cell_type": "markdown",
   "metadata": {},
   "source": [
    "## Independent Event\n",
    "\n",
    "Pelemparan coin (head & tail)"
   ]
  },
  {
   "cell_type": "code",
   "execution_count": 2,
   "metadata": {},
   "outputs": [],
   "source": [
    "%matplotlib inline\n",
    "import random"
   ]
  },
  {
   "cell_type": "code",
   "execution_count": 9,
   "metadata": {},
   "outputs": [
    {
     "name": "stdout",
     "output_type": "stream",
     "text": [
      "[505, 495]\n"
     ]
    },
    {
     "data": {
      "image/png": "[encoded data removed]",
      "text/plain": [
       "<Figure size 360x360 with 1 Axes>"
      ]
     },
     "metadata": {},
     "output_type": "display_data"
    }
   ],
   "source": [
    "# buat sebuah list yg elementnya heads dan tails\n",
    "heads_tails = [0,0]\n",
    "\n",
    "# lakukan pelemparan 1000 kali\n",
    "trials = 1000\n",
    "trial = 0 # belum dilempar\n",
    "\n",
    "while trial < trials:\n",
    "    trial = trial + 1\n",
    "    # dapatkan nilai random 0 atau 1\n",
    "    toss = random.randint(0,1)\n",
    "    # Increment the list element corresponding to the toss result\n",
    "    heads_tails[toss] = heads_tails[toss] + 1\n",
    "    \n",
    "print(heads_tails)\n",
    "\n",
    "# visual pie chart\n",
    "from matplotlib import pyplot as plt\n",
    "plt.figure(figsize=(5,5))\n",
    "plt.pie(heads_tails, labels=[\"heads\", \"Tails\"])\n",
    "plt.legend()\n",
    "plt.show()"
   ]
  },
  {
   "cell_type": "code",
   "execution_count": null,
   "metadata": {},
   "outputs": [],
   "source": []
  }
 ],
 "metadata": {
  "interpreter": {
   "hash": "d1eb415d2423691ab8033da02aac34a6b832aa094a09316f8fa35d1fd611d4d8"
  },
  "kernelspec": {
   "display_name": "Python 3 (ipykernel)",
   "language": "python",
   "name": "python3"
  },
  "language_info": {
   "codemirror_mode": {
    "name": "ipython",
    "version": 3
   },
   "file_extension": ".py",
   "mimetype": "text/x-python",
   "name": "python",
   "nbconvert_exporter": "python",
   "pygments_lexer": "ipython3",
   "version": "3.10.1"
  }
 },
 "nbformat": 4,
 "nbformat_minor": 2
}
