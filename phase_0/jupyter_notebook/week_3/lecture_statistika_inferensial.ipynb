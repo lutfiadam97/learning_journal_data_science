{
 "cells": [
  {
   "cell_type": "markdown",
   "id": "85fcebd7",
   "metadata": {},
   "source": [
    "# Statistika Inferensial\n",
    "\n",
    "Pengambilan kesimpulan / prediksi / hipotesis"
   ]
  },
  {
   "cell_type": "code",
   "execution_count": 2,
   "id": "fb3a8409",
   "metadata": {},
   "outputs": [],
   "source": [
    "import pandas as pd\n",
    "from scipy import stats\n",
    "import numpy as np\n",
    "import matplotlib.pyplot as plt\n",
    "import seaborn as sns"
   ]
  },
  {
   "cell_type": "markdown",
   "id": "df0e640b",
   "metadata": {},
   "source": [
    "## Resampling"
   ]
  },
  {
   "cell_type": "markdown",
   "id": "be2d84ef",
   "metadata": {},
   "source": [
    "Resampling adalah suatu metode yang memungkinkan kita melakukan sampling dari data sampel, sehingga seolah-olah data hasil penelitian tersebut merupakan populasi. Resampling dalam statistik berarti berulang kali sampel nilai dari data yang diaamti, dengan tujuan umum menilai variabilitas acak dalam statistik. Contoh pada data dibawah ini merupakan harga perumahan di distribusi data Amsterdam."
   ]
  },
  {
   "cell_type": "code",
   "execution_count": 3,
   "id": "9e2eb1d3",
   "metadata": {},
   "outputs": [
    {
     "data": {
      "text/html": [
       "<div>\n",
       "<style scoped>\n",
       "    .dataframe tbody tr th:only-of-type {\n",
       "        vertical-align: middle;\n",
       "    }\n",
       "\n",
       "    .dataframe tbody tr th {\n",
       "        vertical-align: top;\n",
       "    }\n",
       "\n",
       "    .dataframe thead th {\n",
       "        text-align: right;\n",
       "    }\n",
       "</style>\n",
       "<table border=\"1\" class=\"dataframe\">\n",
       "  <thead>\n",
       "    <tr style=\"text-align: right;\">\n",
       "      <th></th>\n",
       "      <th>Unnamed: 0</th>\n",
       "      <th>Address</th>\n",
       "      <th>Zip</th>\n",
       "      <th>Price</th>\n",
       "      <th>Area</th>\n",
       "      <th>Room</th>\n",
       "      <th>Lon</th>\n",
       "      <th>Lat</th>\n",
       "    </tr>\n",
       "  </thead>\n",
       "  <tbody>\n",
       "    <tr>\n",
       "      <th>0</th>\n",
       "      <td>1</td>\n",
       "      <td>Blasiusstraat 8 2, Amsterdam</td>\n",
       "      <td>1091 CR</td>\n",
       "      <td>685000.0</td>\n",
       "      <td>64</td>\n",
       "      <td>3</td>\n",
       "      <td>4.907736</td>\n",
       "      <td>52.356157</td>\n",
       "    </tr>\n",
       "    <tr>\n",
       "      <th>1</th>\n",
       "      <td>2</td>\n",
       "      <td>Kromme Leimuidenstraat 13 H, Amsterdam</td>\n",
       "      <td>1059 EL</td>\n",
       "      <td>475000.0</td>\n",
       "      <td>60</td>\n",
       "      <td>3</td>\n",
       "      <td>4.850476</td>\n",
       "      <td>52.348586</td>\n",
       "    </tr>\n",
       "    <tr>\n",
       "      <th>2</th>\n",
       "      <td>3</td>\n",
       "      <td>Zaaiersweg 11 A, Amsterdam</td>\n",
       "      <td>1097 SM</td>\n",
       "      <td>850000.0</td>\n",
       "      <td>109</td>\n",
       "      <td>4</td>\n",
       "      <td>4.944774</td>\n",
       "      <td>52.343782</td>\n",
       "    </tr>\n",
       "    <tr>\n",
       "      <th>3</th>\n",
       "      <td>4</td>\n",
       "      <td>Tenerifestraat 40, Amsterdam</td>\n",
       "      <td>1060 TH</td>\n",
       "      <td>580000.0</td>\n",
       "      <td>128</td>\n",
       "      <td>6</td>\n",
       "      <td>4.789928</td>\n",
       "      <td>52.343712</td>\n",
       "    </tr>\n",
       "    <tr>\n",
       "      <th>4</th>\n",
       "      <td>5</td>\n",
       "      <td>Winterjanpad 21, Amsterdam</td>\n",
       "      <td>1036 KN</td>\n",
       "      <td>720000.0</td>\n",
       "      <td>138</td>\n",
       "      <td>5</td>\n",
       "      <td>4.902503</td>\n",
       "      <td>52.410538</td>\n",
       "    </tr>\n",
       "  </tbody>\n",
       "</table>\n",
       "</div>"
      ],
      "text/plain": [
       "   Unnamed: 0                                 Address      Zip     Price  \\\n",
       "0           1            Blasiusstraat 8 2, Amsterdam  1091 CR  685000.0   \n",
       "1           2  Kromme Leimuidenstraat 13 H, Amsterdam  1059 EL  475000.0   \n",
       "2           3              Zaaiersweg 11 A, Amsterdam  1097 SM  850000.0   \n",
       "3           4            Tenerifestraat 40, Amsterdam  1060 TH  580000.0   \n",
       "4           5              Winterjanpad 21, Amsterdam  1036 KN  720000.0   \n",
       "\n",
       "   Area  Room       Lon        Lat  \n",
       "0    64     3  4.907736  52.356157  \n",
       "1    60     3  4.850476  52.348586  \n",
       "2   109     4  4.944774  52.343782  \n",
       "3   128     6  4.789928  52.343712  \n",
       "4   138     5  4.902503  52.410538  "
      ]
     },
     "execution_count": 3,
     "metadata": {},
     "output_type": "execute_result"
    }
   ],
   "source": [
    "house_price = pd.read_csv('https://raw.githubusercontent.com/fahmimnalfrzki/Additional-Materials/main/HousingPrices-Amsterdam-August-2021.csv')\n",
    "house_price.head()"
   ]
  },
  {
   "cell_type": "code",
   "execution_count": 4,
   "id": "06bed27c",
   "metadata": {},
   "outputs": [
    {
     "data": {
      "text/plain": [
       "<seaborn.axisgrid.FacetGrid at 0x219ffc7e8c0>"
      ]
     },
     "execution_count": 4,
     "metadata": {},
     "output_type": "execute_result"
    },
    {
     "data": {
      "image/png": "[encoded data removed]",
      "text/plain": [
       "<Figure size 360x360 with 1 Axes>"
      ]
     },
     "metadata": {
      "needs_background": "light"
     },
     "output_type": "display_data"
    }
   ],
   "source": [
    "sns.displot(house_price.Price, kde=True, label='Housing Price in Amsterdam')"
   ]
  },
  {
   "cell_type": "code",
   "execution_count": 5,
   "id": "8445718b",
   "metadata": {},
   "outputs": [
    {
     "data": {
      "text/plain": [
       "447    310000.0\n",
       "813    800000.0\n",
       "756    315000.0\n",
       "497    575000.0\n",
       "366    430000.0\n",
       "         ...   \n",
       "578    325000.0\n",
       "94     325000.0\n",
       "192    335000.0\n",
       "223    395000.0\n",
       "692    700000.0\n",
       "Name: Price, Length: 400, dtype: float64"
      ]
     },
     "execution_count": 5,
     "metadata": {},
     "output_type": "execute_result"
    }
   ],
   "source": [
    "house_price.Price.sample(400) # sampel price diambil secara acak"
   ]
  },
  {
   "cell_type": "code",
   "execution_count": 6,
   "id": "1cb3a3dc",
   "metadata": {},
   "outputs": [
    {
     "data": {
      "image/png": "[encoded data removed]",
      "text/plain": [
       "<Figure size 1296x288 with 4 Axes>"
      ]
     },
     "metadata": {
      "needs_background": "light"
     },
     "output_type": "display_data"
    }
   ],
   "source": [
    "# Resampling\n",
    "fig,ax = plt.subplots(ncols=4, figsize = (18,4))\n",
    "for i in range(4):\n",
    "  house_price.Price.sample(400).plot(kind='hist',bins=20,ax=ax[i])\n",
    "  ax[i].set_title('Sample #{}'.format(i+1))"
   ]
  },
  {
   "cell_type": "markdown",
   "id": "d820fb7b",
   "metadata": {},
   "source": [
    "Kita ambil 100 sampel secara acak dari data harga rumah dan kita lakukan itu sebanyak 4 kali. Visualisasi menunjukkan bahwa distribusi mereka terlihat sama. Itu terjadi hanya karena keacakan (randomness)"
   ]
  },
  {
   "cell_type": "markdown",
   "id": "055ac4f2",
   "metadata": {},
   "source": [
    "## Uji Hipotesis"
   ]
  },
  {
   "cell_type": "markdown",
   "id": "644c0349",
   "metadata": {},
   "source": [
    "proses yang menggunakan statistik sampel untuk menguji klaim tentang nilai parameter populasi. Para peneliti mengandalkan pengujian hipotesis untuk membuat keputusan yang tepat."
   ]
  },
  {
   "cell_type": "markdown",
   "id": "8605b65e",
   "metadata": {},
   "source": [
    "- Null hypothesis (H0) adalah statistik yang berisi pernyataan kesetaraan (equality). Operasinya : >=, =, =>\n",
    "\n",
    "- Alternative hypothesis (Ha) adalah komplemen dari null hypotesis. Operasinya : >, !=, <"
   ]
  },
  {
   "cell_type": "markdown",
   "id": "d2cdd0ba",
   "metadata": {},
   "source": [
    "## Implementasi ke Analisis Kampanye Pasar"
   ]
  },
  {
   "cell_type": "code",
   "execution_count": 7,
   "id": "23accb05",
   "metadata": {},
   "outputs": [
    {
     "data": {
      "text/html": [
       "<div>\n",
       "<style scoped>\n",
       "    .dataframe tbody tr th:only-of-type {\n",
       "        vertical-align: middle;\n",
       "    }\n",
       "\n",
       "    .dataframe tbody tr th {\n",
       "        vertical-align: top;\n",
       "    }\n",
       "\n",
       "    .dataframe thead th {\n",
       "        text-align: right;\n",
       "    }\n",
       "</style>\n",
       "<table border=\"1\" class=\"dataframe\">\n",
       "  <thead>\n",
       "    <tr style=\"text-align: right;\">\n",
       "      <th></th>\n",
       "      <th>InvoiceNo</th>\n",
       "      <th>StockCode</th>\n",
       "      <th>Description</th>\n",
       "      <th>Quantity</th>\n",
       "      <th>InvoiceDate</th>\n",
       "      <th>UnitPrice</th>\n",
       "      <th>CustomerID</th>\n",
       "      <th>Country</th>\n",
       "    </tr>\n",
       "  </thead>\n",
       "  <tbody>\n",
       "    <tr>\n",
       "      <th>0</th>\n",
       "      <td>536369</td>\n",
       "      <td>21756</td>\n",
       "      <td>BATH BUILDING BLOCK WORD</td>\n",
       "      <td>3</td>\n",
       "      <td>2010-12-01 08:35:00</td>\n",
       "      <td>5.95</td>\n",
       "      <td>13047.0</td>\n",
       "      <td>United Kingdom</td>\n",
       "    </tr>\n",
       "    <tr>\n",
       "      <th>1</th>\n",
       "      <td>536373</td>\n",
       "      <td>82482</td>\n",
       "      <td>WOODEN PICTURE FRAME WHITE FINISH</td>\n",
       "      <td>6</td>\n",
       "      <td>2010-12-01 09:02:00</td>\n",
       "      <td>2.10</td>\n",
       "      <td>17850.0</td>\n",
       "      <td>United Kingdom</td>\n",
       "    </tr>\n",
       "    <tr>\n",
       "      <th>2</th>\n",
       "      <td>536398</td>\n",
       "      <td>22752</td>\n",
       "      <td>SET 7 BABUSHKA NESTING BOXES</td>\n",
       "      <td>6</td>\n",
       "      <td>2010-12-01 10:52:00</td>\n",
       "      <td>8.50</td>\n",
       "      <td>13448.0</td>\n",
       "      <td>United Kingdom</td>\n",
       "    </tr>\n",
       "    <tr>\n",
       "      <th>3</th>\n",
       "      <td>536401</td>\n",
       "      <td>85150</td>\n",
       "      <td>LADIES &amp; GENTLEMEN METAL SIGN</td>\n",
       "      <td>1</td>\n",
       "      <td>2010-12-01 11:21:00</td>\n",
       "      <td>2.55</td>\n",
       "      <td>15862.0</td>\n",
       "      <td>United Kingdom</td>\n",
       "    </tr>\n",
       "    <tr>\n",
       "      <th>4</th>\n",
       "      <td>536404</td>\n",
       "      <td>20727</td>\n",
       "      <td>LUNCH BAG  BLACK SKULL.</td>\n",
       "      <td>10</td>\n",
       "      <td>2010-12-01 11:29:00</td>\n",
       "      <td>1.65</td>\n",
       "      <td>16218.0</td>\n",
       "      <td>United Kingdom</td>\n",
       "    </tr>\n",
       "    <tr>\n",
       "      <th>...</th>\n",
       "      <td>...</td>\n",
       "      <td>...</td>\n",
       "      <td>...</td>\n",
       "      <td>...</td>\n",
       "      <td>...</td>\n",
       "      <td>...</td>\n",
       "      <td>...</td>\n",
       "      <td>...</td>\n",
       "    </tr>\n",
       "    <tr>\n",
       "      <th>9995</th>\n",
       "      <td>581501</td>\n",
       "      <td>22942</td>\n",
       "      <td>CHRISTMAS LIGHTS 10 SANTAS</td>\n",
       "      <td>12</td>\n",
       "      <td>2011-12-09 10:46:00</td>\n",
       "      <td>2.95</td>\n",
       "      <td>12985.0</td>\n",
       "      <td>United Kingdom</td>\n",
       "    </tr>\n",
       "    <tr>\n",
       "      <th>9996</th>\n",
       "      <td>581572</td>\n",
       "      <td>22627</td>\n",
       "      <td>MINT KITCHEN SCALES</td>\n",
       "      <td>4</td>\n",
       "      <td>2011-12-09 12:08:00</td>\n",
       "      <td>8.50</td>\n",
       "      <td>16705.0</td>\n",
       "      <td>United Kingdom</td>\n",
       "    </tr>\n",
       "    <tr>\n",
       "      <th>9997</th>\n",
       "      <td>581578</td>\n",
       "      <td>21507</td>\n",
       "      <td>ELEPHANT BIRTHDAY CARD</td>\n",
       "      <td>12</td>\n",
       "      <td>2011-12-09 12:16:00</td>\n",
       "      <td>0.42</td>\n",
       "      <td>12713.0</td>\n",
       "      <td>Germany</td>\n",
       "    </tr>\n",
       "    <tr>\n",
       "      <th>9998</th>\n",
       "      <td>581579</td>\n",
       "      <td>23353</td>\n",
       "      <td>6 GIFT TAGS VINTAGE CHRISTMAS</td>\n",
       "      <td>12</td>\n",
       "      <td>2011-12-09 12:19:00</td>\n",
       "      <td>0.83</td>\n",
       "      <td>17581.0</td>\n",
       "      <td>United Kingdom</td>\n",
       "    </tr>\n",
       "    <tr>\n",
       "      <th>9999</th>\n",
       "      <td>581580</td>\n",
       "      <td>85049E</td>\n",
       "      <td>SCANDINAVIAN REDS RIBBONS</td>\n",
       "      <td>2</td>\n",
       "      <td>2011-12-09 12:20:00</td>\n",
       "      <td>1.25</td>\n",
       "      <td>12748.0</td>\n",
       "      <td>United Kingdom</td>\n",
       "    </tr>\n",
       "  </tbody>\n",
       "</table>\n",
       "<p>10000 rows × 8 columns</p>\n",
       "</div>"
      ],
      "text/plain": [
       "     InvoiceNo StockCode                        Description  Quantity  \\\n",
       "0       536369     21756           BATH BUILDING BLOCK WORD         3   \n",
       "1       536373     82482  WOODEN PICTURE FRAME WHITE FINISH         6   \n",
       "2       536398     22752       SET 7 BABUSHKA NESTING BOXES         6   \n",
       "3       536401     85150      LADIES & GENTLEMEN METAL SIGN         1   \n",
       "4       536404     20727            LUNCH BAG  BLACK SKULL.        10   \n",
       "...        ...       ...                                ...       ...   \n",
       "9995    581501     22942        CHRISTMAS LIGHTS 10 SANTAS         12   \n",
       "9996    581572     22627                MINT KITCHEN SCALES         4   \n",
       "9997    581578     21507            ELEPHANT BIRTHDAY CARD         12   \n",
       "9998    581579     23353     6 GIFT TAGS VINTAGE CHRISTMAS         12   \n",
       "9999    581580    85049E          SCANDINAVIAN REDS RIBBONS         2   \n",
       "\n",
       "             InvoiceDate  UnitPrice  CustomerID         Country  \n",
       "0    2010-12-01 08:35:00       5.95     13047.0  United Kingdom  \n",
       "1    2010-12-01 09:02:00       2.10     17850.0  United Kingdom  \n",
       "2    2010-12-01 10:52:00       8.50     13448.0  United Kingdom  \n",
       "3    2010-12-01 11:21:00       2.55     15862.0  United Kingdom  \n",
       "4    2010-12-01 11:29:00       1.65     16218.0  United Kingdom  \n",
       "...                  ...        ...         ...             ...  \n",
       "9995 2011-12-09 10:46:00       2.95     12985.0  United Kingdom  \n",
       "9996 2011-12-09 12:08:00       8.50     16705.0  United Kingdom  \n",
       "9997 2011-12-09 12:16:00       0.42     12713.0         Germany  \n",
       "9998 2011-12-09 12:19:00       0.83     17581.0  United Kingdom  \n",
       "9999 2011-12-09 12:20:00       1.25     12748.0  United Kingdom  \n",
       "\n",
       "[10000 rows x 8 columns]"
      ]
     },
     "execution_count": 7,
     "metadata": {},
     "output_type": "execute_result"
    }
   ],
   "source": [
    "data = pd.read_excel('https://github.com/fahmimnalfrzki/Additional-Materials/blob/main/online_retail_data.xlsx?raw=true').drop(columns='Unnamed: 0').sort_values('InvoiceDate',ascending=True).reset_index(drop=True)\n",
    "\n",
    "data"
   ]
  },
  {
   "cell_type": "code",
   "execution_count": 8,
   "id": "f6fa503d",
   "metadata": {},
   "outputs": [
    {
     "data": {
      "text/plain": [
       "85099B    43\n",
       "85123A    40\n",
       "47566     40\n",
       "22423     36\n",
       "20725     31\n",
       "          ..\n",
       "22053      1\n",
       "22483      1\n",
       "22103      1\n",
       "84558A     1\n",
       "79190A     1\n",
       "Name: StockCode, Length: 2402, dtype: int64"
      ]
     },
     "execution_count": 8,
     "metadata": {},
     "output_type": "execute_result"
    }
   ],
   "source": [
    "data['StockCode'].value_counts()"
   ]
  },
  {
   "cell_type": "markdown",
   "id": "af134593",
   "metadata": {},
   "source": [
    "## Pengujian Hipotesis Sampel Tunggal\n",
    "\n",
    "Misalkan selama lima tahun terakhir, pendapatan harian kami rata-rata $500 dan selama setahun terakhir, kami mencapai rata-rata $580 sehari. Apakah itu berarti bahwa kami meningkat secara signifikan?"
   ]
  },
  {
   "cell_type": "code",
   "execution_count": 9,
   "id": "94ca76d5",
   "metadata": {},
   "outputs": [
    {
     "name": "stdout",
     "output_type": "stream",
     "text": [
      "Averange Income a Day for the last a year: $580.0\n"
     ]
    }
   ],
   "source": [
    "data['income'] = data['Quantity']*data['UnitPrice']\n",
    "data['date'] = data['InvoiceDate'].dt.date #hanya dimunculkan tahun-bulan-tanggal\n",
    "daily_income = data[['date','income']].groupby('date').sum()\n",
    "print('Averange Income a Day for the last a year: ${}'.format(np.round(daily_income['income'].mean())))\n"
   ]
  },
  {
   "cell_type": "markdown",
   "id": "0200da1b",
   "metadata": {},
   "source": [
    "Untuk mengecek apakah penjualan kami meningkat secara signifikan atau tidak, kami akan melakukan sampel tunggal satu sisi dan menetapkan tingkat signifikansi 0,05. Kami menggunakan metode ini karen akami hanya menguji variabel dan membandingkan sampel (data satu taahun terakhir) dan populasi (menggangap itu adalah data lima tahun terakhir).\n",
    "\n",
    "Hipotesis :\n",
    "\n",
    "**H0: μ <= \\$500**\n",
    "\n",
    "**H1: μ > \\$500**"
   ]
  },
  {
   "cell_type": "code",
   "execution_count": 10,
   "id": "755063b2",
   "metadata": {},
   "outputs": [
    {
     "data": {
      "text/html": [
       "<div>\n",
       "<style scoped>\n",
       "    .dataframe tbody tr th:only-of-type {\n",
       "        vertical-align: middle;\n",
       "    }\n",
       "\n",
       "    .dataframe tbody tr th {\n",
       "        vertical-align: top;\n",
       "    }\n",
       "\n",
       "    .dataframe thead th {\n",
       "        text-align: right;\n",
       "    }\n",
       "</style>\n",
       "<table border=\"1\" class=\"dataframe\">\n",
       "  <thead>\n",
       "    <tr style=\"text-align: right;\">\n",
       "      <th></th>\n",
       "      <th>income</th>\n",
       "    </tr>\n",
       "    <tr>\n",
       "      <th>date</th>\n",
       "      <th></th>\n",
       "    </tr>\n",
       "  </thead>\n",
       "  <tbody>\n",
       "    <tr>\n",
       "      <th>2010-12-01</th>\n",
       "      <td>1000.20</td>\n",
       "    </tr>\n",
       "    <tr>\n",
       "      <th>2010-12-02</th>\n",
       "      <td>846.13</td>\n",
       "    </tr>\n",
       "    <tr>\n",
       "      <th>2010-12-03</th>\n",
       "      <td>924.86</td>\n",
       "    </tr>\n",
       "    <tr>\n",
       "      <th>2010-12-05</th>\n",
       "      <td>592.83</td>\n",
       "    </tr>\n",
       "    <tr>\n",
       "      <th>2010-12-06</th>\n",
       "      <td>1853.98</td>\n",
       "    </tr>\n",
       "    <tr>\n",
       "      <th>...</th>\n",
       "      <td>...</td>\n",
       "    </tr>\n",
       "    <tr>\n",
       "      <th>2011-12-05</th>\n",
       "      <td>1574.18</td>\n",
       "    </tr>\n",
       "    <tr>\n",
       "      <th>2011-12-06</th>\n",
       "      <td>1006.74</td>\n",
       "    </tr>\n",
       "    <tr>\n",
       "      <th>2011-12-07</th>\n",
       "      <td>467.56</td>\n",
       "    </tr>\n",
       "    <tr>\n",
       "      <th>2011-12-08</th>\n",
       "      <td>2969.21</td>\n",
       "    </tr>\n",
       "    <tr>\n",
       "      <th>2011-12-09</th>\n",
       "      <td>265.97</td>\n",
       "    </tr>\n",
       "  </tbody>\n",
       "</table>\n",
       "<p>305 rows × 1 columns</p>\n",
       "</div>"
      ],
      "text/plain": [
       "             income\n",
       "date               \n",
       "2010-12-01  1000.20\n",
       "2010-12-02   846.13\n",
       "2010-12-03   924.86\n",
       "2010-12-05   592.83\n",
       "2010-12-06  1853.98\n",
       "...             ...\n",
       "2011-12-05  1574.18\n",
       "2011-12-06  1006.74\n",
       "2011-12-07   467.56\n",
       "2011-12-08  2969.21\n",
       "2011-12-09   265.97\n",
       "\n",
       "[305 rows x 1 columns]"
      ]
     },
     "execution_count": 10,
     "metadata": {},
     "output_type": "execute_result"
    }
   ],
   "source": [
    "daily_income"
   ]
  },
  {
   "cell_type": "code",
   "execution_count": 11,
   "id": "c4e706db",
   "metadata": {},
   "outputs": [
    {
     "name": "stdout",
     "output_type": "stream",
     "text": [
      "P-value: 0.002874549060119239\n",
      "t-staistics: 2.781482852334568\n"
     ]
    }
   ],
   "source": [
    "# cari nilai T statistik dan nilai P\n",
    "t_stat, p_val = stats.ttest_1samp(daily_income.income, 500) # kasus 1 sampel\n",
    "print('P-value:',p_val/2) # kita butuh 1 tail aja, makanya P di bagi 2\n",
    "print('t-staistics:', t_stat)"
   ]
  },
  {
   "cell_type": "code",
   "execution_count": 12,
   "id": "405f4b93",
   "metadata": {},
   "outputs": [
    {
     "name": "stderr",
     "output_type": "stream",
     "text": [
      "C:\\Users\\Acer Nitro 5\\AppData\\Local\\Programs\\Python\\Python310\\lib\\site-packages\\seaborn\\distributions.py:2619: FutureWarning: `distplot` is a deprecated function and will be removed in a future version. Please adapt your code to use either `displot` (a figure-level function with similar flexibility) or `histplot` (an axes-level function for histograms).\n",
      "  warnings.warn(msg, FutureWarning)\n"
     ]
    },
    {
     "data": {
      "text/plain": [
       "<matplotlib.legend.Legend at 0x219a65419f0>"
      ]
     },
     "execution_count": 12,
     "metadata": {},
     "output_type": "execute_result"
    },
    {
     "data": {
      "image/png": "[encoded data removed]",
      "text/plain": [
       "<Figure size 1152x360 with 1 Axes>"
      ]
     },
     "metadata": {
      "needs_background": "light"
     },
     "output_type": "display_data"
    }
   ],
   "source": [
    "daily_income_pop = np.random.normal(daily_income.income.mean(), daily_income.income.std(), 10000) # nilainya harus lebih besar dari sampel daily income (305 rows).\n",
    "\n",
    "ci = stats.norm.interval(0.90, daily_income.income.mean(), daily_income.income.std()) # one tailed 1 - (2*cv), cv = critical values\n",
    "\n",
    "plt.figure(figsize=(16,5))\n",
    "sns.distplot(daily_income_pop, label='Daily Income (Population)', color='blue')\n",
    "plt.axvline(daily_income.income.mean(), color='red', linewidth=2, label='Daily Income (Mean)')\n",
    "plt.axvline(ci[1], color='green', linestyle='dashed', linewidth=2, label='confidence threshold of 95%')\n",
    "plt.axvline(daily_income_pop.mean() + t_stat*daily_income_pop.std(), color='black', linestyle='dashed', linewidth=2, label = 'Alternative Hypothesis')\n",
    "plt.legend()"
   ]
  },
  {
   "cell_type": "markdown",
   "id": "49665a9a",
   "metadata": {},
   "source": [
    "P-value kurang dari dari 0.05, maka null hypothesis ditolak dan menyimpulkan bahwa, penjualan selama setahun terakhir meningkat daripada lima tahun terakhir.\n",
    "\n",
    "Catatan: T-statistik mengacu pada seberapa jauh hipotesis alternatif dari hipotesis nol."
   ]
  },
  {
   "cell_type": "markdown",
   "id": "0e684022",
   "metadata": {},
   "source": [
    "## One Sample Two Tailed\n",
    "\n",
    "Our hypothesis on this case:\n",
    "\n",
    "**H0: μ =$500**\n",
    "\n",
    "**H1: μ != $500**"
   ]
  },
  {
   "cell_type": "code",
   "execution_count": 13,
   "id": "5ea8bf3a",
   "metadata": {},
   "outputs": [
    {
     "name": "stdout",
     "output_type": "stream",
     "text": [
      "P-value : 0.005749098120238478\n",
      "t-statistics : 2.781482852334568\n"
     ]
    }
   ],
   "source": [
    "t_stat,p_val = stats.ttest_1samp(daily_income.income, 500)\n",
    "print('P-value :', p_val) # two tailed\n",
    "print('t-statistics :', t_stat)"
   ]
  },
  {
   "cell_type": "code",
   "execution_count": 14,
   "id": "ae9a347e",
   "metadata": {},
   "outputs": [
    {
     "name": "stderr",
     "output_type": "stream",
     "text": [
      "C:\\Users\\Acer Nitro 5\\AppData\\Local\\Programs\\Python\\Python310\\lib\\site-packages\\seaborn\\distributions.py:2619: FutureWarning: `distplot` is a deprecated function and will be removed in a future version. Please adapt your code to use either `displot` (a figure-level function with similar flexibility) or `histplot` (an axes-level function for histograms).\n",
      "  warnings.warn(msg, FutureWarning)\n"
     ]
    },
    {
     "data": {
      "text/plain": [
       "<matplotlib.legend.Legend at 0x219a6375480>"
      ]
     },
     "execution_count": 14,
     "metadata": {},
     "output_type": "execute_result"
    },
    {
     "data": {
      "image/png": "[encoded data removed]",
      "text/plain": [
       "<Figure size 1152x360 with 1 Axes>"
      ]
     },
     "metadata": {
      "needs_background": "light"
     },
     "output_type": "display_data"
    }
   ],
   "source": [
    "daily_income_pop = np.random.normal(daily_income.income.mean(), daily_income.income.std(), 10000)\n",
    "\n",
    "ci = stats.norm.interval(0.95, daily_income.income.mean(), daily_income.income.std())\n",
    "\n",
    "plt.figure(figsize=(16,5))\n",
    "sns.distplot(daily_income_pop, label='Daily Income (Population)', color='blue')\n",
    "plt.axvline(daily_income.income.mean(), color='red', linewidth=2, label='Daily Income (Mean)')\n",
    "\n",
    "plt.axvline(ci[1], color='green', linestyle='dashed', linewidth=2, label='confidence threshold of 95%')\n",
    "plt.axvline(ci[0], color='green', linestyle='dashed', linewidth=2, label='confidence threshold of 95%')\n",
    "\n",
    "plt.axvline(daily_income_pop.mean() + t_stat*daily_income_pop.std(), color='black', linestyle='dashed', linewidth=2, label = 'Alternative Hypothesis')\n",
    "plt.axvline(daily_income_pop.mean() - t_stat*daily_income_pop.std(), color='black', linestyle='dashed', linewidth=2)\n",
    "plt.legend()"
   ]
  },
  {
   "cell_type": "markdown",
   "id": "3a0ea3ae",
   "metadata": {},
   "source": [
    "## Dua Sampel Pengujian Hipotesis Dua Tailed Independen\n",
    "\n",
    "Sekarang, kami ingin memeriksa, apakah rata-rata harian penjualan dua negara berbeda secara signifikan atau tidak menggunakan dua sampel uji dua arah yang independen. Kami akan memilih sampel Perancis dan Jerman."
   ]
  },
  {
   "cell_type": "code",
   "execution_count": 15,
   "id": "50276025",
   "metadata": {},
   "outputs": [
    {
     "name": "stdout",
     "output_type": "stream",
     "text": [
      "Averange sales of France a day: $32.0\n",
      "Average sales of Germany a day: $37.0\n"
     ]
    }
   ],
   "source": [
    "daily_france = data[data['Country']=='France'][['date', 'income']].groupby('date').sum()\n",
    "daily_germany = data[data['Country']=='Germany'][['date', 'income']].groupby('date').sum()\n",
    "\n",
    "print('Averange sales of France a day: ${}'.format(np.round(daily_france.income.mean())))\n",
    "print('Average sales of Germany a day: ${}'.format(np.round(daily_germany.income.mean())))"
   ]
  },
  {
   "cell_type": "markdown",
   "id": "77f69411",
   "metadata": {},
   "source": [
    "Hipotesis di kasus ini: \n",
    "\n",
    "**H0: μ_france = μ_germany**\n",
    "\n",
    "\n",
    "**H1: μ_france != μ_germany**"
   ]
  },
  {
   "cell_type": "code",
   "execution_count": 16,
   "id": "caf8c796",
   "metadata": {},
   "outputs": [
    {
     "name": "stdout",
     "output_type": "stream",
     "text": [
      "P-value: 0.42798052232930384\n",
      "t-statistics: -0.7943449043302956\n"
     ]
    }
   ],
   "source": [
    "t_stat, p_val = stats.ttest_ind(daily_france,daily_germany)\n",
    "print('P-value:', p_val[0]) #two-tailed\n",
    "print('t-statistics:', t_stat[0])"
   ]
  },
  {
   "cell_type": "code",
   "execution_count": 17,
   "id": "c6b72ef9",
   "metadata": {},
   "outputs": [
    {
     "name": "stderr",
     "output_type": "stream",
     "text": [
      "C:\\Users\\Acer Nitro 5\\AppData\\Local\\Programs\\Python\\Python310\\lib\\site-packages\\seaborn\\distributions.py:2619: FutureWarning: `distplot` is a deprecated function and will be removed in a future version. Please adapt your code to use either `displot` (a figure-level function with similar flexibility) or `histplot` (an axes-level function for histograms).\n",
      "  warnings.warn(msg, FutureWarning)\n",
      "C:\\Users\\Acer Nitro 5\\AppData\\Local\\Programs\\Python\\Python310\\lib\\site-packages\\seaborn\\distributions.py:2619: FutureWarning: `distplot` is a deprecated function and will be removed in a future version. Please adapt your code to use either `displot` (a figure-level function with similar flexibility) or `histplot` (an axes-level function for histograms).\n",
      "  warnings.warn(msg, FutureWarning)\n"
     ]
    },
    {
     "data": {
      "text/plain": [
       "<matplotlib.legend.Legend at 0x219a66182b0>"
      ]
     },
     "execution_count": 17,
     "metadata": {},
     "output_type": "execute_result"
    },
    {
     "data": {
      "image/png": "[encoded data removed]",
      "text/plain": [
       "<Figure size 1152x360 with 1 Axes>"
      ]
     },
     "metadata": {
      "needs_background": "light"
     },
     "output_type": "display_data"
    }
   ],
   "source": [
    "france_pop = np.random.normal(daily_france.income.mean(),daily_france.income.std(),10000)\n",
    "germany_pop = np.random.normal(daily_germany.income.mean(),daily_germany.income.std(),10000)\n",
    "\n",
    "ci = stats.norm.interval(0.95, daily_france.income.mean(), daily_france.income.std())\n",
    "plt.figure(figsize=(16,5))\n",
    "sns.distplot(france_pop, label='France Average Sales a Day *Pop',color='blue')\n",
    "sns.distplot(germany_pop, label='Germany Average Sales a Day *Pop',color='red')\n",
    "\n",
    "plt.axvline(daily_france.income.mean(), color='blue', linewidth=2, label='France mean')\n",
    "plt.axvline(daily_germany.income.mean(), color='red',  linewidth=2, label='Germany mean')\n",
    "\n",
    "plt.axvline(ci[1], color='green', linestyle='dashed', linewidth=2, label='confidence threshold of 95%')\n",
    "plt.axvline(ci[0], color='green', linestyle='dashed', linewidth=2)\n",
    "\n",
    "plt.axvline(france_pop.mean()+t_stat[0]*france_pop.std(), color='black', linestyle='dashed', linewidth=2, label = 'Alternative Hypothesis')\n",
    "plt.axvline(france_pop.mean()-t_stat[0]*france_pop.std(), color='black', linestyle='dashed', linewidth=2)\n",
    "\n",
    "plt.legend()"
   ]
  },
  {
   "cell_type": "markdown",
   "id": "ce2c962b",
   "metadata": {},
   "source": [
    "Berdasarkan hasil di atas, kami dapat menyimpulkan bahwa kami menerima hipotesis nol bahwa antara Perancis dan Jerman tidak berbeda secara signifikan dalam hal penjualan rata-rata per hari.\n",
    "\n",
    "P-value = 0.42, rata-rata penjualan di perancis = 0.32 dan rata-rata penjualan di Jerman = 0.37, p-value lebih besar dari rata-rata penjualan perancis maupun di jerman makanya null hypothesis diterima"
   ]
  },
  {
   "cell_type": "markdown",
   "id": "8bac69a9",
   "metadata": {},
   "source": [
    "## Statistical significance\n",
    "\n",
    "mengacu pada apakah perbedaan data yang diamati antara kelompok data yang dipelajari (apakah 'real' atau apakah mereka hanya karena kebetulan).\n",
    "\n",
    "Signifikansi statistik dihitung menggunakan nilai p, yang menujukkan besarnya probablitas hasil penelitian, dengan syarat pernyataan tertentu (H0) adalah benar.\n",
    "\n",
    "Jika nilai p kurang dari tingkat signifikansi (alpha) uang telah ditentukan (umumnya 0.05), peneliti dapat menyimpulkan bahwa hipotesis nol tidak benar dan menerima hipotesis alternatif."
   ]
  },
  {
   "cell_type": "markdown",
   "id": "423e7f23",
   "metadata": {},
   "source": [
    "## T-test\n",
    "\n",
    "merupakan salah satu jenis uji statistik parametrik yang digunakan untuk menguji signifikansi dan relevansi dalam satu atau dua kelompok."
   ]
  },
  {
   "cell_type": "markdown",
   "id": "ce14d229",
   "metadata": {},
   "source": [
    "## Test kiri / kanan atau Tes dua sisi\n",
    "\n",
    "jika H0 memiliki tanda \"=\" di dalamnya, itu berarti mengatakan itu adalah penguji \"dua sisi/ two tailed\".\n",
    "\n",
    "Uji dua sisi digunakan untuk menguji apakah rata2 yang diamati sama dengan mean yang dihipotesiskan.\n",
    "\n",
    "uji satu sisi digunakan untuk menguji apakah rata2 diamati secara signifikan melebihi rata2 yang dihipotesiskan atau jika secara signifikan lebih kecil daripada rata2 yang dihipotesiskan. Jika Ha memiliki tanda \"<\" didalamnya maka Ha adalah tes arah kiri. tanda \">\", Ha adalah tes arah kanan."
   ]
  },
  {
   "cell_type": "markdown",
   "id": "e7ee8bd8",
   "metadata": {},
   "source": [
    "## Statistical Significance (T Test)\n",
    "\n",
    "langkah pertama menganalissi signifikansi statistik adalah menentukan pertanyaan penelitian yang ingin anda jawab dan merumuskan hipotesis anda. Hipotesis adalah pernyataan tentang data eksperimen anda dan menerangan perbedaan yang mungkin ada di dalam populasi penelitian.\n",
    "\n",
    "- Hipotesis nol (H0) umumnya menyatakan bahwa tidak ada perbedaan antara dua kelompok data.\n",
    "\n",
    "- Hipotesis alternatif (Ha) adalah pernyataan yang berlawanan dengan hipotesis nol dan pernyataan yang anda coba dukung dengan data experiment.\n",
    "\n",
    "langka kedua, batasi tingkat signifikansi untuk menentukan harus seberapa unik data anda agar data tsb dianggap signifikan.\n",
    "\n",
    "- sebagai aturan umum, tingkat signifikansi (alfa) ditetapkan sebesar 0.05, berarti probabilitas kedua kelompok data tsb sama hanya 5%"
   ]
  },
  {
   "cell_type": "markdown",
   "id": "fb4a0e1f",
   "metadata": {},
   "source": [
    "## Anova\n",
    "\n",
    "digunakan untuk menentukan apakah ada perbedaan yang signifikan secara statistik antara rata2 tiga atau lebih kelompok independen (tidak terkait). ANOVA dapat digunakan untuk perbandingan antara beberapa grup."
   ]
  },
  {
   "cell_type": "markdown",
   "id": "591be3cf",
   "metadata": {},
   "source": [
    "ANOVA mirip dgn T-test. Digunakan untuk menguji apakah lebih dari dua variabel berbeda nyata atau tidak. Jadi kami akan menguji apakah rata-rata penjualan harian IEV, N8U, dan U5F berbeda nyata atau tidak."
   ]
  },
  {
   "cell_type": "code",
   "execution_count": 18,
   "id": "594cfa90",
   "metadata": {},
   "outputs": [
    {
     "data": {
      "text/html": [
       "<div>\n",
       "<style scoped>\n",
       "    .dataframe tbody tr th:only-of-type {\n",
       "        vertical-align: middle;\n",
       "    }\n",
       "\n",
       "    .dataframe tbody tr th {\n",
       "        vertical-align: top;\n",
       "    }\n",
       "\n",
       "    .dataframe thead th {\n",
       "        text-align: right;\n",
       "    }\n",
       "</style>\n",
       "<table border=\"1\" class=\"dataframe\">\n",
       "  <thead>\n",
       "    <tr style=\"text-align: right;\">\n",
       "      <th></th>\n",
       "      <th>Unnamed: 0</th>\n",
       "      <th>Date</th>\n",
       "      <th>Customer_ID</th>\n",
       "      <th>Transaction_ID</th>\n",
       "      <th>SKU_Category</th>\n",
       "      <th>SKU</th>\n",
       "      <th>Quantity</th>\n",
       "      <th>Sales_Amount</th>\n",
       "    </tr>\n",
       "  </thead>\n",
       "  <tbody>\n",
       "    <tr>\n",
       "      <th>0</th>\n",
       "      <td>1</td>\n",
       "      <td>02/01/2016</td>\n",
       "      <td>2547</td>\n",
       "      <td>1</td>\n",
       "      <td>X52</td>\n",
       "      <td>0EM7L</td>\n",
       "      <td>1.0</td>\n",
       "      <td>3.13</td>\n",
       "    </tr>\n",
       "    <tr>\n",
       "      <th>1</th>\n",
       "      <td>2</td>\n",
       "      <td>02/01/2016</td>\n",
       "      <td>822</td>\n",
       "      <td>2</td>\n",
       "      <td>2ML</td>\n",
       "      <td>68BRQ</td>\n",
       "      <td>1.0</td>\n",
       "      <td>5.46</td>\n",
       "    </tr>\n",
       "    <tr>\n",
       "      <th>2</th>\n",
       "      <td>3</td>\n",
       "      <td>02/01/2016</td>\n",
       "      <td>3686</td>\n",
       "      <td>3</td>\n",
       "      <td>0H2</td>\n",
       "      <td>CZUZX</td>\n",
       "      <td>1.0</td>\n",
       "      <td>6.35</td>\n",
       "    </tr>\n",
       "    <tr>\n",
       "      <th>3</th>\n",
       "      <td>4</td>\n",
       "      <td>02/01/2016</td>\n",
       "      <td>3719</td>\n",
       "      <td>4</td>\n",
       "      <td>0H2</td>\n",
       "      <td>549KK</td>\n",
       "      <td>1.0</td>\n",
       "      <td>5.59</td>\n",
       "    </tr>\n",
       "    <tr>\n",
       "      <th>4</th>\n",
       "      <td>5</td>\n",
       "      <td>02/01/2016</td>\n",
       "      <td>9200</td>\n",
       "      <td>5</td>\n",
       "      <td>0H2</td>\n",
       "      <td>K8EHH</td>\n",
       "      <td>1.0</td>\n",
       "      <td>6.88</td>\n",
       "    </tr>\n",
       "    <tr>\n",
       "      <th>...</th>\n",
       "      <td>...</td>\n",
       "      <td>...</td>\n",
       "      <td>...</td>\n",
       "      <td>...</td>\n",
       "      <td>...</td>\n",
       "      <td>...</td>\n",
       "      <td>...</td>\n",
       "      <td>...</td>\n",
       "    </tr>\n",
       "    <tr>\n",
       "      <th>131701</th>\n",
       "      <td>131702</td>\n",
       "      <td>04/07/2016</td>\n",
       "      <td>20203</td>\n",
       "      <td>32900</td>\n",
       "      <td>IEV</td>\n",
       "      <td>FO112</td>\n",
       "      <td>3.0</td>\n",
       "      <td>6.46</td>\n",
       "    </tr>\n",
       "    <tr>\n",
       "      <th>131702</th>\n",
       "      <td>131703</td>\n",
       "      <td>04/07/2016</td>\n",
       "      <td>20203</td>\n",
       "      <td>32900</td>\n",
       "      <td>N8U</td>\n",
       "      <td>I36F2</td>\n",
       "      <td>1.0</td>\n",
       "      <td>4.50</td>\n",
       "    </tr>\n",
       "    <tr>\n",
       "      <th>131703</th>\n",
       "      <td>131704</td>\n",
       "      <td>04/07/2016</td>\n",
       "      <td>20203</td>\n",
       "      <td>32900</td>\n",
       "      <td>U5F</td>\n",
       "      <td>4X8P4</td>\n",
       "      <td>1.0</td>\n",
       "      <td>5.19</td>\n",
       "    </tr>\n",
       "    <tr>\n",
       "      <th>131704</th>\n",
       "      <td>131705</td>\n",
       "      <td>04/07/2016</td>\n",
       "      <td>20203</td>\n",
       "      <td>32900</td>\n",
       "      <td>0H2</td>\n",
       "      <td>ZVTO4</td>\n",
       "      <td>1.0</td>\n",
       "      <td>4.57</td>\n",
       "    </tr>\n",
       "    <tr>\n",
       "      <th>131705</th>\n",
       "      <td>131706</td>\n",
       "      <td>04/07/2016</td>\n",
       "      <td>20203</td>\n",
       "      <td>32900</td>\n",
       "      <td>Q4N</td>\n",
       "      <td>QM9BP</td>\n",
       "      <td>1.0</td>\n",
       "      <td>13.68</td>\n",
       "    </tr>\n",
       "  </tbody>\n",
       "</table>\n",
       "<p>131706 rows × 8 columns</p>\n",
       "</div>"
      ],
      "text/plain": [
       "        Unnamed: 0        Date  Customer_ID  Transaction_ID SKU_Category  \\\n",
       "0                1  02/01/2016         2547               1          X52   \n",
       "1                2  02/01/2016          822               2          2ML   \n",
       "2                3  02/01/2016         3686               3          0H2   \n",
       "3                4  02/01/2016         3719               4          0H2   \n",
       "4                5  02/01/2016         9200               5          0H2   \n",
       "...            ...         ...          ...             ...          ...   \n",
       "131701      131702  04/07/2016        20203           32900          IEV   \n",
       "131702      131703  04/07/2016        20203           32900          N8U   \n",
       "131703      131704  04/07/2016        20203           32900          U5F   \n",
       "131704      131705  04/07/2016        20203           32900          0H2   \n",
       "131705      131706  04/07/2016        20203           32900          Q4N   \n",
       "\n",
       "          SKU  Quantity  Sales_Amount  \n",
       "0       0EM7L       1.0          3.13  \n",
       "1       68BRQ       1.0          5.46  \n",
       "2       CZUZX       1.0          6.35  \n",
       "3       549KK       1.0          5.59  \n",
       "4       K8EHH       1.0          6.88  \n",
       "...       ...       ...           ...  \n",
       "131701  FO112       3.0          6.46  \n",
       "131702  I36F2       1.0          4.50  \n",
       "131703  4X8P4       1.0          5.19  \n",
       "131704  ZVTO4       1.0          4.57  \n",
       "131705  QM9BP       1.0         13.68  \n",
       "\n",
       "[131706 rows x 8 columns]"
      ]
     },
     "execution_count": 18,
     "metadata": {},
     "output_type": "execute_result"
    }
   ],
   "source": [
    "scanner_data = pd.read_csv('https://raw.githubusercontent.com/fahmimnalfrzki/Additional-Materials/main/scanner_data.csv')\n",
    "scanner_data"
   ]
  },
  {
   "cell_type": "code",
   "execution_count": 19,
   "id": "331d2831",
   "metadata": {},
   "outputs": [
    {
     "data": {
      "text/html": [
       "<div>\n",
       "<style scoped>\n",
       "    .dataframe tbody tr th:only-of-type {\n",
       "        vertical-align: middle;\n",
       "    }\n",
       "\n",
       "    .dataframe tbody tr th {\n",
       "        vertical-align: top;\n",
       "    }\n",
       "\n",
       "    .dataframe thead th {\n",
       "        text-align: right;\n",
       "    }\n",
       "</style>\n",
       "<table border=\"1\" class=\"dataframe\">\n",
       "  <thead>\n",
       "    <tr style=\"text-align: right;\">\n",
       "      <th></th>\n",
       "      <th>Unnamed: 0</th>\n",
       "      <th>Customer_ID</th>\n",
       "      <th>Transaction_ID</th>\n",
       "      <th>Quantity</th>\n",
       "      <th>Sales_Amount</th>\n",
       "    </tr>\n",
       "    <tr>\n",
       "      <th>Date</th>\n",
       "      <th></th>\n",
       "      <th></th>\n",
       "      <th></th>\n",
       "      <th></th>\n",
       "      <th></th>\n",
       "    </tr>\n",
       "  </thead>\n",
       "  <tbody>\n",
       "    <tr>\n",
       "      <th>01/02/2016</th>\n",
       "      <td>3923150</td>\n",
       "      <td>1620617</td>\n",
       "      <td>1896805</td>\n",
       "      <td>482.75</td>\n",
       "      <td>4341.46</td>\n",
       "    </tr>\n",
       "    <tr>\n",
       "      <th>01/03/2016</th>\n",
       "      <td>7432990</td>\n",
       "      <td>1616766</td>\n",
       "      <td>3579179</td>\n",
       "      <td>497.00</td>\n",
       "      <td>4436.42</td>\n",
       "    </tr>\n",
       "    <tr>\n",
       "      <th>01/04/2016</th>\n",
       "      <td>14016165</td>\n",
       "      <td>4846347</td>\n",
       "      <td>6867307</td>\n",
       "      <td>553.00</td>\n",
       "      <td>4637.34</td>\n",
       "    </tr>\n",
       "    <tr>\n",
       "      <th>01/05/2016</th>\n",
       "      <td>7644374</td>\n",
       "      <td>1820535</td>\n",
       "      <td>3779664</td>\n",
       "      <td>217.00</td>\n",
       "      <td>1514.17</td>\n",
       "    </tr>\n",
       "    <tr>\n",
       "      <th>01/06/2016</th>\n",
       "      <td>19708741</td>\n",
       "      <td>5149729</td>\n",
       "      <td>9793228</td>\n",
       "      <td>572.66</td>\n",
       "      <td>4750.01</td>\n",
       "    </tr>\n",
       "    <tr>\n",
       "      <th>...</th>\n",
       "      <td>...</td>\n",
       "      <td>...</td>\n",
       "      <td>...</td>\n",
       "      <td>...</td>\n",
       "      <td>...</td>\n",
       "    </tr>\n",
       "    <tr>\n",
       "      <th>31/05/2016</th>\n",
       "      <td>19960359</td>\n",
       "      <td>5266971</td>\n",
       "      <td>9915835</td>\n",
       "      <td>522.00</td>\n",
       "      <td>4186.64</td>\n",
       "    </tr>\n",
       "    <tr>\n",
       "      <th>31/07/2016</th>\n",
       "      <td>16666761</td>\n",
       "      <td>1896920</td>\n",
       "      <td>4742452</td>\n",
       "      <td>169.00</td>\n",
       "      <td>1341.96</td>\n",
       "    </tr>\n",
       "    <tr>\n",
       "      <th>31/08/2016</th>\n",
       "      <td>24788181</td>\n",
       "      <td>4674456</td>\n",
       "      <td>13660542</td>\n",
       "      <td>477.67</td>\n",
       "      <td>3955.78</td>\n",
       "    </tr>\n",
       "    <tr>\n",
       "      <th>31/10/2016</th>\n",
       "      <td>38037247</td>\n",
       "      <td>6012329</td>\n",
       "      <td>19834981</td>\n",
       "      <td>678.33</td>\n",
       "      <td>4691.38</td>\n",
       "    </tr>\n",
       "    <tr>\n",
       "      <th>31/12/2016</th>\n",
       "      <td>24216722</td>\n",
       "      <td>2843852</td>\n",
       "      <td>12215471</td>\n",
       "      <td>216.00</td>\n",
       "      <td>1713.20</td>\n",
       "    </tr>\n",
       "  </tbody>\n",
       "</table>\n",
       "<p>363 rows × 5 columns</p>\n",
       "</div>"
      ],
      "text/plain": [
       "            Unnamed: 0  Customer_ID  Transaction_ID  Quantity  Sales_Amount\n",
       "Date                                                                       \n",
       "01/02/2016     3923150      1620617         1896805    482.75       4341.46\n",
       "01/03/2016     7432990      1616766         3579179    497.00       4436.42\n",
       "01/04/2016    14016165      4846347         6867307    553.00       4637.34\n",
       "01/05/2016     7644374      1820535         3779664    217.00       1514.17\n",
       "01/06/2016    19708741      5149729         9793228    572.66       4750.01\n",
       "...                ...          ...             ...       ...           ...\n",
       "31/05/2016    19960359      5266971         9915835    522.00       4186.64\n",
       "31/07/2016    16666761      1896920         4742452    169.00       1341.96\n",
       "31/08/2016    24788181      4674456        13660542    477.67       3955.78\n",
       "31/10/2016    38037247      6012329        19834981    678.33       4691.38\n",
       "31/12/2016    24216722      2843852        12215471    216.00       1713.20\n",
       "\n",
       "[363 rows x 5 columns]"
      ]
     },
     "execution_count": 19,
     "metadata": {},
     "output_type": "execute_result"
    }
   ],
   "source": [
    "scanner_data.groupby('Date').sum()"
   ]
  },
  {
   "cell_type": "code",
   "execution_count": 20,
   "id": "ff8f015b",
   "metadata": {},
   "outputs": [
    {
     "name": "stdout",
     "output_type": "stream",
     "text": [
      "Daily Average of IEV 22.915254237288135\n",
      "Daily Average of N8U 33.46556473829201\n",
      "Daily Average of U5F 22.610340909090908\n"
     ]
    }
   ],
   "source": [
    "IEV_quantity = scanner_data[scanner_data.SKU_Category == 'IEV'].groupby('Date').sum()['Quantity']\n",
    "N8U_quantity = scanner_data[scanner_data.SKU_Category == 'N8U'].groupby('Date').sum()['Quantity']\n",
    "U5F_quantity = scanner_data[scanner_data.SKU_Category == 'U5F'].groupby('Date').sum()['Quantity']\n",
    "\n",
    "print(\"Daily Average of IEV\",IEV_quantity.mean())\n",
    "print(\"Daily Average of N8U\",N8U_quantity.mean())\n",
    "print(\"Daily Average of U5F\",U5F_quantity.mean())"
   ]
  },
  {
   "cell_type": "code",
   "execution_count": 21,
   "id": "37c8bb17",
   "metadata": {},
   "outputs": [
    {
     "name": "stdout",
     "output_type": "stream",
     "text": [
      "P-Value 6.049412282955515e-36\n",
      "F-statistic 87.58717185385068\n"
     ]
    }
   ],
   "source": [
    "f_stat, p_value = stats.f_oneway(IEV_quantity, N8U_quantity, U5F_quantity)\n",
    "print('P-Value', p_value)\n",
    "print('F-statistic',f_stat)"
   ]
  },
  {
   "cell_type": "markdown",
   "id": "fc31a722",
   "metadata": {},
   "source": [
    "Statistik F didasarkan pada rasio varians di seluruh rata-rata kelompok. Semakin tinggi rasio ini, semakin signifikan secara statistik hasilnya. \n"
   ]
  },
  {
   "cell_type": "markdown",
   "id": "8cbea1b7",
   "metadata": {},
   "source": [
    "## Paired Test\n",
    "\n",
    "Implementasi pada pengujian A/B adalah cara untuk membandingkan dua versi variabel tunggal, biasaanya dengan menguji respon subjek terhadap varian A terhadap varian B, dan menentukan mana dari dua varian yang lebih efektif."
   ]
  },
  {
   "cell_type": "markdown",
   "id": "cb42c723",
   "metadata": {},
   "source": [
    "Example :\n",
    "\n",
    "Kami sedang berurusan dengan divisi pemasaran perusahaan pengembang game untuk menganalisis versi game mana yang cenderung memberikan lebih banyak tingkat retensi? Benarkah kita mengupgrade game kita dari versi gate 30 ke gate 40? (Data from https://www.kaggle.com/yufengsui/mobile-games-ab-testing) Kami akan menggunakan data retention_1 yang menangkap informasi bahwa pemain kembali dan bermain 1 hari setelah menginstal."
   ]
  },
  {
   "cell_type": "code",
   "execution_count": 22,
   "id": "6cb9be8f",
   "metadata": {},
   "outputs": [
    {
     "data": {
      "text/html": [
       "<div>\n",
       "<style scoped>\n",
       "    .dataframe tbody tr th:only-of-type {\n",
       "        vertical-align: middle;\n",
       "    }\n",
       "\n",
       "    .dataframe tbody tr th {\n",
       "        vertical-align: top;\n",
       "    }\n",
       "\n",
       "    .dataframe thead th {\n",
       "        text-align: right;\n",
       "    }\n",
       "</style>\n",
       "<table border=\"1\" class=\"dataframe\">\n",
       "  <thead>\n",
       "    <tr style=\"text-align: right;\">\n",
       "      <th></th>\n",
       "      <th>userid</th>\n",
       "      <th>version</th>\n",
       "      <th>sum_gamerounds</th>\n",
       "      <th>retention_1</th>\n",
       "      <th>retention_7</th>\n",
       "    </tr>\n",
       "  </thead>\n",
       "  <tbody>\n",
       "    <tr>\n",
       "      <th>0</th>\n",
       "      <td>116</td>\n",
       "      <td>gate_30</td>\n",
       "      <td>3</td>\n",
       "      <td>False</td>\n",
       "      <td>False</td>\n",
       "    </tr>\n",
       "    <tr>\n",
       "      <th>1</th>\n",
       "      <td>337</td>\n",
       "      <td>gate_30</td>\n",
       "      <td>38</td>\n",
       "      <td>True</td>\n",
       "      <td>False</td>\n",
       "    </tr>\n",
       "    <tr>\n",
       "      <th>2</th>\n",
       "      <td>377</td>\n",
       "      <td>gate_40</td>\n",
       "      <td>165</td>\n",
       "      <td>True</td>\n",
       "      <td>False</td>\n",
       "    </tr>\n",
       "    <tr>\n",
       "      <th>3</th>\n",
       "      <td>483</td>\n",
       "      <td>gate_40</td>\n",
       "      <td>1</td>\n",
       "      <td>False</td>\n",
       "      <td>False</td>\n",
       "    </tr>\n",
       "    <tr>\n",
       "      <th>4</th>\n",
       "      <td>488</td>\n",
       "      <td>gate_40</td>\n",
       "      <td>179</td>\n",
       "      <td>True</td>\n",
       "      <td>True</td>\n",
       "    </tr>\n",
       "    <tr>\n",
       "      <th>...</th>\n",
       "      <td>...</td>\n",
       "      <td>...</td>\n",
       "      <td>...</td>\n",
       "      <td>...</td>\n",
       "      <td>...</td>\n",
       "    </tr>\n",
       "    <tr>\n",
       "      <th>90184</th>\n",
       "      <td>9999441</td>\n",
       "      <td>gate_40</td>\n",
       "      <td>97</td>\n",
       "      <td>True</td>\n",
       "      <td>False</td>\n",
       "    </tr>\n",
       "    <tr>\n",
       "      <th>90185</th>\n",
       "      <td>9999479</td>\n",
       "      <td>gate_40</td>\n",
       "      <td>30</td>\n",
       "      <td>False</td>\n",
       "      <td>False</td>\n",
       "    </tr>\n",
       "    <tr>\n",
       "      <th>90186</th>\n",
       "      <td>9999710</td>\n",
       "      <td>gate_30</td>\n",
       "      <td>28</td>\n",
       "      <td>True</td>\n",
       "      <td>False</td>\n",
       "    </tr>\n",
       "    <tr>\n",
       "      <th>90187</th>\n",
       "      <td>9999768</td>\n",
       "      <td>gate_40</td>\n",
       "      <td>51</td>\n",
       "      <td>True</td>\n",
       "      <td>False</td>\n",
       "    </tr>\n",
       "    <tr>\n",
       "      <th>90188</th>\n",
       "      <td>9999861</td>\n",
       "      <td>gate_40</td>\n",
       "      <td>16</td>\n",
       "      <td>False</td>\n",
       "      <td>False</td>\n",
       "    </tr>\n",
       "  </tbody>\n",
       "</table>\n",
       "<p>90189 rows × 5 columns</p>\n",
       "</div>"
      ],
      "text/plain": [
       "        userid  version  sum_gamerounds  retention_1  retention_7\n",
       "0          116  gate_30               3        False        False\n",
       "1          337  gate_30              38         True        False\n",
       "2          377  gate_40             165         True        False\n",
       "3          483  gate_40               1        False        False\n",
       "4          488  gate_40             179         True         True\n",
       "...        ...      ...             ...          ...          ...\n",
       "90184  9999441  gate_40              97         True        False\n",
       "90185  9999479  gate_40              30        False        False\n",
       "90186  9999710  gate_30              28         True        False\n",
       "90187  9999768  gate_40              51         True        False\n",
       "90188  9999861  gate_40              16        False        False\n",
       "\n",
       "[90189 rows x 5 columns]"
      ]
     },
     "execution_count": 22,
     "metadata": {},
     "output_type": "execute_result"
    }
   ],
   "source": [
    "cookie_cats = pd.read_csv('https://raw.githubusercontent.com/fahmimnalfrzki/Additional-Materials/main/cookie_cats.csv')\n",
    "cookie_cats"
   ]
  },
  {
   "cell_type": "code",
   "execution_count": 23,
   "id": "4dce4567",
   "metadata": {},
   "outputs": [
    {
     "name": "stdout",
     "output_type": "stream",
     "text": [
      "Retention rate of gate 30 version: 0.4481879194630872\n",
      "Retention rate of gate 40 version: 0.44228274967574577\n"
     ]
    }
   ],
   "source": [
    "gate_30 = cookie_cats[cookie_cats['version']== 'gate_30']['retention_1'].replace({True:1, False:0})\n",
    "gate_40 = cookie_cats[cookie_cats['version']== 'gate_40']['retention_1'].replace({True:1, False:0})\n",
    "\n",
    "print('Retention rate of gate 30 version:', gate_30.sum()/gate_30.count()) #cari rata2\n",
    "print('Retention rate of gate 40 version:', gate_40.sum()/gate_40.count())"
   ]
  },
  {
   "cell_type": "code",
   "execution_count": 24,
   "id": "8587905c",
   "metadata": {},
   "outputs": [
    {
     "data": {
      "text/plain": [
       "0        0\n",
       "1        1\n",
       "6        0\n",
       "11       0\n",
       "13       1\n",
       "        ..\n",
       "90179    1\n",
       "90180    0\n",
       "90182    1\n",
       "90183    0\n",
       "90186    1\n",
       "Name: retention_1, Length: 44700, dtype: int64"
      ]
     },
     "execution_count": 24,
     "metadata": {},
     "output_type": "execute_result"
    }
   ],
   "source": [
    "gate_30"
   ]
  },
  {
   "cell_type": "code",
   "execution_count": 25,
   "id": "8fb93e50",
   "metadata": {},
   "outputs": [
    {
     "data": {
      "text/plain": [
       "2        1\n",
       "3        0\n",
       "4        1\n",
       "5        1\n",
       "7        0\n",
       "        ..\n",
       "90181    1\n",
       "90184    1\n",
       "90185    0\n",
       "90187    1\n",
       "90188    0\n",
       "Name: retention_1, Length: 45489, dtype: int64"
      ]
     },
     "execution_count": 25,
     "metadata": {},
     "output_type": "execute_result"
    }
   ],
   "source": [
    "gate_40"
   ]
  },
  {
   "cell_type": "markdown",
   "id": "959b705c",
   "metadata": {},
   "source": [
    "Tingkat retensi antara versi tersebut sedikit berbeda. Apakah perbedaannya benar-benar sama atau karena kebetulan?\n",
    "\n",
    "Untuk memastikan hasil kami, kami akan memeriksa menggunakan uji berpasangan dua sisi.\n",
    "\n",
    "Hipotesis kami tentang kasus:\n",
    "\n",
    "**H0: μ_gate30 = μ_gate40**\n",
    "\n",
    "**H1: μ_gate30 != μ_gate40**"
   ]
  },
  {
   "cell_type": "code",
   "execution_count": 26,
   "id": "d260c54a",
   "metadata": {},
   "outputs": [
    {
     "name": "stdout",
     "output_type": "stream",
     "text": [
      "P-value: 0.02271449765213496\n"
     ]
    }
   ],
   "source": [
    "t_stat,p_val = stats.ttest_rel(gate_30.sample(40000),gate_40.sample(40000)) #we take 40000 sample of each data to make the size the same.\n",
    "print('P-value:', p_val)"
   ]
  },
  {
   "cell_type": "markdown",
   "id": "3f5c343a",
   "metadata": {},
   "source": [
    "P-value lebih dari 0.05, kami memutuskan bahwa kami menerima Hipotesis nol yang berarti antara versi gate 30 dan 40 adalah sama. Kami dengan aman meningkatkan game kami ke versi gate 40."
   ]
  },
  {
   "cell_type": "markdown",
   "id": "c8422133",
   "metadata": {},
   "source": [
    "## Chi Square\n",
    "\n",
    "salah satu cara yang digunakan untuk menyampaikan atau menunjukkan keberadaan hubungan (ada atau tidaknya) antara variabel kategori yang diteliti.\n",
    "\n",
    "Misalkan kita sebagai peneliti hendak melakukan uji terhadap perilaku mahasiswa. Karakter yang akan diuji adalah perilaku mahasiswa yang dikategorikan menjadi dua kategori. Kategori tersebut adalah mahasiswa yang mendukung program kampus dan acuh terhadap program kampus.\n",
    "\n",
    "Kondisi tersebut memungkinkan kita untuk melakukan uji hipotesis mengenai perbedaan perilaku mahasiswa tersebut dilihat dari frekuensinya.\n",
    "\n",
    "- 𝐻0: Dalam populasi, dua variabel kategoris tidak terkait\n",
    "- 𝐻a: Dalam populasi, kedua variabel kategoris terkait\n"
   ]
  },
  {
   "cell_type": "code",
   "execution_count": 27,
   "id": "4b4346b3",
   "metadata": {},
   "outputs": [
    {
     "data": {
      "text/html": [
       "<div>\n",
       "<style scoped>\n",
       "    .dataframe tbody tr th:only-of-type {\n",
       "        vertical-align: middle;\n",
       "    }\n",
       "\n",
       "    .dataframe tbody tr th {\n",
       "        vertical-align: top;\n",
       "    }\n",
       "\n",
       "    .dataframe thead th {\n",
       "        text-align: right;\n",
       "    }\n",
       "</style>\n",
       "<table border=\"1\" class=\"dataframe\">\n",
       "  <thead>\n",
       "    <tr style=\"text-align: right;\">\n",
       "      <th></th>\n",
       "      <th>Gender</th>\n",
       "      <th>Like Shopping?</th>\n",
       "    </tr>\n",
       "  </thead>\n",
       "  <tbody>\n",
       "    <tr>\n",
       "      <th>0</th>\n",
       "      <td>Male</td>\n",
       "      <td>No</td>\n",
       "    </tr>\n",
       "    <tr>\n",
       "      <th>1</th>\n",
       "      <td>Female</td>\n",
       "      <td>Yes</td>\n",
       "    </tr>\n",
       "    <tr>\n",
       "      <th>2</th>\n",
       "      <td>Male</td>\n",
       "      <td>Yes</td>\n",
       "    </tr>\n",
       "    <tr>\n",
       "      <th>3</th>\n",
       "      <td>Female</td>\n",
       "      <td>Yes</td>\n",
       "    </tr>\n",
       "    <tr>\n",
       "      <th>4</th>\n",
       "      <td>Female</td>\n",
       "      <td>Yes</td>\n",
       "    </tr>\n",
       "    <tr>\n",
       "      <th>5</th>\n",
       "      <td>Male</td>\n",
       "      <td>Yes</td>\n",
       "    </tr>\n",
       "    <tr>\n",
       "      <th>6</th>\n",
       "      <td>Male</td>\n",
       "      <td>No</td>\n",
       "    </tr>\n",
       "    <tr>\n",
       "      <th>7</th>\n",
       "      <td>Female</td>\n",
       "      <td>No</td>\n",
       "    </tr>\n",
       "    <tr>\n",
       "      <th>8</th>\n",
       "      <td>Female</td>\n",
       "      <td>No</td>\n",
       "    </tr>\n",
       "  </tbody>\n",
       "</table>\n",
       "</div>"
      ],
      "text/plain": [
       "   Gender Like Shopping?\n",
       "0    Male             No\n",
       "1  Female            Yes\n",
       "2    Male            Yes\n",
       "3  Female            Yes\n",
       "4  Female            Yes\n",
       "5    Male            Yes\n",
       "6    Male             No\n",
       "7  Female             No\n",
       "8  Female             No"
      ]
     },
     "execution_count": 27,
     "metadata": {},
     "output_type": "execute_result"
    }
   ],
   "source": [
    "chi_df=pd.read_csv('https://raw.githubusercontent.com/yug95/MachineLearning/master/Hypothesis%20testing/chi-test.csv')\n",
    "chi_df"
   ]
  },
  {
   "cell_type": "code",
   "execution_count": 28,
   "id": "ec372e15",
   "metadata": {},
   "outputs": [
    {
     "data": {
      "text/html": [
       "<div>\n",
       "<style scoped>\n",
       "    .dataframe tbody tr th:only-of-type {\n",
       "        vertical-align: middle;\n",
       "    }\n",
       "\n",
       "    .dataframe tbody tr th {\n",
       "        vertical-align: top;\n",
       "    }\n",
       "\n",
       "    .dataframe thead th {\n",
       "        text-align: right;\n",
       "    }\n",
       "</style>\n",
       "<table border=\"1\" class=\"dataframe\">\n",
       "  <thead>\n",
       "    <tr style=\"text-align: right;\">\n",
       "      <th>Like Shopping?</th>\n",
       "      <th>No</th>\n",
       "      <th>Yes</th>\n",
       "    </tr>\n",
       "    <tr>\n",
       "      <th>Gender</th>\n",
       "      <th></th>\n",
       "      <th></th>\n",
       "    </tr>\n",
       "  </thead>\n",
       "  <tbody>\n",
       "    <tr>\n",
       "      <th>Female</th>\n",
       "      <td>2</td>\n",
       "      <td>3</td>\n",
       "    </tr>\n",
       "    <tr>\n",
       "      <th>Male</th>\n",
       "      <td>2</td>\n",
       "      <td>2</td>\n",
       "    </tr>\n",
       "  </tbody>\n",
       "</table>\n",
       "</div>"
      ],
      "text/plain": [
       "Like Shopping?  No  Yes\n",
       "Gender                 \n",
       "Female           2    3\n",
       "Male             2    2"
      ]
     },
     "execution_count": 28,
     "metadata": {},
     "output_type": "execute_result"
    }
   ],
   "source": [
    "contigency_table = pd.crosstab(chi_df['Gender'],chi_df['Like Shopping?']) #kita pisahkan isi dari like shopping (yes/no) dan gender (male/female)\n",
    "contigency_table"
   ]
  },
  {
   "cell_type": "code",
   "execution_count": 29,
   "id": "44d17038",
   "metadata": {},
   "outputs": [
    {
     "name": "stdout",
     "output_type": "stream",
     "text": [
      "p=1.000000\n",
      "Probably independen\n"
     ]
    }
   ],
   "source": [
    "stat, p, dof, expected = stats.chi2_contingency(contigency_table)\n",
    "print('p=%3f' % (p))\n",
    "if p > 0.05:\n",
    "    print('Probably independen')\n",
    "else:\n",
    "    print('Probably dependen')"
   ]
  }
 ],
 "metadata": {
  "kernelspec": {
   "display_name": "Python 3 (ipykernel)",
   "language": "python",
   "name": "python3"
  },
  "language_info": {
   "codemirror_mode": {
    "name": "ipython",
    "version": 3
   },
   "file_extension": ".py",
   "mimetype": "text/x-python",
   "name": "python",
   "nbconvert_exporter": "python",
   "pygments_lexer": "ipython3",
   "version": "3.10.1"
  }
 },
 "nbformat": 4,
 "nbformat_minor": 5
}
