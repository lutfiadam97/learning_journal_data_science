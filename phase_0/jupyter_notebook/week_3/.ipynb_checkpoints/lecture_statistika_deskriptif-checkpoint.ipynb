{
 "cells": [
  {
   "cell_type": "markdown",
   "id": "fc4b4d62",
   "metadata": {},
   "source": [
    "# Statistika"
   ]
  },
  {
   "cell_type": "markdown",
   "id": "fcb2341d",
   "metadata": {},
   "source": [
    "Ilmu yang mempelajari bagaimana cara mengumpulkan data serta menganalisis data yang sudah terkumpul"
   ]
  },
  {
   "cell_type": "markdown",
   "id": "c408f7b5",
   "metadata": {},
   "source": [
    "## 1. Menganalisis Distribusi Data"
   ]
  },
  {
   "cell_type": "markdown",
   "id": "2e6ce508",
   "metadata": {},
   "source": [
    "### Mean\n",
    "Rata-rata nilai"
   ]
  },
  {
   "cell_type": "code",
   "execution_count": 2,
   "id": "73861d43",
   "metadata": {},
   "outputs": [
    {
     "name": "stdout",
     "output_type": "stream",
     "text": [
      "Rata-rata gaji pegawai adalah 71000.0\n"
     ]
    }
   ],
   "source": [
    "# Get Mean\n",
    "\n",
    "import pandas as pd\n",
    "\n",
    "df = pd.DataFrame({'Name': ['Dan', 'Joann', 'Pedro', 'Rosie', 'Ethan', 'Vicky', 'Frederic'],\n",
    "                   'Salary':[50000, 54000, 50000, 189000, 55000, 40000, 59000]})\n",
    "\n",
    "print (\"Rata-rata gaji pegawai adalah\",df['Salary'].mean())"
   ]
  },
  {
   "cell_type": "markdown",
   "id": "58e57bbc",
   "metadata": {},
   "source": [
    "### Median \n",
    "Nilai tengah"
   ]
  },
  {
   "cell_type": "code",
   "execution_count": 3,
   "id": "90d28ed1",
   "metadata": {},
   "outputs": [
    {
     "name": "stdout",
     "output_type": "stream",
     "text": [
      "Nilai Tengah gaji pegawai adalah 54000.0\n"
     ]
    }
   ],
   "source": [
    "# Get the Median\n",
    "\n",
    "import pandas as pd\n",
    "\n",
    "\n",
    "df = pd.DataFrame({'Name': ['Dan', 'Joann', 'Pedro', 'Rosie', 'Ethan', 'Vicky', 'Frederic'],\n",
    "                   'Salary':[50000, 54000, 50000, 189000, 55000, 40000, 59000]})\n",
    "\n",
    "print (\"Nilai Tengah gaji pegawai adalah\",df['Salary'].median())"
   ]
  },
  {
   "cell_type": "markdown",
   "id": "fed76356",
   "metadata": {},
   "source": [
    "### Mode\n",
    "Modus (Nilai yang sering muncul)"
   ]
  },
  {
   "cell_type": "code",
   "execution_count": 4,
   "id": "d554bf83",
   "metadata": {},
   "outputs": [
    {
     "name": "stdout",
     "output_type": "stream",
     "text": [
      "0    50000\n",
      "dtype: int64\n"
     ]
    }
   ],
   "source": [
    "# Get the Mode\n",
    "import pandas as pd\n",
    "\n",
    "\n",
    "df = pd.DataFrame({'Name': ['Dan', 'Joann', 'Pedro', 'Rosie', 'Ethan', 'Vicky', 'Frederic'],\n",
    "                   'Salary':[50000,54000,50000,189000,55000,40000,59000]})\n",
    "\n",
    "print (df['Salary'].mode())"
   ]
  },
  {
   "cell_type": "markdown",
   "id": "f10ee436",
   "metadata": {},
   "source": [
    "Multimodal Data"
   ]
  },
  {
   "cell_type": "markdown",
   "id": "21eacb61",
   "metadata": {},
   "source": [
    "Tidak jarang satu set data memiliki lebih dari satu nilai sebagai mode."
   ]
  },
  {
   "cell_type": "code",
   "execution_count": 5,
   "id": "d4f5a062",
   "metadata": {},
   "outputs": [
    {
     "name": "stdout",
     "output_type": "stream",
     "text": [
      "0    50000\n",
      "1    59000\n",
      "dtype: int64\n"
     ]
    }
   ],
   "source": [
    "import pandas as pd\n",
    "\n",
    "\n",
    "df = pd.DataFrame({'Name': ['Dan', 'Joann', 'Pedro', 'Rosie', 'Ethan', 'Vicky', 'Frederic'],\n",
    "                   'Salary':[50000,54000,50000,189000,59000,40000,59000]})\n",
    "\n",
    "print (df['Salary'].mode())"
   ]
  },
  {
   "cell_type": "markdown",
   "id": "9987a3de",
   "metadata": {},
   "source": [
    "## 2. Distribusi dan Kepadatan"
   ]
  },
  {
   "cell_type": "markdown",
   "id": "ea925830",
   "metadata": {},
   "source": [
    "mendapatkan nilai minimal dan maksimal"
   ]
  },
  {
   "cell_type": "code",
   "execution_count": 6,
   "id": "1a935e7b",
   "metadata": {},
   "outputs": [
    {
     "name": "stdout",
     "output_type": "stream",
     "text": [
      "Min: 40000\n",
      "Mode: 50000\n",
      "Median: 54000.0\n",
      "Mean: 71000.0\n",
      "Max: 189000\n"
     ]
    }
   ],
   "source": [
    "# Get the Mean, Median, Mode, Min, and Max\n",
    "\n",
    "import pandas as pd\n",
    "\n",
    "df = pd.DataFrame({'Name': ['Dan', 'Joann', 'Pedro', 'Rosie', 'Ethan', 'Vicky', 'Frederic'],\n",
    "                   'Salary':[50000,54000,50000,189000,55000,40000,59000]})\n",
    "\n",
    "print ('Min: ' + str(df['Salary'].min())) #nilai min\n",
    "print ('Mode: ' + str(df['Salary'].mode()[0])) #modus\n",
    "print ('Median: ' + str(df['Salary'].median())) #median\n",
    "print ('Mean: ' + str(df['Salary'].mean())) #mean\n",
    "print ('Max: ' + str(df['Salary'].max())) #max"
   ]
  },
  {
   "cell_type": "code",
   "execution_count": 7,
   "id": "d008c974",
   "metadata": {},
   "outputs": [
    {
     "data": {
      "image/png": "[encoded data removed]",
      "text/plain": [
       "<Figure size 432x288 with 1 Axes>"
      ]
     },
     "metadata": {
      "needs_background": "light"
     },
     "output_type": "display_data"
    }
   ],
   "source": [
    "# Create a Histogram of Salary\n",
    "\n",
    "%matplotlib inline\n",
    "import pandas as pd\n",
    "import matplotlib.pyplot as plt\n",
    "\n",
    "df = pd.DataFrame({'Name': ['Dan', 'Joann', 'Pedro', 'Rosie', 'Ethan', 'Vicky', 'Frederic'],\n",
    "                   'Salary':[50000,54000,50000,189000,55000,40000,59000]})\n",
    "\n",
    "salary = df['Salary']\n",
    "salary.plot.hist(title='Salary Distribution', color='lightblue', bins=25)  \n",
    "plt.axvline(salary.mean(), color='magenta', linestyle='dashed', linewidth=2)\n",
    "plt.axvline(salary.median(), color='green', linestyle='dashed', linewidth=2)\n",
    "plt.show()"
   ]
  },
  {
   "cell_type": "markdown",
   "id": "e05eae71",
   "metadata": {},
   "source": [
    "- magenta line = mean\n",
    "- green line = median"
   ]
  },
  {
   "cell_type": "code",
   "execution_count": 13,
   "id": "88836da3",
   "metadata": {},
   "outputs": [
    {
     "name": "stdout",
     "output_type": "stream",
     "text": [
      "Sorted Salary :  [40000, 50000, 50000, 54000, 55000, 59000, 189000] \n",
      "\n",
      "Bins Border -  0 :  40000.0  -  45960.0 \t  Frequency :  1\n",
      "Bins Border -  1 :  45960.0  -  51920.0 \t  Frequency :  2\n",
      "Bins Border -  2 :  51920.0  -  57880.0 \t  Frequency :  2\n",
      "Bins Border -  3 :  57880.0  -  63840.0 \t  Frequency :  1\n",
      "Bins Border -  4 :  63840.0  -  69800.0 \t  Frequency :  0\n",
      "Bins Border -  5 :  69800.0  -  75760.0 \t  Frequency :  0\n",
      "Bins Border -  6 :  75760.0  -  81720.0 \t  Frequency :  0\n",
      "Bins Border -  7 :  81720.0  -  87680.0 \t  Frequency :  0\n",
      "Bins Border -  8 :  87680.0  -  93640.0 \t  Frequency :  0\n",
      "Bins Border -  9 :  93640.0  -  99600.0 \t  Frequency :  0\n",
      "Bins Border -  10 :  99600.0  -  105560.0 \t  Frequency :  0\n",
      "Bins Border -  11 :  105560.0  -  111520.0 \t  Frequency :  0\n",
      "Bins Border -  12 :  111520.0  -  117480.0 \t  Frequency :  0\n",
      "Bins Border -  13 :  117480.0  -  123440.0 \t  Frequency :  0\n",
      "Bins Border -  14 :  123440.0  -  129400.0 \t  Frequency :  0\n",
      "Bins Border -  15 :  129400.0  -  135360.0 \t  Frequency :  0\n",
      "Bins Border -  16 :  135360.0  -  141320.0 \t  Frequency :  0\n",
      "Bins Border -  17 :  141320.0  -  147280.0 \t  Frequency :  0\n",
      "Bins Border -  18 :  147280.0  -  153240.0 \t  Frequency :  0\n",
      "Bins Border -  19 :  153240.0  -  159200.0 \t  Frequency :  0\n",
      "Bins Border -  20 :  159200.0  -  165160.0 \t  Frequency :  0\n",
      "Bins Border -  21 :  165160.0  -  171120.0 \t  Frequency :  0\n",
      "Bins Border -  22 :  171120.0  -  177080.0 \t  Frequency :  0\n",
      "Bins Border -  23 :  177080.0  -  183040.0 \t  Frequency :  0\n",
      "Bins Border -  24 :  183040.0  -  189000.0 \t  Frequency :  1\n"
     ]
    }
   ],
   "source": [
    "# Display Value of Bins\n",
    "\n",
    "import numpy as np\n",
    "\n",
    "print('Sorted Salary : ', sorted(list(salary)), '\\n')\n",
    "\n",
    "n, bins = np.histogram(salary, bins=25)\n",
    "for ii in range(0, len(n)):\n",
    "  print('Bins Border - ' , ii, ': ', bins[ii], ' - ', bins[ii+1], '\\t', ' Frequency : ', n[ii])"
   ]
  },
  {
   "cell_type": "markdown",
   "id": "848d6fe5",
   "metadata": {},
   "source": [
    "### Skewness dan Kurtosis"
   ]
  },
  {
   "cell_type": "code",
   "execution_count": 14,
   "id": "7742bb2d",
   "metadata": {},
   "outputs": [
    {
     "data": {
      "image/png": "[encoded data removed]",
      "text/plain": [
       "<Figure size 432x288 with 1 Axes>"
      ]
     },
     "metadata": {
      "needs_background": "light"
     },
     "output_type": "display_data"
    }
   ],
   "source": [
    "%matplotlib inline\n",
    "import pandas as pd\n",
    "import matplotlib.pyplot as plt\n",
    "import numpy as np\n",
    "import scipy.stats as stats\n",
    "\n",
    "df = pd.DataFrame({'Name': ['Dan', 'Joann', 'Pedro', 'Rosie', 'Ethan', 'Vicky', 'Frederic'],\n",
    "                   'Salary':[50000,54000,50000,189000,55000,40000,59000]})\n",
    "\n",
    "salary = df['Salary']\n",
    "density = stats.gaussian_kde(salary)\n",
    "n, x, _ = plt.hist(salary, histtype='step', bins=25)  \n",
    "plt.plot(x, density(x)*10**5)\n",
    "plt.axvline(salary.mean(), color='magenta', linestyle='dashed', linewidth=2)\n",
    "plt.axvline(salary.median(), color='green', linestyle='dashed', linewidth=2)\n",
    "plt.show()"
   ]
  },
  {
   "cell_type": "markdown",
   "id": "fe9495f9",
   "metadata": {},
   "source": [
    "Perhatikan bahwa garis kerapatan berbentuk kurva asimetris yang memiliki \"puncak\" di sebelah kiri dan ekor panjang di sebelah kanan. Kami menggambarkan distribusi data semacam ini sebagai skewed; yaitu, data tidak didistribusikan secara simetris tetapi \"berkumpul bersama\" di satu sisi. Dalam hal ini, data dikelompokkan bersama di sebelah kiri, membuat ekor panjang di sebelah kanan; dan digambarkan sebagai condong ke kanan karena beberapa nilai tinggi yang jarang terjadi menarik mean ke kanan. (right-skewed)"
   ]
  },
  {
   "cell_type": "code",
   "execution_count": 15,
   "id": "3fa107d4",
   "metadata": {},
   "outputs": [
    {
     "data": {
      "image/png": "[encoded data removed]",
      "text/plain": [
       "<Figure size 432x288 with 1 Axes>"
      ]
     },
     "metadata": {
      "needs_background": "light"
     },
     "output_type": "display_data"
    }
   ],
   "source": [
    "%matplotlib inline\n",
    "import pandas as pd\n",
    "import matplotlib.pyplot as plt\n",
    "import numpy as np\n",
    "import scipy.stats as stats\n",
    "\n",
    "df = pd.DataFrame({'Name': ['Dan', 'Joann', 'Pedro', 'Rosie', 'Ethan', 'Vicky', 'Frederic'],\n",
    "                   'Hours':[41,40,36,30,35,39,40]})\n",
    "\n",
    "hours = df['Hours']\n",
    "density = stats.gaussian_kde(hours)\n",
    "n, x, _ = plt.hist(hours, histtype='step', bins=25)  \n",
    "plt.plot(x, density(x)*7)\n",
    "plt.axvline(hours.mean(), color='magenta', linestyle='dashed', linewidth=2)\n",
    "plt.axvline(hours.median(), color='green', linestyle='dashed', linewidth=2)\n",
    "plt.show()"
   ]
  },
  {
   "cell_type": "code",
   "execution_count": 18,
   "id": "c5014cdb",
   "metadata": {},
   "outputs": [
    {
     "name": "stdout",
     "output_type": "stream",
     "text": [
      "Bins Border  0 :  30.0  -  30.44 \t  Frequency :  1\n",
      "Bins Border  1 :  30.44  -  30.88 \t  Frequency :  0\n",
      "Bins Border  2 :  30.88  -  31.32 \t  Frequency :  0\n",
      "Bins Border  3 :  31.32  -  31.76 \t  Frequency :  0\n",
      "Bins Border  4 :  31.76  -  32.2 \t  Frequency :  0\n",
      "Bins Border  5 :  32.2  -  32.64 \t  Frequency :  0\n",
      "Bins Border  6 :  32.64  -  33.08 \t  Frequency :  0\n",
      "Bins Border  7 :  33.08  -  33.52 \t  Frequency :  0\n",
      "Bins Border  8 :  33.52  -  33.96 \t  Frequency :  0\n",
      "Bins Border  9 :  33.96  -  34.4 \t  Frequency :  0\n",
      "Bins Border  10 :  34.4  -  34.84 \t  Frequency :  0\n",
      "Bins Border  11 :  34.84  -  35.28 \t  Frequency :  1\n",
      "Bins Border  12 :  35.28  -  35.72 \t  Frequency :  0\n",
      "Bins Border  13 :  35.72  -  36.16 \t  Frequency :  1\n",
      "Bins Border  14 :  36.16  -  36.6 \t  Frequency :  0\n",
      "Bins Border  15 :  36.6  -  37.04 \t  Frequency :  0\n",
      "Bins Border  16 :  37.04  -  37.480000000000004 \t  Frequency :  0\n",
      "Bins Border  17 :  37.480000000000004  -  37.92 \t  Frequency :  0\n",
      "Bins Border  18 :  37.92  -  38.36 \t  Frequency :  0\n",
      "Bins Border  19 :  38.36  -  38.8 \t  Frequency :  0\n",
      "Bins Border  20 :  38.8  -  39.24 \t  Frequency :  1\n",
      "Bins Border  21 :  39.24  -  39.68 \t  Frequency :  0\n",
      "Bins Border  22 :  39.68  -  40.12 \t  Frequency :  2\n",
      "Bins Border  23 :  40.12  -  40.56 \t  Frequency :  0\n",
      "Bins Border  24 :  40.56  -  41.0 \t  Frequency :  1\n"
     ]
    }
   ],
   "source": [
    "# Display Value of Bins\n",
    "import numpy as np\n",
    "\n",
    "n, bins = np.histogram(hours, bins=25)\n",
    "for ii in range(0, len(n)):\n",
    "  print('Bins Border ', ii, ': ', bins[ii], ' - ', bins[ii+1], '\\t', ' Frequency : ', n[ii])"
   ]
  },
  {
   "cell_type": "markdown",
   "id": "4381c1e6",
   "metadata": {},
   "source": [
    "grafik ini termasuk left-skewed karena garis mean berada dibagian kiri median"
   ]
  },
  {
   "cell_type": "code",
   "execution_count": 16,
   "id": "3c969050",
   "metadata": {},
   "outputs": [
    {
     "data": {
      "image/png": "[encoded data removed]",
      "text/plain": [
       "<Figure size 432x288 with 1 Axes>"
      ]
     },
     "metadata": {
      "needs_background": "light"
     },
     "output_type": "display_data"
    }
   ],
   "source": [
    "%matplotlib inline\n",
    "import pandas as pd\n",
    "import matplotlib.pyplot as plt\n",
    "import numpy as np\n",
    "import scipy.stats as stats\n",
    "\n",
    "df = pd.DataFrame({'Name': ['Dan', 'Joann', 'Pedro', 'Rosie', 'Ethan', 'Vicky', 'Frederic'],\n",
    "                   'Grade':[50,50,46,95,50,5,57]})\n",
    "\n",
    "grade = df['Grade']\n",
    "density = stats.gaussian_kde(grade)\n",
    "n, x, _ = plt.hist(grade, histtype='step', bins=25)  \n",
    "plt.plot(x, density(x)*2**7.5)\n",
    "plt.axvline(grade.mean(), color='magenta', linestyle='dashed', linewidth=2)\n",
    "plt.axvline(grade.median(), color='green', linestyle='dashed', linewidth=2)\n",
    "plt.show()"
   ]
  },
  {
   "cell_type": "markdown",
   "id": "903765f7",
   "metadata": {},
   "source": [
    "mean = median = mode, grafik ini adalah distribusi normal."
   ]
  },
  {
   "cell_type": "markdown",
   "id": "b6319dd0",
   "metadata": {},
   "source": [
    "### Varian dan Standar deviasi\n",
    "\n",
    "nilai statistika yg digunakan untuk menentukan persebaran data dalam suatu sampel dan melihat seberapa dekat data2 tersebut dengan mean."
   ]
  },
  {
   "cell_type": "markdown",
   "id": "751c9fd8",
   "metadata": {},
   "source": [
    "- standar deviasi yang rendah berarti bahwa sebagian besar angka mendekati mean\n",
    "- standar deviasi yang tinggi berarti bahwa nilai2 tersebar pada rentang yang lebih luas"
   ]
  },
  {
   "cell_type": "markdown",
   "id": "113938c9",
   "metadata": {},
   "source": [
    " Varian = ukuran penyebaran/dispersi dalam suatu populasi sementara kovarian dianggap sebagai ukuran variasi dua variabel acak kekuatan korelasi."
   ]
  },
  {
   "cell_type": "code",
   "execution_count": 8,
   "id": "1d88eb2d",
   "metadata": {},
   "outputs": [
    {
     "name": "stdout",
     "output_type": "stream",
     "text": [
      "5.76\n"
     ]
    }
   ],
   "source": [
    "# suatu kelas, tinggi badan beberapa orang siswa yang dijadikan sampel adalah :\n",
    "# 4,8,6,5,3,2,8,9,2,5\n",
    "\n",
    "import math\n",
    "\n",
    "def variance(data, ddof=0): # ddof = delta derajat kebebasan\n",
    "    n=len(data) #number of observation\n",
    "    mean = sum(data)/n\n",
    "    deviations = [(x - mean)**2 for x in data] # square deviations\n",
    "    variance = sum(deviations)/n\n",
    "    return variance\n",
    "\n",
    "print(variance([4,8,6,5,3,2,8,9,2,5]))"
   ]
  },
  {
   "cell_type": "code",
   "execution_count": 10,
   "id": "970579a6",
   "metadata": {},
   "outputs": [
    {
     "data": {
      "text/plain": [
       "5.760000000000001"
      ]
     },
     "execution_count": 10,
     "metadata": {},
     "output_type": "execute_result"
    }
   ],
   "source": [
    "import statistics\n",
    "\n",
    "statistics.pvariance([4,8,6,5,3,2,8,9,2,5]) # ddof = 0, yg n aja berarti varian populasi"
   ]
  },
  {
   "cell_type": "code",
   "execution_count": 11,
   "id": "e67b3860",
   "metadata": {},
   "outputs": [
    {
     "data": {
      "text/plain": [
       "6.4"
      ]
     },
     "execution_count": 11,
     "metadata": {},
     "output_type": "execute_result"
    }
   ],
   "source": [
    "statistics.variance([4,8,6,5,3,2,8,9,2,5]) # ddof = 1, yg n-1 berarti varian sample"
   ]
  },
  {
   "cell_type": "code",
   "execution_count": 12,
   "id": "926e6c25",
   "metadata": {},
   "outputs": [
    {
     "data": {
      "text/plain": [
       "2.4"
      ]
     },
     "execution_count": 12,
     "metadata": {},
     "output_type": "execute_result"
    }
   ],
   "source": [
    "# Standar Deviasi\n",
    "def standar_deviasi(data):\n",
    "    var = variance(data)\n",
    "    std_dev = math.sqrt(var)\n",
    "    return std_dev\n",
    "\n",
    "standar_deviasi([4,8,6,5,3,2,8,9,2,5])"
   ]
  },
  {
   "cell_type": "markdown",
   "id": "a2ecb06e",
   "metadata": {},
   "source": [
    "### Measure of Skewness and Kurtosis"
   ]
  },
  {
   "cell_type": "code",
   "execution_count": 20,
   "id": "8e29d5d0",
   "metadata": {},
   "outputs": [
    {
     "name": "stdout",
     "output_type": "stream",
     "text": [
      "Salary skewness: 2.57316410755049\n",
      "Salary kurtosis: 6.719828837773431\n"
     ]
    },
    {
     "data": {
      "image/png": "[encoded data removed]",
      "text/plain": [
       "<Figure size 432x288 with 1 Axes>"
      ]
     },
     "metadata": {
      "needs_background": "light"
     },
     "output_type": "display_data"
    },
    {
     "name": "stdout",
     "output_type": "stream",
     "text": [
      "\n",
      "\n",
      "Hours skewness: -1.194570307262883\n",
      "Hours kurtosis: 0.9412265624999989\n"
     ]
    },
    {
     "data": {
      "image/png": "[encoded data removed]",
      "text/plain": [
       "<Figure size 432x288 with 1 Axes>"
      ]
     },
     "metadata": {
      "needs_background": "light"
     },
     "output_type": "display_data"
    },
    {
     "name": "stdout",
     "output_type": "stream",
     "text": [
      "\n",
      "\n",
      "Grade skewness: -0.06512433009682762\n",
      "Grade kurtosis: 2.7484764913773034\n"
     ]
    },
    {
     "data": {
      "image/png": "[encoded data removed]",
      "text/plain": [
       "<Figure size 432x288 with 1 Axes>"
      ]
     },
     "metadata": {
      "needs_background": "light"
     },
     "output_type": "display_data"
    },
    {
     "name": "stdout",
     "output_type": "stream",
     "text": [
      "\n",
      "\n"
     ]
    }
   ],
   "source": [
    "# Get Skewness and Kurtosis Value\n",
    "\n",
    "%matplotlib inline\n",
    "import pandas as pd\n",
    "import numpy as np\n",
    "from matplotlib import pyplot as plt\n",
    "import scipy.stats as stats\n",
    "\n",
    "df = pd.DataFrame({'Name': ['Dan', 'Joann', 'Pedro', 'Rosie', 'Ethan', 'Vicky', 'Frederic'],\n",
    "                   'Salary':[50000,54000,50000,189000,55000,40000,59000],\n",
    "                   'Hours':[41,40,36,30,35,39,40],\n",
    "                   'Grade':[50,50,46,95,50,5,57]})\n",
    "\n",
    "numcols = ['Salary', 'Hours', 'Grade']\n",
    "for col in numcols:\n",
    "    print(df[col].name + ' skewness: ' + str(df[col].skew())) #kemiringan\n",
    "    print(df[col].name + ' kurtosis: ' + str(df[col].kurt())) #puncak\n",
    "    density = stats.gaussian_kde(df[col])\n",
    "    n, x, _ = plt.hist(df[col], histtype='step', bins=25)  \n",
    "    plt.plot(x, density(x)*6)\n",
    "    plt.show()\n",
    "    print('\\n')"
   ]
  },
  {
   "cell_type": "markdown",
   "id": "d6f2f526",
   "metadata": {},
   "source": [
    "### Measure of Variance"
   ]
  },
  {
   "cell_type": "markdown",
   "id": "ddfb2605",
   "metadata": {},
   "source": [
    "cara mengukur varians :"
   ]
  },
  {
   "cell_type": "markdown",
   "id": "cc20a60b",
   "metadata": {},
   "source": [
    "### Range"
   ]
  },
  {
   "cell_type": "markdown",
   "id": "5b6f9f80",
   "metadata": {},
   "source": [
    "Cara sederhana untuk mengukur varians dalam kumpulan data adalah dengan mengidentifikasi perbedaan antara nilai terendah dan tertinggi. Ini disebut rentang, dan dihitung dengan mengurangkan nilai minimum dari nilai maksimum."
   ]
  },
  {
   "cell_type": "code",
   "execution_count": 21,
   "id": "939c1527",
   "metadata": {},
   "outputs": [
    {
     "name": "stdout",
     "output_type": "stream",
     "text": [
      "Salary range: 149000\n",
      "Hours range: 11\n",
      "Grade range: 90\n"
     ]
    }
   ],
   "source": [
    "import pandas as pd\n",
    "\n",
    "df = pd.DataFrame({'Name': ['Dan', 'Joann', 'Pedro', 'Rosie', 'Ethan', 'Vicky', 'Frederic'],\n",
    "                   'Salary':[50000,54000,50000,189000,55000,40000,59000],\n",
    "                   'Hours':[41,40,36,30,35,39,40],\n",
    "                   'Grade':[50,50,46,95,50,5,57]})\n",
    "\n",
    "numcols = ['Salary', 'Hours', 'Grade']\n",
    "for col in numcols:\n",
    "    print(df[col].name + ' range: ' + str(df[col].max() - df[col].min()))"
   ]
  },
  {
   "cell_type": "markdown",
   "id": "c52da75a",
   "metadata": {},
   "source": [
    "### Percentiles and Quartiles"
   ]
  },
  {
   "cell_type": "code",
   "execution_count": 22,
   "id": "fa14b68c",
   "metadata": {},
   "outputs": [
    {
     "name": "stdout",
     "output_type": "stream",
     "text": [
      "71.42857142857143\n"
     ]
    }
   ],
   "source": [
    "# Percentiles\n",
    "\n",
    "# Get the Percentile (kind='strict')\n",
    "\n",
    "import pandas as pd\n",
    "from scipy import stats\n",
    "\n",
    "df = pd.DataFrame({'Name': ['Dan', 'Joann', 'Pedro', 'Rosie', 'Ethan', 'Vicky', 'Frederic'],\n",
    "                   'Salary':[50000,54000,50000,189000,55000,40000,59000],\n",
    "                   'Hours':[41,40,36,30,35,39,40],\n",
    "                   'Grade':[50,50,46,95,50,5,57]})\n",
    "\n",
    "print(stats.percentileofscore(df['Grade'], 57, 'strict'))"
   ]
  },
  {
   "cell_type": "code",
   "execution_count": 23,
   "id": "2f135be1",
   "metadata": {},
   "outputs": [
    {
     "name": "stdout",
     "output_type": "stream",
     "text": [
      "       Name  Salary  Hours  Grade\n",
      "0       Dan   50000     41     50\n",
      "1     Joann   54000     40     50\n",
      "2     Pedro   50000     36     46\n",
      "3     Rosie  189000     30     95\n",
      "4     Ethan   55000     35     50\n",
      "5     Vicky   40000     39      5\n",
      "6  Frederic   59000     40     57\n",
      "\n",
      "   index      Name  Salary  Hours  Grade\n",
      "0      5     Vicky   40000     39      5\n",
      "1      2     Pedro   50000     36     46\n",
      "2      0       Dan   50000     41     50\n",
      "3      1     Joann   54000     40     50\n",
      "4      4     Ethan   55000     35     50\n",
      "5      6  Frederic   59000     40     57\n",
      "6      3     Rosie  189000     30     95\n"
     ]
    }
   ],
   "source": [
    "# Display Data\n",
    "print(df)\n",
    "print('')\n",
    "print(df.sort_values(by=['Grade']).reset_index())"
   ]
  },
  {
   "cell_type": "code",
   "execution_count": 26,
   "id": "07cee65f",
   "metadata": {},
   "outputs": [
    {
     "name": "stdout",
     "output_type": "stream",
     "text": [
      "85.71428571428571\n"
     ]
    }
   ],
   "source": [
    "# kind=weak\n",
    "import pandas as pd\n",
    "from scipy import stats\n",
    "\n",
    "df = pd.DataFrame({'Name': ['Dan', 'Joann', 'Pedro', 'Rosie', 'Ethan', 'Vicky', 'Frederic'],\n",
    "                   'Salary':[50000,54000,50000,189000,55000,40000,59000],\n",
    "                   'Hours':[41,40,36,30,35,39,40],\n",
    "                   'Price (Millions Dollar)':[50,50,46,95,50,5,57]})\n",
    "\n",
    "print(stats.percentileofscore(df['Price (Millions Dollar)'], 57, 'weak'))"
   ]
  },
  {
   "cell_type": "code",
   "execution_count": 25,
   "id": "5e823a39",
   "metadata": {},
   "outputs": [
    {
     "name": "stdout",
     "output_type": "stream",
     "text": [
      "0.25    35.5\n",
      "0.50    39.0\n",
      "0.75    40.0\n",
      "Name: Hours, dtype: float64\n"
     ]
    }
   ],
   "source": [
    "# Quartiles\n",
    "import pandas as pd\n",
    "\n",
    "df = pd.DataFrame({'Name': ['Dan', 'Joann', 'Pedro', 'Rosie', 'Ethan', 'Vicky', 'Frederic'],\n",
    "                   'Salary':[50000,54000,50000,189000,55000,40000,59000],\n",
    "                   'Hours':[41,40,36,17,35,39,40],\n",
    "                   'Grade':[50,50,46,95,50,5,57]})\n",
    "print(df['Hours'].quantile([0.25, 0.5, 0.75]))"
   ]
  },
  {
   "cell_type": "markdown",
   "id": "a77b755d",
   "metadata": {},
   "source": [
    "### Box Plot"
   ]
  },
  {
   "cell_type": "code",
   "execution_count": 27,
   "id": "f057b44c",
   "metadata": {},
   "outputs": [
    {
     "data": {
      "image/png": "[encoded data removed]",
      "text/plain": [
       "<Figure size 720x576 with 1 Axes>"
      ]
     },
     "metadata": {
      "needs_background": "light"
     },
     "output_type": "display_data"
    }
   ],
   "source": [
    "# Display Box Plot of Weekly Hours\n",
    "\n",
    "%matplotlib inline\n",
    "import pandas as pd\n",
    "from matplotlib import pyplot as plt\n",
    "\n",
    "df = pd.DataFrame({'Name': ['Dan', 'Joann', 'Pedro', 'Rosie', 'Ethan', 'Vicky', 'Frederic'],\n",
    "                   'Salary':[50000,54000,50000,189000,55000,40000,59000],\n",
    "                   'Hours':[41,40,36,30,35,39,40],\n",
    "                   'Grade':[50,50,46,95,50,5,57]})\n",
    "\n",
    "# Plot a box-whisker chart\n",
    "df['Hours'].plot(kind='box', title='Weekly Hours Distribution', figsize=(10,8))\n",
    "plt.show()"
   ]
  },
  {
   "cell_type": "markdown",
   "id": "23cb4338",
   "metadata": {},
   "source": [
    "- Kotak persegi panjang yang menunjukkan letak data antara persentil ke-25 dan ke-75 (kuartil kedua dan ketiga). Bagian dari distribusi ini sering disebut sebagai rentang interkuartil - ini berisi 50 nilai data tengah.\n",
    "\n",
    "- Kumis yang memanjang dari kotak ke bagian bawah kuartil pertama dan bagian atas kuartil keempat untuk menunjukkan data lengkap.\n",
    "\n",
    "- Garis di dalam kotak yang menunjukkan lokasi median tersebut (persentil ke-50, yang juga merupakan ambang batas antara kuartil kedua dan ketiga)\n",
    "\n",
    "Dalam hal ini, Anda dapat melihat bahwa rentang interkuartil adalah antara 35 dan 40, dengan median lebih dekat ke bagian atas rentang tersebut. Kisaran kuartil pertama adalah dari sekitar 30 hingga 35, dan kuartil keempat adalah dari 40 hingga 41."
   ]
  },
  {
   "cell_type": "markdown",
   "id": "7480ad21",
   "metadata": {},
   "source": [
    "### Outliers"
   ]
  },
  {
   "cell_type": "code",
   "execution_count": 28,
   "id": "81281a9c",
   "metadata": {},
   "outputs": [
    {
     "data": {
      "image/png": "[encoded data removed]",
      "text/plain": [
       "<Figure size 720x576 with 1 Axes>"
      ]
     },
     "metadata": {
      "needs_background": "light"
     },
     "output_type": "display_data"
    }
   ],
   "source": [
    "# Display Box Plot of Salary\n",
    "\n",
    "%matplotlib inline\n",
    "import pandas as pd\n",
    "from matplotlib import pyplot as plt\n",
    "\n",
    "df = pd.DataFrame({'Name': ['Dan', 'Joann', 'Pedro', 'Rosie', 'Ethan', 'Vicky', 'Frederic'],\n",
    "                   'Salary':[50000,54000,50000,189000,55000,40000,59000],\n",
    "                   'Hours':[41,40,36,30,35,39,40],\n",
    "                   'Grade':[50,50,46,95,50,5,57]})\n",
    "\n",
    "# Plot a box-whisker chart\n",
    "df['Salary'].plot(kind='box', title='Salary Distribution', figsize=(10,8))\n",
    "plt.show()"
   ]
  },
  {
   "cell_type": "markdown",
   "id": "d9c174b9",
   "metadata": {},
   "source": [
    "Jadi apa yang harus kita lakukan?\n",
    "\n",
    "Ini sangat tergantung pada data, dan untuk apa Anda mencoba menggunakannya. Dalam hal ini, mari kita asumsikan kita mencoba mencari tahu berapa ekspektasi gaji yang masuk akal untuk lulusan sekolah kita dapatkan. Mengabaikan sejenak bahwa kami memiliki kumpulan data yang sangat kecil yang menjadi dasar penilaian kami:\n",
    "\n",
    "- Sepertinya gaji Rosie dapat berupa kesalahan (mungkin dia salah mengetik dalam formulir yang digunakan untuk mengumpulkan data) atau\n",
    "- Anomali asli (mungkin dia menjadi atlet profesional atau pekerjaan lain yang dibayar sangat tinggi)."
   ]
  },
  {
   "cell_type": "code",
   "execution_count": 30,
   "id": "f9a6f93c",
   "metadata": {},
   "outputs": [
    {
     "data": {
      "image/png": "[encoded data removed]",
      "text/plain": [
       "<Figure size 720x576 with 1 Axes>"
      ]
     },
     "metadata": {
      "needs_background": "light"
     },
     "output_type": "display_data"
    }
   ],
   "source": [
    "# Display Box Plot of Salary without Outliers\n",
    "\n",
    "%matplotlib inline\n",
    "import pandas as pd\n",
    "from matplotlib import pyplot as plt\n",
    "\n",
    "df = pd.DataFrame({'Name': ['Dan', 'Joann', 'Pedro', 'Rosie', 'Ethan', 'Vicky', 'Frederic'],\n",
    "                   'Salary':[50000,54000,50000,189000,55000,40000,59000],\n",
    "                   'Hours':[41,40,36,17,35,39,40],\n",
    "                   'Grade':[50,50,46,95,50,5,57]})\n",
    "\n",
    "# Plot a box-whisker chart\n",
    "df['Salary'].plot(kind='box', title='Salary Distribution', figsize=(10,8), showfliers=False)\n",
    "plt.show()"
   ]
  },
  {
   "cell_type": "code",
   "execution_count": null,
   "id": "14e93689",
   "metadata": {},
   "outputs": [],
   "source": []
  }
 ],
 "metadata": {
  "kernelspec": {
   "display_name": "Python 3 (ipykernel)",
   "language": "python",
   "name": "python3"
  },
  "language_info": {
   "codemirror_mode": {
    "name": "ipython",
    "version": 3
   },
   "file_extension": ".py",
   "mimetype": "text/x-python",
   "name": "python",
   "nbconvert_exporter": "python",
   "pygments_lexer": "ipython3",
   "version": "3.9.7"
  }
 },
 "nbformat": 4,
 "nbformat_minor": 5
}
