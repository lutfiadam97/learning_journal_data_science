{
 "cells": [
  {
   "cell_type": "markdown",
   "metadata": {},
   "source": [
    "# Probability & Distribution"
   ]
  },
  {
   "cell_type": "markdown",
   "metadata": {},
   "source": [
    "## 1. Probability Basic"
   ]
  },
  {
   "cell_type": "code",
   "execution_count": 1,
   "metadata": {},
   "outputs": [],
   "source": [
    "# P(A) = sample point/jumlah seluruh sampel point di sampel space -> probability\n",
    "# P(A') -> complement\n",
    "# P(A') = 1 - P(A)"
   ]
  },
  {
   "cell_type": "markdown",
   "metadata": {},
   "source": [
    "- experiment/trial : action yang menghasilkan outcome (ex : pelemparan dadu)\n",
    "- sample space : set of possible outcome (ex : dari pelemparan dadu, ada kemungkinan mata dadu yang muncul dalam set ini[1,2,3,4,5,6])\n",
    "- sample point : single possible outcome (ex : dari pelemparan dadu, kemungkinan bisa mata dadu 1 atau 2 atau 3 atau 4 atau 5 atau 6)\n",
    "- event : a specific outcome (mata dadu yg muncul adalah 2)"
   ]
  },
  {
   "cell_type": "markdown",
   "metadata": {},
   "source": []
  }
 ],
 "metadata": {
  "interpreter": {
   "hash": "d1eb415d2423691ab8033da02aac34a6b832aa094a09316f8fa35d1fd611d4d8"
  },
  "kernelspec": {
   "display_name": "Python 3 (ipykernel)",
   "language": "python",
   "name": "python3"
  },
  "language_info": {
   "codemirror_mode": {
    "name": "ipython",
    "version": 3
   },
   "file_extension": ".py",
   "mimetype": "text/x-python",
   "name": "python",
   "nbconvert_exporter": "python",
   "pygments_lexer": "ipython3",
   "version": "3.9.7"
  }
 },
 "nbformat": 4,
 "nbformat_minor": 2
}
