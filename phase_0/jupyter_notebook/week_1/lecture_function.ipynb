{
 "cells": [
  {
   "cell_type": "markdown",
   "metadata": {},
   "source": [
    "# Function"
   ]
  },
  {
   "cell_type": "code",
   "execution_count": 1,
   "metadata": {},
   "outputs": [
    {
     "name": "stdout",
     "output_type": "stream",
     "text": [
      "Selamat Pagi!\n"
     ]
    }
   ],
   "source": [
    "# def nama_fungsi(parameter/argumen):\n",
    "    #statement/perintah yang akan dibuat\n",
    "\n",
    "# nama_fungsi() panggil fungsi\n",
    "\n",
    "def Sapaan():\n",
    "    print(\"Selamat Pagi!\")\n",
    "\n",
    "Sapaan()"
   ]
  },
  {
   "cell_type": "code",
   "execution_count": 2,
   "metadata": {},
   "outputs": [
    {
     "name": "stdout",
     "output_type": "stream",
     "text": [
      "Hallo, namaku Runeka!\n"
     ]
    }
   ],
   "source": [
    "def printme(str_item):\n",
    "    print(str_item)\n",
    "\n",
    "printme(\"Hallo, namaku Runeka!\")"
   ]
  },
  {
   "cell_type": "code",
   "execution_count": 5,
   "metadata": {},
   "outputs": [
    {
     "name": "stdout",
     "output_type": "stream",
     "text": [
      "Ketoprak\n",
      "Gado-gado\n"
     ]
    }
   ],
   "source": [
    "def nama_makanan(makanan1, makanan2):\n",
    "    list_makanan = [makanan1,makanan2]\n",
    "    for makanan in list_makanan:\n",
    "        print(makanan)\n",
    "\n",
    "nama_makanan(\"Ketoprak\", \"Gado-gado\")"
   ]
  },
  {
   "cell_type": "code",
   "execution_count": 9,
   "metadata": {},
   "outputs": [
    {
     "name": "stdout",
     "output_type": "stream",
     "text": [
      "\n",
      "values outside the function - before:  [10, 20, 30]\n",
      "\n",
      "values inside the function:  [10, 20, 30, 1, 2, 3, 4]\n",
      "\n",
      "values inside the function - after:  [10, 20, 30, 1, 2, 3, 4]\n"
     ]
    }
   ],
   "source": [
    "def changeme(mylist):\n",
    "    mylist = mylist+[1,2,3,4]\n",
    "    print(\"\\nvalues inside the function: \", mylist)\n",
    "    return mylist\n",
    "\n",
    "mylist = [10,20,30]\n",
    "print(\"\\nvalues outside the function - before: \", mylist)\n",
    "\n",
    "#panggil fungsi\n",
    "mylist = changeme(mylist)\n",
    "print(\"\\nvalues inside the function - after: \", mylist)"
   ]
  },
  {
   "cell_type": "code",
   "execution_count": 37,
   "metadata": {},
   "outputs": [
    {
     "name": "stdout",
     "output_type": "stream",
     "text": [
      "Luas segitiga adalah 10.0\n"
     ]
    }
   ],
   "source": [
    "def luas_segitiga(alas, tinggi):\n",
    "    luas = 1/2 * (alas * tinggi)\n",
    "    return luas\n",
    "\n",
    "#luas_segitiga(5,4)\n",
    "print(f\"Luas segitiga adalah {luas_segitiga(5,4)}\")\n"
   ]
  },
  {
   "cell_type": "code",
   "execution_count": 27,
   "metadata": {},
   "outputs": [
    {
     "name": "stdout",
     "output_type": "stream",
     "text": [
      "Nama : Lutfi\n",
      "Umur : 24\n"
     ]
    }
   ],
   "source": [
    "def data_siswa(nama, age):\n",
    "    print(\"Nama :\", nama)\n",
    "    print(\"Umur :\", age)\n",
    "\n",
    "data_siswa(\"Lutfi\", 24)"
   ]
  },
  {
   "cell_type": "code",
   "execution_count": 47,
   "metadata": {},
   "outputs": [
    {
     "name": "stdout",
     "output_type": "stream",
     "text": [
      "Nama orang : ('Irfan', 'Joko')\n",
      "Nama orang : Irfan Joko\n"
     ]
    }
   ],
   "source": [
    "def nama_orang(*nama):\n",
    "    print(\"Nama orang :\", nama) #hasilnya tuple\n",
    "    print(\"Nama orang :\", *nama)\n",
    "\n",
    "nama_orang(\"Irfan\", \"Joko\")"
   ]
  },
  {
   "cell_type": "code",
   "execution_count": 50,
   "metadata": {},
   "outputs": [
    {
     "name": "stdout",
     "output_type": "stream",
     "text": [
      "arg1 : 10\n",
      "vartuple :  ()\n",
      "\n",
      "arg1 : 10\n",
      "vartuple :  (70, 60, 'a')\n",
      "\n",
      "isi vartuple :  70\n",
      "isi vartuple :  60\n",
      "isi vartuple :  a\n"
     ]
    }
   ],
   "source": [
    "def printinfo(arg1, *vartuple):\n",
    "    print('arg1 :', arg1)\n",
    "    print('vartuple : ', vartuple)\n",
    "    print('')\n",
    "\n",
    "    for var in vartuple:\n",
    "        print('isi vartuple : ', var)\n",
    "\n",
    "printinfo(10)\n",
    "printinfo(10, 70,60,\"a\")"
   ]
  },
  {
   "cell_type": "code",
   "execution_count": 51,
   "metadata": {},
   "outputs": [
    {
     "name": "stdout",
     "output_type": "stream",
     "text": [
      "lontong\n"
     ]
    }
   ],
   "source": [
    "# * (asterik)\n",
    "def nama_makanan(*nama):\n",
    "    print(nama[2])\n",
    "\n",
    "nama_makanan(\"ketoprak\", \"ayam goreng\", \"lontong\")\n"
   ]
  },
  {
   "cell_type": "code",
   "execution_count": 54,
   "metadata": {},
   "outputs": [
    {
     "name": "stdout",
     "output_type": "stream",
     "text": [
      "ayam goreng\n"
     ]
    }
   ],
   "source": [
    "# **\n",
    "# panggil pake key\n",
    "def nama_makanan(**nama):\n",
    "    print(nama[\"nama2\"])\n",
    "\n",
    "nama_makanan(nama1=\"ketoprak\", nama2=\"ayam goreng\", nama3=\"lontong\")\n",
    "\n"
   ]
  },
  {
   "cell_type": "markdown",
   "metadata": {},
   "source": [
    "## Fungsi lambda"
   ]
  },
  {
   "cell_type": "code",
   "execution_count": 55,
   "metadata": {},
   "outputs": [
    {
     "data": {
      "text/plain": [
       "13"
      ]
     },
     "execution_count": 55,
     "metadata": {},
     "output_type": "execute_result"
    }
   ],
   "source": [
    "hitung = lambda x,y : x**2 + y**2\n",
    "hitung(2,3)\n",
    "\n",
    "#pake definisi fungsi\n",
    "#def hitung(x,y):\n",
    "    #return x**2 + y**2\n",
    "\n",
    "#hitung(2,3)"
   ]
  },
  {
   "cell_type": "markdown",
   "metadata": {},
   "source": [
    "## Scope of Variable"
   ]
  },
  {
   "cell_type": "code",
   "execution_count": 56,
   "metadata": {},
   "outputs": [
    {
     "name": "stdout",
     "output_type": "stream",
     "text": [
      "Inside the function local total :  30\n",
      "Outside the function global total : 0\n"
     ]
    }
   ],
   "source": [
    "# global fungsi\n",
    "total = 0\n",
    "\n",
    "#bikin fungsi bernama sum\n",
    "def sum(arg1,arg2):\n",
    "    total = arg1 + arg2\n",
    "    print(\"Inside the function local total : \", total)\n",
    "\n",
    "#panggil fungsi\n",
    "sum(10,20)\n",
    "print(\"Outside the function global total :\", total)"
   ]
  },
  {
   "cell_type": "code",
   "execution_count": 57,
   "metadata": {},
   "outputs": [
    {
     "name": "stdout",
     "output_type": "stream",
     "text": [
      "nama teman saya adalah Anton\n",
      "elita\n"
     ]
    }
   ],
   "source": [
    "nama = \"elita\" #global\n",
    "\n",
    "def myfunc():\n",
    "    nama = \"Anton\" #local\n",
    "    print(\"nama teman saya adalah\", nama)\n",
    "\n",
    "myfunc() #outputnya dari var nama local\n",
    "print(nama) #outputnya dari var nama global"
   ]
  },
  {
   "cell_type": "code",
   "execution_count": 58,
   "metadata": {},
   "outputs": [
    {
     "name": "stdout",
     "output_type": "stream",
     "text": [
      "nama teman saya adalah Anton\n",
      "Anton\n"
     ]
    }
   ],
   "source": [
    "nama = \"elita\" #global\n",
    "\n",
    "def myfunc():\n",
    "    global nama #variabel nama yang awalnya var local menjadi var global\n",
    "    nama = \"Anton\" #local\n",
    "    print(\"nama teman saya adalah\", nama)\n",
    "\n",
    "myfunc() #outputnya dari var nama local\n",
    "print(nama) #outputnya dari var nama global"
   ]
  },
  {
   "cell_type": "markdown",
   "metadata": {},
   "source": [
    "## Python Module"
   ]
  },
  {
   "cell_type": "code",
   "execution_count": 1,
   "metadata": {},
   "outputs": [],
   "source": [
    "import person"
   ]
  },
  {
   "cell_type": "code",
   "execution_count": 2,
   "metadata": {},
   "outputs": [
    {
     "data": {
      "text/plain": [
       "'Lutfi'"
      ]
     },
     "execution_count": 2,
     "metadata": {},
     "output_type": "execute_result"
    }
   ],
   "source": [
    "person.nama"
   ]
  },
  {
   "cell_type": "code",
   "execution_count": 3,
   "metadata": {},
   "outputs": [
    {
     "data": {
      "text/plain": [
       "['Laptop', 'Smartphone', 'Android', 'Tablet', 'TV']"
      ]
     },
     "execution_count": 3,
     "metadata": {},
     "output_type": "execute_result"
    }
   ],
   "source": [
    "person.perangkat"
   ]
  },
  {
   "cell_type": "code",
   "execution_count": 4,
   "metadata": {},
   "outputs": [
    {
     "name": "stdout",
     "output_type": "stream",
     "text": [
      "arg = Runeka\n"
     ]
    }
   ],
   "source": [
    "person.display(\"Runeka\")"
   ]
  },
  {
   "cell_type": "markdown",
   "metadata": {},
   "source": [
    "### Memanggil module dengan metode From"
   ]
  },
  {
   "cell_type": "code",
   "execution_count": 2,
   "metadata": {},
   "outputs": [
    {
     "data": {
      "text/plain": [
       "'Lutfi'"
      ]
     },
     "execution_count": 2,
     "metadata": {},
     "output_type": "execute_result"
    }
   ],
   "source": [
    "from person import nama, perangkat\n",
    "nama"
   ]
  },
  {
   "cell_type": "code",
   "execution_count": 3,
   "metadata": {},
   "outputs": [
    {
     "data": {
      "text/plain": [
       "['Laptop', 'Smartphone', 'Android', 'Tablet', 'TV']"
      ]
     },
     "execution_count": 3,
     "metadata": {},
     "output_type": "execute_result"
    }
   ],
   "source": [
    "perangkat"
   ]
  },
  {
   "cell_type": "code",
   "execution_count": 5,
   "metadata": {},
   "outputs": [
    {
     "data": {
      "text/plain": [
       "'Lutfi'"
      ]
     },
     "execution_count": 5,
     "metadata": {},
     "output_type": "execute_result"
    }
   ],
   "source": [
    "from person import nama as n, perangkat as p\n",
    "n"
   ]
  },
  {
   "cell_type": "code",
   "execution_count": 6,
   "metadata": {},
   "outputs": [
    {
     "data": {
      "text/plain": [
       "['Laptop', 'Smartphone', 'Android', 'Tablet', 'TV']"
      ]
     },
     "execution_count": 6,
     "metadata": {},
     "output_type": "execute_result"
    }
   ],
   "source": [
    "p"
   ]
  },
  {
   "cell_type": "markdown",
   "metadata": {},
   "source": [
    "## Package"
   ]
  },
  {
   "cell_type": "markdown",
   "metadata": {},
   "source": [
    "Package itu merupakan bagian dari module"
   ]
  },
  {
   "cell_type": "code",
   "execution_count": 7,
   "metadata": {},
   "outputs": [
    {
     "data": {
      "text/plain": [
       "'Red'"
      ]
     },
     "execution_count": 7,
     "metadata": {},
     "output_type": "execute_result"
    }
   ],
   "source": [
    "import pkg.module1, pkg.module2\n",
    "pkg.module1.color"
   ]
  },
  {
   "cell_type": "code",
   "execution_count": 8,
   "metadata": {},
   "outputs": [
    {
     "data": {
      "text/plain": [
       "'Red'"
      ]
     },
     "execution_count": 8,
     "metadata": {},
     "output_type": "execute_result"
    }
   ],
   "source": [
    "from pkg.module1 import color\n",
    "color"
   ]
  },
  {
   "cell_type": "code",
   "execution_count": 10,
   "metadata": {},
   "outputs": [
    {
     "name": "stdout",
     "output_type": "stream",
     "text": [
      "Collecting pandas\n",
      "  Downloading pandas-1.3.5-cp310-cp310-win_amd64.whl (10.2 MB)\n",
      "Collecting numpy>=1.21.0\n",
      "  Downloading numpy-1.22.1-cp310-cp310-win_amd64.whl (14.7 MB)\n",
      "Requirement already satisfied: python-dateutil>=2.7.3 in c:\\users\\acer nitro 5\\appdata\\local\\programs\\python\\python310\\lib\\site-packages (from pandas) (2.8.2)\n",
      "Collecting pytz>=2017.3\n",
      "  Downloading pytz-2021.3-py2.py3-none-any.whl (503 kB)\n",
      "Requirement already satisfied: six>=1.5 in c:\\users\\acer nitro 5\\appdata\\local\\programs\\python\\python310\\lib\\site-packages (from python-dateutil>=2.7.3->pandas) (1.16.0)\n",
      "Installing collected packages: pytz, numpy, pandas\n",
      "Successfully installed numpy-1.22.1 pandas-1.3.5 pytz-2021.3\n"
     ]
    },
    {
     "name": "stderr",
     "output_type": "stream",
     "text": [
      "WARNING: You are using pip version 21.2.4; however, version 21.3.1 is available.\n",
      "You should consider upgrading via the 'C:\\Users\\Acer Nitro 5\\AppData\\Local\\Programs\\Python\\Python310\\python.exe -m pip install --upgrade pip' command.\n"
     ]
    }
   ],
   "source": [
    "!pip install pandas #install pandas"
   ]
  }
 ],
 "metadata": {
  "interpreter": {
   "hash": "d1eb415d2423691ab8033da02aac34a6b832aa094a09316f8fa35d1fd611d4d8"
  },
  "kernelspec": {
   "display_name": "Python 3.10.1 64-bit",
   "language": "python",
   "name": "python3"
  },
  "language_info": {
   "codemirror_mode": {
    "name": "ipython",
    "version": 3
   },
   "file_extension": ".py",
   "mimetype": "text/x-python",
   "name": "python",
   "nbconvert_exporter": "python",
   "pygments_lexer": "ipython3",
   "version": "3.10.1"
  },
  "orig_nbformat": 4
 },
 "nbformat": 4,
 "nbformat_minor": 2
}
