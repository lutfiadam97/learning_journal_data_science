{
 "cells": [
  {
   "cell_type": "markdown",
   "metadata": {
    "colab_type": "text",
    "id": "view-in-github"
   },
   "source": [
    "<a href=\"https://colab.research.google.com/github/lutfiadam97/learning_journal_data_science/blob/main/phase_0/jupyter_notebook/lecture_calculus_gc.ipynb\" target=\"_parent\"><img src=\"https://colab.research.google.com/assets/colab-badge.svg\" alt=\"Open In Colab\"/></a>"
   ]
  },
  {
   "cell_type": "code",
   "execution_count": 2,
   "metadata": {
    "id": "8JV4At-tpvfv"
   },
   "outputs": [],
   "source": [
    "import sympy as sy"
   ]
  },
  {
   "cell_type": "markdown",
   "metadata": {
    "id": "5MVzhmKGrGE-"
   },
   "source": [
    "**Turunan** **Symbolic**"
   ]
  },
  {
   "cell_type": "code",
   "execution_count": 3,
   "metadata": {
    "id": "uphsHEUZp0Hl"
   },
   "outputs": [],
   "source": [
    "#x = 2\n",
    "x = sy.Symbol('x')\n",
    "f = 2*x**2 + 4*x -1"
   ]
  },
  {
   "cell_type": "code",
   "execution_count": 4,
   "metadata": {
    "colab": {
     "base_uri": "https://localhost:8080/",
     "height": 39
    },
    "id": "e5yjRrAip8K9",
    "outputId": "120ec54d-1f21-4b1f-d136-32c2691ccddf"
   },
   "outputs": [
    {
     "data": {
      "text/latex": [
       "$\\displaystyle 2 x^{2} + 4 x - 1$"
      ],
      "text/plain": [
       "2*x**2 + 4*x - 1"
      ]
     },
     "execution_count": 4,
     "metadata": {},
     "output_type": "execute_result"
    }
   ],
   "source": [
    "f"
   ]
  },
  {
   "cell_type": "code",
   "execution_count": 5,
   "metadata": {
    "colab": {
     "base_uri": "https://localhost:8080/",
     "height": 39
    },
    "id": "lTH-7uhSqc49",
    "outputId": "dffee6aa-c90b-4cc8-8cbb-8bb978584f00"
   },
   "outputs": [
    {
     "data": {
      "text/latex": [
       "$\\displaystyle 4 x + 4$"
      ],
      "text/plain": [
       "4*x + 4"
      ]
     },
     "execution_count": 5,
     "metadata": {},
     "output_type": "execute_result"
    }
   ],
   "source": [
    "# first order (turunan pertama)\n",
    "df = f.diff()\n",
    "df"
   ]
  },
  {
   "cell_type": "code",
   "execution_count": 6,
   "metadata": {
    "colab": {
     "base_uri": "https://localhost:8080/",
     "height": 38
    },
    "id": "wW_2yGuNqk-Z",
    "outputId": "a6f9864b-eec0-4451-8148-cd6bd09bf145"
   },
   "outputs": [
    {
     "data": {
      "text/latex": [
       "$\\displaystyle 4$"
      ],
      "text/plain": [
       "4"
      ]
     },
     "execution_count": 6,
     "metadata": {},
     "output_type": "execute_result"
    }
   ],
   "source": [
    "# second order (turunan kedua)\n",
    "df.diff()"
   ]
  },
  {
   "cell_type": "code",
   "execution_count": 7,
   "metadata": {
    "colab": {
     "base_uri": "https://localhost:8080/",
     "height": 38
    },
    "id": "d3-1Z4t2qsAM",
    "outputId": "e5de0cb3-1abb-4772-d5df-01cb4157c627"
   },
   "outputs": [
    {
     "data": {
      "text/latex": [
       "$\\displaystyle 0$"
      ],
      "text/plain": [
       "0"
      ]
     },
     "execution_count": 7,
     "metadata": {},
     "output_type": "execute_result"
    }
   ],
   "source": [
    "# third order (turunan ketiga)\n",
    "df.diff().diff()"
   ]
  },
  {
   "cell_type": "code",
   "execution_count": 8,
   "metadata": {
    "colab": {
     "base_uri": "https://localhost:8080/",
     "height": 38
    },
    "id": "tOKp9w7NqyGc",
    "outputId": "7803ab5f-411a-4b49-807c-e9f9c8b8a435"
   },
   "outputs": [
    {
     "data": {
      "text/latex": [
       "$\\displaystyle 0$"
      ],
      "text/plain": [
       "0"
      ]
     },
     "execution_count": 8,
     "metadata": {},
     "output_type": "execute_result"
    }
   ],
   "source": [
    " f.diff().diff().diff()"
   ]
  },
  {
   "cell_type": "markdown",
   "metadata": {
    "id": "cY4XtpZPrKwL"
   },
   "source": [
    "**Numerik**"
   ]
  },
  {
   "cell_type": "code",
   "execution_count": 9,
   "metadata": {
    "id": "NInBbZsgrM6F"
   },
   "outputs": [],
   "source": [
    "import numpy as np"
   ]
  },
  {
   "cell_type": "code",
   "execution_count": 10,
   "metadata": {
    "id": "vWMQPrOxsot6"
   },
   "outputs": [],
   "source": [
    "# np.linspace(start,stop,num) #default jumlah data (num) = 50"
   ]
  },
  {
   "cell_type": "code",
   "execution_count": 11,
   "metadata": {
    "id": "Olm3LTkxrYkp"
   },
   "outputs": [],
   "source": [
    "X = np.linspace(-20,20)\n",
    "Y = 2*X**2+4*X-1"
   ]
  },
  {
   "cell_type": "code",
   "execution_count": 12,
   "metadata": {
    "colab": {
     "base_uri": "https://localhost:8080/"
    },
    "id": "A7NahABQrmF9",
    "outputId": "dd25c597-58e2-4aff-b485-65689ee72a84"
   },
   "outputs": [
    {
     "data": {
      "text/plain": [
       "array([-20.        , -19.18367347, -18.36734694, -17.55102041,\n",
       "       -16.73469388, -15.91836735, -15.10204082, -14.28571429,\n",
       "       -13.46938776, -12.65306122, -11.83673469, -11.02040816,\n",
       "       -10.20408163,  -9.3877551 ,  -8.57142857,  -7.75510204,\n",
       "        -6.93877551,  -6.12244898,  -5.30612245,  -4.48979592,\n",
       "        -3.67346939,  -2.85714286,  -2.04081633,  -1.2244898 ,\n",
       "        -0.40816327,   0.40816327,   1.2244898 ,   2.04081633,\n",
       "         2.85714286,   3.67346939,   4.48979592,   5.30612245,\n",
       "         6.12244898,   6.93877551,   7.75510204,   8.57142857,\n",
       "         9.3877551 ,  10.20408163,  11.02040816,  11.83673469,\n",
       "        12.65306122,  13.46938776,  14.28571429,  15.10204082,\n",
       "        15.91836735,  16.73469388,  17.55102041,  18.36734694,\n",
       "        19.18367347,  20.        ])"
      ]
     },
     "execution_count": 12,
     "metadata": {},
     "output_type": "execute_result"
    }
   ],
   "source": [
    "X"
   ]
  },
  {
   "cell_type": "code",
   "execution_count": 13,
   "metadata": {
    "colab": {
     "base_uri": "https://localhost:8080/"
    },
    "id": "sjlRVE-aufmw",
    "outputId": "baf73465-4c73-401d-ef20-00e1dcdaae4b"
   },
   "outputs": [
    {
     "data": {
      "text/plain": [
       "(50,)"
      ]
     },
     "execution_count": 13,
     "metadata": {},
     "output_type": "execute_result"
    }
   ],
   "source": [
    "X.shape"
   ]
  },
  {
   "cell_type": "code",
   "execution_count": 14,
   "metadata": {
    "colab": {
     "base_uri": "https://localhost:8080/"
    },
    "id": "ugyAiRf-rsrt",
    "outputId": "033507d7-b80e-4745-c47d-fd2875831969"
   },
   "outputs": [
    {
     "data": {
      "text/plain": [
       "array([ 7.19000000e+02,  6.58291962e+02,  6.00249479e+02,  5.44872553e+02,\n",
       "        4.92161183e+02,  4.42115369e+02,  3.94735110e+02,  3.50020408e+02,\n",
       "        3.07971262e+02,  2.68587672e+02,  2.31869638e+02,  1.97817160e+02,\n",
       "        1.66430237e+02,  1.37708871e+02,  1.11653061e+02,  8.82628072e+01,\n",
       "        6.75381091e+01,  4.94789671e+01,  3.40853811e+01,  2.13573511e+01,\n",
       "        1.12948771e+01,  3.89795918e+00, -8.33402749e-01, -2.89920866e+00,\n",
       "       -2.29945856e+00,  9.65847564e-01,  6.89670970e+00,  1.54931279e+01,\n",
       "        2.67551020e+01,  4.06826322e+01,  5.72757185e+01,  7.65343607e+01,\n",
       "        9.84585589e+01,  1.23048313e+02,  1.50303623e+02,  1.80224490e+02,\n",
       "        2.12810912e+02,  2.48062890e+02,  2.85980425e+02,  3.26563515e+02,\n",
       "        3.69812162e+02,  4.15726364e+02,  4.64306122e+02,  5.15551437e+02,\n",
       "        5.69462307e+02,  6.26038734e+02,  6.85280716e+02,  7.47188255e+02,\n",
       "        8.11761349e+02,  8.79000000e+02])"
      ]
     },
     "execution_count": 14,
     "metadata": {},
     "output_type": "execute_result"
    }
   ],
   "source": [
    "Y"
   ]
  },
  {
   "cell_type": "code",
   "execution_count": 15,
   "metadata": {
    "colab": {
     "base_uri": "https://localhost:8080/",
     "height": 282
    },
    "id": "CiicP_Ftr1Rv",
    "outputId": "de6c866c-ff1c-4d68-9096-5853af2ef4cd"
   },
   "outputs": [
    {
     "data": {
      "text/plain": [
       "[<matplotlib.lines.Line2D at 0x28cde103910>]"
      ]
     },
     "execution_count": 15,
     "metadata": {},
     "output_type": "execute_result"
    },
    {
     "data": {
      "image/png": "[encoded data removed]",
      "text/plain": [
       "<Figure size 432x288 with 1 Axes>"
      ]
     },
     "metadata": {
      "needs_background": "light"
     },
     "output_type": "display_data"
    }
   ],
   "source": [
    "import matplotlib.pyplot as plt\n",
    "\n",
    "plt.plot(X,Y)"
   ]
  },
  {
   "cell_type": "code",
   "execution_count": 16,
   "metadata": {
    "id": "G0VO9PWgt1W0"
   },
   "outputs": [],
   "source": [
    "df1 = np.diff(Y)/np.diff(X) # f'(x) = df(x)/dx\n",
    "df2 = np.gradient(Y,X)"
   ]
  },
  {
   "cell_type": "code",
   "execution_count": 17,
   "metadata": {
    "colab": {
     "base_uri": "https://localhost:8080/"
    },
    "id": "bWDWtJU9uLC_",
    "outputId": "d9a41baf-75a0-49b7-cadb-2cab0f6087e7"
   },
   "outputs": [
    {
     "data": {
      "text/plain": [
       "array([-74.36734694, -71.10204082, -67.83673469, -64.57142857,\n",
       "       -61.30612245, -58.04081633, -54.7755102 , -51.51020408,\n",
       "       -48.24489796, -44.97959184, -41.71428571, -38.44897959,\n",
       "       -35.18367347, -31.91836735, -28.65306122, -25.3877551 ,\n",
       "       -22.12244898, -18.85714286, -15.59183673, -12.32653061,\n",
       "        -9.06122449,  -5.79591837,  -2.53061224,   0.73469388,\n",
       "         4.        ,   7.26530612,  10.53061224,  13.79591837,\n",
       "        17.06122449,  20.32653061,  23.59183673,  26.85714286,\n",
       "        30.12244898,  33.3877551 ,  36.65306122,  39.91836735,\n",
       "        43.18367347,  46.44897959,  49.71428571,  52.97959184,\n",
       "        56.24489796,  59.51020408,  62.7755102 ,  66.04081633,\n",
       "        69.30612245,  72.57142857,  75.83673469,  79.10204082,\n",
       "        82.36734694])"
      ]
     },
     "execution_count": 17,
     "metadata": {},
     "output_type": "execute_result"
    }
   ],
   "source": [
    "df1"
   ]
  },
  {
   "cell_type": "code",
   "execution_count": 18,
   "metadata": {
    "colab": {
     "base_uri": "https://localhost:8080/"
    },
    "id": "m-kFIx-eudDG",
    "outputId": "090d1661-e8ff-4c93-ebe8-074276feba20"
   },
   "outputs": [
    {
     "data": {
      "text/plain": [
       "(49,)"
      ]
     },
     "execution_count": 18,
     "metadata": {},
     "output_type": "execute_result"
    }
   ],
   "source": [
    "df1.shape"
   ]
  },
  {
   "cell_type": "code",
   "execution_count": 19,
   "metadata": {
    "colab": {
     "base_uri": "https://localhost:8080/"
    },
    "id": "GHGIIPw6uN-c",
    "outputId": "e30fd8f6-26ae-45b9-e598-abf1125cff27"
   },
   "outputs": [
    {
     "data": {
      "text/plain": [
       "array([-74.36734694, -72.73469388, -69.46938776, -66.20408163,\n",
       "       -62.93877551, -59.67346939, -56.40816327, -53.14285714,\n",
       "       -49.87755102, -46.6122449 , -43.34693878, -40.08163265,\n",
       "       -36.81632653, -33.55102041, -30.28571429, -27.02040816,\n",
       "       -23.75510204, -20.48979592, -17.2244898 , -13.95918367,\n",
       "       -10.69387755,  -7.42857143,  -4.16326531,  -0.89795918,\n",
       "         2.36734694,   5.63265306,   8.89795918,  12.16326531,\n",
       "        15.42857143,  18.69387755,  21.95918367,  25.2244898 ,\n",
       "        28.48979592,  31.75510204,  35.02040816,  38.28571429,\n",
       "        41.55102041,  44.81632653,  48.08163265,  51.34693878,\n",
       "        54.6122449 ,  57.87755102,  61.14285714,  64.40816327,\n",
       "        67.67346939,  70.93877551,  74.20408163,  77.46938776,\n",
       "        80.73469388,  82.36734694])"
      ]
     },
     "execution_count": 19,
     "metadata": {},
     "output_type": "execute_result"
    }
   ],
   "source": [
    "df2"
   ]
  },
  {
   "cell_type": "code",
   "execution_count": 20,
   "metadata": {
    "colab": {
     "base_uri": "https://localhost:8080/",
     "height": 282
    },
    "id": "o7BGV_WduP6G",
    "outputId": "60a7a226-38f7-4f2e-8be9-1d2e01dbb4c4"
   },
   "outputs": [
    {
     "data": {
      "text/plain": [
       "[<matplotlib.lines.Line2D at 0x28cdf87c0d0>]"
      ]
     },
     "execution_count": 20,
     "metadata": {},
     "output_type": "execute_result"
    },
    {
     "data": {
      "image/png": "[encoded data removed]",
      "text/plain": [
       "<Figure size 432x288 with 1 Axes>"
      ]
     },
     "metadata": {
      "needs_background": "light"
     },
     "output_type": "display_data"
    }
   ],
   "source": [
    "plt.plot(X[1:],df1)"
   ]
  },
  {
   "cell_type": "code",
   "execution_count": 21,
   "metadata": {
    "colab": {
     "base_uri": "https://localhost:8080/"
    },
    "id": "fvtcal1kvF6A",
    "outputId": "3f06c728-3b20-4061-d5ad-7a53b49b09d4"
   },
   "outputs": [
    {
     "data": {
      "text/plain": [
       "(50,)"
      ]
     },
     "execution_count": 21,
     "metadata": {},
     "output_type": "execute_result"
    }
   ],
   "source": [
    "df2.shape"
   ]
  },
  {
   "cell_type": "code",
   "execution_count": 22,
   "metadata": {
    "colab": {
     "base_uri": "https://localhost:8080/",
     "height": 282
    },
    "id": "uUUw9lrivH7X",
    "outputId": "8bc59c33-c857-4b67-de06-5faa8c00752c"
   },
   "outputs": [
    {
     "data": {
      "text/plain": [
       "[<matplotlib.lines.Line2D at 0x28cdf8f6430>]"
      ]
     },
     "execution_count": 22,
     "metadata": {},
     "output_type": "execute_result"
    },
    {
     "data": {
      "image/png": "[encoded data removed]",
      "text/plain": [
       "<Figure size 432x288 with 1 Axes>"
      ]
     },
     "metadata": {
      "needs_background": "light"
     },
     "output_type": "display_data"
    }
   ],
   "source": [
    "plt.plot(X,df2)"
   ]
  },
  {
   "cell_type": "markdown",
   "metadata": {
    "id": "AoZ1AYLDwu1F"
   },
   "source": [
    "**Optimisasi**"
   ]
  },
  {
   "cell_type": "code",
   "execution_count": 23,
   "metadata": {
    "id": "mKHlvIYGwyjD"
   },
   "outputs": [],
   "source": [
    "from scipy.optimize import minimize_scalar\n",
    "# cari nilai minimum global"
   ]
  },
  {
   "cell_type": "code",
   "execution_count": 24,
   "metadata": {
    "colab": {
     "base_uri": "https://localhost:8080/"
    },
    "id": "Er7UqKINw9Mp",
    "outputId": "2b3506aa-361b-4505-9b04-ad8ea5c9879e"
   },
   "outputs": [
    {
     "data": {
      "text/plain": [
       "     fun: -3.0\n",
       "    nfev: 9\n",
       "     nit: 4\n",
       " success: True\n",
       "       x: -1.0000000000000002"
      ]
     },
     "execution_count": 24,
     "metadata": {},
     "output_type": "execute_result"
    }
   ],
   "source": [
    "def f(x):\n",
    "  return 2*x**2+4*x-1\n",
    "\n",
    "opt=minimize_scalar(f)\n",
    "opt\n",
    "\n",
    "# fun = nilai minimum global\n",
    "# x = posisi titik ekstrim minimum global"
   ]
  },
  {
   "cell_type": "code",
   "execution_count": 25,
   "metadata": {
    "colab": {
     "base_uri": "https://localhost:8080/"
    },
    "id": "8SVwVlNWyjp9",
    "outputId": "abeb296e-02ad-42f9-cb58-5c551f61b668"
   },
   "outputs": [
    {
     "data": {
      "text/plain": [
       "     fun: -5.0\n",
       "    nfev: 13\n",
       "     nit: 9\n",
       " success: True\n",
       "       x: 0.99999998519"
      ]
     },
     "execution_count": 25,
     "metadata": {},
     "output_type": "execute_result"
    }
   ],
   "source": [
    "# cari global maksimum\n",
    "def f3(x):\n",
    "  return -(x**3 - 6*x**2 + 9*x + 1) #di flip (dikali -1 di fungsinya)\n",
    "\n",
    "minimize_scalar(f3)"
   ]
  },
  {
   "cell_type": "code",
   "execution_count": 26,
   "metadata": {
    "colab": {
     "base_uri": "https://localhost:8080/"
    },
    "id": "-70MHXl9y4gu",
    "outputId": "0137d21c-bca4-4107-9a08-366709589bda"
   },
   "outputs": [
    {
     "name": "stdout",
     "output_type": "stream",
     "text": [
      "Global maximum : 5.0\n"
     ]
    }
   ],
   "source": [
    "# nilai maksimum global\n",
    "# fun : 5.0\n",
    "# x = 0.99\n",
    "print('Global maximum :', minimize_scalar(f3).fun*(-1))"
   ]
  },
  {
   "cell_type": "code",
   "execution_count": 27,
   "metadata": {
    "id": "i89AElE8zIF_"
   },
   "outputs": [],
   "source": [
    "# cari global minimum\n",
    "def f2(x):\n",
    "  return x**3 - 6*x**2 + 9*x + 1 \n",
    "\n",
    "#minimize_scalar(f2)"
   ]
  },
  {
   "cell_type": "code",
   "execution_count": 28,
   "metadata": {
    "id": "6bUsOglG0LQr"
   },
   "outputs": [],
   "source": [
    "# output diatas error artinya fungsi tsb tidak memiliki global minimum"
   ]
  },
  {
   "cell_type": "code",
   "execution_count": 29,
   "metadata": {
    "colab": {
     "base_uri": "https://localhost:8080/",
     "height": 282
    },
    "id": "e9bxG5X7z8w5",
    "outputId": "f774e465-c05e-4ca2-c733-7fc03950b832"
   },
   "outputs": [
    {
     "data": {
      "text/plain": [
       "[<matplotlib.lines.Line2D at 0x28ce01db100>]"
      ]
     },
     "execution_count": 29,
     "metadata": {},
     "output_type": "execute_result"
    },
    {
     "data": {
      "image/png": "[encoded data removed]",
      "text/plain": [
       "<Figure size 432x288 with 1 Axes>"
      ]
     },
     "metadata": {
      "needs_background": "light"
     },
     "output_type": "display_data"
    }
   ],
   "source": [
    "Y3 = X**3 - 6*X**2 + 9*X + 1\n",
    "plt.plot(X,Y3)"
   ]
  },
  {
   "cell_type": "markdown",
   "metadata": {
    "id": "8qOSMro1F5ER"
   },
   "source": [
    "**Turunan Parsial**"
   ]
  },
  {
   "cell_type": "code",
   "execution_count": 30,
   "metadata": {
    "colab": {
     "base_uri": "https://localhost:8080/",
     "height": 39
    },
    "id": "sLAd9rg4F9ml",
    "outputId": "430d5f28-2b03-4649-cede-06d912d48249"
   },
   "outputs": [
    {
     "data": {
      "text/latex": [
       "$\\displaystyle x^{3} + 4 x y + x \\sin{\\left(z \\right)} + y z^{8}$"
      ],
      "text/plain": [
       "x**3 + 4*x*y + x*sin(z) + y*z**8"
      ]
     },
     "execution_count": 30,
     "metadata": {},
     "output_type": "execute_result"
    }
   ],
   "source": [
    "x,y,z = sy.symbols('x y z')\n",
    "f = 4*x*y + x*sy.sin(z) + x**3 + z**8*y\n",
    "f"
   ]
  },
  {
   "cell_type": "code",
   "execution_count": 31,
   "metadata": {
    "colab": {
     "base_uri": "https://localhost:8080/",
     "height": 39
    },
    "id": "TrTKtGIWYw8g",
    "outputId": "ef3be488-c12c-44ad-a4c5-34b0ef7bd878"
   },
   "outputs": [
    {
     "data": {
      "text/latex": [
       "$\\displaystyle 3 x^{2} + 4 y + \\sin{\\left(z \\right)}$"
      ],
      "text/plain": [
       "3*x**2 + 4*y + sin(z)"
      ]
     },
     "execution_count": 31,
     "metadata": {},
     "output_type": "execute_result"
    }
   ],
   "source": [
    "# Turunan parsial terhadap x\n",
    "sy.diff(f,x)\n",
    "# f.diff(x)"
   ]
  },
  {
   "cell_type": "code",
   "execution_count": 32,
   "metadata": {
    "colab": {
     "base_uri": "https://localhost:8080/",
     "height": 39
    },
    "id": "N5ZsbRifY-Sl",
    "outputId": "dd540846-1919-4c6f-cbda-b2d21cd6302d"
   },
   "outputs": [
    {
     "data": {
      "text/latex": [
       "$\\displaystyle 4 x + z^{8}$"
      ],
      "text/plain": [
       "4*x + z**8"
      ]
     },
     "execution_count": 32,
     "metadata": {},
     "output_type": "execute_result"
    }
   ],
   "source": [
    "# Turunan parsial terhadap y\n",
    "sy.diff(f,y)\n",
    "# f.diff(y)"
   ]
  },
  {
   "cell_type": "code",
   "execution_count": 33,
   "metadata": {
    "colab": {
     "base_uri": "https://localhost:8080/",
     "height": 39
    },
    "id": "7cnJqVq7ZG7U",
    "outputId": "dd3e9afa-dd92-43b0-fab5-4e3b519e2bcd"
   },
   "outputs": [
    {
     "data": {
      "text/latex": [
       "$\\displaystyle x \\cos{\\left(z \\right)} + 8 y z^{7}$"
      ],
      "text/plain": [
       "x*cos(z) + 8*y*z**7"
      ]
     },
     "execution_count": 33,
     "metadata": {},
     "output_type": "execute_result"
    }
   ],
   "source": [
    "# Turunan parsial terhadap z\n",
    "sy.diff(f,z)"
   ]
  },
  {
   "cell_type": "markdown",
   "metadata": {
    "id": "R1sKnHmlZfxs"
   },
   "source": [
    "**Gradien**"
   ]
  },
  {
   "cell_type": "code",
   "execution_count": 34,
   "metadata": {
    "colab": {
     "base_uri": "https://localhost:8080/",
     "height": 38
    },
    "id": "k6a43RpmZiU7",
    "outputId": "892d6bc2-93b4-441b-85e3-d3dd62520404"
   },
   "outputs": [
    {
     "data": {
      "text/latex": [
       "$\\displaystyle \\left[\\begin{matrix}3 x^{2} + 4 y + \\sin{\\left(z \\right)} & 4 x + z^{8} & x \\cos{\\left(z \\right)} + 8 y z^{7}\\end{matrix}\\right]$"
      ],
      "text/plain": [
       "[3*x**2 + 4*y + sin(z), 4*x + z**8, x*cos(z) + 8*y*z**7]"
      ]
     },
     "execution_count": 34,
     "metadata": {},
     "output_type": "execute_result"
    }
   ],
   "source": [
    "from sympy.tensor.array import derive_by_array\n",
    "grad = derive_by_array(f,(x,y,z))\n",
    "grad"
   ]
  },
  {
   "cell_type": "markdown",
   "metadata": {
    "id": "M2Ej-ZYsZx-T"
   },
   "source": [
    "**Jacobian**"
   ]
  },
  {
   "cell_type": "code",
   "execution_count": 35,
   "metadata": {
    "colab": {
     "base_uri": "https://localhost:8080/",
     "height": 58
    },
    "id": "k7Zmw-gZZ0C0",
    "outputId": "8376d08a-fc16-45bb-803c-e5fad781f338"
   },
   "outputs": [
    {
     "data": {
      "text/latex": [
       "$\\displaystyle \\left[\\begin{matrix}x y + y\\\\2 x y - 2\\end{matrix}\\right]$"
      ],
      "text/plain": [
       "Matrix([\n",
       "[  x*y + y],\n",
       "[2*x*y - 2]])"
      ]
     },
     "execution_count": 35,
     "metadata": {},
     "output_type": "execute_result"
    }
   ],
   "source": [
    "f_jacob = sy.Matrix([x*y+y, 2*x*y-2]) #bikin matrix yg didalamnya ada fungsi\n",
    "f_jacob"
   ]
  },
  {
   "cell_type": "code",
   "execution_count": 36,
   "metadata": {
    "colab": {
     "base_uri": "https://localhost:8080/",
     "height": 58
    },
    "id": "E0zpQBKdabq0",
    "outputId": "504511ca-250d-4680-ec60-e3e92b28b4bc"
   },
   "outputs": [
    {
     "data": {
      "text/latex": [
       "$\\displaystyle \\left[\\begin{matrix}y & x + 1\\\\2 y & 2 x\\end{matrix}\\right]$"
      ],
      "text/plain": [
       "Matrix([\n",
       "[  y, x + 1],\n",
       "[2*y,   2*x]])"
      ]
     },
     "execution_count": 36,
     "metadata": {},
     "output_type": "execute_result"
    }
   ],
   "source": [
    "par = sy.Matrix([x,y])\n",
    "f_jacob.jacobian(par)"
   ]
  },
  {
   "cell_type": "code",
   "execution_count": 37,
   "metadata": {
    "colab": {
     "base_uri": "https://localhost:8080/",
     "height": 78
    },
    "id": "YnoZhRilaq9F",
    "outputId": "2f7c3b41-4b9e-4ecc-c5e4-b979c24a4e0e"
   },
   "outputs": [
    {
     "data": {
      "text/latex": [
       "$\\displaystyle \\left[\\begin{matrix}6 x & 4 & \\cos{\\left(z \\right)}\\\\4 & 0 & 8 z^{7}\\\\\\cos{\\left(z \\right)} & 8 z^{7} & - x \\sin{\\left(z \\right)} + 56 y z^{6}\\end{matrix}\\right]$"
      ],
      "text/plain": [
       "Matrix([\n",
       "[   6*x,      4,                cos(z)],\n",
       "[     4,      0,                8*z**7],\n",
       "[cos(z), 8*z**7, -x*sin(z) + 56*y*z**6]])"
      ]
     },
     "execution_count": 37,
     "metadata": {},
     "output_type": "execute_result"
    }
   ],
   "source": [
    "sy.Matrix(grad).jacobian(sy.Matrix([x,y,z]))"
   ]
  },
  {
   "cell_type": "markdown",
   "metadata": {
    "id": "0VejXYvkedUF"
   },
   "source": [
    "**Hessian**"
   ]
  },
  {
   "cell_type": "code",
   "execution_count": 38,
   "metadata": {
    "colab": {
     "base_uri": "https://localhost:8080/",
     "height": 39
    },
    "id": "tPgqNLHnefWA",
    "outputId": "70009cda-6494-4a2f-fe6f-9846a08d41e2"
   },
   "outputs": [
    {
     "data": {
      "text/latex": [
       "$\\displaystyle x^{3} + 4 x y + x \\sin{\\left(z \\right)} + y z^{8}$"
      ],
      "text/plain": [
       "x**3 + 4*x*y + x*sin(z) + y*z**8"
      ]
     },
     "execution_count": 38,
     "metadata": {},
     "output_type": "execute_result"
    }
   ],
   "source": [
    "f # hessian -> 2nd order"
   ]
  },
  {
   "cell_type": "code",
   "execution_count": 39,
   "metadata": {
    "colab": {
     "base_uri": "https://localhost:8080/",
     "height": 78
    },
    "id": "2l9IQF-SekOq",
    "outputId": "4f993cc4-032e-4e41-aed0-579c1792f4a3"
   },
   "outputs": [
    {
     "data": {
      "text/latex": [
       "$\\displaystyle \\left[\\begin{matrix}6 x & 4 & \\cos{\\left(z \\right)}\\\\4 & 0 & 8 z^{7}\\\\\\cos{\\left(z \\right)} & 8 z^{7} & - x \\sin{\\left(z \\right)} + 56 y z^{6}\\end{matrix}\\right]$"
      ],
      "text/plain": [
       "Matrix([\n",
       "[   6*x,      4,                cos(z)],\n",
       "[     4,      0,                8*z**7],\n",
       "[cos(z), 8*z**7, -x*sin(z) + 56*y*z**6]])"
      ]
     },
     "execution_count": 39,
     "metadata": {},
     "output_type": "execute_result"
    }
   ],
   "source": [
    "sy.hessian(f,(x,y,z))"
   ]
  },
  {
   "cell_type": "code",
   "execution_count": 40,
   "metadata": {
    "id": "U3AbOh9Ae5gM"
   },
   "outputs": [],
   "source": [
    "# fungsi --------> Gradien --------> Hessian\n",
    "#     derive_by_array      sy.Jacobian\n",
    "\n",
    "# fungsi --------------------------> Hesian\n",
    "#                 sy.hessian"
   ]
  },
  {
   "cell_type": "markdown",
   "metadata": {
    "id": "VTifrIH1fuX0"
   },
   "source": [
    "**Turunan Parsial Numerik**"
   ]
  },
  {
   "cell_type": "code",
   "execution_count": 41,
   "metadata": {
    "id": "Un-5Fuj5f0n7"
   },
   "outputs": [],
   "source": [
    "import numpy as np\n",
    "def f(x,y):\n",
    "  return x**2*y+2*x**3*y+y**4\n",
    "\n",
    "x = np.linspace(1,10)\n",
    "y = np.linspace(1,10)\n",
    "z = np.array([[f(i,j) for i in x] for j in y])\n",
    "\n",
    "dx,dy = np.gradient(z)"
   ]
  },
  {
   "cell_type": "code",
   "execution_count": 42,
   "metadata": {
    "colab": {
     "base_uri": "https://localhost:8080/"
    },
    "id": "Couz9x2FhI7j",
    "outputId": "e1dce15b-cb47-4df2-95c0-6af59a1b6c44"
   },
   "outputs": [
    {
     "data": {
      "text/plain": [
       "array([[4.00000000e+00, 5.71793215e+00, 7.98252429e+00, ...,\n",
       "        1.88137733e+03, 1.98916795e+03, 2.10100000e+03],\n",
       "       [5.51405365e+00, 7.54752436e+00, 1.02280620e+01, ...,\n",
       "        2.22771579e+03, 2.35530469e+03, 2.48767732e+03],\n",
       "       [7.59758576e+00, 9.94659503e+00, 1.30430782e+01, ...,\n",
       "        2.57462373e+03, 2.72201090e+03, 2.87492412e+03],\n",
       "       ...,\n",
       "       [8.63851183e+03, 8.65506008e+03, 8.67687411e+03, ...,\n",
       "        2.67226363e+04, 2.77609459e+04, 2.88381853e+04],\n",
       "       [9.31474995e+03, 9.33161373e+03, 9.35384371e+03, ...,\n",
       "        2.77436988e+04, 2.88018068e+04, 2.98995867e+04],\n",
       "       [1.00300000e+04, 1.00471793e+04, 1.00698252e+04, ...,\n",
       "        2.88037733e+04, 2.98816795e+04, 3.10000000e+04]])"
      ]
     },
     "execution_count": 42,
     "metadata": {},
     "output_type": "execute_result"
    }
   ],
   "source": [
    "z"
   ]
  },
  {
   "cell_type": "code",
   "execution_count": 43,
   "metadata": {
    "colab": {
     "base_uri": "https://localhost:8080/"
    },
    "id": "wI56xEhghMIj",
    "outputId": "ad74456d-f28b-4803-9b45-b697c3743325"
   },
   "outputs": [
    {
     "data": {
      "text/plain": [
       "(50, 50)"
      ]
     },
     "execution_count": 43,
     "metadata": {},
     "output_type": "execute_result"
    }
   ],
   "source": [
    "z.shape"
   ]
  },
  {
   "cell_type": "code",
   "execution_count": 44,
   "metadata": {
    "colab": {
     "base_uri": "https://localhost:8080/"
    },
    "id": "cn0UeRUbhfpz",
    "outputId": "46691d43-5540-4423-dc38-5bbbfe4c992a"
   },
   "outputs": [
    {
     "data": {
      "text/plain": [
       "array([[   1.51405365,    1.82959221,    2.2455377 , ...,  346.33846043,\n",
       "         366.13673811,  386.67731896],\n",
       "       [   1.79879288,    2.11433144,    2.53027693, ...,  346.62319966,\n",
       "         366.42147734,  386.96205819],\n",
       "       [   2.46311416,    2.77865272,    3.19459822, ...,  347.28752094,\n",
       "         367.08579863,  387.62637947],\n",
       "       ...,\n",
       "       [ 657.45523618,  657.77077474,  658.18672024, ..., 1002.27964296,\n",
       "        1022.07792064, 1042.61850149],\n",
       "       [ 695.74408466,  696.05962322,  696.47556871, ..., 1040.56849144,\n",
       "        1060.36676912, 1080.90734997],\n",
       "       [ 715.25004974,  715.5655883 ,  715.98153379, ..., 1060.07445652,\n",
       "        1079.8727342 , 1100.41331505]])"
      ]
     },
     "execution_count": 44,
     "metadata": {},
     "output_type": "execute_result"
    }
   ],
   "source": [
    "dx"
   ]
  },
  {
   "cell_type": "code",
   "execution_count": 45,
   "metadata": {
    "colab": {
     "base_uri": "https://localhost:8080/"
    },
    "id": "ufZFyeG0hhlr",
    "outputId": "2ced1592-b76a-41a3-914d-6e71a0b0f73e"
   },
   "outputs": [
    {
     "data": {
      "text/plain": [
       "array([[   1.71793215,    1.99126214,    2.57510051, ...,  105.80708718,\n",
       "         109.81133711,  111.83205127],\n",
       "       [   2.03347071,    2.35700417,    3.04807816, ...,  125.24104197,\n",
       "         129.98076638,  132.37263212],\n",
       "       [   2.34900927,    2.7227462 ,    3.5210558 , ...,  144.67499676,\n",
       "         150.15019564,  152.91321296],\n",
       "       ...,\n",
       "       [  16.54824442,   19.18113739,   24.80504982, ..., 1019.20296225,\n",
       "        1057.7745126 , 1077.23935102],\n",
       "       [  16.86378298,   19.54687942,   25.27802746, ..., 1038.63691704,\n",
       "        1077.94394186, 1097.77993187],\n",
       "       [  17.17932154,   19.91262144,   25.75100511, ..., 1058.07087183,\n",
       "        1098.11337113, 1118.32051271]])"
      ]
     },
     "execution_count": 45,
     "metadata": {},
     "output_type": "execute_result"
    }
   ],
   "source": [
    "dy"
   ]
  },
  {
   "cell_type": "code",
   "execution_count": 46,
   "metadata": {
    "colab": {
     "base_uri": "https://localhost:8080/",
     "height": 354
    },
    "id": "lWm9S4xmin2T",
    "outputId": "d45aa86c-0c9c-4342-c9cc-f10ac59d4b94"
   },
   "outputs": [
    {
     "data": {
      "text/plain": [
       "Text(0.5, 1.0, 'dy')"
      ]
     },
     "execution_count": 46,
     "metadata": {},
     "output_type": "execute_result"
    },
    {
     "data": {
      "image/png": "[encoded data removed]",
      "text/plain": [
       "<Figure size 1224x360 with 3 Axes>"
      ]
     },
     "metadata": {
      "needs_background": "light"
     },
     "output_type": "display_data"
    }
   ],
   "source": [
    "fig, ax = plt.subplots(ncols=3,figsize=(17,5))\n",
    "ax[0].imshow(z)\n",
    "ax[0].set_title('f(x,y)')\n",
    "ax[1].imshow(dx)\n",
    "ax[1].set_title('dx')\n",
    "ax[2].imshow(dy)\n",
    "ax[2].set_title('dy')"
   ]
  },
  {
   "cell_type": "markdown",
   "metadata": {
    "id": "SCs-HWkcjNLD"
   },
   "source": [
    "**Integral**"
   ]
  },
  {
   "cell_type": "markdown",
   "metadata": {
    "id": "Ue78h6CFrYvd"
   },
   "source": [
    "Symbol"
   ]
  },
  {
   "cell_type": "code",
   "execution_count": 47,
   "metadata": {
    "colab": {
     "base_uri": "https://localhost:8080/",
     "height": 39
    },
    "id": "8ihQX4OKrXrO",
    "outputId": "f7f90539-9e6d-4db2-c5cb-d1dec31b9707"
   },
   "outputs": [
    {
     "data": {
      "text/latex": [
       "$\\displaystyle 2 x^{2} + 4 x - 1$"
      ],
      "text/plain": [
       "2*x**2 + 4*x - 1"
      ]
     },
     "execution_count": 47,
     "metadata": {},
     "output_type": "execute_result"
    }
   ],
   "source": [
    "import sympy as sy\n",
    "\n",
    "x = sy.Symbol('x')\n",
    "f = 2*x**2+4*x-1\n",
    "f"
   ]
  },
  {
   "cell_type": "code",
   "execution_count": 48,
   "metadata": {
    "colab": {
     "base_uri": "https://localhost:8080/",
     "height": 54
    },
    "id": "v-TqOMWTrj_C",
    "outputId": "aea3af63-5308-4fd1-f001-2e5ddb25588a"
   },
   "outputs": [
    {
     "data": {
      "text/latex": [
       "$\\displaystyle \\frac{2 x^{3}}{3} + 2 x^{2} - x$"
      ],
      "text/plain": [
       "2*x**3/3 + 2*x**2 - x"
      ]
     },
     "execution_count": 48,
     "metadata": {},
     "output_type": "execute_result"
    }
   ],
   "source": [
    "sy.integrate(f)"
   ]
  },
  {
   "cell_type": "markdown",
   "metadata": {
    "id": "y8utICd_rpAL"
   },
   "source": [
    "Numeric-Fungsi"
   ]
  },
  {
   "cell_type": "code",
   "execution_count": 49,
   "metadata": {
    "colab": {
     "base_uri": "https://localhost:8080/"
    },
    "id": "LulBv3U_rr4B",
    "outputId": "253655f6-6352-45b7-c7fb-579bbab303d6"
   },
   "outputs": [
    {
     "name": "stdout",
     "output_type": "stream",
     "text": [
      "(117.0, 1.2989609388114332e-12)\n"
     ]
    }
   ],
   "source": [
    "from scipy import integrate\n",
    "\n",
    "def f(x):\n",
    "  return 2*x**2+4*x-1\n",
    "\n",
    "A = integrate.quad(f,2,5) # (nama_var, batas atas(b), batas bawah(a))\n",
    "print(A)\n",
    "\n",
    "# (hasil integral, nilai error)\n",
    "# semakin kecil errornya, makin akurat"
   ]
  },
  {
   "cell_type": "markdown",
   "metadata": {
    "id": "oieDAuPDsk8o"
   },
   "source": [
    "Numeric - Data/Array"
   ]
  },
  {
   "cell_type": "code",
   "execution_count": 50,
   "metadata": {
    "colab": {
     "base_uri": "https://localhost:8080/"
    },
    "id": "x8HBlNpKsomg",
    "outputId": "80769ec5-b405-465f-fbe5-62fb84b7592e"
   },
   "outputs": [
    {
     "data": {
      "text/plain": [
       "117.00374843815077"
      ]
     },
     "execution_count": 50,
     "metadata": {},
     "output_type": "execute_result"
    }
   ],
   "source": [
    "from scipy import integrate\n",
    "import numpy as np\n",
    "\n",
    "def f(x):\n",
    "  return 2*x**2+4*x-1\n",
    "\n",
    "x = np.linspace(2,5) #batas integral\n",
    "y = f(x)\n",
    "\n",
    "A = integrate.trapz(y,x) #panggil integral\n",
    "# trapezoid\n",
    "A"
   ]
  }
 ],
 "metadata": {
  "colab": {
   "authorship_tag": "ABX9TyPfbuO7+7fVz/7nAg4m3fOd",
   "collapsed_sections": [],
   "include_colab_link": true,
   "name": "lecture_calculus_gc.ipynb",
   "provenance": []
  },
  "kernelspec": {
   "display_name": "Python 3 (ipykernel)",
   "language": "python",
   "name": "python3"
  },
  "language_info": {
   "codemirror_mode": {
    "name": "ipython",
    "version": 3
   },
   "file_extension": ".py",
   "mimetype": "text/x-python",
   "name": "python",
   "nbconvert_exporter": "python",
   "pygments_lexer": "ipython3",
   "version": "3.9.7"
  }
 },
 "nbformat": 4,
 "nbformat_minor": 1
}
