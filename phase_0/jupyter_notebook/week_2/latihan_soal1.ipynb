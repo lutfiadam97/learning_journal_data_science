{
 "cells": [
  {
   "cell_type": "markdown",
   "metadata": {},
   "source": [
    "# Problem 1\n",
    "### Dalam suatu sesi uji coba mobil Tesla, hasil GPS tracking menunjukkan bahwa mobil uji bergerak mengikuti pola grafik X(t)=2t^3+3t^2-5t+6 km. Berapa kecepatan mobil uji pada 1,5 jam pertama? (Rumus kecepatan = V(t)=dX(t)/dt."
   ]
  },
  {
   "cell_type": "code",
   "execution_count": 10,
   "metadata": {},
   "outputs": [],
   "source": [
    "import numpy as np\n",
    "import sympy as sy "
   ]
  },
  {
   "cell_type": "code",
   "execution_count": 11,
   "metadata": {},
   "outputs": [],
   "source": [
    "t = sy.Symbol('t')\n",
    "x = 2*t**3+3*t**2-5*t+6"
   ]
  },
  {
   "cell_type": "code",
   "execution_count": 12,
   "metadata": {},
   "outputs": [
    {
     "data": {
      "text/latex": [
       "$\\displaystyle 2 t^{3} + 3 t^{2} - 5 t + 6$"
      ],
      "text/plain": [
       "2*t**3 + 3*t**2 - 5*t + 6"
      ]
     },
     "execution_count": 12,
     "metadata": {},
     "output_type": "execute_result"
    }
   ],
   "source": [
    "x"
   ]
  },
  {
   "cell_type": "code",
   "execution_count": 19,
   "metadata": {},
   "outputs": [],
   "source": [
    "# rumus kecepatan = turunan dari x (perpindahan)\n",
    "V = x.diff()"
   ]
  },
  {
   "cell_type": "code",
   "execution_count": 14,
   "metadata": {},
   "outputs": [
    {
     "data": {
      "text/latex": [
       "$\\displaystyle 6 t^{2} + 6 t - 5$"
      ],
      "text/plain": [
       "6*t**2 + 6*t - 5"
      ]
     },
     "execution_count": 14,
     "metadata": {},
     "output_type": "execute_result"
    }
   ],
   "source": [
    "V"
   ]
  },
  {
   "cell_type": "code",
   "execution_count": 23,
   "metadata": {},
   "outputs": [],
   "source": [
    "def kecepatan(t):\n",
    "    v = 6*t**2+6*t-5\n",
    "    return v"
   ]
  },
  {
   "cell_type": "code",
   "execution_count": 31,
   "metadata": {},
   "outputs": [
    {
     "name": "stdout",
     "output_type": "stream",
     "text": [
      "Kecepatan mobil uji pada 1.5 jam pertama adalah 17.5 km/s\n"
     ]
    }
   ],
   "source": [
    "# t = 1.5 jam\n",
    "print(\"Kecepatan mobil uji pada 1.5 jam pertama adalah\", kecepatan(1.5), \"km/s\")"
   ]
  },
  {
   "cell_type": "markdown",
   "metadata": {},
   "source": [
    "Cari perpindahan mobil uji dengan menggunakan integral. V(t)= 6t^2 + 6t - 5"
   ]
  },
  {
   "cell_type": "code",
   "execution_count": 26,
   "metadata": {},
   "outputs": [],
   "source": [
    "import sympy as sy"
   ]
  },
  {
   "cell_type": "code",
   "execution_count": 27,
   "metadata": {},
   "outputs": [],
   "source": [
    "t = sy.Symbol('t')\n",
    "V = 6*t**2+6*t-5"
   ]
  },
  {
   "cell_type": "code",
   "execution_count": 28,
   "metadata": {},
   "outputs": [
    {
     "data": {
      "text/latex": [
       "$\\displaystyle 6 t^{2} + 6 t - 5$"
      ],
      "text/plain": [
       "6*t**2 + 6*t - 5"
      ]
     },
     "execution_count": 28,
     "metadata": {},
     "output_type": "execute_result"
    }
   ],
   "source": [
    "V"
   ]
  },
  {
   "cell_type": "code",
   "execution_count": 29,
   "metadata": {},
   "outputs": [
    {
     "data": {
      "text/latex": [
       "$\\displaystyle 2 t^{3} + 3 t^{2} - 5 t$"
      ],
      "text/plain": [
       "2*t**3 + 3*t**2 - 5*t"
      ]
     },
     "execution_count": 29,
     "metadata": {},
     "output_type": "execute_result"
    }
   ],
   "source": [
    "# integralkan V terhadap t dan hasilnya dapat persamaan x\n",
    "x = sy.integrate(V)\n",
    "x"
   ]
  },
  {
   "cell_type": "code",
   "execution_count": 34,
   "metadata": {},
   "outputs": [
    {
     "name": "stdout",
     "output_type": "stream",
     "text": [
      "Perpindahan mobil uji pada 1.5 jam pertama adalah 12.0 km\n"
     ]
    }
   ],
   "source": [
    "# t = 1.5 jam\n",
    "# c = 6 (konstanta)\n",
    "def perpindahan(t):\n",
    "    return 2*t**3+3*t**2-5*t + 6\n",
    "\n",
    "print(\"Perpindahan mobil uji pada 1.5 jam pertama adalah\", perpindahan(1.5), \"km\")"
   ]
  },
  {
   "cell_type": "code",
   "execution_count": null,
   "metadata": {},
   "outputs": [],
   "source": []
  }
 ],
 "metadata": {
  "interpreter": {
   "hash": "d1eb415d2423691ab8033da02aac34a6b832aa094a09316f8fa35d1fd611d4d8"
  },
  "kernelspec": {
   "display_name": "Python 3 (ipykernel)",
   "language": "python",
   "name": "python3"
  },
  "language_info": {
   "codemirror_mode": {
    "name": "ipython",
    "version": 3
   },
   "file_extension": ".py",
   "mimetype": "text/x-python",
   "name": "python",
   "nbconvert_exporter": "python",
   "pygments_lexer": "ipython3",
   "version": "3.9.7"
  }
 },
 "nbformat": 4,
 "nbformat_minor": 2
}
