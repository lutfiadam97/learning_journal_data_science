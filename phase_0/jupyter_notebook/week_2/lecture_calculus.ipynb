{
 "cells": [
  {
   "cell_type": "markdown",
   "metadata": {},
   "source": [
    "# Calculus"
   ]
  },
  {
   "cell_type": "markdown",
   "metadata": {},
   "source": [
    "Studied continuous changes"
   ]
  },
  {
   "cell_type": "markdown",
   "metadata": {},
   "source": [
    "## Turunan Simbolic"
   ]
  },
  {
   "cell_type": "code",
   "execution_count": 2,
   "metadata": {},
   "outputs": [],
   "source": [
    "import sympy as sy"
   ]
  },
  {
   "cell_type": "code",
   "execution_count": 3,
   "metadata": {},
   "outputs": [],
   "source": [
    "# f(x) = 2x^2 + 4x - 1\n",
    "x = sy.Symbol('x')\n",
    "f = 2*x**2+4*x-1"
   ]
  },
  {
   "cell_type": "code",
   "execution_count": 4,
   "metadata": {},
   "outputs": [
    {
     "data": {
      "text/latex": [
       "$\\displaystyle 2 x^{2} + 4 x - 1$"
      ],
      "text/plain": [
       "2*x**2 + 4*x - 1"
      ]
     },
     "execution_count": 4,
     "metadata": {},
     "output_type": "execute_result"
    }
   ],
   "source": [
    "f"
   ]
  },
  {
   "cell_type": "markdown",
   "metadata": {},
   "source": [
    "### Bisa lihat di google colab"
   ]
  },
  {
   "cell_type": "markdown",
   "metadata": {},
   "source": [
    "---"
   ]
  },
  {
   "cell_type": "markdown",
   "metadata": {},
   "source": [
    "## Turunan Numerik"
   ]
  },
  {
   "cell_type": "code",
   "execution_count": 5,
   "metadata": {},
   "outputs": [],
   "source": [
    "import numpy as np"
   ]
  },
  {
   "cell_type": "code",
   "execution_count": 6,
   "metadata": {},
   "outputs": [],
   "source": [
    "X = np.linspace(-20,20)\n",
    "Y = 2*X**2+4*X-1"
   ]
  },
  {
   "cell_type": "code",
   "execution_count": 7,
   "metadata": {},
   "outputs": [
    {
     "data": {
      "text/plain": [
       "array([-20.        , -19.18367347, -18.36734694, -17.55102041,\n",
       "       -16.73469388, -15.91836735, -15.10204082, -14.28571429,\n",
       "       -13.46938776, -12.65306122, -11.83673469, -11.02040816,\n",
       "       -10.20408163,  -9.3877551 ,  -8.57142857,  -7.75510204,\n",
       "        -6.93877551,  -6.12244898,  -5.30612245,  -4.48979592,\n",
       "        -3.67346939,  -2.85714286,  -2.04081633,  -1.2244898 ,\n",
       "        -0.40816327,   0.40816327,   1.2244898 ,   2.04081633,\n",
       "         2.85714286,   3.67346939,   4.48979592,   5.30612245,\n",
       "         6.12244898,   6.93877551,   7.75510204,   8.57142857,\n",
       "         9.3877551 ,  10.20408163,  11.02040816,  11.83673469,\n",
       "        12.65306122,  13.46938776,  14.28571429,  15.10204082,\n",
       "        15.91836735,  16.73469388,  17.55102041,  18.36734694,\n",
       "        19.18367347,  20.        ])"
      ]
     },
     "execution_count": 7,
     "metadata": {},
     "output_type": "execute_result"
    }
   ],
   "source": [
    "X"
   ]
  },
  {
   "cell_type": "code",
   "execution_count": 8,
   "metadata": {},
   "outputs": [
    {
     "data": {
      "text/plain": [
       "(50,)"
      ]
     },
     "execution_count": 8,
     "metadata": {},
     "output_type": "execute_result"
    }
   ],
   "source": [
    "X.shape"
   ]
  },
  {
   "cell_type": "code",
   "execution_count": 9,
   "metadata": {},
   "outputs": [
    {
     "data": {
      "text/plain": [
       "array([ 7.19000000e+02,  6.58291962e+02,  6.00249479e+02,  5.44872553e+02,\n",
       "        4.92161183e+02,  4.42115369e+02,  3.94735110e+02,  3.50020408e+02,\n",
       "        3.07971262e+02,  2.68587672e+02,  2.31869638e+02,  1.97817160e+02,\n",
       "        1.66430237e+02,  1.37708871e+02,  1.11653061e+02,  8.82628072e+01,\n",
       "        6.75381091e+01,  4.94789671e+01,  3.40853811e+01,  2.13573511e+01,\n",
       "        1.12948771e+01,  3.89795918e+00, -8.33402749e-01, -2.89920866e+00,\n",
       "       -2.29945856e+00,  9.65847564e-01,  6.89670970e+00,  1.54931279e+01,\n",
       "        2.67551020e+01,  4.06826322e+01,  5.72757185e+01,  7.65343607e+01,\n",
       "        9.84585589e+01,  1.23048313e+02,  1.50303623e+02,  1.80224490e+02,\n",
       "        2.12810912e+02,  2.48062890e+02,  2.85980425e+02,  3.26563515e+02,\n",
       "        3.69812162e+02,  4.15726364e+02,  4.64306122e+02,  5.15551437e+02,\n",
       "        5.69462307e+02,  6.26038734e+02,  6.85280716e+02,  7.47188255e+02,\n",
       "        8.11761349e+02,  8.79000000e+02])"
      ]
     },
     "execution_count": 9,
     "metadata": {},
     "output_type": "execute_result"
    }
   ],
   "source": [
    "Y"
   ]
  },
  {
   "cell_type": "code",
   "execution_count": 10,
   "metadata": {},
   "outputs": [
    {
     "data": {
      "text/plain": [
       "[<matplotlib.lines.Line2D at 0x21caef1b9a0>]"
      ]
     },
     "execution_count": 10,
     "metadata": {},
     "output_type": "execute_result"
    },
    {
     "data": {
      "image/png": "[encoded data removed]",
      "text/plain": [
       "<Figure size 432x288 with 1 Axes>"
      ]
     },
     "metadata": {
      "needs_background": "light"
     },
     "output_type": "display_data"
    }
   ],
   "source": [
    "import matplotlib.pyplot as plt\n",
    "\n",
    "plt.plot(X,Y)"
   ]
  },
  {
   "cell_type": "code",
   "execution_count": 11,
   "metadata": {},
   "outputs": [],
   "source": [
    "df1 = np.diff(Y)/np.diff(X) # f'(x) = df(x)/dx\n",
    "df2 = np.gradient(Y,X)"
   ]
  },
  {
   "cell_type": "code",
   "execution_count": 12,
   "metadata": {},
   "outputs": [
    {
     "data": {
      "text/plain": [
       "array([-74.36734694, -71.10204082, -67.83673469, -64.57142857,\n",
       "       -61.30612245, -58.04081633, -54.7755102 , -51.51020408,\n",
       "       -48.24489796, -44.97959184, -41.71428571, -38.44897959,\n",
       "       -35.18367347, -31.91836735, -28.65306122, -25.3877551 ,\n",
       "       -22.12244898, -18.85714286, -15.59183673, -12.32653061,\n",
       "        -9.06122449,  -5.79591837,  -2.53061224,   0.73469388,\n",
       "         4.        ,   7.26530612,  10.53061224,  13.79591837,\n",
       "        17.06122449,  20.32653061,  23.59183673,  26.85714286,\n",
       "        30.12244898,  33.3877551 ,  36.65306122,  39.91836735,\n",
       "        43.18367347,  46.44897959,  49.71428571,  52.97959184,\n",
       "        56.24489796,  59.51020408,  62.7755102 ,  66.04081633,\n",
       "        69.30612245,  72.57142857,  75.83673469,  79.10204082,\n",
       "        82.36734694])"
      ]
     },
     "execution_count": 12,
     "metadata": {},
     "output_type": "execute_result"
    }
   ],
   "source": [
    "df1"
   ]
  },
  {
   "cell_type": "code",
   "execution_count": 13,
   "metadata": {},
   "outputs": [
    {
     "data": {
      "text/plain": [
       "(49,)"
      ]
     },
     "execution_count": 13,
     "metadata": {},
     "output_type": "execute_result"
    }
   ],
   "source": [
    "df1.shape"
   ]
  },
  {
   "cell_type": "code",
   "execution_count": 14,
   "metadata": {},
   "outputs": [
    {
     "data": {
      "text/plain": [
       "array([-74.36734694, -72.73469388, -69.46938776, -66.20408163,\n",
       "       -62.93877551, -59.67346939, -56.40816327, -53.14285714,\n",
       "       -49.87755102, -46.6122449 , -43.34693878, -40.08163265,\n",
       "       -36.81632653, -33.55102041, -30.28571429, -27.02040816,\n",
       "       -23.75510204, -20.48979592, -17.2244898 , -13.95918367,\n",
       "       -10.69387755,  -7.42857143,  -4.16326531,  -0.89795918,\n",
       "         2.36734694,   5.63265306,   8.89795918,  12.16326531,\n",
       "        15.42857143,  18.69387755,  21.95918367,  25.2244898 ,\n",
       "        28.48979592,  31.75510204,  35.02040816,  38.28571429,\n",
       "        41.55102041,  44.81632653,  48.08163265,  51.34693878,\n",
       "        54.6122449 ,  57.87755102,  61.14285714,  64.40816327,\n",
       "        67.67346939,  70.93877551,  74.20408163,  77.46938776,\n",
       "        80.73469388,  82.36734694])"
      ]
     },
     "execution_count": 14,
     "metadata": {},
     "output_type": "execute_result"
    }
   ],
   "source": [
    "df2"
   ]
  },
  {
   "cell_type": "code",
   "execution_count": 15,
   "metadata": {},
   "outputs": [
    {
     "data": {
      "text/plain": [
       "[<matplotlib.lines.Line2D at 0x21cb0690190>]"
      ]
     },
     "execution_count": 15,
     "metadata": {},
     "output_type": "execute_result"
    },
    {
     "data": {
      "image/png": "[encoded data removed]",
      "text/plain": [
       "<Figure size 432x288 with 1 Axes>"
      ]
     },
     "metadata": {
      "needs_background": "light"
     },
     "output_type": "display_data"
    }
   ],
   "source": [
    "plt.plot(X[1:],df1)"
   ]
  },
  {
   "cell_type": "code",
   "execution_count": 16,
   "metadata": {},
   "outputs": [
    {
     "data": {
      "text/plain": [
       "(50,)"
      ]
     },
     "execution_count": 16,
     "metadata": {},
     "output_type": "execute_result"
    }
   ],
   "source": [
    "df2.shape"
   ]
  },
  {
   "cell_type": "code",
   "execution_count": 17,
   "metadata": {},
   "outputs": [
    {
     "data": {
      "text/plain": [
       "[<matplotlib.lines.Line2D at 0x21cb070b1c0>]"
      ]
     },
     "execution_count": 17,
     "metadata": {},
     "output_type": "execute_result"
    },
    {
     "data": {
      "image/png": "[encoded data removed]",
      "text/plain": [
       "<Figure size 432x288 with 1 Axes>"
      ]
     },
     "metadata": {
      "needs_background": "light"
     },
     "output_type": "display_data"
    }
   ],
   "source": [
    "plt.plot(X,df2)"
   ]
  },
  {
   "cell_type": "markdown",
   "metadata": {},
   "source": [
    "## Optimisasi"
   ]
  },
  {
   "cell_type": "code",
   "execution_count": 18,
   "metadata": {},
   "outputs": [],
   "source": [
    "from scipy.optimize import minimize_scalar"
   ]
  },
  {
   "cell_type": "code",
   "execution_count": 19,
   "metadata": {},
   "outputs": [
    {
     "data": {
      "text/plain": [
       "     fun: -3.0\n",
       "    nfev: 9\n",
       "     nit: 4\n",
       " success: True\n",
       "       x: -1.0000000000000002"
      ]
     },
     "execution_count": 19,
     "metadata": {},
     "output_type": "execute_result"
    }
   ],
   "source": [
    "# cari nilai minimum global\n",
    "def f(x):\n",
    "    return 2*x**2+4*x-1\n",
    "\n",
    "opt = minimize_scalar(f)\n",
    "opt\n",
    "\n",
    "# fun = nilai minimum global\n",
    "# x = posisi titik ekstrim minimum global"
   ]
  },
  {
   "cell_type": "code",
   "execution_count": 20,
   "metadata": {},
   "outputs": [
    {
     "data": {
      "text/plain": [
       "     fun: -5.0\n",
       "    nfev: 13\n",
       "     nit: 9\n",
       " success: True\n",
       "       x: 0.99999998519"
      ]
     },
     "execution_count": 20,
     "metadata": {},
     "output_type": "execute_result"
    }
   ],
   "source": [
    "# cari global maksimum\n",
    "def f3(x):\n",
    "  return -(x**3 - 6*x**2 + 9*x + 1) #di flip (dikali -1 di fungsinya)\n",
    "\n",
    "minimize_scalar(f3)"
   ]
  },
  {
   "cell_type": "code",
   "execution_count": 21,
   "metadata": {},
   "outputs": [
    {
     "data": {
      "text/plain": [
       "[<matplotlib.lines.Line2D at 0x21cb0fdd9a0>]"
      ]
     },
     "execution_count": 21,
     "metadata": {},
     "output_type": "execute_result"
    },
    {
     "data": {
      "image/png": "[encoded data removed]",
      "text/plain": [
       "<Figure size 432x288 with 1 Axes>"
      ]
     },
     "metadata": {
      "needs_background": "light"
     },
     "output_type": "display_data"
    }
   ],
   "source": [
    "Y3 = X**3 - 6*X**2 + 9*X + 1\n",
    "plt.plot(X,Y3)"
   ]
  },
  {
   "cell_type": "markdown",
   "metadata": {},
   "source": [
    "## Turunan Parsial"
   ]
  },
  {
   "cell_type": "code",
   "execution_count": 22,
   "metadata": {},
   "outputs": [
    {
     "data": {
      "text/latex": [
       "$\\displaystyle x^{3} + 4 x y + x \\sin{\\left(z \\right)} + y z^{8}$"
      ],
      "text/plain": [
       "x**3 + 4*x*y + x*sin(z) + y*z**8"
      ]
     },
     "execution_count": 22,
     "metadata": {},
     "output_type": "execute_result"
    }
   ],
   "source": [
    "x,y,z = sy.symbols('x y z')\n",
    "f = 4*x*y + x*sy.sin(z) + x**3 + z**8*y\n",
    "f"
   ]
  },
  {
   "cell_type": "markdown",
   "metadata": {},
   "source": [
    "lihat di google colab"
   ]
  },
  {
   "cell_type": "markdown",
   "metadata": {},
   "source": [
    "https://colab.research.google.com/drive/1X78qxo0-fLa241sSQzHv8yYNuZN2_oGz#scrollTo=x8HBlNpKsomg"
   ]
  },
  {
   "cell_type": "markdown",
   "metadata": {},
   "source": [
    "## Integral"
   ]
  }
 ],
 "metadata": {
  "interpreter": {
   "hash": "d1eb415d2423691ab8033da02aac34a6b832aa094a09316f8fa35d1fd611d4d8"
  },
  "kernelspec": {
   "display_name": "Python 3.10.1 64-bit",
   "language": "python",
   "name": "python3"
  },
  "language_info": {
   "codemirror_mode": {
    "name": "ipython",
    "version": 3
   },
   "file_extension": ".py",
   "mimetype": "text/x-python",
   "name": "python",
   "nbconvert_exporter": "python",
   "pygments_lexer": "ipython3",
   "version": "3.9.7"
  },
  "orig_nbformat": 4
 },
 "nbformat": 4,
 "nbformat_minor": 2
}
