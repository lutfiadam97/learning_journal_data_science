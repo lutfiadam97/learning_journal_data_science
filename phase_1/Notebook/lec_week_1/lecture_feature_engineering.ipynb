{
 "cells": [
  {
   "cell_type": "markdown",
   "metadata": {},
   "source": [
    "# Feature Engineering"
   ]
  },
  {
   "cell_type": "code",
   "execution_count": 50,
   "metadata": {},
   "outputs": [],
   "source": [
    "# Define Libraries\n",
    "\n",
    "import pandas as pd\n",
    "import numpy as np\n",
    "import matplotlib.pyplot as plt\n",
    "%matplotlib inline\n",
    "import seaborn as sns\n",
    "\n",
    "import warnings\n",
    "warnings.filterwarnings('ignore')\n",
    "\n",
    "# For Regression Problems\n",
    "from sklearn.linear_model import LinearRegression\n",
    "from sklearn.ensemble import RandomForestRegressor\n",
    "\n",
    "# For Classification Problems\n",
    "from sklearn.linear_model import LogisticRegression\n",
    "from sklearn.ensemble import RandomForestClassifier\n",
    "from sklearn.svm import SVC\n",
    "\n",
    "# Split Dataset and Standarize the Datasets\n",
    "from sklearn.model_selection import train_test_split\n",
    "from sklearn.preprocessing import StandardScaler\n",
    "\n",
    "# Evaluate Regression Models\n",
    "from sklearn.metrics import mean_squared_error\n",
    "\n",
    "# Evaluate Classification Models\n",
    "from sklearn.metrics import roc_auc_score"
   ]
  },
  {
   "cell_type": "markdown",
   "metadata": {},
   "source": [
    "# 1. Missing Values\n",
    "\n",
    "Missing Value terjadi ketika tidak ada data/tidak ada nilai yang disimpan untuk observasi tertentu dalam suatu variabel. Missing Values hal yang biasa terjadi baik dalam kompetisi ilmu data maupun dalam domain bisnis, dan dapat berdampak signifikan pada kesimpulan yang dapat diambil dari data tersebut. Data yang tidak lengkap merupakan masalah yang tidak dapat dihindari dalam menangani sebagian besar sumber data."
   ]
  },
  {
   "cell_type": "markdown",
   "metadata": {},
   "source": [
    "## Kenapa bisa terjadi Missing Values?\n",
    "\n",
    "Ada berbagai alasan mengapa data bisa hilang :\n",
    "\n",
    "- Suatu nilai dapat hilang atau tidak tersimpan dengan baik pada saat pengumpulan data.\n",
    "    Bayangkan misalnya bahwa data tersebut berasal dari survei, dan data tersebut dimasukkan secara manual ke dalam formulir online. Entri data dapat dengan mudah lupa untuk melengkapi bidang dalam formulir, dan oleh karena itu, nilai untuk formulir itu akan hilang.\n",
    "- Nilai tidak ada/tidak tersedia.\n",
    "    Contoh : Variabel yang dibuat dengan membagi satu variabel dengan variabel lainnya, seperti rasio utang terhadap pendapatan. Jika orang tersebut tidak memiliki pendapatan, kami tidak dapat menghasilkan nilai karena pembagian dengan nol tidak ditentukan.\n",
    "- Data yang hilang juga muncul ketika orang menolak untuk menjawab pertanyaan tertentu saat mengisi formulir.\n",
    "    Orang yang ditanya mungkin tidak ingin mengungkapkan jawaban atas salah satu pertanyaan, misalnya, pendapatannya. Itu akan menjadi nilai yang hilang untuk orang itu.\n",
    "\n",
    "Bersama dengan memahami sumber data yang hilang, penting untuk memahami mekanisme yang digunakan untuk memasukkan bidang yang hilang dalam kumpulan data. Bergantung pada mekanismenya, kami dapat memilih untuk memproses nilai yang hilang secara berbeda. Selain itu, dengan mengetahui sumber data yang hilang, kita dapat memilih untuk mengambil tindakan untuk mengontrol sumber tersebut, dan mengurangi jumlah data yang hilang selama pengumpulan data."
   ]
  },
  {
   "cell_type": "markdown",
   "metadata": {},
   "source": [
    "### Titanic Datasets\n",
    "\n",
    "Mungkin salah satu bangkai kapal paling terkenal dalam sejarah, Titanic tenggelam setelah bertabrakan dengan gunung es, menewaskan 1502 dari 2224 orang di dalamnya. Menariknya, dengan menganalisis kemungkinan bertahan hidup berdasarkan beberapa atribut seperti jenis kelamin, usia, dan status sosial, kami dapat membuat prediksi yang sangat akurat tentang penumpang mana yang akan bertahan.\n",
    "\n",
    "Beberapa kelompok orang lebih mungkin untuk bertahan hidup daripada yang lain, seperti wanita, anak-anak, dan kelas atas. Oleh karena itu, kita bisa belajar tentang prioritas dan keistimewaan masyarakat saat itu.\n",
    "\n",
    "#### Data Description\n",
    "\n",
    "\n",
    "| Variable | Definition | Key |\n",
    "| --- | --- | --- |\n",
    "| Survival | Survival | 0 = No, <br><br> 1 = Yes |\n",
    "| Pclass\t| Passenger class\t<br><br> (is a proxy for socio-economy class)| 1 = 1st (Upper), <br><br> 2 = 2nd (Middle), <br><br> 3 = 3rd (Lower) |\n",
    "| Sex\t| Sex\t| - |\n",
    "| Age\t| Age in years | - |\n",
    "| Sibsp |\tNumber of siblings / spouses aboard the Titanic\t| - |\n",
    "| Parch\t| Number of parents / children aboard the Titanic\t| - |\n",
    "| Ticket |\tTicket number\t| - |\n",
    "| Fare\t| Passenger fare\t<br><br> (in GBP) | - |\n",
    "| Cabin\t| Cabin number | - |\n",
    "| Embarked\t| Port of Embarkation\t| C = Cherbourg, <br><br> Q = Queenstown, <br><br> S = Southampton |"
   ]
  },
  {
   "cell_type": "markdown",
   "metadata": {},
   "source": [
    "#### Data Loading"
   ]
  },
  {
   "cell_type": "code",
   "execution_count": 51,
   "metadata": {},
   "outputs": [
    {
     "data": {
      "text/html": [
       "<div>\n",
       "<style scoped>\n",
       "    .dataframe tbody tr th:only-of-type {\n",
       "        vertical-align: middle;\n",
       "    }\n",
       "\n",
       "    .dataframe tbody tr th {\n",
       "        vertical-align: top;\n",
       "    }\n",
       "\n",
       "    .dataframe thead th {\n",
       "        text-align: right;\n",
       "    }\n",
       "</style>\n",
       "<table border=\"1\" class=\"dataframe\">\n",
       "  <thead>\n",
       "    <tr style=\"text-align: right;\">\n",
       "      <th></th>\n",
       "      <th>PassengerId</th>\n",
       "      <th>Survived</th>\n",
       "      <th>Pclass</th>\n",
       "      <th>Name</th>\n",
       "      <th>Sex</th>\n",
       "      <th>Age</th>\n",
       "      <th>SibSp</th>\n",
       "      <th>Parch</th>\n",
       "      <th>Ticket</th>\n",
       "      <th>Fare</th>\n",
       "      <th>Cabin</th>\n",
       "      <th>Embarked</th>\n",
       "    </tr>\n",
       "  </thead>\n",
       "  <tbody>\n",
       "    <tr>\n",
       "      <th>0</th>\n",
       "      <td>1</td>\n",
       "      <td>0</td>\n",
       "      <td>3</td>\n",
       "      <td>Braund, Mr. Owen Harris</td>\n",
       "      <td>male</td>\n",
       "      <td>22.0</td>\n",
       "      <td>1</td>\n",
       "      <td>0</td>\n",
       "      <td>A/5 21171</td>\n",
       "      <td>7.2500</td>\n",
       "      <td>NaN</td>\n",
       "      <td>S</td>\n",
       "    </tr>\n",
       "    <tr>\n",
       "      <th>1</th>\n",
       "      <td>2</td>\n",
       "      <td>1</td>\n",
       "      <td>1</td>\n",
       "      <td>Cumings, Mrs. John Bradley (Florence Briggs Th...</td>\n",
       "      <td>female</td>\n",
       "      <td>38.0</td>\n",
       "      <td>1</td>\n",
       "      <td>0</td>\n",
       "      <td>PC 17599</td>\n",
       "      <td>71.2833</td>\n",
       "      <td>C85</td>\n",
       "      <td>C</td>\n",
       "    </tr>\n",
       "    <tr>\n",
       "      <th>2</th>\n",
       "      <td>3</td>\n",
       "      <td>1</td>\n",
       "      <td>3</td>\n",
       "      <td>Heikkinen, Miss. Laina</td>\n",
       "      <td>female</td>\n",
       "      <td>26.0</td>\n",
       "      <td>0</td>\n",
       "      <td>0</td>\n",
       "      <td>STON/O2. 3101282</td>\n",
       "      <td>7.9250</td>\n",
       "      <td>NaN</td>\n",
       "      <td>S</td>\n",
       "    </tr>\n",
       "    <tr>\n",
       "      <th>3</th>\n",
       "      <td>4</td>\n",
       "      <td>1</td>\n",
       "      <td>1</td>\n",
       "      <td>Futrelle, Mrs. Jacques Heath (Lily May Peel)</td>\n",
       "      <td>female</td>\n",
       "      <td>35.0</td>\n",
       "      <td>1</td>\n",
       "      <td>0</td>\n",
       "      <td>113803</td>\n",
       "      <td>53.1000</td>\n",
       "      <td>C123</td>\n",
       "      <td>S</td>\n",
       "    </tr>\n",
       "    <tr>\n",
       "      <th>4</th>\n",
       "      <td>5</td>\n",
       "      <td>0</td>\n",
       "      <td>3</td>\n",
       "      <td>Allen, Mr. William Henry</td>\n",
       "      <td>male</td>\n",
       "      <td>35.0</td>\n",
       "      <td>0</td>\n",
       "      <td>0</td>\n",
       "      <td>373450</td>\n",
       "      <td>8.0500</td>\n",
       "      <td>NaN</td>\n",
       "      <td>S</td>\n",
       "    </tr>\n",
       "    <tr>\n",
       "      <th>5</th>\n",
       "      <td>6</td>\n",
       "      <td>0</td>\n",
       "      <td>3</td>\n",
       "      <td>Moran, Mr. James</td>\n",
       "      <td>male</td>\n",
       "      <td>NaN</td>\n",
       "      <td>0</td>\n",
       "      <td>0</td>\n",
       "      <td>330877</td>\n",
       "      <td>8.4583</td>\n",
       "      <td>NaN</td>\n",
       "      <td>Q</td>\n",
       "    </tr>\n",
       "    <tr>\n",
       "      <th>6</th>\n",
       "      <td>7</td>\n",
       "      <td>0</td>\n",
       "      <td>1</td>\n",
       "      <td>McCarthy, Mr. Timothy J</td>\n",
       "      <td>male</td>\n",
       "      <td>54.0</td>\n",
       "      <td>0</td>\n",
       "      <td>0</td>\n",
       "      <td>17463</td>\n",
       "      <td>51.8625</td>\n",
       "      <td>E46</td>\n",
       "      <td>S</td>\n",
       "    </tr>\n",
       "    <tr>\n",
       "      <th>7</th>\n",
       "      <td>8</td>\n",
       "      <td>0</td>\n",
       "      <td>3</td>\n",
       "      <td>Palsson, Master. Gosta Leonard</td>\n",
       "      <td>male</td>\n",
       "      <td>2.0</td>\n",
       "      <td>3</td>\n",
       "      <td>1</td>\n",
       "      <td>349909</td>\n",
       "      <td>21.0750</td>\n",
       "      <td>NaN</td>\n",
       "      <td>S</td>\n",
       "    </tr>\n",
       "    <tr>\n",
       "      <th>8</th>\n",
       "      <td>9</td>\n",
       "      <td>1</td>\n",
       "      <td>3</td>\n",
       "      <td>Johnson, Mrs. Oscar W (Elisabeth Vilhelmina Berg)</td>\n",
       "      <td>female</td>\n",
       "      <td>27.0</td>\n",
       "      <td>0</td>\n",
       "      <td>2</td>\n",
       "      <td>347742</td>\n",
       "      <td>11.1333</td>\n",
       "      <td>NaN</td>\n",
       "      <td>S</td>\n",
       "    </tr>\n",
       "    <tr>\n",
       "      <th>9</th>\n",
       "      <td>10</td>\n",
       "      <td>1</td>\n",
       "      <td>2</td>\n",
       "      <td>Nasser, Mrs. Nicholas (Adele Achem)</td>\n",
       "      <td>female</td>\n",
       "      <td>14.0</td>\n",
       "      <td>1</td>\n",
       "      <td>0</td>\n",
       "      <td>237736</td>\n",
       "      <td>30.0708</td>\n",
       "      <td>NaN</td>\n",
       "      <td>C</td>\n",
       "    </tr>\n",
       "  </tbody>\n",
       "</table>\n",
       "</div>"
      ],
      "text/plain": [
       "   PassengerId  Survived  Pclass  \\\n",
       "0            1         0       3   \n",
       "1            2         1       1   \n",
       "2            3         1       3   \n",
       "3            4         1       1   \n",
       "4            5         0       3   \n",
       "5            6         0       3   \n",
       "6            7         0       1   \n",
       "7            8         0       3   \n",
       "8            9         1       3   \n",
       "9           10         1       2   \n",
       "\n",
       "                                                Name     Sex   Age  SibSp  \\\n",
       "0                            Braund, Mr. Owen Harris    male  22.0      1   \n",
       "1  Cumings, Mrs. John Bradley (Florence Briggs Th...  female  38.0      1   \n",
       "2                             Heikkinen, Miss. Laina  female  26.0      0   \n",
       "3       Futrelle, Mrs. Jacques Heath (Lily May Peel)  female  35.0      1   \n",
       "4                           Allen, Mr. William Henry    male  35.0      0   \n",
       "5                                   Moran, Mr. James    male   NaN      0   \n",
       "6                            McCarthy, Mr. Timothy J    male  54.0      0   \n",
       "7                     Palsson, Master. Gosta Leonard    male   2.0      3   \n",
       "8  Johnson, Mrs. Oscar W (Elisabeth Vilhelmina Berg)  female  27.0      0   \n",
       "9                Nasser, Mrs. Nicholas (Adele Achem)  female  14.0      1   \n",
       "\n",
       "   Parch            Ticket     Fare Cabin Embarked  \n",
       "0      0         A/5 21171   7.2500   NaN        S  \n",
       "1      0          PC 17599  71.2833   C85        C  \n",
       "2      0  STON/O2. 3101282   7.9250   NaN        S  \n",
       "3      0            113803  53.1000  C123        S  \n",
       "4      0            373450   8.0500   NaN        S  \n",
       "5      0            330877   8.4583   NaN        Q  \n",
       "6      0             17463  51.8625   E46        S  \n",
       "7      1            349909  21.0750   NaN        S  \n",
       "8      2            347742  11.1333   NaN        S  \n",
       "9      0            237736  30.0708   NaN        C  "
      ]
     },
     "execution_count": 51,
     "metadata": {},
     "output_type": "execute_result"
    }
   ],
   "source": [
    "# Load Titanic Dataset\n",
    "\n",
    "data_titanic_ori = pd.read_csv('dataset/data_titanic_train.csv')\n",
    "data_titanic = data_titanic_ori.copy()\n",
    "data_titanic.head(10)"
   ]
  },
  {
   "cell_type": "code",
   "execution_count": 52,
   "metadata": {},
   "outputs": [
    {
     "data": {
      "text/plain": [
       "PassengerId      0\n",
       "Survived         0\n",
       "Pclass           0\n",
       "Name             0\n",
       "Sex              0\n",
       "Age            177\n",
       "SibSp            0\n",
       "Parch            0\n",
       "Ticket           0\n",
       "Fare             0\n",
       "Cabin          687\n",
       "Embarked         2\n",
       "dtype: int64"
      ]
     },
     "execution_count": 52,
     "metadata": {},
     "output_type": "execute_result"
    }
   ],
   "source": [
    "# Check Missing Values\n",
    "\n",
    "data_titanic.isnull().sum()"
   ]
  },
  {
   "cell_type": "code",
   "execution_count": 53,
   "metadata": {},
   "outputs": [
    {
     "data": {
      "text/plain": [
       "PassengerId    0.000000\n",
       "Survived       0.000000\n",
       "Pclass         0.000000\n",
       "Name           0.000000\n",
       "Sex            0.000000\n",
       "Age            0.198653\n",
       "SibSp          0.000000\n",
       "Parch          0.000000\n",
       "Ticket         0.000000\n",
       "Fare           0.000000\n",
       "Cabin          0.771044\n",
       "Embarked       0.002245\n",
       "dtype: float64"
      ]
     },
     "execution_count": 53,
     "metadata": {},
     "output_type": "execute_result"
    }
   ],
   "source": [
    "# Check Missing Values as Percentage to Total Data\n",
    "\n",
    "data_titanic.isnull().mean()"
   ]
  },
  {
   "cell_type": "markdown",
   "metadata": {},
   "source": [
    "### Missing Data Mechanisms\n",
    "\n",
    "Ada 3 mekanisme yang menyebabkan hilangnya data, 2 di antaranya melibatkan data yang hilang secara acak atau hampir acak (random), dan yang ketiga melibatkan hilangnya data secara sistematis."
   ]
  },
  {
   "cell_type": "markdown",
   "metadata": {},
   "source": [
    "#### 1. Missing Completely at Random (MCAR)\n",
    "\n",
    "Ciri-ciri :\n",
    "\n",
    "- **Probabilitas yang hilang adalah sama untuk semua pengamatan (baris)**.\n",
    "- Sama sekali **tidak ada hubungan antara data yang hilang dan nilai lainnya, yang diamati atau hilang, di dalam kumpulan data**. Dengan kata lain, titik-titik data yang hilang itu adalah bagian acak dari data. Tidak ada yang sistematis terjadi yang membuat beberapa data lebih mungkin hilang daripada yang lain.\n",
    "- Mengabaikan kasus-kasus tersebut tidak akan membuat kesimpulan yang dibuat bias (hanya jika jumlah total missing values kecil)."
   ]
  },
  {
   "cell_type": "code",
   "execution_count": 54,
   "metadata": {},
   "outputs": [
    {
     "data": {
      "text/html": [
       "<div>\n",
       "<style scoped>\n",
       "    .dataframe tbody tr th:only-of-type {\n",
       "        vertical-align: middle;\n",
       "    }\n",
       "\n",
       "    .dataframe tbody tr th {\n",
       "        vertical-align: top;\n",
       "    }\n",
       "\n",
       "    .dataframe thead th {\n",
       "        text-align: right;\n",
       "    }\n",
       "</style>\n",
       "<table border=\"1\" class=\"dataframe\">\n",
       "  <thead>\n",
       "    <tr style=\"text-align: right;\">\n",
       "      <th></th>\n",
       "      <th>PassengerId</th>\n",
       "      <th>Survived</th>\n",
       "      <th>Pclass</th>\n",
       "      <th>Name</th>\n",
       "      <th>Sex</th>\n",
       "      <th>Age</th>\n",
       "      <th>SibSp</th>\n",
       "      <th>Parch</th>\n",
       "      <th>Ticket</th>\n",
       "      <th>Fare</th>\n",
       "      <th>Cabin</th>\n",
       "      <th>Embarked</th>\n",
       "    </tr>\n",
       "  </thead>\n",
       "  <tbody>\n",
       "    <tr>\n",
       "      <th>61</th>\n",
       "      <td>62</td>\n",
       "      <td>1</td>\n",
       "      <td>1</td>\n",
       "      <td>Icard, Miss. Amelie</td>\n",
       "      <td>female</td>\n",
       "      <td>38.0</td>\n",
       "      <td>0</td>\n",
       "      <td>0</td>\n",
       "      <td>113572</td>\n",
       "      <td>80.0</td>\n",
       "      <td>B28</td>\n",
       "      <td>NaN</td>\n",
       "    </tr>\n",
       "    <tr>\n",
       "      <th>829</th>\n",
       "      <td>830</td>\n",
       "      <td>1</td>\n",
       "      <td>1</td>\n",
       "      <td>Stone, Mrs. George Nelson (Martha Evelyn)</td>\n",
       "      <td>female</td>\n",
       "      <td>62.0</td>\n",
       "      <td>0</td>\n",
       "      <td>0</td>\n",
       "      <td>113572</td>\n",
       "      <td>80.0</td>\n",
       "      <td>B28</td>\n",
       "      <td>NaN</td>\n",
       "    </tr>\n",
       "  </tbody>\n",
       "</table>\n",
       "</div>"
      ],
      "text/plain": [
       "     PassengerId  Survived  Pclass                                       Name  \\\n",
       "61            62         1       1                        Icard, Miss. Amelie   \n",
       "829          830         1       1  Stone, Mrs. George Nelson (Martha Evelyn)   \n",
       "\n",
       "        Sex   Age  SibSp  Parch  Ticket  Fare Cabin Embarked  \n",
       "61   female  38.0      0      0  113572  80.0   B28      NaN  \n",
       "829  female  62.0      0      0  113572  80.0   B28      NaN  "
      ]
     },
     "execution_count": 54,
     "metadata": {},
     "output_type": "execute_result"
    }
   ],
   "source": [
    "# check missing values for variable \"Embraked\"\n",
    "\n",
    "data_titanic[data_titanic.Embarked.isnull()]"
   ]
  },
  {
   "cell_type": "markdown",
   "metadata": {},
   "source": [
    "Seperti yang Anda lihat di atas, Miss Icard dan Mrs Stones bepergian bersama. Hal ini terlihat dari jenis Tiket yang sama. Setelah mencari di internet, ditemukan bahwa Nona Icard adalah pembantu Nyonya Stone.\n",
    "\n",
    "Kesimpulan dari missing values dari kolom Embarked (berdasarkan asumsi pribadi) :\n",
    "\n",
    "- Tampaknya tidak ada indikasi bahwa informasi yang hilang dalam variabel Embarked bergantung pada variabel lain.\n",
    "- Fakta bahwa para wanita ini selamat, berarti mereka mungkin dimintai informasi ini.\n",
    "-Kemungkinan besar ketidakhadiran ini dihasilkan pada saat membangun kumpulan data dan oleh karena itu kita dapat berasumsi bahwa itu benar-benar acak.\n",
    "- Kita dapat berasumsi bahwa probabilitas hilangnya data untuk 2 wanita ini sama dengan probabilitas hilangnya variabel ini untuk orang lain. Tentu saja ini akan sulit, jika mungkin sama sekali, untuk dibuktikan."
   ]
  },
  {
   "cell_type": "markdown",
   "metadata": {},
   "source": [
    "#### 2. Missing at Random (MAR)\n",
    "\n",
    "Ciri-ciri :\n",
    "\n",
    "- **Probabilitas pengamatan yang hilang hanya bergantung pada informasi yang tersedia**.\n",
    "\n",
    "- **Ada hubungan sistematis antara kecenderungan missing value dan data yang diamati**.\n"
   ]
  },
  {
   "cell_type": "markdown",
   "metadata": {},
   "source": [
    "#### 3. Missing Not At Random (MNAR)\n",
    "\n",
    "Ciri-ciri :\n",
    "\n",
    "- **Ada mekanisme atau alasan mengapa nilai yang hilang dimasukkan ke dalam** kumpulan data.\n",
    "\n",
    "- Hilangnya mereka tergantung pada informasi yang tidak tercatat dalam dataset.\n",
    "\n",
    "- Dalam situasi ini, lebih baik kita menandai nilai-nilai yang hilang itu untuk memprediksi target kita.\n"
   ]
  },
  {
   "cell_type": "markdown",
   "metadata": {},
   "source": [
    "Bikin asumsi dari data titanic :\n",
    "- Banyak orang yang tidak selamat, umur yang mereka miliki atau kabin tempat mereka tempati tidak dapat ditentukan. Orang-orang yang selamat dapat dimintai informasinya.\n"
   ]
  },
  {
   "cell_type": "markdown",
   "metadata": {},
   "source": [
    "Dari asumsi diatas kami menyatakan bahwa hilangnya data 'Age' dan 'Cabin' merupakan efek dari parameter 'survived' yaitu 0 dimana penumpang tidak selamat."
   ]
  },
  {
   "cell_type": "code",
   "execution_count": 55,
   "metadata": {},
   "outputs": [
    {
     "data": {
      "text/html": [
       "<div>\n",
       "<style scoped>\n",
       "    .dataframe tbody tr th:only-of-type {\n",
       "        vertical-align: middle;\n",
       "    }\n",
       "\n",
       "    .dataframe tbody tr th {\n",
       "        vertical-align: top;\n",
       "    }\n",
       "\n",
       "    .dataframe thead th {\n",
       "        text-align: right;\n",
       "    }\n",
       "</style>\n",
       "<table border=\"1\" class=\"dataframe\">\n",
       "  <thead>\n",
       "    <tr style=\"text-align: right;\">\n",
       "      <th></th>\n",
       "      <th>PassengerId</th>\n",
       "      <th>Survived</th>\n",
       "      <th>Pclass</th>\n",
       "      <th>Name</th>\n",
       "      <th>Sex</th>\n",
       "      <th>Age</th>\n",
       "      <th>SibSp</th>\n",
       "      <th>Parch</th>\n",
       "      <th>Ticket</th>\n",
       "      <th>Fare</th>\n",
       "      <th>Cabin</th>\n",
       "      <th>Embarked</th>\n",
       "      <th>cabin_null</th>\n",
       "    </tr>\n",
       "  </thead>\n",
       "  <tbody>\n",
       "    <tr>\n",
       "      <th>0</th>\n",
       "      <td>1</td>\n",
       "      <td>0</td>\n",
       "      <td>3</td>\n",
       "      <td>Braund, Mr. Owen Harris</td>\n",
       "      <td>male</td>\n",
       "      <td>22.0</td>\n",
       "      <td>1</td>\n",
       "      <td>0</td>\n",
       "      <td>A/5 21171</td>\n",
       "      <td>7.2500</td>\n",
       "      <td>NaN</td>\n",
       "      <td>S</td>\n",
       "      <td>1</td>\n",
       "    </tr>\n",
       "    <tr>\n",
       "      <th>1</th>\n",
       "      <td>2</td>\n",
       "      <td>1</td>\n",
       "      <td>1</td>\n",
       "      <td>Cumings, Mrs. John Bradley (Florence Briggs Th...</td>\n",
       "      <td>female</td>\n",
       "      <td>38.0</td>\n",
       "      <td>1</td>\n",
       "      <td>0</td>\n",
       "      <td>PC 17599</td>\n",
       "      <td>71.2833</td>\n",
       "      <td>C85</td>\n",
       "      <td>C</td>\n",
       "      <td>0</td>\n",
       "    </tr>\n",
       "    <tr>\n",
       "      <th>2</th>\n",
       "      <td>3</td>\n",
       "      <td>1</td>\n",
       "      <td>3</td>\n",
       "      <td>Heikkinen, Miss. Laina</td>\n",
       "      <td>female</td>\n",
       "      <td>26.0</td>\n",
       "      <td>0</td>\n",
       "      <td>0</td>\n",
       "      <td>STON/O2. 3101282</td>\n",
       "      <td>7.9250</td>\n",
       "      <td>NaN</td>\n",
       "      <td>S</td>\n",
       "      <td>1</td>\n",
       "    </tr>\n",
       "    <tr>\n",
       "      <th>3</th>\n",
       "      <td>4</td>\n",
       "      <td>1</td>\n",
       "      <td>1</td>\n",
       "      <td>Futrelle, Mrs. Jacques Heath (Lily May Peel)</td>\n",
       "      <td>female</td>\n",
       "      <td>35.0</td>\n",
       "      <td>1</td>\n",
       "      <td>0</td>\n",
       "      <td>113803</td>\n",
       "      <td>53.1000</td>\n",
       "      <td>C123</td>\n",
       "      <td>S</td>\n",
       "      <td>0</td>\n",
       "    </tr>\n",
       "    <tr>\n",
       "      <th>4</th>\n",
       "      <td>5</td>\n",
       "      <td>0</td>\n",
       "      <td>3</td>\n",
       "      <td>Allen, Mr. William Henry</td>\n",
       "      <td>male</td>\n",
       "      <td>35.0</td>\n",
       "      <td>0</td>\n",
       "      <td>0</td>\n",
       "      <td>373450</td>\n",
       "      <td>8.0500</td>\n",
       "      <td>NaN</td>\n",
       "      <td>S</td>\n",
       "      <td>1</td>\n",
       "    </tr>\n",
       "    <tr>\n",
       "      <th>...</th>\n",
       "      <td>...</td>\n",
       "      <td>...</td>\n",
       "      <td>...</td>\n",
       "      <td>...</td>\n",
       "      <td>...</td>\n",
       "      <td>...</td>\n",
       "      <td>...</td>\n",
       "      <td>...</td>\n",
       "      <td>...</td>\n",
       "      <td>...</td>\n",
       "      <td>...</td>\n",
       "      <td>...</td>\n",
       "      <td>...</td>\n",
       "    </tr>\n",
       "    <tr>\n",
       "      <th>886</th>\n",
       "      <td>887</td>\n",
       "      <td>0</td>\n",
       "      <td>2</td>\n",
       "      <td>Montvila, Rev. Juozas</td>\n",
       "      <td>male</td>\n",
       "      <td>27.0</td>\n",
       "      <td>0</td>\n",
       "      <td>0</td>\n",
       "      <td>211536</td>\n",
       "      <td>13.0000</td>\n",
       "      <td>NaN</td>\n",
       "      <td>S</td>\n",
       "      <td>1</td>\n",
       "    </tr>\n",
       "    <tr>\n",
       "      <th>887</th>\n",
       "      <td>888</td>\n",
       "      <td>1</td>\n",
       "      <td>1</td>\n",
       "      <td>Graham, Miss. Margaret Edith</td>\n",
       "      <td>female</td>\n",
       "      <td>19.0</td>\n",
       "      <td>0</td>\n",
       "      <td>0</td>\n",
       "      <td>112053</td>\n",
       "      <td>30.0000</td>\n",
       "      <td>B42</td>\n",
       "      <td>S</td>\n",
       "      <td>0</td>\n",
       "    </tr>\n",
       "    <tr>\n",
       "      <th>888</th>\n",
       "      <td>889</td>\n",
       "      <td>0</td>\n",
       "      <td>3</td>\n",
       "      <td>Johnston, Miss. Catherine Helen \"Carrie\"</td>\n",
       "      <td>female</td>\n",
       "      <td>NaN</td>\n",
       "      <td>1</td>\n",
       "      <td>2</td>\n",
       "      <td>W./C. 6607</td>\n",
       "      <td>23.4500</td>\n",
       "      <td>NaN</td>\n",
       "      <td>S</td>\n",
       "      <td>1</td>\n",
       "    </tr>\n",
       "    <tr>\n",
       "      <th>889</th>\n",
       "      <td>890</td>\n",
       "      <td>1</td>\n",
       "      <td>1</td>\n",
       "      <td>Behr, Mr. Karl Howell</td>\n",
       "      <td>male</td>\n",
       "      <td>26.0</td>\n",
       "      <td>0</td>\n",
       "      <td>0</td>\n",
       "      <td>111369</td>\n",
       "      <td>30.0000</td>\n",
       "      <td>C148</td>\n",
       "      <td>C</td>\n",
       "      <td>0</td>\n",
       "    </tr>\n",
       "    <tr>\n",
       "      <th>890</th>\n",
       "      <td>891</td>\n",
       "      <td>0</td>\n",
       "      <td>3</td>\n",
       "      <td>Dooley, Mr. Patrick</td>\n",
       "      <td>male</td>\n",
       "      <td>32.0</td>\n",
       "      <td>0</td>\n",
       "      <td>0</td>\n",
       "      <td>370376</td>\n",
       "      <td>7.7500</td>\n",
       "      <td>NaN</td>\n",
       "      <td>Q</td>\n",
       "      <td>1</td>\n",
       "    </tr>\n",
       "  </tbody>\n",
       "</table>\n",
       "<p>891 rows × 13 columns</p>\n",
       "</div>"
      ],
      "text/plain": [
       "     PassengerId  Survived  Pclass  \\\n",
       "0              1         0       3   \n",
       "1              2         1       1   \n",
       "2              3         1       3   \n",
       "3              4         1       1   \n",
       "4              5         0       3   \n",
       "..           ...       ...     ...   \n",
       "886          887         0       2   \n",
       "887          888         1       1   \n",
       "888          889         0       3   \n",
       "889          890         1       1   \n",
       "890          891         0       3   \n",
       "\n",
       "                                                  Name     Sex   Age  SibSp  \\\n",
       "0                              Braund, Mr. Owen Harris    male  22.0      1   \n",
       "1    Cumings, Mrs. John Bradley (Florence Briggs Th...  female  38.0      1   \n",
       "2                               Heikkinen, Miss. Laina  female  26.0      0   \n",
       "3         Futrelle, Mrs. Jacques Heath (Lily May Peel)  female  35.0      1   \n",
       "4                             Allen, Mr. William Henry    male  35.0      0   \n",
       "..                                                 ...     ...   ...    ...   \n",
       "886                              Montvila, Rev. Juozas    male  27.0      0   \n",
       "887                       Graham, Miss. Margaret Edith  female  19.0      0   \n",
       "888           Johnston, Miss. Catherine Helen \"Carrie\"  female   NaN      1   \n",
       "889                              Behr, Mr. Karl Howell    male  26.0      0   \n",
       "890                                Dooley, Mr. Patrick    male  32.0      0   \n",
       "\n",
       "     Parch            Ticket     Fare Cabin Embarked  cabin_null  \n",
       "0        0         A/5 21171   7.2500   NaN        S           1  \n",
       "1        0          PC 17599  71.2833   C85        C           0  \n",
       "2        0  STON/O2. 3101282   7.9250   NaN        S           1  \n",
       "3        0            113803  53.1000  C123        S           0  \n",
       "4        0            373450   8.0500   NaN        S           1  \n",
       "..     ...               ...      ...   ...      ...         ...  \n",
       "886      0            211536  13.0000   NaN        S           1  \n",
       "887      0            112053  30.0000   B42        S           0  \n",
       "888      2        W./C. 6607  23.4500   NaN        S           1  \n",
       "889      0            111369  30.0000  C148        C           0  \n",
       "890      0            370376   7.7500   NaN        Q           1  \n",
       "\n",
       "[891 rows x 13 columns]"
      ]
     },
     "execution_count": 55,
     "metadata": {},
     "output_type": "execute_result"
    }
   ],
   "source": [
    "# Create a variable that indicates whether the value of the variable `cabin` is missing or not\n",
    "\n",
    "data_titanic = data_titanic_ori.copy()\n",
    "data_titanic['cabin_null'] = np.where(data_titanic.Cabin.isnull(), 1, 0) #kalau Null = 1, tidak null = 0\n",
    "data_titanic"
   ]
  },
  {
   "cell_type": "code",
   "execution_count": 56,
   "metadata": {},
   "outputs": [
    {
     "name": "stdout",
     "output_type": "stream",
     "text": [
      "Value Counts\n",
      "Survived  cabin_null\n",
      "0         1             481\n",
      "          0              68\n",
      "1         1             206\n",
      "          0             136\n",
      "Name: cabin_null, dtype: int64\n",
      "\n",
      "Mean\n",
      "Survived\n",
      "0    0.876138\n",
      "1    0.602339\n",
      "Name: cabin_null, dtype: float64\n"
     ]
    }
   ],
   "source": [
    "# Grouping data by Survived vs Non-Survived and find nulls for cabin\n",
    "\n",
    "print('Value Counts')\n",
    "print(data_titanic.groupby(['Survived'])['cabin_null'].value_counts())\n",
    "\n",
    "print('\\nMean')\n",
    "print(data_titanic.groupby(['Survived'])['cabin_null'].mean())"
   ]
  },
  {
   "cell_type": "markdown",
   "metadata": {},
   "source": [
    "Kami mengamati bahwa persentase nilai yang hilang lebih tinggi untuk orang yang tidak selamat (0,87), dibandingkan dengan orang yang selamat (0,60). Temuan ini sejalan dengan asumsi kami bahwa data hilang karena setelah orang meninggal, informasi tidak dapat diambil.\n",
    "\n",
    "Karena itu, untuk benar-benar mendukung apakah data yang hilang tidak secara acak, kita harus sangat mengenal cara data dikumpulkan. Menganalisis kumpulan data, hanya dapat mengarahkan kita ke arah yang benar atau membantu kita membangun asumsi tetapi itu tidak akan memberikan bukti akhir mengapa data hilang."
   ]
  },
  {
   "cell_type": "code",
   "execution_count": 57,
   "metadata": {},
   "outputs": [
    {
     "data": {
      "text/html": [
       "<div>\n",
       "<style scoped>\n",
       "    .dataframe tbody tr th:only-of-type {\n",
       "        vertical-align: middle;\n",
       "    }\n",
       "\n",
       "    .dataframe tbody tr th {\n",
       "        vertical-align: top;\n",
       "    }\n",
       "\n",
       "    .dataframe thead th {\n",
       "        text-align: right;\n",
       "    }\n",
       "</style>\n",
       "<table border=\"1\" class=\"dataframe\">\n",
       "  <thead>\n",
       "    <tr style=\"text-align: right;\">\n",
       "      <th></th>\n",
       "      <th>PassengerId</th>\n",
       "      <th>Survived</th>\n",
       "      <th>Pclass</th>\n",
       "      <th>Name</th>\n",
       "      <th>Sex</th>\n",
       "      <th>Age</th>\n",
       "      <th>SibSp</th>\n",
       "      <th>Parch</th>\n",
       "      <th>Ticket</th>\n",
       "      <th>Fare</th>\n",
       "      <th>Cabin</th>\n",
       "      <th>Embarked</th>\n",
       "      <th>cabin_null</th>\n",
       "      <th>age_null</th>\n",
       "    </tr>\n",
       "  </thead>\n",
       "  <tbody>\n",
       "    <tr>\n",
       "      <th>0</th>\n",
       "      <td>1</td>\n",
       "      <td>0</td>\n",
       "      <td>3</td>\n",
       "      <td>Braund, Mr. Owen Harris</td>\n",
       "      <td>male</td>\n",
       "      <td>22.0</td>\n",
       "      <td>1</td>\n",
       "      <td>0</td>\n",
       "      <td>A/5 21171</td>\n",
       "      <td>7.2500</td>\n",
       "      <td>NaN</td>\n",
       "      <td>S</td>\n",
       "      <td>1</td>\n",
       "      <td>0</td>\n",
       "    </tr>\n",
       "    <tr>\n",
       "      <th>1</th>\n",
       "      <td>2</td>\n",
       "      <td>1</td>\n",
       "      <td>1</td>\n",
       "      <td>Cumings, Mrs. John Bradley (Florence Briggs Th...</td>\n",
       "      <td>female</td>\n",
       "      <td>38.0</td>\n",
       "      <td>1</td>\n",
       "      <td>0</td>\n",
       "      <td>PC 17599</td>\n",
       "      <td>71.2833</td>\n",
       "      <td>C85</td>\n",
       "      <td>C</td>\n",
       "      <td>0</td>\n",
       "      <td>0</td>\n",
       "    </tr>\n",
       "    <tr>\n",
       "      <th>2</th>\n",
       "      <td>3</td>\n",
       "      <td>1</td>\n",
       "      <td>3</td>\n",
       "      <td>Heikkinen, Miss. Laina</td>\n",
       "      <td>female</td>\n",
       "      <td>26.0</td>\n",
       "      <td>0</td>\n",
       "      <td>0</td>\n",
       "      <td>STON/O2. 3101282</td>\n",
       "      <td>7.9250</td>\n",
       "      <td>NaN</td>\n",
       "      <td>S</td>\n",
       "      <td>1</td>\n",
       "      <td>0</td>\n",
       "    </tr>\n",
       "    <tr>\n",
       "      <th>3</th>\n",
       "      <td>4</td>\n",
       "      <td>1</td>\n",
       "      <td>1</td>\n",
       "      <td>Futrelle, Mrs. Jacques Heath (Lily May Peel)</td>\n",
       "      <td>female</td>\n",
       "      <td>35.0</td>\n",
       "      <td>1</td>\n",
       "      <td>0</td>\n",
       "      <td>113803</td>\n",
       "      <td>53.1000</td>\n",
       "      <td>C123</td>\n",
       "      <td>S</td>\n",
       "      <td>0</td>\n",
       "      <td>0</td>\n",
       "    </tr>\n",
       "    <tr>\n",
       "      <th>4</th>\n",
       "      <td>5</td>\n",
       "      <td>0</td>\n",
       "      <td>3</td>\n",
       "      <td>Allen, Mr. William Henry</td>\n",
       "      <td>male</td>\n",
       "      <td>35.0</td>\n",
       "      <td>0</td>\n",
       "      <td>0</td>\n",
       "      <td>373450</td>\n",
       "      <td>8.0500</td>\n",
       "      <td>NaN</td>\n",
       "      <td>S</td>\n",
       "      <td>1</td>\n",
       "      <td>0</td>\n",
       "    </tr>\n",
       "    <tr>\n",
       "      <th>...</th>\n",
       "      <td>...</td>\n",
       "      <td>...</td>\n",
       "      <td>...</td>\n",
       "      <td>...</td>\n",
       "      <td>...</td>\n",
       "      <td>...</td>\n",
       "      <td>...</td>\n",
       "      <td>...</td>\n",
       "      <td>...</td>\n",
       "      <td>...</td>\n",
       "      <td>...</td>\n",
       "      <td>...</td>\n",
       "      <td>...</td>\n",
       "      <td>...</td>\n",
       "    </tr>\n",
       "    <tr>\n",
       "      <th>886</th>\n",
       "      <td>887</td>\n",
       "      <td>0</td>\n",
       "      <td>2</td>\n",
       "      <td>Montvila, Rev. Juozas</td>\n",
       "      <td>male</td>\n",
       "      <td>27.0</td>\n",
       "      <td>0</td>\n",
       "      <td>0</td>\n",
       "      <td>211536</td>\n",
       "      <td>13.0000</td>\n",
       "      <td>NaN</td>\n",
       "      <td>S</td>\n",
       "      <td>1</td>\n",
       "      <td>0</td>\n",
       "    </tr>\n",
       "    <tr>\n",
       "      <th>887</th>\n",
       "      <td>888</td>\n",
       "      <td>1</td>\n",
       "      <td>1</td>\n",
       "      <td>Graham, Miss. Margaret Edith</td>\n",
       "      <td>female</td>\n",
       "      <td>19.0</td>\n",
       "      <td>0</td>\n",
       "      <td>0</td>\n",
       "      <td>112053</td>\n",
       "      <td>30.0000</td>\n",
       "      <td>B42</td>\n",
       "      <td>S</td>\n",
       "      <td>0</td>\n",
       "      <td>0</td>\n",
       "    </tr>\n",
       "    <tr>\n",
       "      <th>888</th>\n",
       "      <td>889</td>\n",
       "      <td>0</td>\n",
       "      <td>3</td>\n",
       "      <td>Johnston, Miss. Catherine Helen \"Carrie\"</td>\n",
       "      <td>female</td>\n",
       "      <td>NaN</td>\n",
       "      <td>1</td>\n",
       "      <td>2</td>\n",
       "      <td>W./C. 6607</td>\n",
       "      <td>23.4500</td>\n",
       "      <td>NaN</td>\n",
       "      <td>S</td>\n",
       "      <td>1</td>\n",
       "      <td>1</td>\n",
       "    </tr>\n",
       "    <tr>\n",
       "      <th>889</th>\n",
       "      <td>890</td>\n",
       "      <td>1</td>\n",
       "      <td>1</td>\n",
       "      <td>Behr, Mr. Karl Howell</td>\n",
       "      <td>male</td>\n",
       "      <td>26.0</td>\n",
       "      <td>0</td>\n",
       "      <td>0</td>\n",
       "      <td>111369</td>\n",
       "      <td>30.0000</td>\n",
       "      <td>C148</td>\n",
       "      <td>C</td>\n",
       "      <td>0</td>\n",
       "      <td>0</td>\n",
       "    </tr>\n",
       "    <tr>\n",
       "      <th>890</th>\n",
       "      <td>891</td>\n",
       "      <td>0</td>\n",
       "      <td>3</td>\n",
       "      <td>Dooley, Mr. Patrick</td>\n",
       "      <td>male</td>\n",
       "      <td>32.0</td>\n",
       "      <td>0</td>\n",
       "      <td>0</td>\n",
       "      <td>370376</td>\n",
       "      <td>7.7500</td>\n",
       "      <td>NaN</td>\n",
       "      <td>Q</td>\n",
       "      <td>1</td>\n",
       "      <td>0</td>\n",
       "    </tr>\n",
       "  </tbody>\n",
       "</table>\n",
       "<p>891 rows × 14 columns</p>\n",
       "</div>"
      ],
      "text/plain": [
       "     PassengerId  Survived  Pclass  \\\n",
       "0              1         0       3   \n",
       "1              2         1       1   \n",
       "2              3         1       3   \n",
       "3              4         1       1   \n",
       "4              5         0       3   \n",
       "..           ...       ...     ...   \n",
       "886          887         0       2   \n",
       "887          888         1       1   \n",
       "888          889         0       3   \n",
       "889          890         1       1   \n",
       "890          891         0       3   \n",
       "\n",
       "                                                  Name     Sex   Age  SibSp  \\\n",
       "0                              Braund, Mr. Owen Harris    male  22.0      1   \n",
       "1    Cumings, Mrs. John Bradley (Florence Briggs Th...  female  38.0      1   \n",
       "2                               Heikkinen, Miss. Laina  female  26.0      0   \n",
       "3         Futrelle, Mrs. Jacques Heath (Lily May Peel)  female  35.0      1   \n",
       "4                             Allen, Mr. William Henry    male  35.0      0   \n",
       "..                                                 ...     ...   ...    ...   \n",
       "886                              Montvila, Rev. Juozas    male  27.0      0   \n",
       "887                       Graham, Miss. Margaret Edith  female  19.0      0   \n",
       "888           Johnston, Miss. Catherine Helen \"Carrie\"  female   NaN      1   \n",
       "889                              Behr, Mr. Karl Howell    male  26.0      0   \n",
       "890                                Dooley, Mr. Patrick    male  32.0      0   \n",
       "\n",
       "     Parch            Ticket     Fare Cabin Embarked  cabin_null  age_null  \n",
       "0        0         A/5 21171   7.2500   NaN        S           1         0  \n",
       "1        0          PC 17599  71.2833   C85        C           0         0  \n",
       "2        0  STON/O2. 3101282   7.9250   NaN        S           1         0  \n",
       "3        0            113803  53.1000  C123        S           0         0  \n",
       "4        0            373450   8.0500   NaN        S           1         0  \n",
       "..     ...               ...      ...   ...      ...         ...       ...  \n",
       "886      0            211536  13.0000   NaN        S           1         0  \n",
       "887      0            112053  30.0000   B42        S           0         0  \n",
       "888      2        W./C. 6607  23.4500   NaN        S           1         1  \n",
       "889      0            111369  30.0000  C148        C           0         0  \n",
       "890      0            370376   7.7500   NaN        Q           1         0  \n",
       "\n",
       "[891 rows x 14 columns]"
      ]
     },
     "execution_count": 57,
     "metadata": {},
     "output_type": "execute_result"
    }
   ],
   "source": [
    "# Create a variable that indicates whether the value of the variable `Age` is missing or not\n",
    "\n",
    "data_titanic['age_null'] = np.where(data_titanic.Age.isnull(), 1, 0)\n",
    "data_titanic"
   ]
  },
  {
   "cell_type": "code",
   "execution_count": 58,
   "metadata": {},
   "outputs": [
    {
     "name": "stdout",
     "output_type": "stream",
     "text": [
      "Value Counts\n",
      "Survived  age_null\n",
      "0         0           424\n",
      "          1           125\n",
      "1         0           290\n",
      "          1            52\n",
      "Name: age_null, dtype: int64\n",
      "\n",
      "Mean\n",
      "Survived\n",
      "0    0.227687\n",
      "1    0.152047\n",
      "Name: age_null, dtype: float64\n"
     ]
    }
   ],
   "source": [
    "# Grouping data by Survived vs Non-Survived and find nulls for `Age`\n",
    "\n",
    "print('Value Counts')\n",
    "print(data_titanic.groupby(['Survived'])['age_null'].value_counts())\n",
    "\n",
    "print('\\nMean')\n",
    "print(data_titanic.groupby(['Survived'])['age_null'].mean())"
   ]
  },
  {
   "cell_type": "markdown",
   "metadata": {},
   "source": [
    "Sekali lagi, kami mengamati peningkatan data yang hilang untuk orang-orang yang tidak selamat dari tragedi itu. Oleh karena itu, analisis menyarankan:\n",
    "\n",
    "Ada kehilangan data yang sistematis: orang yang tidak bertahan hidup cenderung kehilangan lebih banyak informasi. Agaknya, metode yang dipilih untuk mengumpulkan informasi, berkontribusi pada pembuatan data yang hilang ini."
   ]
  },
  {
   "cell_type": "markdown",
   "metadata": {},
   "source": [
    "### Complete Case Analysis\n",
    "\n",
    "CCA juga disebut penghapusan kasus berdasarkan daftar, terdiri dari membuang pengamatan di mana nilai dalam salah satu variabel hilang. CCA berarti secara harfiah menganalisis hanya pengamatan yang ada informasi di semua variabel (Xs)\n",
    "\n",
    "CCA dapat diterapkan untuk kedua variabel kategorikal dan numerik.\n",
    "\n",
    "Asumsi :\n",
    "- **CCA bekerja dengan baik ketika data hilang sepenuhnya secara acak (MCAR)**.\n",
    "- Dalam hal ini, mengecualikan pengamatan dengan data yang hilang akan sama dengan mengecualikan beberapa pengamatan secara acak dari kumpulan data, mengingat data yang hilang benar-benar acak.\n",
    "- **Bekerja dengan baik jika jumlah total missing values-nya kecil**.\n",
    "\n",
    "Keuntungan :\n",
    "- Mudah untuk diimpelentasi\n",
    "- Kumpulan data yang sama (walaupun kumpulan yang dikurangi) digunakan untuk semua analisis (tidak ada manipulasi data)\n",
    "- Mempertahankan distribusi variabel (jika data adalah MCAR, maka distribusi variabel dari kumpulan data yang direduksi/dikurangi harus sesuai dengan distribusi dalam kumpulan data asli)\n",
    "\n",
    "Kekurangan :\n",
    "- Ini dapat mengecualikan sebagian besar sampel asli, yang berpotensi informatif untuk analisis\n",
    "\n",
    "- CCA akan menjadi bias jika kasus lengkap secara sistematis berbeda dari sampel asli (misalnya ketika informasi yang hilang sebenarnya MAR (Missing At Random) atau MNAR (Missing Not At Random)."
   ]
  },
  {
   "cell_type": "markdown",
   "metadata": {},
   "source": [
    "#### Studi Kasus\n",
    "\n",
    "Lihat dataset Titanic. Asumsi bahwa missing values-nya adalah MCAR, yang mana bukan, jika kami memilih untuk menghapus semua observasi/pengamatan yang hilang, kami akan berakhir dengan kumpulan data yang sangat kecil, mengingat bahwa \"cabin\" hilang untuk 77% pengamatan."
   ]
  },
  {
   "cell_type": "code",
   "execution_count": 59,
   "metadata": {},
   "outputs": [
    {
     "name": "stdout",
     "output_type": "stream",
     "text": [
      "Total passengers in the Titanic               :  891\n",
      "Total passengers with values in all variables :  183\n",
      "Percentage of data without missing values (%) :  20.53872053872054\n"
     ]
    }
   ],
   "source": [
    "# Count How Many Observations that We Would Drop\n",
    "\n",
    "data_titanic = data_titanic_ori.copy()\n",
    "print('Total passengers in the Titanic               : ', data_titanic.shape[0]) #shape[0] menandakan baris\n",
    "print('Total passengers with values in all variables : ', data_titanic.dropna().shape[0]) #dihapus baris yg memiliki NaN\n",
    "print('Percentage of data without missing values (%) : ', data_titanic.dropna().shape[0] / np.float(data_titanic.shape[0]) * 100)"
   ]
  },
  {
   "cell_type": "markdown",
   "metadata": {},
   "source": [
    "Faktanya, kami memiliki informasi lengkap hanyak untuk 20% dari pengamatan kami di dataset Titanic. Dengan demikian, CCA tidak akan menjadi opsi untuk kumpulan data ini.\n",
    "\n",
    "Namun, kita dapat memilih untuk :\n",
    "Faktanya, kami memiliki informasi lengkap hanya untuk 20% dari pengamatan kami di kumpulan data Titanic. Dengan demikian, CCA tidak akan menjadi opsi untuk dataset ini.\n",
    "\n",
    "Namun, kita dapat memilih untuk:\n",
    "\n",
    "- Ganti nilai yang hilang dalam variabel Age and Cabin dengan metode yang sesuai (seperti pada bagian berikutnya), dan\n",
    "\n",
    "- Hapus pengamatan di mana Embarked tidak ada. Itu akan menghapus hanya 2 pengamatan dari seluruh dataset."
   ]
  },
  {
   "cell_type": "markdown",
   "metadata": {},
   "source": [
    "### Distribution of the dataset after CCA\n",
    "\n",
    "Jika kami menghapus sejumlah besar pengamatan yang hilang, kumpulan data baru yang berisi orang-orang yang semua datanya tersedia, akan sangat berbeda dari grup aslinya. Lihat di bawah:"
   ]
  },
  {
   "cell_type": "code",
   "execution_count": 60,
   "metadata": {},
   "outputs": [
    {
     "data": {
      "text/plain": [
       "177"
      ]
     },
     "execution_count": 60,
     "metadata": {},
     "output_type": "execute_result"
    }
   ],
   "source": [
    "# Check How Many Missing Values in Variable `Age` Only\n",
    "\n",
    "data_titanic.Age.isnull().sum()"
   ]
  },
  {
   "cell_type": "code",
   "execution_count": 61,
   "metadata": {},
   "outputs": [
    {
     "data": {
      "text/plain": [
       "<matplotlib.legend.Legend at 0x19150f8d720>"
      ]
     },
     "execution_count": 61,
     "metadata": {},
     "output_type": "execute_result"
    },
    {
     "data": {
      "image/png": "[encoded data removed]",
      "text/plain": [
       "<Figure size 1080x504 with 2 Axes>"
      ]
     },
     "metadata": {
      "needs_background": "light"
     },
     "output_type": "display_data"
    }
   ],
   "source": [
    "# Visualization of Histogram Differences between the Original Dataset and CCA for the Variable `Age` Only\n",
    "# We Will Check the Effect of CCA Only to Variable `Fare` and `Pclass`\n",
    "\n",
    "fig, ax = plt.subplots(1, 2, figsize=(15,7)) # satu baris, dua kolom\n",
    "\n",
    "data_titanic.Fare.hist(bins=50, ax=ax[0], label='Histogram of Original Dataset')\n",
    "data_titanic.dropna(axis=0, subset=['Age'])['Fare'].hist(bins=50, ax=ax[0], color='red', label='Histogram of CCA on Age') # Histogram of CCA on Age\n",
    "ax[0].set_xlim(0,100)\n",
    "ax[0].set_title('Comparison of Histograms')\n",
    "ax[0].set_xlabel('Fare') # tarif\n",
    "ax[0].set_ylabel('Number of Passengers')\n",
    "ax[0].legend(loc=\"upper right\")\n",
    "\n",
    "data_titanic.Pclass.hist(bins=50, ax=ax[1], label='Histogram of Original Dataset') # Histogram of original dataset\n",
    "data_titanic.dropna(axis=0, subset=['Age'])['Pclass'].hist(bins=50, ax=ax[1], color='red', label='Histogram of CCA on Pclass') # Histogram of CCA on Pclass\n",
    "ax[1].set_title('Comparison of Histograms')\n",
    "ax[1].set_xlabel('Pclass')\n",
    "ax[1].set_ylabel('Number of Passengers')\n",
    "ax[1].legend(loc=\"upper left\")"
   ]
  },
  {
   "cell_type": "markdown",
   "metadata": {},
   "source": [
    "Membandingkan histogram merah dan biru kita dapat mengamati bahwa distribusi seluruh dataset sebelum CCA tidak cocok dengan dataset setelah CCA. Ada banyak orang yang kehilangan Age, yang membayar tarif lebih rendah ntuk mendapatkan titanic.\n",
    "\n",
    "Demikian pula, dataset asli menunjukkan proporsi yang lebih tinggi dari orang-rang bepergian di Pclass 3.\n",
    "\n",
    "Mengingat bahwa distribusi variabel antara dataset asli dan setelah CCA tidak ekuivalen, CCA bukan pilihan terbaik."
   ]
  },
  {
   "cell_type": "markdown",
   "metadata": {},
   "source": [
    "#### Suggestion (Saran)\n",
    "\n",
    "Dalam praktiknya, **CCA mungkin merupakan metode yang dapat diterima ketika jumlah informasi yang hilang sedikit. Sayangnya, tidak ada aturan praktis untuk menentukan berapa banyak data yang hilang kecil atau dapat diabaikan**.\n",
    "\n",
    "Dalam banyak kumpulan data kehidupan nyata, jumlah data yang hilang tidak pernah sedikit, dan oleh karena itu CCA biasanya tidak pernah menjadi pilihan.\n",
    "\n",
    "Untuk membangun model pembelajaran mesin, sebaiknya ganti nilai yang hilang dengan salah satu metode. Namun, untuk analisis cepat, jika jumlah nilai yang hilang tidak besar, ini bisa menjadi pendekatan termudah dan tercepat."
   ]
  },
  {
   "cell_type": "markdown",
   "metadata": {},
   "source": [
    "### Mean and Median Imputation\n",
    "\n",
    "Imputasi adalah **tindakan mengganti data yang hilang dengan perkiraan statistik dari nilai yang hilang**. Tujuan dari teknik imputasi apa pun adalah untuk menghasilkan kumpulan data lengkap yang dapat digunakan untuk Machine Learning atau Deep Learnig.\n",
    "\n",
    "Imputasi mean/median terdiri dari mengganti semua kemunculan nilai yang hilang (NA) dalam suatu variabel dengan:\n",
    "\n",
    "Mean : jika variabel berdistribusi Normal/Gaussian.\n",
    "Median : jika variabel memiliki distribusi yang miring (skewed distribution).\n",
    "\n",
    "Asumsi : Data hilang sepenuhnya secara acak (MCAR).\n",
    "\n",
    "Jika demikian halnya, kita dapat memikirkan untuk mengganti NA dengan variabel yang paling sering muncul, yang merupakan mean jika variabel memiliki distribusi Gaussian, atau median sebaliknya.\n",
    "\n",
    "Keuntungan :\n",
    "\n",
    "- Mudah diimplementasikan\n",
    "- Cara cepat untuk mendapatkan kumpulan data lengkap\n",
    "\n",
    "Limitation :\n",
    "- Distorsi varian asli\n",
    "\n",
    "Saat mengganti NA dengan mean atau median, varians variabel akan terdistorsi jika jumlah NA besar terhadap jumlah total pengamatan (karena nilai yang diperhitungkan tidak berbeda dari mean atau satu sama lain). Oleh karena itu menyebabkan underestimation of the variance.\n",
    "\n",
    "- Distorsi kovarians/korelasi dengan variabel yang tersisa dalam kumpulan data.\n",
    "\n",
    "Selain itu, perkiraan kovarians dan korelasi dengan variabel lain dalam kumpulan data juga dapat terpengaruh. Ini karena kita mungkin menghancurkan korelasi intrinsik karena mean/median yang sekarang menggantikan NA tidak akan mempertahankan hubungan dengan variabel yang tersisa."
   ]
  },
  {
   "cell_type": "markdown",
   "metadata": {},
   "source": [
    "\n",
    "**Imputasi harus dilakukan di atas set pelatihan (training set), dan kemudian disebarkan ke set tes (test set)**. Ini berarti bahwa mean/median yang akan digunakan untuk mengisi nilai-nilai yang hilang baik pada rangkaian rangkaian maupun rangkaian pengujian, harus diekstraksi dari rangkaian rangkaian saja."
   ]
  },
  {
   "cell_type": "markdown",
   "metadata": {},
   "source": [
    "#### Studi Kasus"
   ]
  },
  {
   "cell_type": "code",
   "execution_count": 62,
   "metadata": {},
   "outputs": [
    {
     "data": {
      "text/plain": [
       "((623, 12), (268, 12))"
      ]
     },
     "execution_count": 62,
     "metadata": {},
     "output_type": "execute_result"
    }
   ],
   "source": [
    "# Let's Separate Dataset into Training Set and Testing Set\n",
    "\n",
    "data_titanic = data_titanic_ori.copy()\n",
    "X_train_titanic, X_test_titanic, y_train_titanic, y_test_titanic = train_test_split(data_titanic, \n",
    "                                                                                    data_titanic.Survived, \n",
    "                                                                                    test_size=0.3, \n",
    "                                                                                    random_state=0)\n",
    "X_train_titanic.shape, X_test_titanic.shape"
   ]
  },
  {
   "cell_type": "code",
   "execution_count": 63,
   "metadata": {},
   "outputs": [
    {
     "name": "stdout",
     "output_type": "stream",
     "text": [
      "Skewness :  0.3361317253050765\n"
     ]
    },
    {
     "data": {
      "image/png": "[encoded data removed]",
      "text/plain": [
       "<Figure size 1080x504 with 1 Axes>"
      ]
     },
     "metadata": {
      "needs_background": "light"
     },
     "output_type": "display_data"
    }
   ],
   "source": [
    "# Let's Check Type of Distirbution of Variable `Age`\n",
    "fig, ax = plt.subplots(1, 1, figsize=(15, 7))\n",
    "\n",
    "X_train_titanic.Age.hist(bins=50, ax=ax, label='Histogram of Age') # Histogram of original dataset\n",
    "ax.set_title('Distribution of Age in Train Set')\n",
    "ax.set_xlabel('Age')\n",
    "ax.set_ylabel('Frequency')\n",
    "ax.legend(loc=\"upper right\")\n",
    "\n",
    "print('Skewness : ', X_train_titanic.Age.skew())"
   ]
  },
  {
   "cell_type": "code",
   "execution_count": 64,
   "metadata": {},
   "outputs": [
    {
     "name": "stdout",
     "output_type": "stream",
     "text": [
      "Mean Value - Train Set - Before Imputation   :  29.915338645418327\n",
      "Median Value - Train Set - Before Imputation :  29.0\n"
     ]
    }
   ],
   "source": [
    "# Display Value of Median Before Imputation\n",
    "\n",
    "mean_titanic_age = X_train_titanic.Age.mean()\n",
    "median_titanic_age = X_train_titanic.Age.median()\n",
    "\n",
    "print('Mean Value - Train Set - Before Imputation   : ', mean_titanic_age)\n",
    "print('Median Value - Train Set - Before Imputation : ', median_titanic_age)"
   ]
  },
  {
   "cell_type": "code",
   "execution_count": 65,
   "metadata": {},
   "outputs": [],
   "source": [
    "# Function to Filling Missing Values with Zeroes, Mean, and Median\n",
    "\n",
    "def impute_na(df, variable, mean_value, median_value):\n",
    "  df[variable+'_mean'] = df[variable].fillna(mean_value)\n",
    "  df[variable+'_median'] = df[variable].fillna(median_value)\n",
    "  df[variable+'_zero'] = df[variable].fillna(0)\n",
    "  \n",
    "  return df"
   ]
  },
  {
   "cell_type": "code",
   "execution_count": 66,
   "metadata": {},
   "outputs": [
    {
     "data": {
      "text/html": [
       "<div>\n",
       "<style scoped>\n",
       "    .dataframe tbody tr th:only-of-type {\n",
       "        vertical-align: middle;\n",
       "    }\n",
       "\n",
       "    .dataframe tbody tr th {\n",
       "        vertical-align: top;\n",
       "    }\n",
       "\n",
       "    .dataframe thead th {\n",
       "        text-align: right;\n",
       "    }\n",
       "</style>\n",
       "<table border=\"1\" class=\"dataframe\">\n",
       "  <thead>\n",
       "    <tr style=\"text-align: right;\">\n",
       "      <th></th>\n",
       "      <th>PassengerId</th>\n",
       "      <th>Survived</th>\n",
       "      <th>Pclass</th>\n",
       "      <th>Name</th>\n",
       "      <th>Sex</th>\n",
       "      <th>Age</th>\n",
       "      <th>SibSp</th>\n",
       "      <th>Parch</th>\n",
       "      <th>Ticket</th>\n",
       "      <th>Fare</th>\n",
       "      <th>Cabin</th>\n",
       "      <th>Embarked</th>\n",
       "      <th>Age_mean</th>\n",
       "      <th>Age_median</th>\n",
       "      <th>Age_zero</th>\n",
       "    </tr>\n",
       "  </thead>\n",
       "  <tbody>\n",
       "    <tr>\n",
       "      <th>857</th>\n",
       "      <td>858</td>\n",
       "      <td>1</td>\n",
       "      <td>1</td>\n",
       "      <td>Daly, Mr. Peter Denis</td>\n",
       "      <td>male</td>\n",
       "      <td>51.0</td>\n",
       "      <td>0</td>\n",
       "      <td>0</td>\n",
       "      <td>113055</td>\n",
       "      <td>26.5500</td>\n",
       "      <td>E17</td>\n",
       "      <td>S</td>\n",
       "      <td>51.000000</td>\n",
       "      <td>51.0</td>\n",
       "      <td>51.0</td>\n",
       "    </tr>\n",
       "    <tr>\n",
       "      <th>52</th>\n",
       "      <td>53</td>\n",
       "      <td>1</td>\n",
       "      <td>1</td>\n",
       "      <td>Harper, Mrs. Henry Sleeper (Myna Haxtun)</td>\n",
       "      <td>female</td>\n",
       "      <td>49.0</td>\n",
       "      <td>1</td>\n",
       "      <td>0</td>\n",
       "      <td>PC 17572</td>\n",
       "      <td>76.7292</td>\n",
       "      <td>D33</td>\n",
       "      <td>C</td>\n",
       "      <td>49.000000</td>\n",
       "      <td>49.0</td>\n",
       "      <td>49.0</td>\n",
       "    </tr>\n",
       "    <tr>\n",
       "      <th>386</th>\n",
       "      <td>387</td>\n",
       "      <td>0</td>\n",
       "      <td>3</td>\n",
       "      <td>Goodwin, Master. Sidney Leonard</td>\n",
       "      <td>male</td>\n",
       "      <td>1.0</td>\n",
       "      <td>5</td>\n",
       "      <td>2</td>\n",
       "      <td>CA 2144</td>\n",
       "      <td>46.9000</td>\n",
       "      <td>NaN</td>\n",
       "      <td>S</td>\n",
       "      <td>1.000000</td>\n",
       "      <td>1.0</td>\n",
       "      <td>1.0</td>\n",
       "    </tr>\n",
       "    <tr>\n",
       "      <th>124</th>\n",
       "      <td>125</td>\n",
       "      <td>0</td>\n",
       "      <td>1</td>\n",
       "      <td>White, Mr. Percival Wayland</td>\n",
       "      <td>male</td>\n",
       "      <td>54.0</td>\n",
       "      <td>0</td>\n",
       "      <td>1</td>\n",
       "      <td>35281</td>\n",
       "      <td>77.2875</td>\n",
       "      <td>D26</td>\n",
       "      <td>S</td>\n",
       "      <td>54.000000</td>\n",
       "      <td>54.0</td>\n",
       "      <td>54.0</td>\n",
       "    </tr>\n",
       "    <tr>\n",
       "      <th>578</th>\n",
       "      <td>579</td>\n",
       "      <td>0</td>\n",
       "      <td>3</td>\n",
       "      <td>Caram, Mrs. Joseph (Maria Elias)</td>\n",
       "      <td>female</td>\n",
       "      <td>NaN</td>\n",
       "      <td>1</td>\n",
       "      <td>0</td>\n",
       "      <td>2689</td>\n",
       "      <td>14.4583</td>\n",
       "      <td>NaN</td>\n",
       "      <td>C</td>\n",
       "      <td>29.915339</td>\n",
       "      <td>29.0</td>\n",
       "      <td>0.0</td>\n",
       "    </tr>\n",
       "    <tr>\n",
       "      <th>...</th>\n",
       "      <td>...</td>\n",
       "      <td>...</td>\n",
       "      <td>...</td>\n",
       "      <td>...</td>\n",
       "      <td>...</td>\n",
       "      <td>...</td>\n",
       "      <td>...</td>\n",
       "      <td>...</td>\n",
       "      <td>...</td>\n",
       "      <td>...</td>\n",
       "      <td>...</td>\n",
       "      <td>...</td>\n",
       "      <td>...</td>\n",
       "      <td>...</td>\n",
       "      <td>...</td>\n",
       "    </tr>\n",
       "    <tr>\n",
       "      <th>835</th>\n",
       "      <td>836</td>\n",
       "      <td>1</td>\n",
       "      <td>1</td>\n",
       "      <td>Compton, Miss. Sara Rebecca</td>\n",
       "      <td>female</td>\n",
       "      <td>39.0</td>\n",
       "      <td>1</td>\n",
       "      <td>1</td>\n",
       "      <td>PC 17756</td>\n",
       "      <td>83.1583</td>\n",
       "      <td>E49</td>\n",
       "      <td>C</td>\n",
       "      <td>39.000000</td>\n",
       "      <td>39.0</td>\n",
       "      <td>39.0</td>\n",
       "    </tr>\n",
       "    <tr>\n",
       "      <th>192</th>\n",
       "      <td>193</td>\n",
       "      <td>1</td>\n",
       "      <td>3</td>\n",
       "      <td>Andersen-Jensen, Miss. Carla Christine Nielsine</td>\n",
       "      <td>female</td>\n",
       "      <td>19.0</td>\n",
       "      <td>1</td>\n",
       "      <td>0</td>\n",
       "      <td>350046</td>\n",
       "      <td>7.8542</td>\n",
       "      <td>NaN</td>\n",
       "      <td>S</td>\n",
       "      <td>19.000000</td>\n",
       "      <td>19.0</td>\n",
       "      <td>19.0</td>\n",
       "    </tr>\n",
       "    <tr>\n",
       "      <th>629</th>\n",
       "      <td>630</td>\n",
       "      <td>0</td>\n",
       "      <td>3</td>\n",
       "      <td>O'Connell, Mr. Patrick D</td>\n",
       "      <td>male</td>\n",
       "      <td>NaN</td>\n",
       "      <td>0</td>\n",
       "      <td>0</td>\n",
       "      <td>334912</td>\n",
       "      <td>7.7333</td>\n",
       "      <td>NaN</td>\n",
       "      <td>Q</td>\n",
       "      <td>29.915339</td>\n",
       "      <td>29.0</td>\n",
       "      <td>0.0</td>\n",
       "    </tr>\n",
       "    <tr>\n",
       "      <th>559</th>\n",
       "      <td>560</td>\n",
       "      <td>1</td>\n",
       "      <td>3</td>\n",
       "      <td>de Messemaeker, Mrs. Guillaume Joseph (Emma)</td>\n",
       "      <td>female</td>\n",
       "      <td>36.0</td>\n",
       "      <td>1</td>\n",
       "      <td>0</td>\n",
       "      <td>345572</td>\n",
       "      <td>17.4000</td>\n",
       "      <td>NaN</td>\n",
       "      <td>S</td>\n",
       "      <td>36.000000</td>\n",
       "      <td>36.0</td>\n",
       "      <td>36.0</td>\n",
       "    </tr>\n",
       "    <tr>\n",
       "      <th>684</th>\n",
       "      <td>685</td>\n",
       "      <td>0</td>\n",
       "      <td>2</td>\n",
       "      <td>Brown, Mr. Thomas William Solomon</td>\n",
       "      <td>male</td>\n",
       "      <td>60.0</td>\n",
       "      <td>1</td>\n",
       "      <td>1</td>\n",
       "      <td>29750</td>\n",
       "      <td>39.0000</td>\n",
       "      <td>NaN</td>\n",
       "      <td>S</td>\n",
       "      <td>60.000000</td>\n",
       "      <td>60.0</td>\n",
       "      <td>60.0</td>\n",
       "    </tr>\n",
       "  </tbody>\n",
       "</table>\n",
       "<p>623 rows × 15 columns</p>\n",
       "</div>"
      ],
      "text/plain": [
       "     PassengerId  Survived  Pclass  \\\n",
       "857          858         1       1   \n",
       "52            53         1       1   \n",
       "386          387         0       3   \n",
       "124          125         0       1   \n",
       "578          579         0       3   \n",
       "..           ...       ...     ...   \n",
       "835          836         1       1   \n",
       "192          193         1       3   \n",
       "629          630         0       3   \n",
       "559          560         1       3   \n",
       "684          685         0       2   \n",
       "\n",
       "                                                Name     Sex   Age  SibSp  \\\n",
       "857                           Daly, Mr. Peter Denis     male  51.0      0   \n",
       "52          Harper, Mrs. Henry Sleeper (Myna Haxtun)  female  49.0      1   \n",
       "386                  Goodwin, Master. Sidney Leonard    male   1.0      5   \n",
       "124                      White, Mr. Percival Wayland    male  54.0      0   \n",
       "578                 Caram, Mrs. Joseph (Maria Elias)  female   NaN      1   \n",
       "..                                               ...     ...   ...    ...   \n",
       "835                      Compton, Miss. Sara Rebecca  female  39.0      1   \n",
       "192  Andersen-Jensen, Miss. Carla Christine Nielsine  female  19.0      1   \n",
       "629                         O'Connell, Mr. Patrick D    male   NaN      0   \n",
       "559     de Messemaeker, Mrs. Guillaume Joseph (Emma)  female  36.0      1   \n",
       "684                Brown, Mr. Thomas William Solomon    male  60.0      1   \n",
       "\n",
       "     Parch    Ticket     Fare Cabin Embarked   Age_mean  Age_median  Age_zero  \n",
       "857      0    113055  26.5500   E17        S  51.000000        51.0      51.0  \n",
       "52       0  PC 17572  76.7292   D33        C  49.000000        49.0      49.0  \n",
       "386      2   CA 2144  46.9000   NaN        S   1.000000         1.0       1.0  \n",
       "124      1     35281  77.2875   D26        S  54.000000        54.0      54.0  \n",
       "578      0      2689  14.4583   NaN        C  29.915339        29.0       0.0  \n",
       "..     ...       ...      ...   ...      ...        ...         ...       ...  \n",
       "835      1  PC 17756  83.1583   E49        C  39.000000        39.0      39.0  \n",
       "192      0    350046   7.8542   NaN        S  19.000000        19.0      19.0  \n",
       "629      0    334912   7.7333   NaN        Q  29.915339        29.0       0.0  \n",
       "559      0    345572  17.4000   NaN        S  36.000000        36.0      36.0  \n",
       "684      1     29750  39.0000   NaN        S  60.000000        60.0      60.0  \n",
       "\n",
       "[623 rows x 15 columns]"
      ]
     },
     "execution_count": 66,
     "metadata": {},
     "output_type": "execute_result"
    }
   ],
   "source": [
    "# Imputation Against Variable `Age`\n",
    "\n",
    "X_train_titanic = impute_na(X_train_titanic, 'Age', mean_titanic_age, median_titanic_age)\n",
    "X_test_titanic = impute_na(X_test_titanic, 'Age', mean_titanic_age, median_titanic_age)\n",
    "X_train_titanic"
   ]
  },
  {
   "cell_type": "markdown",
   "metadata": {},
   "source": [
    "#### Efek dari Imputasi Mean/Median\n",
    "\n",
    "Imputasi mean/median mengubah varians dari distribusi asli variabel"
   ]
  },
  {
   "cell_type": "code",
   "execution_count": 67,
   "metadata": {},
   "outputs": [
    {
     "name": "stdout",
     "output_type": "stream",
     "text": [
      "Variance - Orignal                 :  14.506993804588454\n",
      "Variance - After Mean Imputation   :  13.019703562523889\n",
      "Variance - After Median Imputation :  13.024746215318785\n"
     ]
    }
   ],
   "source": [
    "# We can see a change in the variance after imputation\n",
    "\n",
    "print('Variance - Orignal                 : ', X_train_titanic['Age'].std())\n",
    "print('Variance - After Mean Imputation   : ', X_train_titanic['Age_mean'].std())\n",
    "print('Variance - After Median Imputation : ', X_train_titanic['Age_median'].std())"
   ]
  },
  {
   "cell_type": "code",
   "execution_count": 68,
   "metadata": {},
   "outputs": [
    {
     "data": {
      "text/plain": [
       "<matplotlib.legend.Legend at 0x191515daad0>"
      ]
     },
     "execution_count": 68,
     "metadata": {},
     "output_type": "execute_result"
    },
    {
     "data": {
      "text/plain": [
       "<Figure size 432x288 with 0 Axes>"
      ]
     },
     "metadata": {},
     "output_type": "display_data"
    },
    {
     "data": {
      "image/png": "[encoded data removed]",
      "text/plain": [
       "<Figure size 1080x504 with 1 Axes>"
      ]
     },
     "metadata": {
      "needs_background": "light"
     },
     "output_type": "display_data"
    }
   ],
   "source": [
    "# Visualization Variable `Age` Before and After Imputation\n",
    "\n",
    "fig = plt.figure()\n",
    "fig, ax = plt.subplots(1, 1, figsize=(15, 7))\n",
    "\n",
    "X_train_titanic.Age.plot(kind='kde', ax=ax)\n",
    "X_train_titanic.Age_mean.plot(kind='kde', ax=ax, color='green')\n",
    "X_train_titanic.Age_median.plot(kind='kde', ax=ax, color='red')\n",
    "X_train_titanic.Age_zero.plot(kind='kde', ax=ax, color='purple')\n",
    "lines, labels = ax.get_legend_handles_labels()\n",
    "ax.legend(lines, labels, loc='best')"
   ]
  },
  {
   "cell_type": "markdown",
   "metadata": {},
   "source": [
    "Seperti disebutkan di atas, imputasi median mendistorsi distribusi asli dari variabel Age. Variabel yang ditransformasi menunjukkan lebih banyak nilai di sekitar nilai mean/median.\n",
    "\n",
    "Mengisi NA dengan 0 juga mendistorsi distribusi variabel asli, menghasilkan akumulasi nilai sekitar 0. Kita akan melihat di bagian berikutnya metode imputasi NA yang mempertahankan distribusi variabel."
   ]
  },
  {
   "cell_type": "code",
   "execution_count": 69,
   "metadata": {},
   "outputs": [
    {
     "name": "stdout",
     "output_type": "stream",
     "text": [
      "Train set zero imputation\n",
      "Random Forests roc-auc: 0.7555855621353116\n",
      "Test set zero imputation\n",
      "Random Forests zero imputation roc-auc: 0.7490476190476191\n",
      "\n",
      "Train set mean imputation\n",
      "Random Forests roc-auc: 0.751648554261296\n",
      "Test set mean imputation\n",
      "Random Forests roc-auc: 0.7698809523809523\n",
      "\n",
      "Train set median imputation\n",
      "Random Forests roc-auc: 0.7515021366130887\n",
      "Test set median imputation\n",
      "Random Forests roc-auc: 0.7697619047619049\n",
      "\n"
     ]
    }
   ],
   "source": [
    "# Let's Compare the Performance of Random Forests using `Age` filled with Zeros, Mean, and Median\n",
    "\n",
    "## Model with `Age_zero`\n",
    "\n",
    "rf_zero = RandomForestClassifier(n_estimators=100, random_state=39, max_depth=3)\n",
    "rf_zero.fit(X_train_titanic[['Age_zero', 'Fare']], y_train_titanic)\n",
    "\n",
    "pred_zero_train = rf_zero.predict_proba(X_train_titanic[['Age_zero', 'Fare']])\n",
    "pred_zero_test = rf_zero.predict_proba(X_test_titanic[['Age_zero', 'Fare']])\n",
    "\n",
    "print('Train set zero imputation')\n",
    "print('Random Forests roc-auc: {}'.format(roc_auc_score(y_train_titanic, pred_zero_train[:,1])))\n",
    "print('Test set zero imputation')\n",
    "print('Random Forests zero imputation roc-auc: {}'.format(roc_auc_score(y_test_titanic, pred_zero_test[:,1])))\n",
    "print()\n",
    "\n",
    "## Model with `Age_mean`\n",
    "rf_mean = RandomForestClassifier(n_estimators=100, random_state=39, max_depth=3)\n",
    "rf_mean.fit(X_train_titanic[['Age_mean', 'Fare']], y_train_titanic)\n",
    "\n",
    "pred_mean_train = rf_mean.predict_proba(X_train_titanic[['Age_mean', 'Fare']])\n",
    "pred_mean_test = rf_mean.predict_proba(X_test_titanic[['Age_mean', 'Fare']])\n",
    "\n",
    "print('Train set mean imputation')\n",
    "print('Random Forests roc-auc: {}'.format(roc_auc_score(y_train_titanic, pred_mean_train[:,1])))\n",
    "print('Test set mean imputation')\n",
    "print('Random Forests roc-auc: {}'.format(roc_auc_score(y_test_titanic, pred_mean_test[:,1])))\n",
    "print()\n",
    "\n",
    "## Model with `Age_median`\n",
    "rf_median = RandomForestClassifier(n_estimators=100, random_state=39, max_depth=3)\n",
    "rf_median.fit(X_train_titanic[['Age_median', 'Fare']], y_train_titanic)\n",
    "\n",
    "pred_median_train = rf_median.predict_proba(X_train_titanic[['Age_median', 'Fare']])\n",
    "pred_median_test = rf_median.predict_proba(X_test_titanic[['Age_median', 'Fare']])\n",
    "\n",
    "print('Train set median imputation')\n",
    "print('Random Forests roc-auc: {}'.format(roc_auc_score(y_train_titanic, pred_median_train[:,1])))\n",
    "print('Test set median imputation')\n",
    "print('Random Forests roc-auc: {}'.format(roc_auc_score(y_test_titanic, pred_median_test[:,1])))\n",
    "print()"
   ]
  },
  {
   "cell_type": "markdown",
   "metadata": {},
   "source": [
    "Kami melihat bahwa imputasi mean/median menghasilkan kinerja yang lebih baik daripada menggunakan nol (0). Mengapa?"
   ]
  },
  {
   "cell_type": "code",
   "execution_count": 70,
   "metadata": {},
   "outputs": [
    {
     "name": "stdout",
     "output_type": "stream",
     "text": [
      "Average total survival : 0.3884430176565008\n",
      "\n",
      "Average real survival of children :  0.5740740740740741\n",
      "Average survival of children when using Age imputed with zeroes :  0.38857142857142857\n",
      "Average survival of children when using Age imputed with mean   :  0.5740740740740741\n",
      "Average survival of children when using Age imputed with median :  0.5740740740740741\n"
     ]
    }
   ],
   "source": [
    "print('Average total survival :', X_train_titanic.Survived.mean())\n",
    "\n",
    "print('\\nAverage real survival of children : ', X_train_titanic[X_train_titanic.Age<15].Survived.mean())\n",
    "print('Average survival of children when using Age imputed with zeroes : ', X_train_titanic[X_train_titanic.Age_zero<15].Survived.mean())\n",
    "print('Average survival of children when using Age imputed with mean   : ', X_train_titanic[X_train_titanic.Age_mean<15].Survived.mean())\n",
    "print('Average survival of children when using Age imputed with median : ', X_train_titanic[X_train_titanic.Age_median<15].Survived.mean())"
   ]
  },
  {
   "cell_type": "markdown",
   "metadata": {},
   "source": [
    "Evaluasi :\n",
    "\n",
    "- Anak-anak lebih mungkin untuk selamat dari bencana (0,57 untuk anak-anak vs 0,38 untuk seluruh Titanic). Dengan demikian, nilai Age yang lebih kecil merupakan indikator yang baik untuk kelangsungan hidup.\n",
    "\n",
    "- Saat kita mengganti NA dengan nol, kita menutupi kekuatan prediksi Age. Setelah nol imputasi, sepertinya anak-anak tidak memiliki peluang lebih besar untuk bertahan hidup, dan oleh karena itu model kehilangan daya prediksi.\n",
    "\n",
    "- Di sisi lain, mengganti NA dengan mean/median, mempertahankan daya prediksi variabel Age, karena nilai Age yang lebih kecil akan mendukung kelangsungan hidup."
   ]
  },
  {
   "cell_type": "markdown",
   "metadata": {},
   "source": [
    "Saran :\n",
    "\n",
    "Penggantian NA dengan mean/median banyak digunakan dalam komunitas ilmu data dan dalam berbagai kompetisi ilmu data.\n",
    "\n",
    "Biasanya, imputasi mean/median dilakukan bersama-sama dengan menambahkan variabel untuk menangkap pengamatan di mana data hilang, sehingga mencakup 2 sudut: jika data hilang sepenuhnya secara acak, ini akan dipertimbangkan oleh imputasi mean/median, dan jika bukan ini yang akan ditangkap oleh variabel tambahan.\n",
    "\n",
    "Selain itu, kedua metode ini sangat mudah untuk diterapkan, dan oleh karena itu merupakan pilihan utama dalam kompetisi ilmu data."
   ]
  },
  {
   "cell_type": "markdown",
   "metadata": {},
   "source": [
    "---"
   ]
  },
  {
   "cell_type": "markdown",
   "metadata": {},
   "source": [
    "# 2. Outliers"
   ]
  },
  {
   "cell_type": "markdown",
   "metadata": {},
   "source": [
    "Reason :\n",
    "1. Data Entry Error\n",
    "\n",
    "Kesalahan manusia seperti kesalahan yang disebabkan selama pengumpulan, perekaman, atau entri data dapat menyebabkan outlier dalam data.\n",
    "\n",
    "2. Measurement Errors (Instrument Error)\n",
    "\n",
    "Hal ini disebabkan ketika alat ukur yang digunakan ternyata rusak.\n",
    "\n",
    "3. Experimental Error\n",
    "\n",
    "Ekstraksi data atau kesalahan perencanaan/eksekusi eksperimen.\n",
    "\n",
    "4. Intentional Errors\n",
    "\n",
    "Outliers tiruan dibuat untuk menguji metode deteksi.\n",
    "\n",
    "5. Data Processing Errors\n",
    "\n",
    "Manipulasi data atau kumpulan data mutasi yang tidak diinginkan.\n",
    "\n",
    "6. Sampling Error \n",
    "\n",
    "Mengekstrak atau mencampur data dari salah atau berbagai sumber.\n",
    "\n",
    "7. Natural Errors\n",
    "\n",
    "Bukan kesalahan, hal baru dalam data. Ketika outlier tidak artifisial (karena kesalahan), itu adalah outlier alami. Sebagian besar data dunia nyata termasuk dalam kategori ini."
   ]
  },
  {
   "cell_type": "code",
   "execution_count": 71,
   "metadata": {},
   "outputs": [
    {
     "name": "stdout",
     "output_type": "stream",
     "text": [
      ".. _boston_dataset:\n",
      "\n",
      "Boston house prices dataset\n",
      "---------------------------\n",
      "\n",
      "**Data Set Characteristics:**  \n",
      "\n",
      "    :Number of Instances: 506 \n",
      "\n",
      "    :Number of Attributes: 13 numeric/categorical predictive. Median Value (attribute 14) is usually the target.\n",
      "\n",
      "    :Attribute Information (in order):\n",
      "        - CRIM     per capita crime rate by town\n",
      "        - ZN       proportion of residential land zoned for lots over 25,000 sq.ft.\n",
      "        - INDUS    proportion of non-retail business acres per town\n",
      "        - CHAS     Charles River dummy variable (= 1 if tract bounds river; 0 otherwise)\n",
      "        - NOX      nitric oxides concentration (parts per 10 million)\n",
      "        - RM       average number of rooms per dwelling\n",
      "        - AGE      proportion of owner-occupied units built prior to 1940\n",
      "        - DIS      weighted distances to five Boston employment centres\n",
      "        - RAD      index of accessibility to radial highways\n",
      "        - TAX      full-value property-tax rate per $10,000\n",
      "        - PTRATIO  pupil-teacher ratio by town\n",
      "        - B        1000(Bk - 0.63)^2 where Bk is the proportion of black people by town\n",
      "        - LSTAT    % lower status of the population\n",
      "        - MEDV     Median value of owner-occupied homes in $1000's\n",
      "\n",
      "    :Missing Attribute Values: None\n",
      "\n",
      "    :Creator: Harrison, D. and Rubinfeld, D.L.\n",
      "\n",
      "This is a copy of UCI ML housing dataset.\n",
      "https://archive.ics.uci.edu/ml/machine-learning-databases/housing/\n",
      "\n",
      "\n",
      "This dataset was taken from the StatLib library which is maintained at Carnegie Mellon University.\n",
      "\n",
      "The Boston house-price data of Harrison, D. and Rubinfeld, D.L. 'Hedonic\n",
      "prices and the demand for clean air', J. Environ. Economics & Management,\n",
      "vol.5, 81-102, 1978.   Used in Belsley, Kuh & Welsch, 'Regression diagnostics\n",
      "...', Wiley, 1980.   N.B. Various transformations are used in the table on\n",
      "pages 244-261 of the latter.\n",
      "\n",
      "The Boston house-price data has been used in many machine learning papers that address regression\n",
      "problems.   \n",
      "     \n",
      ".. topic:: References\n",
      "\n",
      "   - Belsley, Kuh & Welsch, 'Regression diagnostics: Identifying Influential Data and Sources of Collinearity', Wiley, 1980. 244-261.\n",
      "   - Quinlan,R. (1993). Combining Instance-Based and Model-Based Learning. In Proceedings on the Tenth International Conference of Machine Learning, 236-243, University of Massachusetts, Amherst. Morgan Kaufmann.\n",
      "\n"
     ]
    }
   ],
   "source": [
    "# print information for boston dataset\n",
    "from sklearn.datasets import load_boston\n",
    "print(load_boston().DESCR)"
   ]
  },
  {
   "cell_type": "markdown",
   "metadata": {},
   "source": [
    "### Purpose"
   ]
  },
  {
   "cell_type": "markdown",
   "metadata": {},
   "source": [
    "Kita akan :\n",
    "- Identifikasi ouliers di Variabel distribusi normal.\n",
    "- Identifikasi outlier di variabel skewed."
   ]
  },
  {
   "cell_type": "code",
   "execution_count": 72,
   "metadata": {},
   "outputs": [],
   "source": [
    "import pandas as pd\n",
    "import numpy as np\n",
    "\n",
    "import matplotlib.pyplot as plt\n",
    "import seaborn as sns\n",
    "\n",
    "import scipy.stats as stats\n",
    "\n",
    "# Boston house dataset for the demo\n",
    "from sklearn.datasets import load_boston"
   ]
  },
  {
   "cell_type": "code",
   "execution_count": 73,
   "metadata": {},
   "outputs": [
    {
     "name": "stdout",
     "output_type": "stream",
     "text": [
      "Shape data :  (506, 3)\n"
     ]
    },
    {
     "data": {
      "text/html": [
       "<div>\n",
       "<style scoped>\n",
       "    .dataframe tbody tr th:only-of-type {\n",
       "        vertical-align: middle;\n",
       "    }\n",
       "\n",
       "    .dataframe tbody tr th {\n",
       "        vertical-align: top;\n",
       "    }\n",
       "\n",
       "    .dataframe thead th {\n",
       "        text-align: right;\n",
       "    }\n",
       "</style>\n",
       "<table border=\"1\" class=\"dataframe\">\n",
       "  <thead>\n",
       "    <tr style=\"text-align: right;\">\n",
       "      <th></th>\n",
       "      <th>RM</th>\n",
       "      <th>LSTAT</th>\n",
       "      <th>CRIM</th>\n",
       "    </tr>\n",
       "  </thead>\n",
       "  <tbody>\n",
       "    <tr>\n",
       "      <th>0</th>\n",
       "      <td>6.575</td>\n",
       "      <td>4.98</td>\n",
       "      <td>0.00632</td>\n",
       "    </tr>\n",
       "    <tr>\n",
       "      <th>1</th>\n",
       "      <td>6.421</td>\n",
       "      <td>9.14</td>\n",
       "      <td>0.02731</td>\n",
       "    </tr>\n",
       "    <tr>\n",
       "      <th>2</th>\n",
       "      <td>7.185</td>\n",
       "      <td>4.03</td>\n",
       "      <td>0.02729</td>\n",
       "    </tr>\n",
       "    <tr>\n",
       "      <th>3</th>\n",
       "      <td>6.998</td>\n",
       "      <td>2.94</td>\n",
       "      <td>0.03237</td>\n",
       "    </tr>\n",
       "    <tr>\n",
       "      <th>4</th>\n",
       "      <td>7.147</td>\n",
       "      <td>5.33</td>\n",
       "      <td>0.06905</td>\n",
       "    </tr>\n",
       "  </tbody>\n",
       "</table>\n",
       "</div>"
      ],
      "text/plain": [
       "      RM  LSTAT     CRIM\n",
       "0  6.575   4.98  0.00632\n",
       "1  6.421   9.14  0.02731\n",
       "2  7.185   4.03  0.02729\n",
       "3  6.998   2.94  0.03237\n",
       "4  7.147   5.33  0.06905"
      ]
     },
     "execution_count": 73,
     "metadata": {},
     "output_type": "execute_result"
    }
   ],
   "source": [
    "# Load the Boston House dataset from sklearn\n",
    "boston_dataset = load_boston()\n",
    "\n",
    "# Create a dataframe with the independent variables\n",
    "# Legends : \n",
    "  # - CRIM     per capita crime rate by town\n",
    "  # - RM       average number of rooms per dwelling\n",
    "  # - LSTAT    % lower status of the population\n",
    "\n",
    "boston = pd.DataFrame(boston_dataset.data,\n",
    "                      columns=boston_dataset.feature_names)[[\n",
    "                          'RM', 'LSTAT', 'CRIM'\n",
    "                      ]]\n",
    "\n",
    "print('Shape data : ', boston.shape)\n",
    "boston.head()"
   ]
  },
  {
   "cell_type": "code",
   "execution_count": 74,
   "metadata": {},
   "outputs": [
    {
     "name": "stdout",
     "output_type": "stream",
     "text": [
      "Shape data :  (1309, 2) \n",
      "\n",
      "<class 'pandas.core.frame.DataFrame'>\n",
      "Int64Index: 1309 entries, 0 to 1308\n",
      "Data columns (total 2 columns):\n",
      " #   Column  Non-Null Count  Dtype  \n",
      "---  ------  --------------  -----  \n",
      " 0   age     1046 non-null   float64\n",
      " 1   fare    1308 non-null   float64\n",
      "dtypes: float64(2)\n",
      "memory usage: 30.7 KB\n",
      "None \n",
      "\n"
     ]
    },
    {
     "data": {
      "text/html": [
       "<div>\n",
       "<style scoped>\n",
       "    .dataframe tbody tr th:only-of-type {\n",
       "        vertical-align: middle;\n",
       "    }\n",
       "\n",
       "    .dataframe tbody tr th {\n",
       "        vertical-align: top;\n",
       "    }\n",
       "\n",
       "    .dataframe thead th {\n",
       "        text-align: right;\n",
       "    }\n",
       "</style>\n",
       "<table border=\"1\" class=\"dataframe\">\n",
       "  <thead>\n",
       "    <tr style=\"text-align: right;\">\n",
       "      <th></th>\n",
       "      <th>age</th>\n",
       "      <th>fare</th>\n",
       "    </tr>\n",
       "  </thead>\n",
       "  <tbody>\n",
       "    <tr>\n",
       "      <th>0</th>\n",
       "      <td>29.0000</td>\n",
       "      <td>211.3375</td>\n",
       "    </tr>\n",
       "    <tr>\n",
       "      <th>1</th>\n",
       "      <td>0.9167</td>\n",
       "      <td>151.5500</td>\n",
       "    </tr>\n",
       "    <tr>\n",
       "      <th>2</th>\n",
       "      <td>2.0000</td>\n",
       "      <td>151.5500</td>\n",
       "    </tr>\n",
       "    <tr>\n",
       "      <th>3</th>\n",
       "      <td>30.0000</td>\n",
       "      <td>151.5500</td>\n",
       "    </tr>\n",
       "    <tr>\n",
       "      <th>4</th>\n",
       "      <td>25.0000</td>\n",
       "      <td>151.5500</td>\n",
       "    </tr>\n",
       "  </tbody>\n",
       "</table>\n",
       "</div>"
      ],
      "text/plain": [
       "       age      fare\n",
       "0  29.0000  211.3375\n",
       "1   0.9167  151.5500\n",
       "2   2.0000  151.5500\n",
       "3  30.0000  151.5500\n",
       "4  25.0000  151.5500"
      ]
     },
     "execution_count": 74,
     "metadata": {},
     "output_type": "execute_result"
    }
   ],
   "source": [
    "# Load the Titanic dataset\n",
    "\n",
    "url = 'https://www.openml.org/data/get_csv/16826755/phpMYEkMl'\n",
    "titanic = pd.read_csv(url, usecols=['age', 'fare'])\n",
    "\n",
    "# The variables age and fare have missing values. For this missing value, let's remove them.\n",
    "titanic.dropna(subset=['age', 'fare'], inplace=True)\n",
    "titanic['age'] = pd.to_numeric(titanic['age'], errors = 'coerce')\n",
    "titanic['fare'] = pd.to_numeric(titanic['fare'], errors = 'coerce')\n",
    "titanic['age'] = titanic['age'].astype(float)\n",
    "titanic['fare'] = titanic['fare'].astype(float)\n",
    "\n",
    "print('Shape data : ', titanic.shape, '\\n')\n",
    "print(titanic.info(), '\\n')\n",
    "titanic.head()"
   ]
  },
  {
   "cell_type": "markdown",
   "metadata": {},
   "source": [
    "### Identifikasi distribusi variabel"
   ]
  },
  {
   "cell_type": "markdown",
   "metadata": {},
   "source": [
    "Dalam variabel terdistribusi normal, outlier adalah nilai-nilai yang terletak di luar mean plus atau minus 3 kali standar deviasi. Namun, jika variabel miring, kami menemukan outlier menggunakan rentang antar-kuantil. Untuk memutuskan metode mana yang digunakan untuk mendeteksi outlier, pertama-tama kita perlu mengetahui distribusi variabel.\n",
    "\n",
    "Kita dapat menggunakan histogram untuk menentukan apakah variabel terdistribusi normal. Kita juga dapat menggunakan boxplot untuk memvisualisasikan outlier secara langsung. Boxplot adalah cara standar untuk menampilkan distribusi variabel menggunakan kuartil pertama, median, kuartil ketiga dan kuartil.\n",
    "\n",
    "Dengan melihat boxplot, anda dapat dengan mudah mengidentifikasi :\n",
    "- Median, ditunjukkan oleh garis di dalam kotak.\n",
    "- Rentang antar kuantil (IQR), kotak itu sendiri.\n",
    "- Kuantil, ke-25 (Q1) adalah bagian bawah dan ke-75 (Q3) ujung atas kotak.\n",
    "- Batasan, yang memanjang ke: -- batas atas: Q3 + 1,5 x IQR -- batas bawah: Q1 -1,5 x IQR"
   ]
  },
  {
   "cell_type": "markdown",
   "metadata": {},
   "source": [
    "Nilai diluar batas atas maupun bawah adalah outliersnya."
   ]
  },
  {
   "cell_type": "code",
   "execution_count": 75,
   "metadata": {},
   "outputs": [],
   "source": [
    "# Function to create histogram and boxplot.\n",
    "# This functions takes a dataframe (df) and the variable of interest as arguments.\n",
    "\n",
    "def diagnostic_plots(df, variable):\n",
    "    # Define figure size\n",
    "    plt.figure(figsize=(16, 4))\n",
    "\n",
    "    # Histogram\n",
    "    plt.subplot(1, 2, 1)\n",
    "    sns.histplot(df[variable], bins=30)\n",
    "    plt.title('Histogram')\n",
    "\n",
    "    # Boxplot\n",
    "    plt.subplot(1, 2, 2)\n",
    "    sns.boxplot(y=df[variable])\n",
    "    plt.title('Boxplot')\n",
    "\n",
    "    plt.show()"
   ]
  },
  {
   "cell_type": "code",
   "execution_count": 76,
   "metadata": {},
   "outputs": [
    {
     "data": {
      "image/png": "[encoded data removed]",
      "text/plain": [
       "<Figure size 1152x288 with 2 Axes>"
      ]
     },
     "metadata": {
      "needs_background": "light"
     },
     "output_type": "display_data"
    },
    {
     "name": "stdout",
     "output_type": "stream",
     "text": [
      "\n",
      "Skewness Value :  0.40361213328874385\n"
     ]
    }
   ],
   "source": [
    "# Let's start with the variable RM from the Boston House dataset.\n",
    "# RM is the average number of rooms per dwelling\n",
    "\n",
    "diagnostic_plots(boston, 'RM')\n",
    "print('\\nSkewness Value : ', boston['RM'].skew())"
   ]
  },
  {
   "cell_type": "markdown",
   "metadata": {},
   "source": [
    "Dari histogram, kita melihat bahwa variabel rm mendekati distribusi Gaussian dengan cukup baik. Dalam boxplot, kita melihat bahwa variabel dapat memiliki outlier, karena ada banyak titik yang berada di luar batas, di kedua ekor distribusi."
   ]
  },
  {
   "cell_type": "code",
   "execution_count": 77,
   "metadata": {},
   "outputs": [
    {
     "data": {
      "image/png": "[encoded data removed]",
      "text/plain": [
       "<Figure size 1152x288 with 2 Axes>"
      ]
     },
     "metadata": {
      "needs_background": "light"
     },
     "output_type": "display_data"
    },
    {
     "name": "stdout",
     "output_type": "stream",
     "text": [
      "\n",
      "Skewness Value :  0.4076718864978293\n"
     ]
    }
   ],
   "source": [
    "# let's inspect now the variable Age from the titanic\n",
    "# refers to the age of the passengers on board\n",
    "\n",
    "diagnostic_plots(titanic, 'age')\n",
    "print('\\nSkewness Value : ', titanic['age'].skew())"
   ]
  },
  {
   "cell_type": "markdown",
   "metadata": {},
   "source": [
    "Dari histogram, kita melihat bahwa variabel mendekati distribusi Gaussian dengan cukup baik. Terjadi penyimpangan dari distribusi ke arah nilai umur yang lebih kecil. Dalam boxplot, kita dapat melihat bahwa variabel dapat memiliki outlier, karena ada banyak titik yang berada di luar whisker, di ujung kanan distribusi (whiser atas di boxplot)."
   ]
  },
  {
   "cell_type": "markdown",
   "metadata": {},
   "source": [
    "### Skewed Variable"
   ]
  },
  {
   "cell_type": "code",
   "execution_count": 78,
   "metadata": {},
   "outputs": [
    {
     "data": {
      "image/png": "[encoded data removed]",
      "text/plain": [
       "<Figure size 1152x288 with 2 Axes>"
      ]
     },
     "metadata": {
      "needs_background": "light"
     },
     "output_type": "display_data"
    },
    {
     "name": "stdout",
     "output_type": "stream",
     "text": [
      "\n",
      "Skewness Value :  0.9064600935915367\n"
     ]
    }
   ],
   "source": [
    "# Variable LSTAT from the boston house dataset\n",
    "# LSTAT is the % lower status of the population\n",
    "\n",
    "diagnostic_plots(boston, 'LSTAT')\n",
    "print('\\nSkewness Value : ', boston['LSTAT'].skew())"
   ]
  },
  {
   "cell_type": "markdown",
   "metadata": {},
   "source": [
    "LSTAT tidak terdistribusi normal, ia miring dengan ekor ke kanan. Menurut boxplot, ada beberapa outlier di ujung kanan distribusi variabel."
   ]
  },
  {
   "cell_type": "code",
   "execution_count": 79,
   "metadata": {},
   "outputs": [
    {
     "data": {
      "image/png": "[encoded data removed]",
      "text/plain": [
       "<Figure size 1152x288 with 2 Axes>"
      ]
     },
     "metadata": {
      "needs_background": "light"
     },
     "output_type": "display_data"
    },
    {
     "name": "stdout",
     "output_type": "stream",
     "text": [
      "\n",
      "Skewness Value :  5.223148798243851\n"
     ]
    }
   ],
   "source": [
    "# Variable CRIM from the boston house dataset\n",
    "# CRIM is the per capita crime rate by town\n",
    "\n",
    "diagnostic_plots(boston, 'CRIM')\n",
    "print('\\nSkewness Value : ', boston['CRIM'].skew())"
   ]
  },
  {
   "cell_type": "markdown",
   "metadata": {},
   "source": [
    "CRIM sangat miring, dengan ekor ke kanan. Tampaknya ada beberapa outlier juga di ujung kanan distribusi, terlihat jelas di boxplot."
   ]
  },
  {
   "cell_type": "code",
   "execution_count": 80,
   "metadata": {},
   "outputs": [
    {
     "data": {
      "image/png": "[encoded data removed]",
      "text/plain": [
       "<Figure size 1152x288 with 2 Axes>"
      ]
     },
     "metadata": {
      "needs_background": "light"
     },
     "output_type": "display_data"
    },
    {
     "name": "stdout",
     "output_type": "stream",
     "text": [
      "\n",
      "Skewness Value :  4.367709134122922\n"
     ]
    }
   ],
   "source": [
    "# Variable Fare from the titanic dataset\n",
    "# Fare is the price paid for the ticket by the passengers\n",
    "\n",
    "diagnostic_plots(titanic, 'fare')\n",
    "print('\\nSkewness Value : ', titanic['fare'].skew())"
   ]
  },
  {
   "cell_type": "markdown",
   "metadata": {},
   "source": [
    "Tarif (Fare) juga sangat miring, dan menunjukkan beberapa nilai yang tidak biasa di ujung kanan distribusinya.\n",
    "\n",
    "Di sel berikutnya, kami akan mengidentifikasi outlier menggunakan:\n",
    "\n",
    "- mean dan standar deviasi untuk variabel RM dan Age masing-masing dari kumpulan data boston dan titanic.\n",
    "\n",
    "- rentang antar-kuantil untuk mengidentifikasi outlier untuk variabel LSTAT, CRIM, dan Fare dari kumpulan data boston dan titanic."
   ]
  },
  {
   "cell_type": "markdown",
   "metadata": {},
   "source": [
    "### Outlier detection for Normally distributed variables"
   ]
  },
  {
   "cell_type": "code",
   "execution_count": 81,
   "metadata": {},
   "outputs": [],
   "source": [
    "# Function to find upper and lower boundaries for normally distributed variables\n",
    "# Calculate the boundaries outside which sit the outliers for a Gaussian distribution\n",
    "\n",
    "def find_normal_boundaries(df, variable):\n",
    "    upper_boundary = df[variable].mean() + 3 * df[variable].std()\n",
    "    lower_boundary = df[variable].mean() - 3 * df[variable].std()\n",
    "\n",
    "    return upper_boundary, lower_boundary"
   ]
  },
  {
   "cell_type": "code",
   "execution_count": 82,
   "metadata": {},
   "outputs": [
    {
     "data": {
      "text/plain": [
       "(8.392485817597748, 4.176782957105809)"
      ]
     },
     "execution_count": 82,
     "metadata": {},
     "output_type": "execute_result"
    }
   ],
   "source": [
    "# calculate boundaries for RM\n",
    "upper_boundary, lower_boundary = find_normal_boundaries(boston, 'RM')\n",
    "upper_boundary, lower_boundary"
   ]
  },
  {
   "cell_type": "markdown",
   "metadata": {},
   "source": [
    "Dari penjelasan di atas kami menyimpulkan bahwa nilai yang lebih besar dari 8,4 atau lebih kecil dari 4,2 sangat jarang terjadi untuk variabel RM. Oleh karena itu, kita dapat menganggapnya sebagai outlier."
   ]
  },
  {
   "cell_type": "code",
   "execution_count": 83,
   "metadata": {},
   "outputs": [
    {
     "name": "stdout",
     "output_type": "stream",
     "text": [
      "Total number of houses: 506\n",
      "Houses with more than 8.4 rooms (right end outliers) : 4\n",
      "Houses with less than 4.2 rooms (left end outliers)  : 4\n",
      "\n",
      "% right end outliers : 0.7905138339920948\n",
      "% left end outliers : 0.7905138339920948\n"
     ]
    }
   ],
   "source": [
    "# Inspect the number and percentage of outliers for `RM`\n",
    "\n",
    "print('Total number of houses: {}'.format(len(boston)))\n",
    "print('Houses with more than 8.4 rooms (right end outliers) : {}'.format(len(boston[boston['RM'] > upper_boundary])))\n",
    "print('Houses with less than 4.2 rooms (left end outliers)  : {}'.format(len(boston[boston['RM'] < lower_boundary])))\n",
    "print('')\n",
    "print('% right end outliers : {}'.format(len(boston[boston['RM'] > upper_boundary]) / len(boston) * 100))\n",
    "print('% left end outliers : {}'.format(len(boston[boston['RM'] < lower_boundary]) / len(boston) * 100))"
   ]
  },
  {
   "cell_type": "markdown",
   "metadata": {},
   "source": [
    "Menggunakan Analisis Nilai Ekstrim kami mengidentifikasi outlier di kedua ujung distribusi RM. Persentase outlier kecil (1,58% mempertimbangkan 2 ekor bersama-sama), yang masuk akal, karena kami menemukan outlier dengan tepat. Artinya, nilai langka, kejadian langka."
   ]
  },
  {
   "cell_type": "code",
   "execution_count": 84,
   "metadata": {},
   "outputs": [
    {
     "data": {
      "text/plain": [
       "(73.1216336121991, -13.359364587342501)"
      ]
     },
     "execution_count": 84,
     "metadata": {},
     "output_type": "execute_result"
    }
   ],
   "source": [
    "# Calculate boundaries for `Age` in the titanic\n",
    "\n",
    "upper_boundary, lower_boundary = find_normal_boundaries(titanic, 'age')\n",
    "upper_boundary, lower_boundary"
   ]
  },
  {
   "cell_type": "code",
   "execution_count": 85,
   "metadata": {},
   "outputs": [
    {
     "name": "stdout",
     "output_type": "stream",
     "text": [
      "Total passengers         : 1309\n",
      "Passengers older than 73 : 3\n",
      "\n",
      "% of passengers older than 73 : 0.2291825821237586\n"
     ]
    }
   ],
   "source": [
    "# Lets look at the number and percentage of outliers\n",
    "\n",
    "print('Total passengers         : {}'.format(len(titanic)))\n",
    "print('Passengers older than 73 : {}'.format(len(titanic[titanic['age'] > upper_boundary])))\n",
    "print('')\n",
    "print('% of passengers older than 73 : {}'.format(len(titanic[titanic['age'] > upper_boundary]) / len(titanic) * 100))"
   ]
  },
  {
   "cell_type": "markdown",
   "metadata": {},
   "source": [
    "Ada 3 penumpang yang memiliki umur lebih dari 73 di kapal titanic, yang dapat dianggap outliers, sebagai mayoritas populasi di mana jauh lebih muda."
   ]
  },
  {
   "cell_type": "markdown",
   "metadata": {},
   "source": [
    "### Outlier detection for skewed variables"
   ]
  },
  {
   "cell_type": "code",
   "execution_count": 86,
   "metadata": {},
   "outputs": [],
   "source": [
    "# Function to find upper and lower boundaries for skewed distributed variables\n",
    "# Let's calculate the boundaries outside which sit the outliers for skewed distributions\n",
    "# Distance passed as an argument, gives us the option to estimate 1.5 times or 3 times the IQR to calculate the boundaries.\n",
    "\n",
    "def find_skewed_boundaries(df, variable, distance):\n",
    "    IQR = df[variable].quantile(0.75) - df[variable].quantile(0.25)\n",
    "\n",
    "    lower_boundary = df[variable].quantile(0.25) - (IQR * distance)\n",
    "    upper_boundary = df[variable].quantile(0.75) + (IQR * distance)\n",
    "\n",
    "    return upper_boundary, lower_boundary"
   ]
  },
  {
   "cell_type": "code",
   "execution_count": 87,
   "metadata": {},
   "outputs": [
    {
     "data": {
      "text/plain": [
       "(31.962500000000006, -8.057500000000005)"
      ]
     },
     "execution_count": 87,
     "metadata": {},
     "output_type": "execute_result"
    }
   ],
   "source": [
    "# Looking for outliers, using the interquantile proximity rule IQR * 1.5, for `LSTAT` in the boston house dataset\n",
    "\n",
    "upper_boundary, lower_boundary = find_skewed_boundaries(boston, 'LSTAT', 1.5)\n",
    "upper_boundary, lower_boundary"
   ]
  },
  {
   "cell_type": "code",
   "execution_count": 88,
   "metadata": {},
   "outputs": [
    {
     "name": "stdout",
     "output_type": "stream",
     "text": [
      "Total houses : 506\n",
      "Houses with LSTAT bigger than 32   : 7\n",
      "\n",
      "% houses with LSTAT bigger than 32 : 1.383399209486166\n"
     ]
    }
   ],
   "source": [
    "# Lets look at the number and percentage of outliers for `LSTAT`\n",
    "\n",
    "print('Total houses : {}'.format(len(boston)))\n",
    "print('Houses with LSTAT bigger than 32   : {}'.format(len(boston[boston['LSTAT'] > upper_boundary])))\n",
    "print('')\n",
    "print('% houses with LSTAT bigger than 32 : {}'.format(len(boston[boston['LSTAT'] > upper_boundary])/len(boston) * 100))"
   ]
  },
  {
   "cell_type": "markdown",
   "metadata": {},
   "source": [
    "Batas atas menunjukkan nilai ~32. Batas bawah adalah negatif, namun variabel LSTAT tidak mengambil nilai negatif. Jadi untuk menghitung outlier untuk LSTAT kita hanya menggunakan batas atas. Ini bertepatan dengan apa yang kami amati dalam plot kotak sebelumnya di buku catatan. Pencilan hanya duduk di ekor kanan distribusi LSTAT. Kami mengamati 7 rumah, 1,38% dari kumpulan data, dengan nilai LSTAT yang sangat tinggi."
   ]
  },
  {
   "cell_type": "code",
   "execution_count": 89,
   "metadata": {},
   "outputs": [
    {
     "data": {
      "text/plain": [
       "(9.06963875, -5.31051125)"
      ]
     },
     "execution_count": 89,
     "metadata": {},
     "output_type": "execute_result"
    }
   ],
   "source": [
    "# Looking for outliers, using the interquantile proximity rule IQR * 1.5, for `CRIM` in the boston house dataset\n",
    "\n",
    "upper_boundary, lower_boundary = find_skewed_boundaries(boston, 'CRIM', 1.5)\n",
    "upper_boundary, lower_boundary"
   ]
  },
  {
   "cell_type": "code",
   "execution_count": 90,
   "metadata": {},
   "outputs": [
    {
     "name": "stdout",
     "output_type": "stream",
     "text": [
      "Total houses : 506\n",
      "Houses with CRIM bigger than 9   : 66\n",
      "\n",
      "% houses with CRIM bigger than 9 : 13.043478260869565\n"
     ]
    }
   ],
   "source": [
    "# Lets look at the number and percentage of outliers for `CRIM`\n",
    "\n",
    "print('Total houses : {}'.format(len(boston)))\n",
    "print('Houses with CRIM bigger than 9   : {}'.format(len(boston[boston['CRIM'] > upper_boundary])))\n",
    "print('')\n",
    "print('% houses with CRIM bigger than 9 : {}'.format(len(boston[boston['CRIM'] > upper_boundary]) / len(boston) * 100))"
   ]
  },
  {
   "cell_type": "code",
   "execution_count": 91,
   "metadata": {},
   "outputs": [
    {
     "data": {
      "text/plain": [
       "(14.462195000000001, -10.7030675)"
      ]
     },
     "execution_count": 91,
     "metadata": {},
     "output_type": "execute_result"
    }
   ],
   "source": [
    "# Looking for outliers, using the interquantile proximity rule IQR * 3, now lets looking for extremely high values for `CRIM` in the boston house dataset\n",
    "\n",
    "upper_boundary, lower_boundary = find_skewed_boundaries(boston, 'CRIM', 3)\n",
    "upper_boundary, lower_boundary"
   ]
  },
  {
   "cell_type": "code",
   "execution_count": 92,
   "metadata": {},
   "outputs": [
    {
     "name": "stdout",
     "output_type": "stream",
     "text": [
      "Total houses : 506\n",
      "Houses with CRIM bigger than 14   : 30\n",
      "\n",
      "% houses with CRIM bigger than 14 : 5.928853754940711\n"
     ]
    }
   ],
   "source": [
    "# Lets look at the number and percentage of outliers for `CRIM`\n",
    "\n",
    "print('Total houses : {}'.format(len(boston)))\n",
    "print('Houses with CRIM bigger than 14   : {}'.format(len(boston[boston['CRIM'] > upper_boundary])))\n",
    "print('')\n",
    "print('% houses with CRIM bigger than 14 : {}'.format(len(boston[boston['CRIM'] > upper_boundary]) / len(boston) * 100))"
   ]
  },
  {
   "cell_type": "markdown",
   "metadata": {},
   "source": [
    "Ketika menggunakan :\n",
    "- Rentang antar-kuantil 1.5 kali untuk menemukan outliers, kami menemukan bahwa ~13% rumah menunjukkan area tingkat kejahatan yang luar biasa tinggi.\n",
    "- Rentang antar-kuantil 3 kali untuk menemukan outlier, kami menemukan bahwa ~6% rumah menunjukkan area tingkat kejahatan yang luar biasa tinggi."
   ]
  },
  {
   "cell_type": "markdown",
   "metadata": {},
   "source": [
    "Untuk CRIM juga, batas bawahnya negatif, jadi masuk akal untuk menggunakan batas atas untuk menghitung outlier, karena variabel hanya mengambil nilai positif. Ini bertepatan dengan apa yang kami amati pada boxplot CRIM sebelumnya di notebook ini."
   ]
  },
  {
   "cell_type": "code",
   "execution_count": 93,
   "metadata": {},
   "outputs": [
    {
     "data": {
      "text/plain": [
       "(101.4126, -62.24179999999999)"
      ]
     },
     "execution_count": 93,
     "metadata": {},
     "output_type": "execute_result"
    }
   ],
   "source": [
    "# Finally, identify outliers in `Fare` in the titanic dataset. Lets look again for extreme values using IQR * 3\n",
    "\n",
    "upper_boundary, lower_boundary = find_skewed_boundaries(titanic, 'fare', 3)\n",
    "upper_boundary, lower_boundary"
   ]
  },
  {
   "cell_type": "code",
   "execution_count": 94,
   "metadata": {},
   "outputs": [
    {
     "name": "stdout",
     "output_type": "stream",
     "text": [
      "Total passengers : 1309\n",
      "Passengers who paid more than 117   : 84\n",
      "\n",
      "% passengers who paid more than 117 : 6.417112299465241\n"
     ]
    }
   ],
   "source": [
    "# Lets look at the number and percentage of passengers who paid extremely high Fares\n",
    "\n",
    "print('Total passengers : {}'.format(len(titanic)))\n",
    "print('Passengers who paid more than 117   : {}'.format(len(titanic[titanic['fare'] > upper_boundary])))\n",
    "print('')\n",
    "print('% passengers who paid more than 117 : {}'.format(len(titanic[titanic['fare'] > upper_boundary])/len(titanic) * 100))"
   ]
  },
  {
   "cell_type": "markdown",
   "metadata": {},
   "source": [
    "Untuk Fare (Tarif), serta untuk semua variabel lain dalam buku catatan ini yang menunjukkan right-skewed, batas bawahnya adalah negatif. Jadi kita akan menggunakan batas atas untuk menentukan outlier. Kami mengamati bahwa 6.4% dari nilai dataset jatuh di atas bawah."
   ]
  },
  {
   "cell_type": "markdown",
   "metadata": {},
   "source": [
    "## Trimming"
   ]
  }
 ],
 "metadata": {
  "interpreter": {
   "hash": "d1eb415d2423691ab8033da02aac34a6b832aa094a09316f8fa35d1fd611d4d8"
  },
  "kernelspec": {
   "display_name": "Python 3.10.1 64-bit",
   "language": "python",
   "name": "python3"
  },
  "language_info": {
   "codemirror_mode": {
    "name": "ipython",
    "version": 3
   },
   "file_extension": ".py",
   "mimetype": "text/x-python",
   "name": "python",
   "nbconvert_exporter": "python",
   "pygments_lexer": "ipython3",
   "version": "3.10.1"
  },
  "orig_nbformat": 4
 },
 "nbformat": 4,
 "nbformat_minor": 2
}
