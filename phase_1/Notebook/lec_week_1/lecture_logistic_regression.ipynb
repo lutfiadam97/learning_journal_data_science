{
 "cells": [
  {
   "cell_type": "markdown",
   "metadata": {},
   "source": [
    "# Logistic Regression\n",
    "\n",
    "tujuan : mengklasifikasi -> prediksi angka tertentu\n",
    "\n",
    "- prediksi class\n",
    "\n",
    "pertama harus cari dulu linear regression, dah dapat nilainya baru pake fungsi sigmavoid (logistic regression) dan klarifikasikan kelasnya."
   ]
  }
 ],
 "metadata": {
  "interpreter": {
   "hash": "d1eb415d2423691ab8033da02aac34a6b832aa094a09316f8fa35d1fd611d4d8"
  },
  "kernelspec": {
   "display_name": "Python 3.10.1 64-bit",
   "language": "python",
   "name": "python3"
  },
  "language_info": {
   "codemirror_mode": {
    "name": "ipython",
    "version": 3
   },
   "file_extension": ".py",
   "mimetype": "text/x-python",
   "name": "python",
   "nbconvert_exporter": "python",
   "pygments_lexer": "ipython3",
   "version": "3.10.1"
  },
  "orig_nbformat": 4
 },
 "nbformat": 4,
 "nbformat_minor": 2
}
